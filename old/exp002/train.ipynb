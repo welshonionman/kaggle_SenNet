{
 "cells": [
  {
   "cell_type": "code",
   "execution_count": 1,
   "metadata": {
    "_cell_guid": "b1076dfc-b9ad-4769-8c92-a6c4dae69d19",
    "_kg_hide-input": true,
    "_kg_hide-output": true,
    "_uuid": "8f2839f25d086af736a60e9eeb907d3b93b6e0e5",
    "execution": {
     "iopub.execute_input": "2024-01-01T15:32:32.367662Z",
     "iopub.status.busy": "2024-01-01T15:32:32.367449Z",
     "iopub.status.idle": "2024-01-01T15:32:42.538436Z",
     "shell.execute_reply": "2024-01-01T15:32:42.537918Z"
    }
   },
   "outputs": [],
   "source": [
    "import numpy as np\n",
    "import os\n",
    "\n",
    "import albumentations as A\n",
    "from albumentations.pytorch import ToTensorV2\n",
    "import wandb\n",
    "from dotenv import load_dotenv\n",
    "\n",
    "from src.model.model import save_model, load_model\n",
    "from src.dataset.df import df_dataset, check_dataset\n",
    "from src.utils.common import set_seed\n",
    "from src.utils.optim_thresh import calc_optim_thresh\n",
    "from src.experiment.experiment import train, valid\n",
    "from src.experiment.initialize import init_dataset, init_model, init_exp"
   ]
  },
  {
   "cell_type": "code",
   "execution_count": 2,
   "metadata": {
    "execution": {
     "iopub.execute_input": "2024-01-01T15:32:42.540999Z",
     "iopub.status.busy": "2024-01-01T15:32:42.540456Z",
     "iopub.status.idle": "2024-01-01T15:32:42.550270Z",
     "shell.execute_reply": "2024-01-01T15:32:42.549774Z"
    }
   },
   "outputs": [],
   "source": [
    "class cfg:\n",
    "    debug = False\n",
    "    check_dataset = False\n",
    "\n",
    "    # = data CFG ====================================================\n",
    "\n",
    "    dataset_path = \"/kaggle/working/dataset/cropped_xy_256_128_z_6_6/\"\n",
    "    dataset = \"base2d\"\n",
    "\n",
    "    # = experiment CFG =================================================\n",
    "\n",
    "    project = \"SenNet\"\n",
    "    exp_name = os.path.basename(os.getcwd())\n",
    "    notes = \"aug_randomresizedcrop_0.5\"\n",
    "\n",
    "    # = model CFG ======================================================\n",
    "\n",
    "    model_arch = \"Unet\"\n",
    "    backbone = \"efficientnet-b0\"\n",
    "    in_chans = 6\n",
    "    target_size = 6\n",
    "\n",
    "    # = training CFG ===================================================\n",
    "\n",
    "    epochs = 20\n",
    "\n",
    "    train_batch_size = 128\n",
    "    valid_batch_size = train_batch_size\n",
    "\n",
    "    loss = \"DiceLoss\"\n",
    "    metrics = \"Dice\"\n",
    "    lr = 1e-4\n",
    "    thresholds_to_test = range(2, 101, 4)\n",
    "    num_workers = 24\n",
    "\n",
    "    # = augmentation ===================================================\n",
    "\n",
    "    image_size = 256\n",
    "    train_aug = [\n",
    "        A.RandomResizedCrop(image_size, image_size, scale=(0.5, 1.0)),\n",
    "        # A.ShiftScaleRotate(p=0.75),\n",
    "        # A.OneOf(\n",
    "        #     [\n",
    "        #         A.GaussNoise(var_limit=[10, 50]),\n",
    "        #         A.GaussianBlur(),\n",
    "        #         A.MotionBlur(),\n",
    "        #     ],\n",
    "        #     p=0.4,\n",
    "        # ),\n",
    "        # A.GridDistortion(num_steps=5, distort_limit=0.3, p=0.5),\n",
    "        ToTensorV2(transpose_mask=True),\n",
    "    ]\n",
    "\n",
    "    valid_aug = [\n",
    "        ToTensorV2(transpose_mask=True),\n",
    "    ]\n",
    "\n",
    "\n",
    "load_dotenv(\"/kaggle/key.env\")\n",
    "set_seed()"
   ]
  },
  {
   "cell_type": "code",
   "execution_count": 3,
   "metadata": {
    "execution": {
     "iopub.execute_input": "2024-01-01T15:32:42.551979Z",
     "iopub.status.busy": "2024-01-01T15:32:42.551724Z",
     "iopub.status.idle": "2024-01-01T15:32:45.727506Z",
     "shell.execute_reply": "2024-01-01T15:32:45.727003Z"
    }
   },
   "outputs": [
    {
     "data": {
      "text/html": [
       "<div>\n",
       "<style scoped>\n",
       "    .dataframe tbody tr th:only-of-type {\n",
       "        vertical-align: middle;\n",
       "    }\n",
       "\n",
       "    .dataframe tbody tr th {\n",
       "        vertical-align: top;\n",
       "    }\n",
       "\n",
       "    .dataframe thead th {\n",
       "        text-align: right;\n",
       "    }\n",
       "</style>\n",
       "<table border=\"1\" class=\"dataframe\">\n",
       "  <thead>\n",
       "    <tr style=\"text-align: right;\">\n",
       "      <th></th>\n",
       "      <th>image_path</th>\n",
       "      <th>label_path</th>\n",
       "      <th>fname</th>\n",
       "      <th>kidney</th>\n",
       "      <th>x</th>\n",
       "      <th>y</th>\n",
       "      <th>z</th>\n",
       "      <th>std</th>\n",
       "      <th>sum</th>\n",
       "      <th>fold0</th>\n",
       "      <th>fold1</th>\n",
       "    </tr>\n",
       "  </thead>\n",
       "  <tbody>\n",
       "    <tr>\n",
       "      <th>0</th>\n",
       "      <td>/kaggle/working/dataset/cropped_xy_256_128_z_6...</td>\n",
       "      <td>/kaggle/working/dataset/cropped_xy_256_128_z_6...</td>\n",
       "      <td>x0_y0_z12_std0040_sum0</td>\n",
       "      <td>kidney_1_dense</td>\n",
       "      <td>0</td>\n",
       "      <td>0</td>\n",
       "      <td>12</td>\n",
       "      <td>40</td>\n",
       "      <td>0</td>\n",
       "      <td>train</td>\n",
       "      <td>valid</td>\n",
       "    </tr>\n",
       "    <tr>\n",
       "      <th>1</th>\n",
       "      <td>/kaggle/working/dataset/cropped_xy_256_128_z_6...</td>\n",
       "      <td>/kaggle/working/dataset/cropped_xy_256_128_z_6...</td>\n",
       "      <td>x0_y0_z150_std0033_sum0</td>\n",
       "      <td>kidney_1_dense</td>\n",
       "      <td>0</td>\n",
       "      <td>0</td>\n",
       "      <td>150</td>\n",
       "      <td>33</td>\n",
       "      <td>0</td>\n",
       "      <td>train</td>\n",
       "      <td>valid</td>\n",
       "    </tr>\n",
       "    <tr>\n",
       "      <th>2</th>\n",
       "      <td>/kaggle/working/dataset/cropped_xy_256_128_z_6...</td>\n",
       "      <td>/kaggle/working/dataset/cropped_xy_256_128_z_6...</td>\n",
       "      <td>x0_y0_z252_std0036_sum0</td>\n",
       "      <td>kidney_1_dense</td>\n",
       "      <td>0</td>\n",
       "      <td>0</td>\n",
       "      <td>252</td>\n",
       "      <td>36</td>\n",
       "      <td>0</td>\n",
       "      <td>train</td>\n",
       "      <td>valid</td>\n",
       "    </tr>\n",
       "    <tr>\n",
       "      <th>3</th>\n",
       "      <td>/kaggle/working/dataset/cropped_xy_256_128_z_6...</td>\n",
       "      <td>/kaggle/working/dataset/cropped_xy_256_128_z_6...</td>\n",
       "      <td>x0_y0_z270_std0036_sum0</td>\n",
       "      <td>kidney_1_dense</td>\n",
       "      <td>0</td>\n",
       "      <td>0</td>\n",
       "      <td>270</td>\n",
       "      <td>36</td>\n",
       "      <td>0</td>\n",
       "      <td>train</td>\n",
       "      <td>valid</td>\n",
       "    </tr>\n",
       "    <tr>\n",
       "      <th>4</th>\n",
       "      <td>/kaggle/working/dataset/cropped_xy_256_128_z_6...</td>\n",
       "      <td>/kaggle/working/dataset/cropped_xy_256_128_z_6...</td>\n",
       "      <td>x0_y0_z300_std0037_sum0</td>\n",
       "      <td>kidney_1_dense</td>\n",
       "      <td>0</td>\n",
       "      <td>0</td>\n",
       "      <td>300</td>\n",
       "      <td>37</td>\n",
       "      <td>0</td>\n",
       "      <td>train</td>\n",
       "      <td>valid</td>\n",
       "    </tr>\n",
       "    <tr>\n",
       "      <th>...</th>\n",
       "      <td>...</td>\n",
       "      <td>...</td>\n",
       "      <td>...</td>\n",
       "      <td>...</td>\n",
       "      <td>...</td>\n",
       "      <td>...</td>\n",
       "      <td>...</td>\n",
       "      <td>...</td>\n",
       "      <td>...</td>\n",
       "      <td>...</td>\n",
       "      <td>...</td>\n",
       "    </tr>\n",
       "    <tr>\n",
       "      <th>37926</th>\n",
       "      <td>/kaggle/working/dataset/cropped_xy_256_128_z_6...</td>\n",
       "      <td>/kaggle/working/dataset/cropped_xy_256_128_z_6...</td>\n",
       "      <td>x256_y896_z972_std0228_sum3897</td>\n",
       "      <td>kidney_3_sparse</td>\n",
       "      <td>256</td>\n",
       "      <td>896</td>\n",
       "      <td>972</td>\n",
       "      <td>228</td>\n",
       "      <td>3897</td>\n",
       "      <td></td>\n",
       "      <td>train</td>\n",
       "    </tr>\n",
       "    <tr>\n",
       "      <th>37927</th>\n",
       "      <td>/kaggle/working/dataset/cropped_xy_256_128_z_6...</td>\n",
       "      <td>/kaggle/working/dataset/cropped_xy_256_128_z_6...</td>\n",
       "      <td>x256_y896_z978_std0223_sum5084</td>\n",
       "      <td>kidney_3_sparse</td>\n",
       "      <td>256</td>\n",
       "      <td>896</td>\n",
       "      <td>978</td>\n",
       "      <td>223</td>\n",
       "      <td>5084</td>\n",
       "      <td></td>\n",
       "      <td>train</td>\n",
       "    </tr>\n",
       "    <tr>\n",
       "      <th>37928</th>\n",
       "      <td>/kaggle/working/dataset/cropped_xy_256_128_z_6...</td>\n",
       "      <td>/kaggle/working/dataset/cropped_xy_256_128_z_6...</td>\n",
       "      <td>x256_y896_z984_std0223_sum6730</td>\n",
       "      <td>kidney_3_sparse</td>\n",
       "      <td>256</td>\n",
       "      <td>896</td>\n",
       "      <td>984</td>\n",
       "      <td>223</td>\n",
       "      <td>6730</td>\n",
       "      <td></td>\n",
       "      <td>train</td>\n",
       "    </tr>\n",
       "    <tr>\n",
       "      <th>37929</th>\n",
       "      <td>/kaggle/working/dataset/cropped_xy_256_128_z_6...</td>\n",
       "      <td>/kaggle/working/dataset/cropped_xy_256_128_z_6...</td>\n",
       "      <td>x256_y896_z990_std0227_sum7998</td>\n",
       "      <td>kidney_3_sparse</td>\n",
       "      <td>256</td>\n",
       "      <td>896</td>\n",
       "      <td>990</td>\n",
       "      <td>227</td>\n",
       "      <td>7998</td>\n",
       "      <td></td>\n",
       "      <td>train</td>\n",
       "    </tr>\n",
       "    <tr>\n",
       "      <th>37930</th>\n",
       "      <td>/kaggle/working/dataset/cropped_xy_256_128_z_6...</td>\n",
       "      <td>/kaggle/working/dataset/cropped_xy_256_128_z_6...</td>\n",
       "      <td>x256_y896_z996_std0234_sum7410</td>\n",
       "      <td>kidney_3_sparse</td>\n",
       "      <td>256</td>\n",
       "      <td>896</td>\n",
       "      <td>996</td>\n",
       "      <td>234</td>\n",
       "      <td>7410</td>\n",
       "      <td></td>\n",
       "      <td>train</td>\n",
       "    </tr>\n",
       "  </tbody>\n",
       "</table>\n",
       "<p>37931 rows × 11 columns</p>\n",
       "</div>"
      ],
      "text/plain": [
       "                                              image_path  \\\n",
       "0      /kaggle/working/dataset/cropped_xy_256_128_z_6...   \n",
       "1      /kaggle/working/dataset/cropped_xy_256_128_z_6...   \n",
       "2      /kaggle/working/dataset/cropped_xy_256_128_z_6...   \n",
       "3      /kaggle/working/dataset/cropped_xy_256_128_z_6...   \n",
       "4      /kaggle/working/dataset/cropped_xy_256_128_z_6...   \n",
       "...                                                  ...   \n",
       "37926  /kaggle/working/dataset/cropped_xy_256_128_z_6...   \n",
       "37927  /kaggle/working/dataset/cropped_xy_256_128_z_6...   \n",
       "37928  /kaggle/working/dataset/cropped_xy_256_128_z_6...   \n",
       "37929  /kaggle/working/dataset/cropped_xy_256_128_z_6...   \n",
       "37930  /kaggle/working/dataset/cropped_xy_256_128_z_6...   \n",
       "\n",
       "                                              label_path  \\\n",
       "0      /kaggle/working/dataset/cropped_xy_256_128_z_6...   \n",
       "1      /kaggle/working/dataset/cropped_xy_256_128_z_6...   \n",
       "2      /kaggle/working/dataset/cropped_xy_256_128_z_6...   \n",
       "3      /kaggle/working/dataset/cropped_xy_256_128_z_6...   \n",
       "4      /kaggle/working/dataset/cropped_xy_256_128_z_6...   \n",
       "...                                                  ...   \n",
       "37926  /kaggle/working/dataset/cropped_xy_256_128_z_6...   \n",
       "37927  /kaggle/working/dataset/cropped_xy_256_128_z_6...   \n",
       "37928  /kaggle/working/dataset/cropped_xy_256_128_z_6...   \n",
       "37929  /kaggle/working/dataset/cropped_xy_256_128_z_6...   \n",
       "37930  /kaggle/working/dataset/cropped_xy_256_128_z_6...   \n",
       "\n",
       "                                fname           kidney    x    y    z  std  \\\n",
       "0              x0_y0_z12_std0040_sum0   kidney_1_dense    0    0   12   40   \n",
       "1             x0_y0_z150_std0033_sum0   kidney_1_dense    0    0  150   33   \n",
       "2             x0_y0_z252_std0036_sum0   kidney_1_dense    0    0  252   36   \n",
       "3             x0_y0_z270_std0036_sum0   kidney_1_dense    0    0  270   36   \n",
       "4             x0_y0_z300_std0037_sum0   kidney_1_dense    0    0  300   37   \n",
       "...                               ...              ...  ...  ...  ...  ...   \n",
       "37926  x256_y896_z972_std0228_sum3897  kidney_3_sparse  256  896  972  228   \n",
       "37927  x256_y896_z978_std0223_sum5084  kidney_3_sparse  256  896  978  223   \n",
       "37928  x256_y896_z984_std0223_sum6730  kidney_3_sparse  256  896  984  223   \n",
       "37929  x256_y896_z990_std0227_sum7998  kidney_3_sparse  256  896  990  227   \n",
       "37930  x256_y896_z996_std0234_sum7410  kidney_3_sparse  256  896  996  234   \n",
       "\n",
       "        sum  fold0  fold1  \n",
       "0         0  train  valid  \n",
       "1         0  train  valid  \n",
       "2         0  train  valid  \n",
       "3         0  train  valid  \n",
       "4         0  train  valid  \n",
       "...     ...    ...    ...  \n",
       "37926  3897         train  \n",
       "37927  5084         train  \n",
       "37928  6730         train  \n",
       "37929  7998         train  \n",
       "37930  7410         train  \n",
       "\n",
       "[37931 rows x 11 columns]"
      ]
     },
     "metadata": {},
     "output_type": "display_data"
    }
   ],
   "source": [
    "def filter_dataset(df):\n",
    "    # labelが全くないものは90%の確率で除外\n",
    "    df[\"random\"] = np.random.rand(len(df))\n",
    "    df = df[(df[\"sum\"] > 0) | (df[\"random\"] < 0.1)]\n",
    "    df = df.reset_index(drop=True)\n",
    "    df = df.drop([\"random\"], axis=1)\n",
    "    return df\n",
    "\n",
    "\n",
    "df = df_dataset(cfg)\n",
    "df = filter_dataset(df)\n",
    "# df = df.sample(1000).reset_index(drop=True)\n",
    "if cfg.debug:\n",
    "    df = df.sample(10000).reset_index(drop=True)\n",
    "display(df)\n",
    "\n",
    "if cfg.check_dataset:\n",
    "    check_dataset(df, cfg)"
   ]
  },
  {
   "cell_type": "code",
   "execution_count": 4,
   "metadata": {
    "execution": {
     "iopub.execute_input": "2024-01-01T15:32:45.804986Z",
     "iopub.status.busy": "2024-01-01T15:32:45.804747Z",
     "iopub.status.idle": "2024-01-01T17:22:28.908547Z",
     "shell.execute_reply": "2024-01-01T17:22:28.904890Z"
    }
   },
   "outputs": [
    {
     "name": "stdout",
     "output_type": "stream",
     "text": [
      "model_arch:  Unet\n",
      "backbone:  efficientnet-b0\n"
     ]
    },
    {
     "name": "stderr",
     "output_type": "stream",
     "text": [
      "\u001b[34m\u001b[1mwandb\u001b[0m: Currently logged in as: \u001b[33mwelshonionman\u001b[0m. Use \u001b[1m`wandb login --relogin`\u001b[0m to force relogin\n",
      "\u001b[34m\u001b[1mwandb\u001b[0m: Tracking run with wandb version 0.16.1\n",
      "\u001b[34m\u001b[1mwandb\u001b[0m: Run data is saved locally in \u001b[35m\u001b[1m/kaggle/wandb/run-20240101_153257-f6nu6b4q\u001b[0m\n",
      "\u001b[34m\u001b[1mwandb\u001b[0m: Run \u001b[1m`wandb offline`\u001b[0m to turn off syncing.\n",
      "\u001b[34m\u001b[1mwandb\u001b[0m: Syncing run \u001b[33mexp002_fold0\u001b[0m\n",
      "\u001b[34m\u001b[1mwandb\u001b[0m: ⭐️ View project at \u001b[34m\u001b[4mhttps://wandb.ai/welshonionman/SenNet\u001b[0m\n",
      "\u001b[34m\u001b[1mwandb\u001b[0m: 🚀 View run at \u001b[34m\u001b[4mhttps://wandb.ai/welshonionman/SenNet/runs/f6nu6b4q\u001b[0m\n",
      "Epoch 0/20  Mem : 14.7GB  LR : 1.00E-04  Loss: 0.9267: 100%|██████████| 237/237 [01:46<00:00,  2.23it/s]\n",
      "Val Loss: 0.9392: 100%|██████████| 30/30 [00:16<00:00,  1.81it/s]                                                                                                                                                                                                                                      \n"
     ]
    },
    {
     "name": "stdout",
     "output_type": "stream",
     "text": [
      "loss : 0.9392\tSAVED MODEL\n",
      "\n"
     ]
    },
    {
     "name": "stderr",
     "output_type": "stream",
     "text": [
      "Epoch 1/20  Mem : 19GB  LR : 1.00E-03  Loss: 0.2225: 100%|██████████| 237/237 [01:38<00:00,  2.40it/s]\n",
      "Val Loss: 0.2922: 100%|██████████| 30/30 [00:16<00:00,  1.77it/s]                                                                                                                                                                                                                                      \n"
     ]
    },
    {
     "name": "stdout",
     "output_type": "stream",
     "text": [
      "loss : 0.2922\tSAVED MODEL\n",
      "\n"
     ]
    },
    {
     "name": "stderr",
     "output_type": "stream",
     "text": [
      "Epoch 2/20  Mem : 19GB  LR : 1.00E-04  Loss: 0.1015: 100%|██████████| 237/237 [01:38<00:00,  2.41it/s]\n",
      "Val Loss: 0.2012: 100%|██████████| 30/30 [00:16<00:00,  1.79it/s]                                                                                                                                                                                                                                      \n"
     ]
    },
    {
     "name": "stdout",
     "output_type": "stream",
     "text": [
      "loss : 0.2012\tSAVED MODEL\n",
      "\n"
     ]
    },
    {
     "name": "stderr",
     "output_type": "stream",
     "text": [
      "Epoch 3/20  Mem : 19GB  LR : 9.94E-05  Loss: 0.0961: 100%|██████████| 237/237 [01:37<00:00,  2.42it/s]\n",
      "Val Loss: 0.1855: 100%|██████████| 30/30 [00:16<00:00,  1.77it/s]                                                                                                                                                                                                                                      \n"
     ]
    },
    {
     "name": "stdout",
     "output_type": "stream",
     "text": [
      "loss : 0.1855\tSAVED MODEL\n",
      "\n"
     ]
    },
    {
     "name": "stderr",
     "output_type": "stream",
     "text": [
      "Epoch 4/20  Mem : 19GB  LR : 9.76E-05  Loss: 0.0907: 100%|██████████| 237/237 [01:38<00:00,  2.40it/s]\n",
      "Val Loss: 0.1816: 100%|██████████| 30/30 [00:16<00:00,  1.82it/s]                                                                                                                                                                                                                                      \n"
     ]
    },
    {
     "name": "stdout",
     "output_type": "stream",
     "text": [
      "loss : 0.1816\tSAVED MODEL\n",
      "\n"
     ]
    },
    {
     "name": "stderr",
     "output_type": "stream",
     "text": [
      "Epoch 5/20  Mem : 19GB  LR : 9.46E-05  Loss: 0.0881: 100%|██████████| 237/237 [01:38<00:00,  2.41it/s]\n",
      "Val Loss: 0.1792: 100%|██████████| 30/30 [00:16<00:00,  1.81it/s]                                                                                                                                                                                                                                      \n"
     ]
    },
    {
     "name": "stdout",
     "output_type": "stream",
     "text": [
      "loss : 0.1792\tSAVED MODEL\n",
      "\n"
     ]
    },
    {
     "name": "stderr",
     "output_type": "stream",
     "text": [
      "Epoch 6/20  Mem : 19GB  LR : 9.05E-05  Loss: 0.0850: 100%|██████████| 237/237 [01:38<00:00,  2.41it/s]\n",
      "Val Loss: 0.1770: 100%|██████████| 30/30 [00:16<00:00,  1.78it/s]                                                                                                                                                                                                                                      \n"
     ]
    },
    {
     "name": "stdout",
     "output_type": "stream",
     "text": [
      "loss : 0.1770\tSAVED MODEL\n",
      "\n"
     ]
    },
    {
     "name": "stderr",
     "output_type": "stream",
     "text": [
      "Epoch 7/20  Mem : 19GB  LR : 8.54E-05  Loss: 0.0831: 100%|██████████| 237/237 [01:38<00:00,  2.41it/s]\n",
      "Val Loss: 0.1733: 100%|██████████| 30/30 [00:16<00:00,  1.80it/s]                                                                                                                                                                                                                                      \n"
     ]
    },
    {
     "name": "stdout",
     "output_type": "stream",
     "text": [
      "loss : 0.1733\tSAVED MODEL\n",
      "\n"
     ]
    },
    {
     "name": "stderr",
     "output_type": "stream",
     "text": [
      "Epoch 8/20  Mem : 19GB  LR : 7.94E-05  Loss: 0.0813: 100%|██████████| 237/237 [01:37<00:00,  2.42it/s]\n",
      "Val Loss: 0.1651: 100%|██████████| 30/30 [00:16<00:00,  1.78it/s]                                                                                                                                                                                                                                      \n"
     ]
    },
    {
     "name": "stdout",
     "output_type": "stream",
     "text": [
      "loss : 0.1651\tSAVED MODEL\n",
      "\n"
     ]
    },
    {
     "name": "stderr",
     "output_type": "stream",
     "text": [
      "Epoch 9/20  Mem : 19GB  LR : 7.27E-05  Loss: 0.0805: 100%|██████████| 237/237 [01:38<00:00,  2.41it/s]\n",
      "Val Loss: 0.1716: 100%|██████████| 30/30 [00:16<00:00,  1.79it/s]                                                                                                                                                                                                                                      \n"
     ]
    },
    {
     "name": "stdout",
     "output_type": "stream",
     "text": [
      "loss : 0.1716\n",
      "\n"
     ]
    },
    {
     "name": "stderr",
     "output_type": "stream",
     "text": [
      "Epoch 10/20  Mem : 19GB  LR : 6.55E-05  Loss: 0.0786: 100%|██████████| 237/237 [01:38<00:00,  2.41it/s]\n",
      "Val Loss: 0.1646: 100%|██████████| 30/30 [00:16<00:00,  1.78it/s]                                                                                                                                                                                                                                      \n"
     ]
    },
    {
     "name": "stdout",
     "output_type": "stream",
     "text": [
      "loss : 0.1646\tSAVED MODEL\n",
      "\n"
     ]
    },
    {
     "name": "stderr",
     "output_type": "stream",
     "text": [
      "Epoch 11/20  Mem : 19GB  LR : 5.79E-05  Loss: 0.0776: 100%|██████████| 237/237 [01:38<00:00,  2.41it/s]\n",
      "Val Loss: 0.1655: 100%|██████████| 30/30 [00:16<00:00,  1.77it/s]                                                                                                                                                                                                                                      \n"
     ]
    },
    {
     "name": "stdout",
     "output_type": "stream",
     "text": [
      "loss : 0.1655\n",
      "\n"
     ]
    },
    {
     "name": "stderr",
     "output_type": "stream",
     "text": [
      "Epoch 12/20  Mem : 19GB  LR : 5.01E-05  Loss: 0.0768: 100%|██████████| 237/237 [01:38<00:00,  2.41it/s]\n",
      "Val Loss: 0.1666: 100%|██████████| 30/30 [00:16<00:00,  1.78it/s]                                                                                                                                                                                                                                      \n"
     ]
    },
    {
     "name": "stdout",
     "output_type": "stream",
     "text": [
      "loss : 0.1666\n",
      "\n"
     ]
    },
    {
     "name": "stderr",
     "output_type": "stream",
     "text": [
      "Epoch 13/20  Mem : 19GB  LR : 4.22E-05  Loss: 0.0758: 100%|██████████| 237/237 [01:38<00:00,  2.41it/s]\n",
      "Val Loss: 0.1609: 100%|██████████| 30/30 [00:16<00:00,  1.78it/s]                                                                                                                                                                                                                                      \n"
     ]
    },
    {
     "name": "stdout",
     "output_type": "stream",
     "text": [
      "loss : 0.1609\tSAVED MODEL\n",
      "\n"
     ]
    },
    {
     "name": "stderr",
     "output_type": "stream",
     "text": [
      "Epoch 14/20  Mem : 19GB  LR : 3.46E-05  Loss: 0.0755: 100%|██████████| 237/237 [01:38<00:00,  2.41it/s]\n",
      "Val Loss: 0.1585: 100%|██████████| 30/30 [00:16<00:00,  1.78it/s]                                                                                                                                                                                                                                      \n"
     ]
    },
    {
     "name": "stdout",
     "output_type": "stream",
     "text": [
      "loss : 0.1585\tSAVED MODEL\n",
      "\n"
     ]
    },
    {
     "name": "stderr",
     "output_type": "stream",
     "text": [
      "Epoch 15/20  Mem : 19GB  LR : 2.74E-05  Loss: 0.0754: 100%|██████████| 237/237 [01:37<00:00,  2.42it/s]\n",
      "Val Loss: 0.1601: 100%|██████████| 30/30 [00:16<00:00,  1.78it/s]                                                                                                                                                                                                                                      \n"
     ]
    },
    {
     "name": "stdout",
     "output_type": "stream",
     "text": [
      "loss : 0.1601\n",
      "\n"
     ]
    },
    {
     "name": "stderr",
     "output_type": "stream",
     "text": [
      "Epoch 16/20  Mem : 19GB  LR : 2.07E-05  Loss: 0.0746: 100%|██████████| 237/237 [01:38<00:00,  2.41it/s]\n",
      "Val Loss: 0.1599: 100%|██████████| 30/30 [00:16<00:00,  1.79it/s]                                                                                                                                                                                                                                      \n"
     ]
    },
    {
     "name": "stdout",
     "output_type": "stream",
     "text": [
      "loss : 0.1599\n",
      "\n"
     ]
    },
    {
     "name": "stderr",
     "output_type": "stream",
     "text": [
      "Epoch 17/20  Mem : 19GB  LR : 1.47E-05  Loss: 0.0742: 100%|██████████| 237/237 [01:38<00:00,  2.42it/s]\n",
      "Val Loss: 0.1591: 100%|██████████| 30/30 [00:16<00:00,  1.80it/s]                                                                                                                                                                                                                                      \n"
     ]
    },
    {
     "name": "stdout",
     "output_type": "stream",
     "text": [
      "loss : 0.1591\n",
      "\n"
     ]
    },
    {
     "name": "stderr",
     "output_type": "stream",
     "text": [
      "Epoch 18/20  Mem : 19GB  LR : 9.64E-06  Loss: 0.0740: 100%|██████████| 237/237 [01:38<00:00,  2.42it/s]\n",
      "Val Loss: 0.1590: 100%|██████████| 30/30 [00:16<00:00,  1.78it/s]                                                                                                                                                                                                                                      \n"
     ]
    },
    {
     "name": "stdout",
     "output_type": "stream",
     "text": [
      "loss : 0.1590\n",
      "\n"
     ]
    },
    {
     "name": "stderr",
     "output_type": "stream",
     "text": [
      "Epoch 19/20  Mem : 19GB  LR : 5.54E-06  Loss: 0.0738: 100%|██████████| 237/237 [01:38<00:00,  2.42it/s]\n",
      "Val Loss: 0.1578: 100%|██████████| 30/30 [00:16<00:00,  1.80it/s]                                                                                                                                                                                                                                      \n"
     ]
    },
    {
     "name": "stdout",
     "output_type": "stream",
     "text": [
      "loss : 0.1578\tSAVED MODEL\n",
      "\n"
     ]
    },
    {
     "name": "stderr",
     "output_type": "stream",
     "text": [
      "100%|██████████████████████████████████████████████████████████████████████████████████████████████████████████████████████████████████████████████████████████████████████████████████████████████████████████████████████████████████████████████████████████████████| 25/25 [02:07<00:00,  5.10s/it]\n",
      "Val Loss: 0.1578: 100%|██████████| 30/30 [00:16<00:00,  1.78it/s]                                                                                                                                                                                                                                      \n",
      "100%|██████████████████████████████████████████████████████████████████████████████████████████████████████████████████████████████████████████████████████████████████████████████████████████████████████████████████████████████████████████████████████████████████| 25/25 [02:09<00:00,  5.19s/it]\n",
      "\u001b[34m\u001b[1mwandb\u001b[0m:                                                                                \n",
      "\u001b[34m\u001b[1mwandb\u001b[0m: \n",
      "\u001b[34m\u001b[1mwandb\u001b[0m: Run history:\n",
      "\u001b[34m\u001b[1mwandb\u001b[0m:      epoch ▁▁▁▁▂▂▂▂▂▂▃▃▃▃▄▄▄▄▄▄▅▅▅▅▅▅▆▆▆▆▇▇▇▇▇▇████\n",
      "\u001b[34m\u001b[1mwandb\u001b[0m: train_loss █▂▁▁▁▁▁▁▁▁▁▁▁▁▁▁▁▁▁▁\n",
      "\u001b[34m\u001b[1mwandb\u001b[0m: valid_loss █▂▁▁▁▁▁▁▁▁▁▁▁▁▁▁▁▁▁▁\n",
      "\u001b[34m\u001b[1mwandb\u001b[0m: \n",
      "\u001b[34m\u001b[1mwandb\u001b[0m: Run summary:\n",
      "\u001b[34m\u001b[1mwandb\u001b[0m:      epoch 19\n",
      "\u001b[34m\u001b[1mwandb\u001b[0m: train_loss 0.07098\n",
      "\u001b[34m\u001b[1mwandb\u001b[0m: valid_loss 0.15776\n",
      "\u001b[34m\u001b[1mwandb\u001b[0m: \n",
      "\u001b[34m\u001b[1mwandb\u001b[0m: 🚀 View run \u001b[33mexp002_fold0\u001b[0m at: \u001b[34m\u001b[4mhttps://wandb.ai/welshonionman/SenNet/runs/f6nu6b4q\u001b[0m\n",
      "\u001b[34m\u001b[1mwandb\u001b[0m: Synced 5 W&B file(s), 0 media file(s), 0 artifact file(s) and 0 other file(s)\n",
      "\u001b[34m\u001b[1mwandb\u001b[0m: Find logs at: \u001b[35m\u001b[1m/kaggle/wandb/run-20240101_153257-f6nu6b4q/logs\u001b[0m\n"
     ]
    },
    {
     "name": "stdout",
     "output_type": "stream",
     "text": [
      "model_arch:  Unet\n",
      "backbone:  efficientnet-b0\n"
     ]
    },
    {
     "name": "stderr",
     "output_type": "stream",
     "text": [
      "\u001b[34m\u001b[1mwandb\u001b[0m: Tracking run with wandb version 0.16.1\n",
      "\u001b[34m\u001b[1mwandb\u001b[0m: Run data is saved locally in \u001b[35m\u001b[1m/kaggle/wandb/run-20240101_161723-9uf6y2yg\u001b[0m\n",
      "\u001b[34m\u001b[1mwandb\u001b[0m: Run \u001b[1m`wandb offline`\u001b[0m to turn off syncing.\n",
      "\u001b[34m\u001b[1mwandb\u001b[0m: Syncing run \u001b[33mexp002_fold1\u001b[0m\n",
      "\u001b[34m\u001b[1mwandb\u001b[0m: ⭐️ View project at \u001b[34m\u001b[4mhttps://wandb.ai/welshonionman/SenNet\u001b[0m\n",
      "\u001b[34m\u001b[1mwandb\u001b[0m: 🚀 View run at \u001b[34m\u001b[4mhttps://wandb.ai/welshonionman/SenNet/runs/9uf6y2yg\u001b[0m\n",
      "Epoch 0/20  Mem : 19GB  LR : 1.00E-04  Loss: 0.9587: 100%|██████████| 189/189 [01:19<00:00,  2.37it/s]\n",
      "Val Loss: 0.9550: 100%|██████████| 109/109 [00:54<00:00,  2.00it/s]                                                                                                                                                                                                                                    \n"
     ]
    },
    {
     "name": "stdout",
     "output_type": "stream",
     "text": [
      "loss : 0.9550\tSAVED MODEL\n",
      "\n"
     ]
    },
    {
     "name": "stderr",
     "output_type": "stream",
     "text": [
      "Epoch 1/20  Mem : 19GB  LR : 1.00E-03  Loss: 0.2388: 100%|██████████| 189/189 [01:19<00:00,  2.37it/s]\n",
      "Val Loss: 0.9709: 100%|██████████| 109/109 [01:01<00:00,  1.76it/s]                                                                                                                                                                                                                                    \n"
     ]
    },
    {
     "name": "stdout",
     "output_type": "stream",
     "text": [
      "loss : 0.9709\n",
      "\n"
     ]
    },
    {
     "name": "stderr",
     "output_type": "stream",
     "text": [
      "Epoch 2/20  Mem : 19GB  LR : 1.00E-04  Loss: 0.0981: 100%|██████████| 189/189 [01:20<00:00,  2.35it/s]\n",
      "Val Loss: 0.5374: 100%|██████████| 109/109 [00:58<00:00,  1.85it/s]                                                                                                                                                                                                                                    \n"
     ]
    },
    {
     "name": "stdout",
     "output_type": "stream",
     "text": [
      "loss : 0.5374\tSAVED MODEL\n",
      "\n"
     ]
    },
    {
     "name": "stderr",
     "output_type": "stream",
     "text": [
      "Epoch 3/20  Mem : 19GB  LR : 9.94E-05  Loss: 0.0894: 100%|██████████| 189/189 [01:20<00:00,  2.35it/s]\n",
      "Val Loss: 0.3670: 100%|██████████| 109/109 [00:53<00:00,  2.04it/s]                                                                                                                                                                                                                                    \n"
     ]
    },
    {
     "name": "stdout",
     "output_type": "stream",
     "text": [
      "loss : 0.3670\tSAVED MODEL\n",
      "\n"
     ]
    },
    {
     "name": "stderr",
     "output_type": "stream",
     "text": [
      "Epoch 4/20  Mem : 19GB  LR : 9.76E-05  Loss: 0.0829: 100%|██████████| 189/189 [01:20<00:00,  2.34it/s]\n",
      "Val Loss: 0.3287: 100%|██████████| 109/109 [00:55<00:00,  1.97it/s]                                                                                                                                                                                                                                    \n"
     ]
    },
    {
     "name": "stdout",
     "output_type": "stream",
     "text": [
      "loss : 0.3287\tSAVED MODEL\n",
      "\n"
     ]
    },
    {
     "name": "stderr",
     "output_type": "stream",
     "text": [
      "Epoch 5/20  Mem : 19GB  LR : 9.46E-05  Loss: 0.0782: 100%|██████████| 189/189 [01:20<00:00,  2.35it/s]\n",
      "Val Loss: 0.3187: 100%|██████████| 109/109 [00:53<00:00,  2.03it/s]                                                                                                                                                                                                                                    \n"
     ]
    },
    {
     "name": "stdout",
     "output_type": "stream",
     "text": [
      "loss : 0.3187\tSAVED MODEL\n",
      "\n"
     ]
    },
    {
     "name": "stderr",
     "output_type": "stream",
     "text": [
      "Epoch 6/20  Mem : 19GB  LR : 9.05E-05  Loss: 0.0756: 100%|██████████| 189/189 [01:20<00:00,  2.34it/s]\n",
      "Val Loss: 0.3080: 100%|██████████| 109/109 [00:54<00:00,  1.99it/s]                                                                                                                                                                                                                                    \n"
     ]
    },
    {
     "name": "stdout",
     "output_type": "stream",
     "text": [
      "loss : 0.3080\tSAVED MODEL\n",
      "\n"
     ]
    },
    {
     "name": "stderr",
     "output_type": "stream",
     "text": [
      "Epoch 7/20  Mem : 19GB  LR : 8.54E-05  Loss: 0.0738: 100%|██████████| 189/189 [01:20<00:00,  2.34it/s]\n",
      "Val Loss: 0.2960: 100%|██████████| 109/109 [00:53<00:00,  2.04it/s]                                                                                                                                                                                                                                    \n"
     ]
    },
    {
     "name": "stdout",
     "output_type": "stream",
     "text": [
      "loss : 0.2960\tSAVED MODEL\n",
      "\n"
     ]
    },
    {
     "name": "stderr",
     "output_type": "stream",
     "text": [
      "Epoch 8/20  Mem : 19GB  LR : 7.94E-05  Loss: 0.0717: 100%|██████████| 189/189 [01:20<00:00,  2.35it/s]\n",
      "Val Loss: 0.2896: 100%|██████████| 109/109 [00:53<00:00,  2.04it/s]                                                                                                                                                                                                                                    \n"
     ]
    },
    {
     "name": "stdout",
     "output_type": "stream",
     "text": [
      "loss : 0.2896\tSAVED MODEL\n",
      "\n"
     ]
    },
    {
     "name": "stderr",
     "output_type": "stream",
     "text": [
      "Epoch 9/20  Mem : 19GB  LR : 7.27E-05  Loss: 0.0707: 100%|██████████| 189/189 [01:20<00:00,  2.34it/s]\n",
      "Val Loss: 0.2807: 100%|██████████| 109/109 [00:52<00:00,  2.06it/s]                                                                                                                                                                                                                                    \n"
     ]
    },
    {
     "name": "stdout",
     "output_type": "stream",
     "text": [
      "loss : 0.2807\tSAVED MODEL\n",
      "\n"
     ]
    },
    {
     "name": "stderr",
     "output_type": "stream",
     "text": [
      "Epoch 10/20  Mem : 19GB  LR : 6.55E-05  Loss: 0.0698: 100%|██████████| 189/189 [01:20<00:00,  2.34it/s]\n",
      "Val Loss: 0.2654: 100%|██████████| 109/109 [00:52<00:00,  2.06it/s]                                                                                                                                                                                                                                    \n"
     ]
    },
    {
     "name": "stdout",
     "output_type": "stream",
     "text": [
      "loss : 0.2654\tSAVED MODEL\n",
      "\n"
     ]
    },
    {
     "name": "stderr",
     "output_type": "stream",
     "text": [
      "Epoch 11/20  Mem : 19GB  LR : 5.79E-05  Loss: 0.0675: 100%|██████████| 189/189 [01:26<00:00,  2.19it/s]\n",
      "Val Loss: 0.2753: 100%|██████████| 109/109 [00:52<00:00,  2.07it/s]                                                                                                                                                                                                                                    \n"
     ]
    },
    {
     "name": "stdout",
     "output_type": "stream",
     "text": [
      "loss : 0.2753\n",
      "\n"
     ]
    },
    {
     "name": "stderr",
     "output_type": "stream",
     "text": [
      "Epoch 12/20  Mem : 19GB  LR : 5.01E-05  Loss: 0.0673: 100%|██████████| 189/189 [01:20<00:00,  2.34it/s]\n",
      "Val Loss: 0.2742: 100%|██████████| 109/109 [00:53<00:00,  2.03it/s]                                                                                                                                                                                                                                    \n"
     ]
    },
    {
     "name": "stdout",
     "output_type": "stream",
     "text": [
      "loss : 0.2742\n",
      "\n"
     ]
    },
    {
     "name": "stderr",
     "output_type": "stream",
     "text": [
      "Epoch 13/20  Mem : 19GB  LR : 4.22E-05  Loss: 0.0662: 100%|██████████| 189/189 [01:20<00:00,  2.35it/s]\n",
      "Val Loss: 0.2636: 100%|██████████| 109/109 [00:52<00:00,  2.07it/s]                                                                                                                                                                                                                                    \n"
     ]
    },
    {
     "name": "stdout",
     "output_type": "stream",
     "text": [
      "loss : 0.2636\tSAVED MODEL\n",
      "\n"
     ]
    },
    {
     "name": "stderr",
     "output_type": "stream",
     "text": [
      "Epoch 14/20  Mem : 19GB  LR : 3.46E-05  Loss: 0.0654: 100%|██████████| 189/189 [01:20<00:00,  2.34it/s]\n",
      "Val Loss: 0.2595: 100%|██████████| 109/109 [00:53<00:00,  2.04it/s]                                                                                                                                                                                                                                    \n"
     ]
    },
    {
     "name": "stdout",
     "output_type": "stream",
     "text": [
      "loss : 0.2595\tSAVED MODEL\n",
      "\n"
     ]
    },
    {
     "name": "stderr",
     "output_type": "stream",
     "text": [
      "Epoch 15/20  Mem : 19GB  LR : 2.74E-05  Loss: 0.0655: 100%|██████████| 189/189 [01:20<00:00,  2.34it/s]\n",
      "Val Loss: 0.2682: 100%|██████████| 109/109 [00:52<00:00,  2.07it/s]                                                                                                                                                                                                                                    \n"
     ]
    },
    {
     "name": "stdout",
     "output_type": "stream",
     "text": [
      "loss : 0.2682\n",
      "\n"
     ]
    },
    {
     "name": "stderr",
     "output_type": "stream",
     "text": [
      "Epoch 16/20  Mem : 19GB  LR : 2.07E-05  Loss: 0.0652: 100%|██████████| 189/189 [01:20<00:00,  2.33it/s]\n",
      "Val Loss: 0.2635: 100%|██████████| 109/109 [00:55<00:00,  1.96it/s]                                                                                                                                                                                                                                    \n"
     ]
    },
    {
     "name": "stdout",
     "output_type": "stream",
     "text": [
      "loss : 0.2635\n",
      "\n"
     ]
    },
    {
     "name": "stderr",
     "output_type": "stream",
     "text": [
      "Epoch 17/20  Mem : 19GB  LR : 1.47E-05  Loss: 0.0642: 100%|██████████| 189/189 [01:20<00:00,  2.35it/s]\n",
      "Val Loss: 0.2643: 100%|██████████| 109/109 [00:55<00:00,  1.96it/s]                                                                                                                                                                                                                                    \n"
     ]
    },
    {
     "name": "stdout",
     "output_type": "stream",
     "text": [
      "loss : 0.2643\n",
      "\n"
     ]
    },
    {
     "name": "stderr",
     "output_type": "stream",
     "text": [
      "Epoch 18/20  Mem : 19GB  LR : 9.64E-06  Loss: 0.0643: 100%|██████████| 189/189 [01:27<00:00,  2.17it/s]\n",
      "Val Loss: 0.2698: 100%|██████████| 109/109 [00:58<00:00,  1.86it/s]                                                                                                                                                                                                                                    \n"
     ]
    },
    {
     "name": "stdout",
     "output_type": "stream",
     "text": [
      "loss : 0.2698\n",
      "\n"
     ]
    },
    {
     "name": "stderr",
     "output_type": "stream",
     "text": [
      "Epoch 19/20  Mem : 19GB  LR : 5.54E-06  Loss: 0.0642: 100%|██████████| 189/189 [01:27<00:00,  2.16it/s]\n",
      "Val Loss: 0.2665: 100%|██████████| 109/109 [00:57<00:00,  1.89it/s]                                                                                                                                                                                                                                    \n"
     ]
    },
    {
     "name": "stdout",
     "output_type": "stream",
     "text": [
      "loss : 0.2665\n",
      "\n"
     ]
    },
    {
     "name": "stderr",
     "output_type": "stream",
     "text": [
      "100%|██████████████████████████████████████████████████████████████████████████████████████████████████████████████████████████████████████████████████████████████████████████████████████████████████████████████████████████████████████████████████████████████████| 25/25 [08:14<00:00, 19.78s/it]\n",
      "Val Loss: 0.2595: 100%|██████████| 109/109 [01:00<00:00,  1.81it/s]                                                                                                                                                                                                                                    \n",
      "100%|██████████████████████████████████████████████████████████████████████████████████████████████████████████████████████████████████████████████████████████████████████████████████████████████████████████████████████████████████████████████████████████████████| 25/25 [08:13<00:00, 19.72s/it]\n",
      "\u001b[34m\u001b[1mwandb\u001b[0m:                                                                                \n",
      "\u001b[34m\u001b[1mwandb\u001b[0m: \n",
      "\u001b[34m\u001b[1mwandb\u001b[0m: Run history:\n",
      "\u001b[34m\u001b[1mwandb\u001b[0m:      epoch ▁▁▁▁▂▂▂▂▂▂▃▃▃▃▄▄▄▄▄▄▅▅▅▅▅▅▆▆▆▆▇▇▇▇▇▇████\n",
      "\u001b[34m\u001b[1mwandb\u001b[0m: train_loss █▁▁▂▂▁▁▁▁▁▁▁▁▁▁▁▁▁▁▁\n",
      "\u001b[34m\u001b[1mwandb\u001b[0m: valid_loss ██▄▂▂▂▁▁▁▁▁▁▁▁▁▁▁▁▁▁\n",
      "\u001b[34m\u001b[1mwandb\u001b[0m: \n",
      "\u001b[34m\u001b[1mwandb\u001b[0m: Run summary:\n",
      "\u001b[34m\u001b[1mwandb\u001b[0m:      epoch 19\n",
      "\u001b[34m\u001b[1mwandb\u001b[0m: train_loss 0.09681\n",
      "\u001b[34m\u001b[1mwandb\u001b[0m: valid_loss 0.26651\n",
      "\u001b[34m\u001b[1mwandb\u001b[0m: \n",
      "\u001b[34m\u001b[1mwandb\u001b[0m: 🚀 View run \u001b[33mexp002_fold1\u001b[0m at: \u001b[34m\u001b[4mhttps://wandb.ai/welshonionman/SenNet/runs/9uf6y2yg\u001b[0m\n",
      "\u001b[34m\u001b[1mwandb\u001b[0m: Synced 5 W&B file(s), 0 media file(s), 0 artifact file(s) and 0 other file(s)\n",
      "\u001b[34m\u001b[1mwandb\u001b[0m: Find logs at: \u001b[35m\u001b[1m/kaggle/wandb/run-20240101_161723-9uf6y2yg/logs\u001b[0m\n"
     ]
    }
   ],
   "source": [
    "if cfg.debug:\n",
    "    print(\"!!!Debug mode!!!\\n\")\n",
    "    cfg.epochs = 5\n",
    "\n",
    "for fold in range(2):\n",
    "    train_dataloader, valid_dataloader = init_dataset(fold, df, cfg)\n",
    "    model, scaler, criterion, optimizer, scheduler, metrics = init_model(cfg)\n",
    "    slacknotify = init_exp(fold, cfg)\n",
    "\n",
    "    path_best = f\"./{cfg.exp_name}/{cfg.exp_name}_best_fold{fold}.pth\"\n",
    "    path_last = f\"./{cfg.exp_name}/{cfg.exp_name}_last_fold{fold}.pth\"\n",
    "\n",
    "    best_loss = float(\"inf\")\n",
    "    for epoch in range(cfg.epochs):\n",
    "        train(model, train_dataloader, optimizer, criterion, scheduler, scaler, epoch, cfg)\n",
    "        loss, pred_list, true_list = valid(model, valid_dataloader, criterion, epoch, cfg)\n",
    "\n",
    "        if loss < best_loss:\n",
    "            print(f\"loss : {loss:.4f}\\tSAVED MODEL\\n\")\n",
    "            slacknotify.send_reply(f\"epoch : {epoch}\\tscore : {loss:.4f}\\tBEST\")\n",
    "            best_loss = loss\n",
    "            save_model(model, cfg, path_best, loss=loss)\n",
    "        else:\n",
    "            print(f\"loss : {loss:.4f}\\n\")\n",
    "            slacknotify.send_reply(f\"epoch : {epoch}\\tscore : {loss:.4f}\")\n",
    "\n",
    "    last_score, last_thresh = calc_optim_thresh(pred_list, true_list, metrics, cfg)\n",
    "    save_model(model, cfg, path_last, loss=loss, score=last_score, thresh=last_thresh)\n",
    "    wandb.config.update({\"last_score\": last_score, \"last_thresh\": last_thresh})\n",
    "\n",
    "    best_model = load_model(model, path_best)\n",
    "    loss, pred_list, true_list = valid(best_model, valid_dataloader, criterion, epoch, cfg, log=False)\n",
    "\n",
    "    best_score, best_thresh = calc_optim_thresh(pred_list, true_list, metrics, cfg)\n",
    "    save_model(best_model, cfg, path_best, loss=loss, score=best_score, thresh=best_thresh)\n",
    "    wandb.config.update({\"best_score\": best_score, \"best_thresh\": best_thresh})\n",
    "\n",
    "    slacknotify.send_reply(\n",
    "        f\"{cfg.exp_name}_fold{fold} training finished\\nbest score : {best_score:.4f} last score : {last_score:.4f}\",\n",
    "        True,\n",
    "    )\n",
    "\n",
    "    if wandb.run:\n",
    "        wandb.finish()"
   ]
  },
  {
   "cell_type": "code",
   "execution_count": null,
   "metadata": {},
   "outputs": [],
   "source": []
  }
 ],
 "metadata": {
  "kaggle": {
   "accelerator": "nvidiaTeslaT4",
   "dataSources": [
    {
     "databundleVersionId": 6962461,
     "sourceId": 61446,
     "sourceType": "competition"
    },
    {
     "datasetId": 1074109,
     "sourceId": 1807973,
     "sourceType": "datasetVersion"
    },
    {
     "sourceId": 150248402,
     "sourceType": "kernelVersion"
    }
   ],
   "dockerImageVersionId": 30587,
   "isGpuEnabled": true,
   "isInternetEnabled": true,
   "language": "python",
   "sourceType": "notebook"
  },
  "kernelspec": {
   "display_name": "Python 3",
   "language": "python",
   "name": "python3"
  },
  "language_info": {
   "codemirror_mode": {
    "name": "ipython",
    "version": 3
   },
   "file_extension": ".py",
   "mimetype": "text/x-python",
   "name": "python",
   "nbconvert_exporter": "python",
   "pygments_lexer": "ipython3",
   "version": "3.10.13"
  }
 },
 "nbformat": 4,
 "nbformat_minor": 4
}
