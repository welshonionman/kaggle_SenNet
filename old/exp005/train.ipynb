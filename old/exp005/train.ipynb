{
 "cells": [
  {
   "cell_type": "code",
   "execution_count": 1,
   "metadata": {
    "_cell_guid": "b1076dfc-b9ad-4769-8c92-a6c4dae69d19",
    "_kg_hide-input": true,
    "_kg_hide-output": true,
    "_uuid": "8f2839f25d086af736a60e9eeb907d3b93b6e0e5",
    "execution": {
     "iopub.execute_input": "2024-01-02T05:47:47.473153Z",
     "iopub.status.busy": "2024-01-02T05:47:47.472868Z",
     "iopub.status.idle": "2024-01-02T05:47:50.985950Z",
     "shell.execute_reply": "2024-01-02T05:47:50.985368Z"
    }
   },
   "outputs": [],
   "source": [
    "import numpy as np\n",
    "import os\n",
    "\n",
    "import albumentations as A\n",
    "from albumentations.pytorch import ToTensorV2\n",
    "import wandb\n",
    "from dotenv import load_dotenv\n",
    "\n",
    "from src.model.model import save_model, load_model\n",
    "from src.dataset.df import df_dataset, check_dataset\n",
    "from src.utils.common import set_seed\n",
    "from src.utils.optim_thresh import calc_optim_thresh\n",
    "from src.experiment.experiment import train, valid\n",
    "from src.experiment.initialize import init_dataset, init_model, init_exp"
   ]
  },
  {
   "cell_type": "code",
   "execution_count": 2,
   "metadata": {
    "execution": {
     "iopub.execute_input": "2024-01-02T05:47:50.989095Z",
     "iopub.status.busy": "2024-01-02T05:47:50.988527Z",
     "iopub.status.idle": "2024-01-02T05:47:51.002019Z",
     "shell.execute_reply": "2024-01-02T05:47:51.001448Z"
    }
   },
   "outputs": [],
   "source": [
    "class cfg:\n",
    "    debug = False\n",
    "    check_dataset = False\n",
    "\n",
    "    # = data CFG ====================================================\n",
    "\n",
    "    dataset_path = \"/kaggle/working/dataset/cropped_xy_256_128_z_6_6/\"\n",
    "    dataset = \"base2d\"\n",
    "\n",
    "    # = experiment CFG =================================================\n",
    "\n",
    "    project = \"SenNet\"\n",
    "    exp_name = os.path.basename(os.getcwd())\n",
    "    notes = \"aug_GridDistortion\"\n",
    "\n",
    "    # = model CFG ======================================================\n",
    "\n",
    "    model_arch = \"Unet\"\n",
    "    backbone = \"efficientnet-b0\"\n",
    "    in_chans = 6\n",
    "    target_size = 6\n",
    "\n",
    "    # = training CFG ===================================================\n",
    "\n",
    "    epochs = 20\n",
    "\n",
    "    train_batch_size = 128\n",
    "    valid_batch_size = train_batch_size\n",
    "\n",
    "    loss = \"DiceLoss\"\n",
    "    metrics = \"Dice\"\n",
    "    lr = 1e-4\n",
    "    thresholds_to_test = range(2, 101, 4)\n",
    "    num_workers = 24\n",
    "\n",
    "    # = augmentation ===================================================\n",
    "\n",
    "    image_size = 256\n",
    "    train_aug = [\n",
    "        # A.RandomResizedCrop(image_size, image_size, scale=(0.8, 1.0)),\n",
    "        # A.ShiftScaleRotate(p=0.75),\n",
    "        # A.OneOf(\n",
    "        #     [\n",
    "        #         A.GaussNoise(var_limit=[10, 50]),\n",
    "        #         A.GaussianBlur(),\n",
    "        #         A.MotionBlur(),\n",
    "        #     ],\n",
    "        #     p=0.4,\n",
    "        # ),\n",
    "        A.GridDistortion(num_steps=5, distort_limit=0.3, p=0.5),\n",
    "        ToTensorV2(transpose_mask=True),\n",
    "    ]\n",
    "\n",
    "    valid_aug = [\n",
    "        ToTensorV2(transpose_mask=True),\n",
    "    ]\n",
    "\n",
    "\n",
    "load_dotenv(\"/kaggle/key.env\")\n",
    "set_seed()"
   ]
  },
  {
   "cell_type": "code",
   "execution_count": 3,
   "metadata": {
    "execution": {
     "iopub.execute_input": "2024-01-02T05:47:51.004408Z",
     "iopub.status.busy": "2024-01-02T05:47:51.004035Z",
     "iopub.status.idle": "2024-01-02T05:47:53.573085Z",
     "shell.execute_reply": "2024-01-02T05:47:53.572444Z"
    }
   },
   "outputs": [
    {
     "data": {
      "text/html": [
       "<div>\n",
       "<style scoped>\n",
       "    .dataframe tbody tr th:only-of-type {\n",
       "        vertical-align: middle;\n",
       "    }\n",
       "\n",
       "    .dataframe tbody tr th {\n",
       "        vertical-align: top;\n",
       "    }\n",
       "\n",
       "    .dataframe thead th {\n",
       "        text-align: right;\n",
       "    }\n",
       "</style>\n",
       "<table border=\"1\" class=\"dataframe\">\n",
       "  <thead>\n",
       "    <tr style=\"text-align: right;\">\n",
       "      <th></th>\n",
       "      <th>image_path</th>\n",
       "      <th>label_path</th>\n",
       "      <th>fname</th>\n",
       "      <th>kidney</th>\n",
       "      <th>x</th>\n",
       "      <th>y</th>\n",
       "      <th>z</th>\n",
       "      <th>std</th>\n",
       "      <th>sum</th>\n",
       "      <th>fold0</th>\n",
       "      <th>fold1</th>\n",
       "    </tr>\n",
       "  </thead>\n",
       "  <tbody>\n",
       "    <tr>\n",
       "      <th>0</th>\n",
       "      <td>/kaggle/working/dataset/cropped_xy_256_128_z_6...</td>\n",
       "      <td>/kaggle/working/dataset/cropped_xy_256_128_z_6...</td>\n",
       "      <td>x0_y0_z12_std0040_sum0</td>\n",
       "      <td>kidney_1_dense</td>\n",
       "      <td>0</td>\n",
       "      <td>0</td>\n",
       "      <td>12</td>\n",
       "      <td>40</td>\n",
       "      <td>0</td>\n",
       "      <td>train</td>\n",
       "      <td>valid</td>\n",
       "    </tr>\n",
       "    <tr>\n",
       "      <th>1</th>\n",
       "      <td>/kaggle/working/dataset/cropped_xy_256_128_z_6...</td>\n",
       "      <td>/kaggle/working/dataset/cropped_xy_256_128_z_6...</td>\n",
       "      <td>x0_y0_z150_std0033_sum0</td>\n",
       "      <td>kidney_1_dense</td>\n",
       "      <td>0</td>\n",
       "      <td>0</td>\n",
       "      <td>150</td>\n",
       "      <td>33</td>\n",
       "      <td>0</td>\n",
       "      <td>train</td>\n",
       "      <td>valid</td>\n",
       "    </tr>\n",
       "    <tr>\n",
       "      <th>2</th>\n",
       "      <td>/kaggle/working/dataset/cropped_xy_256_128_z_6...</td>\n",
       "      <td>/kaggle/working/dataset/cropped_xy_256_128_z_6...</td>\n",
       "      <td>x0_y0_z252_std0036_sum0</td>\n",
       "      <td>kidney_1_dense</td>\n",
       "      <td>0</td>\n",
       "      <td>0</td>\n",
       "      <td>252</td>\n",
       "      <td>36</td>\n",
       "      <td>0</td>\n",
       "      <td>train</td>\n",
       "      <td>valid</td>\n",
       "    </tr>\n",
       "    <tr>\n",
       "      <th>3</th>\n",
       "      <td>/kaggle/working/dataset/cropped_xy_256_128_z_6...</td>\n",
       "      <td>/kaggle/working/dataset/cropped_xy_256_128_z_6...</td>\n",
       "      <td>x0_y0_z270_std0036_sum0</td>\n",
       "      <td>kidney_1_dense</td>\n",
       "      <td>0</td>\n",
       "      <td>0</td>\n",
       "      <td>270</td>\n",
       "      <td>36</td>\n",
       "      <td>0</td>\n",
       "      <td>train</td>\n",
       "      <td>valid</td>\n",
       "    </tr>\n",
       "    <tr>\n",
       "      <th>4</th>\n",
       "      <td>/kaggle/working/dataset/cropped_xy_256_128_z_6...</td>\n",
       "      <td>/kaggle/working/dataset/cropped_xy_256_128_z_6...</td>\n",
       "      <td>x0_y0_z300_std0037_sum0</td>\n",
       "      <td>kidney_1_dense</td>\n",
       "      <td>0</td>\n",
       "      <td>0</td>\n",
       "      <td>300</td>\n",
       "      <td>37</td>\n",
       "      <td>0</td>\n",
       "      <td>train</td>\n",
       "      <td>valid</td>\n",
       "    </tr>\n",
       "    <tr>\n",
       "      <th>...</th>\n",
       "      <td>...</td>\n",
       "      <td>...</td>\n",
       "      <td>...</td>\n",
       "      <td>...</td>\n",
       "      <td>...</td>\n",
       "      <td>...</td>\n",
       "      <td>...</td>\n",
       "      <td>...</td>\n",
       "      <td>...</td>\n",
       "      <td>...</td>\n",
       "      <td>...</td>\n",
       "    </tr>\n",
       "    <tr>\n",
       "      <th>37926</th>\n",
       "      <td>/kaggle/working/dataset/cropped_xy_256_128_z_6...</td>\n",
       "      <td>/kaggle/working/dataset/cropped_xy_256_128_z_6...</td>\n",
       "      <td>x256_y896_z972_std0228_sum3897</td>\n",
       "      <td>kidney_3_sparse</td>\n",
       "      <td>256</td>\n",
       "      <td>896</td>\n",
       "      <td>972</td>\n",
       "      <td>228</td>\n",
       "      <td>3897</td>\n",
       "      <td></td>\n",
       "      <td>train</td>\n",
       "    </tr>\n",
       "    <tr>\n",
       "      <th>37927</th>\n",
       "      <td>/kaggle/working/dataset/cropped_xy_256_128_z_6...</td>\n",
       "      <td>/kaggle/working/dataset/cropped_xy_256_128_z_6...</td>\n",
       "      <td>x256_y896_z978_std0223_sum5084</td>\n",
       "      <td>kidney_3_sparse</td>\n",
       "      <td>256</td>\n",
       "      <td>896</td>\n",
       "      <td>978</td>\n",
       "      <td>223</td>\n",
       "      <td>5084</td>\n",
       "      <td></td>\n",
       "      <td>train</td>\n",
       "    </tr>\n",
       "    <tr>\n",
       "      <th>37928</th>\n",
       "      <td>/kaggle/working/dataset/cropped_xy_256_128_z_6...</td>\n",
       "      <td>/kaggle/working/dataset/cropped_xy_256_128_z_6...</td>\n",
       "      <td>x256_y896_z984_std0223_sum6730</td>\n",
       "      <td>kidney_3_sparse</td>\n",
       "      <td>256</td>\n",
       "      <td>896</td>\n",
       "      <td>984</td>\n",
       "      <td>223</td>\n",
       "      <td>6730</td>\n",
       "      <td></td>\n",
       "      <td>train</td>\n",
       "    </tr>\n",
       "    <tr>\n",
       "      <th>37929</th>\n",
       "      <td>/kaggle/working/dataset/cropped_xy_256_128_z_6...</td>\n",
       "      <td>/kaggle/working/dataset/cropped_xy_256_128_z_6...</td>\n",
       "      <td>x256_y896_z990_std0227_sum7998</td>\n",
       "      <td>kidney_3_sparse</td>\n",
       "      <td>256</td>\n",
       "      <td>896</td>\n",
       "      <td>990</td>\n",
       "      <td>227</td>\n",
       "      <td>7998</td>\n",
       "      <td></td>\n",
       "      <td>train</td>\n",
       "    </tr>\n",
       "    <tr>\n",
       "      <th>37930</th>\n",
       "      <td>/kaggle/working/dataset/cropped_xy_256_128_z_6...</td>\n",
       "      <td>/kaggle/working/dataset/cropped_xy_256_128_z_6...</td>\n",
       "      <td>x256_y896_z996_std0234_sum7410</td>\n",
       "      <td>kidney_3_sparse</td>\n",
       "      <td>256</td>\n",
       "      <td>896</td>\n",
       "      <td>996</td>\n",
       "      <td>234</td>\n",
       "      <td>7410</td>\n",
       "      <td></td>\n",
       "      <td>train</td>\n",
       "    </tr>\n",
       "  </tbody>\n",
       "</table>\n",
       "<p>37931 rows × 11 columns</p>\n",
       "</div>"
      ],
      "text/plain": [
       "                                              image_path  \\\n",
       "0      /kaggle/working/dataset/cropped_xy_256_128_z_6...   \n",
       "1      /kaggle/working/dataset/cropped_xy_256_128_z_6...   \n",
       "2      /kaggle/working/dataset/cropped_xy_256_128_z_6...   \n",
       "3      /kaggle/working/dataset/cropped_xy_256_128_z_6...   \n",
       "4      /kaggle/working/dataset/cropped_xy_256_128_z_6...   \n",
       "...                                                  ...   \n",
       "37926  /kaggle/working/dataset/cropped_xy_256_128_z_6...   \n",
       "37927  /kaggle/working/dataset/cropped_xy_256_128_z_6...   \n",
       "37928  /kaggle/working/dataset/cropped_xy_256_128_z_6...   \n",
       "37929  /kaggle/working/dataset/cropped_xy_256_128_z_6...   \n",
       "37930  /kaggle/working/dataset/cropped_xy_256_128_z_6...   \n",
       "\n",
       "                                              label_path  \\\n",
       "0      /kaggle/working/dataset/cropped_xy_256_128_z_6...   \n",
       "1      /kaggle/working/dataset/cropped_xy_256_128_z_6...   \n",
       "2      /kaggle/working/dataset/cropped_xy_256_128_z_6...   \n",
       "3      /kaggle/working/dataset/cropped_xy_256_128_z_6...   \n",
       "4      /kaggle/working/dataset/cropped_xy_256_128_z_6...   \n",
       "...                                                  ...   \n",
       "37926  /kaggle/working/dataset/cropped_xy_256_128_z_6...   \n",
       "37927  /kaggle/working/dataset/cropped_xy_256_128_z_6...   \n",
       "37928  /kaggle/working/dataset/cropped_xy_256_128_z_6...   \n",
       "37929  /kaggle/working/dataset/cropped_xy_256_128_z_6...   \n",
       "37930  /kaggle/working/dataset/cropped_xy_256_128_z_6...   \n",
       "\n",
       "                                fname           kidney    x    y    z  std  \\\n",
       "0              x0_y0_z12_std0040_sum0   kidney_1_dense    0    0   12   40   \n",
       "1             x0_y0_z150_std0033_sum0   kidney_1_dense    0    0  150   33   \n",
       "2             x0_y0_z252_std0036_sum0   kidney_1_dense    0    0  252   36   \n",
       "3             x0_y0_z270_std0036_sum0   kidney_1_dense    0    0  270   36   \n",
       "4             x0_y0_z300_std0037_sum0   kidney_1_dense    0    0  300   37   \n",
       "...                               ...              ...  ...  ...  ...  ...   \n",
       "37926  x256_y896_z972_std0228_sum3897  kidney_3_sparse  256  896  972  228   \n",
       "37927  x256_y896_z978_std0223_sum5084  kidney_3_sparse  256  896  978  223   \n",
       "37928  x256_y896_z984_std0223_sum6730  kidney_3_sparse  256  896  984  223   \n",
       "37929  x256_y896_z990_std0227_sum7998  kidney_3_sparse  256  896  990  227   \n",
       "37930  x256_y896_z996_std0234_sum7410  kidney_3_sparse  256  896  996  234   \n",
       "\n",
       "        sum  fold0  fold1  \n",
       "0         0  train  valid  \n",
       "1         0  train  valid  \n",
       "2         0  train  valid  \n",
       "3         0  train  valid  \n",
       "4         0  train  valid  \n",
       "...     ...    ...    ...  \n",
       "37926  3897         train  \n",
       "37927  5084         train  \n",
       "37928  6730         train  \n",
       "37929  7998         train  \n",
       "37930  7410         train  \n",
       "\n",
       "[37931 rows x 11 columns]"
      ]
     },
     "metadata": {},
     "output_type": "display_data"
    }
   ],
   "source": [
    "def filter_dataset(df):\n",
    "    # labelが全くないものは90%の確率で除外\n",
    "    df[\"random\"] = np.random.rand(len(df))\n",
    "    df = df[(df[\"sum\"] > 0) | (df[\"random\"] < 0.1)]\n",
    "    df = df.reset_index(drop=True)\n",
    "    df = df.drop([\"random\"], axis=1)\n",
    "    return df\n",
    "\n",
    "\n",
    "df = df_dataset(cfg)\n",
    "df = filter_dataset(df)\n",
    "# df = df.sample(1000).reset_index(drop=True)\n",
    "if cfg.debug:\n",
    "    df = df.sample(10000).reset_index(drop=True)\n",
    "display(df)\n",
    "\n",
    "if cfg.check_dataset:\n",
    "    check_dataset(df, cfg)"
   ]
  },
  {
   "cell_type": "code",
   "execution_count": 4,
   "metadata": {
    "execution": {
     "iopub.execute_input": "2024-01-02T05:47:53.603032Z",
     "iopub.status.busy": "2024-01-02T05:47:53.602713Z",
     "iopub.status.idle": "2024-01-02T07:44:36.129618Z",
     "shell.execute_reply": "2024-01-02T07:44:36.127560Z"
    }
   },
   "outputs": [
    {
     "name": "stdout",
     "output_type": "stream",
     "text": [
      "model_arch:  Unet\n",
      "backbone:  efficientnet-b0\n"
     ]
    },
    {
     "name": "stderr",
     "output_type": "stream",
     "text": [
      "\u001b[34m\u001b[1mwandb\u001b[0m: Currently logged in as: \u001b[33mwelshonionman\u001b[0m. Use \u001b[1m`wandb login --relogin`\u001b[0m to force relogin\n",
      "\u001b[34m\u001b[1mwandb\u001b[0m: Tracking run with wandb version 0.16.1\n",
      "\u001b[34m\u001b[1mwandb\u001b[0m: Run data is saved locally in \u001b[35m\u001b[1m/kaggle/wandb/run-20240102_054802-rfj1cigx\u001b[0m\n",
      "\u001b[34m\u001b[1mwandb\u001b[0m: Run \u001b[1m`wandb offline`\u001b[0m to turn off syncing.\n",
      "\u001b[34m\u001b[1mwandb\u001b[0m: Syncing run \u001b[33mexp005_fold0\u001b[0m\n",
      "\u001b[34m\u001b[1mwandb\u001b[0m: ⭐️ View project at \u001b[34m\u001b[4mhttps://wandb.ai/welshonionman/SenNet\u001b[0m\n",
      "\u001b[34m\u001b[1mwandb\u001b[0m: 🚀 View run at \u001b[34m\u001b[4mhttps://wandb.ai/welshonionman/SenNet/runs/rfj1cigx\u001b[0m\n",
      "Epoch 0/20  Mem : 14.7GB  LR : 1.00E-04  Loss: 0.9270: 100%|██████████| 237/237 [01:53<00:00,  2.09it/s]\n",
      "Val Loss: 0.9387: 100%|██████████| 30/30 [00:18<00:00,  1.60it/s]                                                                                                                                                                                                                                      \n"
     ]
    },
    {
     "name": "stdout",
     "output_type": "stream",
     "text": [
      "loss : 0.9387\tSAVED MODEL\n",
      "\n"
     ]
    },
    {
     "name": "stderr",
     "output_type": "stream",
     "text": [
      "Epoch 1/20  Mem : 19GB  LR : 1.00E-03  Loss: 0.2053: 100%|██████████| 237/237 [01:42<00:00,  2.31it/s]\n",
      "Val Loss: 0.2644: 100%|██████████| 30/30 [00:19<00:00,  1.57it/s]                                                                                                                                                                                                                                      \n"
     ]
    },
    {
     "name": "stdout",
     "output_type": "stream",
     "text": [
      "loss : 0.2644\tSAVED MODEL\n",
      "\n"
     ]
    },
    {
     "name": "stderr",
     "output_type": "stream",
     "text": [
      "Epoch 2/20  Mem : 19GB  LR : 1.00E-04  Loss: 0.0921: 100%|██████████| 237/237 [01:43<00:00,  2.28it/s]\n",
      "Val Loss: 0.1459: 100%|██████████| 30/30 [00:18<00:00,  1.59it/s]                                                                                                                                                                                                                                      \n"
     ]
    },
    {
     "name": "stdout",
     "output_type": "stream",
     "text": [
      "loss : 0.1459\tSAVED MODEL\n",
      "\n"
     ]
    },
    {
     "name": "stderr",
     "output_type": "stream",
     "text": [
      "Epoch 3/20  Mem : 19GB  LR : 9.94E-05  Loss: 0.0881: 100%|██████████| 237/237 [01:43<00:00,  2.30it/s]\n",
      "Val Loss: 0.1365: 100%|██████████| 30/30 [00:19<00:00,  1.56it/s]                                                                                                                                                                                                                                      \n"
     ]
    },
    {
     "name": "stdout",
     "output_type": "stream",
     "text": [
      "loss : 0.1365\tSAVED MODEL\n",
      "\n"
     ]
    },
    {
     "name": "stderr",
     "output_type": "stream",
     "text": [
      "Epoch 4/20  Mem : 19GB  LR : 9.76E-05  Loss: 0.0837: 100%|██████████| 237/237 [01:43<00:00,  2.30it/s]\n",
      "Val Loss: 0.1357: 100%|██████████| 30/30 [00:18<00:00,  1.62it/s]                                                                                                                                                                                                                                      \n"
     ]
    },
    {
     "name": "stdout",
     "output_type": "stream",
     "text": [
      "loss : 0.1357\tSAVED MODEL\n",
      "\n"
     ]
    },
    {
     "name": "stderr",
     "output_type": "stream",
     "text": [
      "Epoch 5/20  Mem : 19GB  LR : 9.46E-05  Loss: 0.0805: 100%|██████████| 237/237 [01:43<00:00,  2.29it/s]\n",
      "Val Loss: 0.1318: 100%|██████████| 30/30 [00:18<00:00,  1.61it/s]                                                                                                                                                                                                                                      \n"
     ]
    },
    {
     "name": "stdout",
     "output_type": "stream",
     "text": [
      "loss : 0.1318\tSAVED MODEL\n",
      "\n"
     ]
    },
    {
     "name": "stderr",
     "output_type": "stream",
     "text": [
      "Epoch 6/20  Mem : 19GB  LR : 9.05E-05  Loss: 0.0785: 100%|██████████| 237/237 [01:42<00:00,  2.31it/s]\n",
      "Val Loss: 0.1270: 100%|██████████| 30/30 [00:18<00:00,  1.58it/s]                                                                                                                                                                                                                                      \n"
     ]
    },
    {
     "name": "stdout",
     "output_type": "stream",
     "text": [
      "loss : 0.1270\tSAVED MODEL\n",
      "\n"
     ]
    },
    {
     "name": "stderr",
     "output_type": "stream",
     "text": [
      "Epoch 7/20  Mem : 19GB  LR : 8.54E-05  Loss: 0.0756: 100%|██████████| 237/237 [01:43<00:00,  2.29it/s]\n",
      "Val Loss: 0.1249: 100%|██████████| 30/30 [00:18<00:00,  1.64it/s]                                                                                                                                                                                                                                      \n"
     ]
    },
    {
     "name": "stdout",
     "output_type": "stream",
     "text": [
      "loss : 0.1249\tSAVED MODEL\n",
      "\n"
     ]
    },
    {
     "name": "stderr",
     "output_type": "stream",
     "text": [
      "Epoch 8/20  Mem : 19GB  LR : 7.94E-05  Loss: 0.0736: 100%|██████████| 237/237 [01:44<00:00,  2.28it/s]\n",
      "Val Loss: 0.1171: 100%|██████████| 30/30 [00:18<00:00,  1.62it/s]                                                                                                                                                                                                                                      \n"
     ]
    },
    {
     "name": "stdout",
     "output_type": "stream",
     "text": [
      "loss : 0.1171\tSAVED MODEL\n",
      "\n"
     ]
    },
    {
     "name": "stderr",
     "output_type": "stream",
     "text": [
      "Epoch 9/20  Mem : 19GB  LR : 7.27E-05  Loss: 0.0713: 100%|██████████| 237/237 [01:44<00:00,  2.27it/s]\n",
      "Val Loss: 0.1201: 100%|██████████| 30/30 [00:18<00:00,  1.60it/s]                                                                                                                                                                                                                                      \n"
     ]
    },
    {
     "name": "stdout",
     "output_type": "stream",
     "text": [
      "loss : 0.1201\n",
      "\n"
     ]
    },
    {
     "name": "stderr",
     "output_type": "stream",
     "text": [
      "Epoch 10/20  Mem : 19GB  LR : 6.55E-05  Loss: 0.0700: 100%|██████████| 237/237 [01:43<00:00,  2.29it/s]\n",
      "Val Loss: 0.1168: 100%|██████████| 30/30 [00:19<00:00,  1.57it/s]                                                                                                                                                                                                                                      \n"
     ]
    },
    {
     "name": "stdout",
     "output_type": "stream",
     "text": [
      "loss : 0.1168\tSAVED MODEL\n",
      "\n"
     ]
    },
    {
     "name": "stderr",
     "output_type": "stream",
     "text": [
      "Epoch 11/20  Mem : 19GB  LR : 5.79E-05  Loss: 0.0685: 100%|██████████| 237/237 [01:43<00:00,  2.29it/s]\n",
      "Val Loss: 0.1190: 100%|██████████| 30/30 [00:18<00:00,  1.62it/s]                                                                                                                                                                                                                                      \n"
     ]
    },
    {
     "name": "stdout",
     "output_type": "stream",
     "text": [
      "loss : 0.1190\n",
      "\n"
     ]
    },
    {
     "name": "stderr",
     "output_type": "stream",
     "text": [
      "Epoch 12/20  Mem : 19GB  LR : 5.01E-05  Loss: 0.0675: 100%|██████████| 237/237 [01:43<00:00,  2.29it/s]\n",
      "Val Loss: 0.1157: 100%|██████████| 30/30 [00:18<00:00,  1.61it/s]                                                                                                                                                                                                                                      \n"
     ]
    },
    {
     "name": "stdout",
     "output_type": "stream",
     "text": [
      "loss : 0.1157\tSAVED MODEL\n",
      "\n"
     ]
    },
    {
     "name": "stderr",
     "output_type": "stream",
     "text": [
      "Epoch 13/20  Mem : 19GB  LR : 4.22E-05  Loss: 0.0665: 100%|██████████| 237/237 [01:44<00:00,  2.26it/s]\n",
      "Val Loss: 0.1197: 100%|██████████| 30/30 [00:18<00:00,  1.66it/s]                                                                                                                                                                                                                                      \n"
     ]
    },
    {
     "name": "stdout",
     "output_type": "stream",
     "text": [
      "loss : 0.1197\n",
      "\n"
     ]
    },
    {
     "name": "stderr",
     "output_type": "stream",
     "text": [
      "Epoch 14/20  Mem : 19GB  LR : 3.46E-05  Loss: 0.0663: 100%|██████████| 237/237 [01:43<00:00,  2.29it/s]\n",
      "Val Loss: 0.1159: 100%|██████████| 30/30 [00:18<00:00,  1.61it/s]                                                                                                                                                                                                                                      \n"
     ]
    },
    {
     "name": "stdout",
     "output_type": "stream",
     "text": [
      "loss : 0.1159\n",
      "\n"
     ]
    },
    {
     "name": "stderr",
     "output_type": "stream",
     "text": [
      "Epoch 15/20  Mem : 19GB  LR : 2.74E-05  Loss: 0.0660: 100%|██████████| 237/237 [01:44<00:00,  2.26it/s]\n",
      "Val Loss: 0.1244: 100%|██████████| 30/30 [00:18<00:00,  1.62it/s]                                                                                                                                                                                                                                      \n"
     ]
    },
    {
     "name": "stdout",
     "output_type": "stream",
     "text": [
      "loss : 0.1244\n",
      "\n"
     ]
    },
    {
     "name": "stderr",
     "output_type": "stream",
     "text": [
      "Epoch 16/20  Mem : 19GB  LR : 2.07E-05  Loss: 0.0648: 100%|██████████| 237/237 [01:43<00:00,  2.29it/s]\n",
      "Val Loss: 0.1196: 100%|██████████| 30/30 [00:18<00:00,  1.63it/s]                                                                                                                                                                                                                                      \n"
     ]
    },
    {
     "name": "stdout",
     "output_type": "stream",
     "text": [
      "loss : 0.1196\n",
      "\n"
     ]
    },
    {
     "name": "stderr",
     "output_type": "stream",
     "text": [
      "Epoch 17/20  Mem : 19GB  LR : 1.47E-05  Loss: 0.0639: 100%|██████████| 237/237 [01:43<00:00,  2.29it/s]\n",
      "Val Loss: 0.1200: 100%|██████████| 30/30 [00:18<00:00,  1.61it/s]                                                                                                                                                                                                                                      \n"
     ]
    },
    {
     "name": "stdout",
     "output_type": "stream",
     "text": [
      "loss : 0.1200\n",
      "\n"
     ]
    },
    {
     "name": "stderr",
     "output_type": "stream",
     "text": [
      "Epoch 18/20  Mem : 19GB  LR : 9.64E-06  Loss: 0.0642: 100%|██████████| 237/237 [01:43<00:00,  2.30it/s]\n",
      "Val Loss: 0.1210: 100%|██████████| 30/30 [00:18<00:00,  1.63it/s]                                                                                                                                                                                                                                      \n"
     ]
    },
    {
     "name": "stdout",
     "output_type": "stream",
     "text": [
      "loss : 0.1210\n",
      "\n"
     ]
    },
    {
     "name": "stderr",
     "output_type": "stream",
     "text": [
      "Epoch 19/20  Mem : 19GB  LR : 5.54E-06  Loss: 0.0637: 100%|██████████| 237/237 [01:43<00:00,  2.30it/s]\n",
      "Val Loss: 0.1209: 100%|██████████| 30/30 [00:18<00:00,  1.63it/s]                                                                                                                                                                                                                                      \n"
     ]
    },
    {
     "name": "stdout",
     "output_type": "stream",
     "text": [
      "loss : 0.1209\n",
      "\n"
     ]
    },
    {
     "name": "stderr",
     "output_type": "stream",
     "text": [
      "100%|██████████████████████████████████████████████████████████████████████████████████████████████████████████████████████████████████████████████████████████████████████████████████████████████████████████████████████████████████████████████████████████████████| 25/25 [02:19<00:00,  5.59s/it]\n",
      "Val Loss: 0.1157: 100%|██████████| 30/30 [00:18<00:00,  1.63it/s]                                                                                                                                                                                                                                      \n",
      "100%|██████████████████████████████████████████████████████████████████████████████████████████████████████████████████████████████████████████████████████████████████████████████████████████████████████████████████████████████████████████████████████████████████| 25/25 [02:20<00:00,  5.60s/it]\n",
      "\u001b[34m\u001b[1mwandb\u001b[0m:                                                                                \n",
      "\u001b[34m\u001b[1mwandb\u001b[0m: \n",
      "\u001b[34m\u001b[1mwandb\u001b[0m: Run history:\n",
      "\u001b[34m\u001b[1mwandb\u001b[0m:      epoch ▁▁▁▁▂▂▂▂▂▂▃▃▃▃▄▄▄▄▄▄▅▅▅▅▅▅▆▆▆▆▇▇▇▇▇▇████\n",
      "\u001b[34m\u001b[1mwandb\u001b[0m: train_loss █▁▁▁▁▁▁▁▁▁▁▁▁▁▁▁▁▁▁▁\n",
      "\u001b[34m\u001b[1mwandb\u001b[0m: valid_loss █▂▁▁▁▁▁▁▁▁▁▁▁▁▁▁▁▁▁▁\n",
      "\u001b[34m\u001b[1mwandb\u001b[0m: \n",
      "\u001b[34m\u001b[1mwandb\u001b[0m: Run summary:\n",
      "\u001b[34m\u001b[1mwandb\u001b[0m:      epoch 19\n",
      "\u001b[34m\u001b[1mwandb\u001b[0m: train_loss 0.05952\n",
      "\u001b[34m\u001b[1mwandb\u001b[0m: valid_loss 0.12089\n",
      "\u001b[34m\u001b[1mwandb\u001b[0m: \n",
      "\u001b[34m\u001b[1mwandb\u001b[0m: 🚀 View run \u001b[33mexp005_fold0\u001b[0m at: \u001b[34m\u001b[4mhttps://wandb.ai/welshonionman/SenNet/runs/rfj1cigx\u001b[0m\n",
      "\u001b[34m\u001b[1mwandb\u001b[0m: Synced 5 W&B file(s), 0 media file(s), 0 artifact file(s) and 0 other file(s)\n",
      "\u001b[34m\u001b[1mwandb\u001b[0m: Find logs at: \u001b[35m\u001b[1m/kaggle/wandb/run-20240102_054802-rfj1cigx/logs\u001b[0m\n"
     ]
    },
    {
     "name": "stdout",
     "output_type": "stream",
     "text": [
      "model_arch:  Unet\n",
      "backbone:  efficientnet-b0\n"
     ]
    },
    {
     "name": "stderr",
     "output_type": "stream",
     "text": [
      "\u001b[34m\u001b[1mwandb\u001b[0m: Tracking run with wandb version 0.16.1\n",
      "\u001b[34m\u001b[1mwandb\u001b[0m: Run data is saved locally in \u001b[35m\u001b[1m/kaggle/wandb/run-20240102_063459-05aak069\u001b[0m\n",
      "\u001b[34m\u001b[1mwandb\u001b[0m: Run \u001b[1m`wandb offline`\u001b[0m to turn off syncing.\n",
      "\u001b[34m\u001b[1mwandb\u001b[0m: Syncing run \u001b[33mexp005_fold1\u001b[0m\n",
      "\u001b[34m\u001b[1mwandb\u001b[0m: ⭐️ View project at \u001b[34m\u001b[4mhttps://wandb.ai/welshonionman/SenNet\u001b[0m\n",
      "\u001b[34m\u001b[1mwandb\u001b[0m: 🚀 View run at \u001b[34m\u001b[4mhttps://wandb.ai/welshonionman/SenNet/runs/05aak069\u001b[0m\n",
      "Epoch 0/20  Mem : 19GB  LR : 1.00E-04  Loss: 0.9578: 100%|██████████| 189/189 [01:27<00:00,  2.17it/s]\n",
      "Val Loss: 0.9647: 100%|██████████| 109/109 [00:56<00:00,  1.94it/s]                                                                                                                                                                                                                                    \n"
     ]
    },
    {
     "name": "stdout",
     "output_type": "stream",
     "text": [
      "loss : 0.9647\tSAVED MODEL\n",
      "\n"
     ]
    },
    {
     "name": "stderr",
     "output_type": "stream",
     "text": [
      "Epoch 1/20  Mem : 19GB  LR : 1.00E-03  Loss: 0.2399: 100%|██████████| 189/189 [01:26<00:00,  2.20it/s]\n",
      "Val Loss: 0.8485: 100%|██████████| 109/109 [01:18<00:00,  1.38it/s]                                                                                                                                                                                                                                    \n"
     ]
    },
    {
     "name": "stdout",
     "output_type": "stream",
     "text": [
      "loss : 0.8485\tSAVED MODEL\n",
      "\n"
     ]
    },
    {
     "name": "stderr",
     "output_type": "stream",
     "text": [
      "Epoch 2/20  Mem : 19GB  LR : 1.00E-04  Loss: 0.1296: 100%|██████████| 189/189 [01:27<00:00,  2.16it/s]\n",
      "Val Loss: 0.5117: 100%|██████████| 109/109 [01:07<00:00,  1.63it/s]                                                                                                                                                                                                                                    \n"
     ]
    },
    {
     "name": "stdout",
     "output_type": "stream",
     "text": [
      "loss : 0.5117\tSAVED MODEL\n",
      "\n"
     ]
    },
    {
     "name": "stderr",
     "output_type": "stream",
     "text": [
      "Epoch 3/20  Mem : 19GB  LR : 9.94E-05  Loss: 0.1203: 100%|██████████| 189/189 [01:25<00:00,  2.21it/s]\n",
      "Val Loss: 0.4022: 100%|██████████| 109/109 [00:58<00:00,  1.86it/s]                                                                                                                                                                                                                                    \n"
     ]
    },
    {
     "name": "stdout",
     "output_type": "stream",
     "text": [
      "loss : 0.4022\tSAVED MODEL\n",
      "\n"
     ]
    },
    {
     "name": "stderr",
     "output_type": "stream",
     "text": [
      "Epoch 4/20  Mem : 19GB  LR : 9.76E-05  Loss: 0.1031: 100%|██████████| 189/189 [01:25<00:00,  2.22it/s]\n",
      "Val Loss: 0.3461: 100%|██████████| 109/109 [01:25<00:00,  1.28it/s]                                                                                                                                                                                                                                    \n"
     ]
    },
    {
     "name": "stdout",
     "output_type": "stream",
     "text": [
      "loss : 0.3461\tSAVED MODEL\n",
      "\n"
     ]
    },
    {
     "name": "stderr",
     "output_type": "stream",
     "text": [
      "Epoch 5/20  Mem : 19GB  LR : 9.46E-05  Loss: 0.0902: 100%|██████████| 189/189 [01:26<00:00,  2.18it/s]\n",
      "Val Loss: 0.3425: 100%|██████████| 109/109 [01:02<00:00,  1.73it/s]                                                                                                                                                                                                                                    \n"
     ]
    },
    {
     "name": "stdout",
     "output_type": "stream",
     "text": [
      "loss : 0.3425\tSAVED MODEL\n",
      "\n"
     ]
    },
    {
     "name": "stderr",
     "output_type": "stream",
     "text": [
      "Epoch 6/20  Mem : 19GB  LR : 9.05E-05  Loss: 0.0840: 100%|██████████| 189/189 [01:25<00:00,  2.21it/s]\n",
      "Val Loss: 0.3188: 100%|██████████| 109/109 [01:02<00:00,  1.75it/s]                                                                                                                                                                                                                                    \n"
     ]
    },
    {
     "name": "stdout",
     "output_type": "stream",
     "text": [
      "loss : 0.3188\tSAVED MODEL\n",
      "\n"
     ]
    },
    {
     "name": "stderr",
     "output_type": "stream",
     "text": [
      "Epoch 7/20  Mem : 19GB  LR : 8.54E-05  Loss: 0.0796: 100%|██████████| 189/189 [01:24<00:00,  2.23it/s]\n",
      "Val Loss: 0.3218: 100%|██████████| 109/109 [01:02<00:00,  1.75it/s]                                                                                                                                                                                                                                    \n"
     ]
    },
    {
     "name": "stdout",
     "output_type": "stream",
     "text": [
      "loss : 0.3218\n",
      "\n"
     ]
    },
    {
     "name": "stderr",
     "output_type": "stream",
     "text": [
      "Epoch 8/20  Mem : 19GB  LR : 7.94E-05  Loss: 0.0757: 100%|██████████| 189/189 [01:24<00:00,  2.24it/s]\n",
      "Val Loss: 0.3116: 100%|██████████| 109/109 [01:07<00:00,  1.61it/s]                                                                                                                                                                                                                                    \n"
     ]
    },
    {
     "name": "stdout",
     "output_type": "stream",
     "text": [
      "loss : 0.3116\tSAVED MODEL\n",
      "\n"
     ]
    },
    {
     "name": "stderr",
     "output_type": "stream",
     "text": [
      "Epoch 9/20  Mem : 19GB  LR : 7.27E-05  Loss: 0.0727: 100%|██████████| 189/189 [01:25<00:00,  2.22it/s]\n",
      "Val Loss: 0.3030: 100%|██████████| 109/109 [00:58<00:00,  1.86it/s]                                                                                                                                                                                                                                    \n"
     ]
    },
    {
     "name": "stdout",
     "output_type": "stream",
     "text": [
      "loss : 0.3030\tSAVED MODEL\n",
      "\n"
     ]
    },
    {
     "name": "stderr",
     "output_type": "stream",
     "text": [
      "Epoch 10/20  Mem : 19GB  LR : 6.55E-05  Loss: 0.0709: 100%|██████████| 189/189 [01:25<00:00,  2.21it/s]\n",
      "Val Loss: 0.3115: 100%|██████████| 109/109 [01:12<00:00,  1.49it/s]                                                                                                                                                                                                                                    \n"
     ]
    },
    {
     "name": "stdout",
     "output_type": "stream",
     "text": [
      "loss : 0.3115\n",
      "\n"
     ]
    },
    {
     "name": "stderr",
     "output_type": "stream",
     "text": [
      "Epoch 11/20  Mem : 19GB  LR : 5.79E-05  Loss: 0.0688: 100%|██████████| 189/189 [01:25<00:00,  2.21it/s]\n",
      "Val Loss: 0.3027: 100%|██████████| 109/109 [00:56<00:00,  1.93it/s]                                                                                                                                                                                                                                    \n"
     ]
    },
    {
     "name": "stdout",
     "output_type": "stream",
     "text": [
      "loss : 0.3027\tSAVED MODEL\n",
      "\n"
     ]
    },
    {
     "name": "stderr",
     "output_type": "stream",
     "text": [
      "Epoch 12/20  Mem : 19GB  LR : 5.01E-05  Loss: 0.0682: 100%|██████████| 189/189 [01:26<00:00,  2.18it/s]\n",
      "Val Loss: 0.2978: 100%|██████████| 109/109 [01:05<00:00,  1.65it/s]                                                                                                                                                                                                                                    \n"
     ]
    },
    {
     "name": "stdout",
     "output_type": "stream",
     "text": [
      "loss : 0.2978\tSAVED MODEL\n",
      "\n"
     ]
    },
    {
     "name": "stderr",
     "output_type": "stream",
     "text": [
      "Epoch 13/20  Mem : 19GB  LR : 4.22E-05  Loss: 0.0672: 100%|██████████| 189/189 [01:24<00:00,  2.23it/s]\n",
      "Val Loss: 0.2994: 100%|██████████| 109/109 [00:57<00:00,  1.89it/s]                                                                                                                                                                                                                                    \n"
     ]
    },
    {
     "name": "stdout",
     "output_type": "stream",
     "text": [
      "loss : 0.2994\n",
      "\n"
     ]
    },
    {
     "name": "stderr",
     "output_type": "stream",
     "text": [
      "Epoch 14/20  Mem : 19GB  LR : 3.46E-05  Loss: 0.0663: 100%|██████████| 189/189 [01:25<00:00,  2.22it/s]\n",
      "Val Loss: 0.2986: 100%|██████████| 109/109 [01:06<00:00,  1.63it/s]                                                                                                                                                                                                                                    \n"
     ]
    },
    {
     "name": "stdout",
     "output_type": "stream",
     "text": [
      "loss : 0.2986\n",
      "\n"
     ]
    },
    {
     "name": "stderr",
     "output_type": "stream",
     "text": [
      "Epoch 15/20  Mem : 19GB  LR : 2.74E-05  Loss: 0.0653: 100%|██████████| 189/189 [01:25<00:00,  2.20it/s]\n",
      "Val Loss: 0.3005: 100%|██████████| 109/109 [00:56<00:00,  1.92it/s]                                                                                                                                                                                                                                    \n"
     ]
    },
    {
     "name": "stdout",
     "output_type": "stream",
     "text": [
      "loss : 0.3005\n",
      "\n"
     ]
    },
    {
     "name": "stderr",
     "output_type": "stream",
     "text": [
      "Epoch 16/20  Mem : 19GB  LR : 2.07E-05  Loss: 0.0654: 100%|██████████| 189/189 [01:28<00:00,  2.15it/s]\n",
      "Val Loss: 0.2919: 100%|██████████| 109/109 [00:58<00:00,  1.85it/s]                                                                                                                                                                                                                                    \n"
     ]
    },
    {
     "name": "stdout",
     "output_type": "stream",
     "text": [
      "loss : 0.2919\tSAVED MODEL\n",
      "\n"
     ]
    },
    {
     "name": "stderr",
     "output_type": "stream",
     "text": [
      "Epoch 17/20  Mem : 19GB  LR : 1.47E-05  Loss: 0.0646: 100%|██████████| 189/189 [01:26<00:00,  2.19it/s]\n",
      "Val Loss: 0.2946: 100%|██████████| 109/109 [00:59<00:00,  1.83it/s]                                                                                                                                                                                                                                    \n"
     ]
    },
    {
     "name": "stdout",
     "output_type": "stream",
     "text": [
      "loss : 0.2946\n",
      "\n"
     ]
    },
    {
     "name": "stderr",
     "output_type": "stream",
     "text": [
      "Epoch 18/20  Mem : 19GB  LR : 9.64E-06  Loss: 0.0645: 100%|██████████| 189/189 [01:25<00:00,  2.20it/s]\n",
      "Val Loss: 0.2937: 100%|██████████| 109/109 [01:02<00:00,  1.75it/s]                                                                                                                                                                                                                                    \n"
     ]
    },
    {
     "name": "stdout",
     "output_type": "stream",
     "text": [
      "loss : 0.2937\n",
      "\n"
     ]
    },
    {
     "name": "stderr",
     "output_type": "stream",
     "text": [
      "Epoch 19/20  Mem : 19GB  LR : 5.54E-06  Loss: 0.0641: 100%|██████████| 189/189 [01:24<00:00,  2.23it/s]\n",
      "Val Loss: 0.2908: 100%|██████████| 109/109 [00:57<00:00,  1.90it/s]                                                                                                                                                                                                                                    \n"
     ]
    },
    {
     "name": "stdout",
     "output_type": "stream",
     "text": [
      "loss : 0.2908\tSAVED MODEL\n",
      "\n"
     ]
    },
    {
     "name": "stderr",
     "output_type": "stream",
     "text": [
      "100%|██████████████████████████████████████████████████████████████████████████████████████████████████████████████████████████████████████████████████████████████████████████████████████████████████████████████████████████████████████████████████████████████████| 25/25 [08:24<00:00, 20.19s/it]\n",
      "Val Loss: 0.2908: 100%|██████████| 109/109 [01:02<00:00,  1.74it/s]                                                                                                                                                                                                                                    \n",
      "100%|██████████████████████████████████████████████████████████████████████████████████████████████████████████████████████████████████████████████████████████████████████████████████████████████████████████████████████████████████████████████████████████████████| 25/25 [08:25<00:00, 20.24s/it]\n",
      "\u001b[34m\u001b[1mwandb\u001b[0m:                                                                                \n",
      "\u001b[34m\u001b[1mwandb\u001b[0m: \n",
      "\u001b[34m\u001b[1mwandb\u001b[0m: Run history:\n",
      "\u001b[34m\u001b[1mwandb\u001b[0m:      epoch ▁▁▁▁▂▂▂▂▂▂▃▃▃▃▄▄▄▄▄▄▅▅▅▅▅▅▆▆▆▆▇▇▇▇▇▇████\n",
      "\u001b[34m\u001b[1mwandb\u001b[0m: train_loss █▁▂▂▂▁▁▁▁▁▁▁▁▁▁▁▁▁▁▁\n",
      "\u001b[34m\u001b[1mwandb\u001b[0m: valid_loss █▇▃▂▂▂▁▁▁▁▁▁▁▁▁▁▁▁▁▁\n",
      "\u001b[34m\u001b[1mwandb\u001b[0m: \n",
      "\u001b[34m\u001b[1mwandb\u001b[0m: Run summary:\n",
      "\u001b[34m\u001b[1mwandb\u001b[0m:      epoch 19\n",
      "\u001b[34m\u001b[1mwandb\u001b[0m: train_loss 0.08818\n",
      "\u001b[34m\u001b[1mwandb\u001b[0m: valid_loss 0.29078\n",
      "\u001b[34m\u001b[1mwandb\u001b[0m: \n",
      "\u001b[34m\u001b[1mwandb\u001b[0m: 🚀 View run \u001b[33mexp005_fold1\u001b[0m at: \u001b[34m\u001b[4mhttps://wandb.ai/welshonionman/SenNet/runs/05aak069\u001b[0m\n",
      "\u001b[34m\u001b[1mwandb\u001b[0m: Synced 5 W&B file(s), 0 media file(s), 0 artifact file(s) and 0 other file(s)\n",
      "\u001b[34m\u001b[1mwandb\u001b[0m: Find logs at: \u001b[35m\u001b[1m/kaggle/wandb/run-20240102_063459-05aak069/logs\u001b[0m\n"
     ]
    }
   ],
   "source": [
    "if cfg.debug:\n",
    "    print(\"!!!Debug mode!!!\\n\")\n",
    "    cfg.epochs = 5\n",
    "\n",
    "for fold in range(2):\n",
    "    train_dataloader, valid_dataloader = init_dataset(fold, df, cfg)\n",
    "    model, scaler, criterion, optimizer, scheduler, metrics = init_model(cfg)\n",
    "    slacknotify = init_exp(fold, cfg)\n",
    "\n",
    "    path_best = f\"./{cfg.exp_name}/{cfg.exp_name}_best_fold{fold}.pth\"\n",
    "    path_last = f\"./{cfg.exp_name}/{cfg.exp_name}_last_fold{fold}.pth\"\n",
    "\n",
    "    best_loss = float(\"inf\")\n",
    "    for epoch in range(cfg.epochs):\n",
    "        train(model, train_dataloader, optimizer, criterion, scheduler, scaler, epoch, cfg)\n",
    "        loss, pred_list, true_list = valid(model, valid_dataloader, criterion, epoch, cfg)\n",
    "\n",
    "        if loss < best_loss:\n",
    "            print(f\"loss : {loss:.4f}\\tSAVED MODEL\\n\")\n",
    "            slacknotify.send_reply(f\"epoch : {epoch}\\tscore : {loss:.4f}\\tBEST\")\n",
    "            best_loss = loss\n",
    "            save_model(model, cfg, path_best, loss=loss)\n",
    "        else:\n",
    "            print(f\"loss : {loss:.4f}\\n\")\n",
    "            slacknotify.send_reply(f\"epoch : {epoch}\\tscore : {loss:.4f}\")\n",
    "\n",
    "    last_score, last_thresh = calc_optim_thresh(pred_list, true_list, metrics, cfg)\n",
    "    save_model(model, cfg, path_last, loss=loss, score=last_score, thresh=last_thresh)\n",
    "    wandb.config.update({\"last_score\": last_score, \"last_thresh\": last_thresh})\n",
    "\n",
    "    best_model = load_model(model, path_best)\n",
    "    loss, pred_list, true_list = valid(best_model, valid_dataloader, criterion, epoch, cfg, log=False)\n",
    "\n",
    "    best_score, best_thresh = calc_optim_thresh(pred_list, true_list, metrics, cfg)\n",
    "    save_model(best_model, cfg, path_best, loss=loss, score=best_score, thresh=best_thresh)\n",
    "    wandb.config.update({\"best_score\": best_score, \"best_thresh\": best_thresh})\n",
    "\n",
    "    slacknotify.send_reply(\n",
    "        f\"{cfg.exp_name}_fold{fold} training finished\\nbest score : {best_score:.4f} last score : {last_score:.4f}\",\n",
    "        True,\n",
    "    )\n",
    "\n",
    "    if wandb.run:\n",
    "        wandb.finish()"
   ]
  },
  {
   "cell_type": "code",
   "execution_count": null,
   "metadata": {},
   "outputs": [],
   "source": []
  }
 ],
 "metadata": {
  "kaggle": {
   "accelerator": "nvidiaTeslaT4",
   "dataSources": [
    {
     "databundleVersionId": 6962461,
     "sourceId": 61446,
     "sourceType": "competition"
    },
    {
     "datasetId": 1074109,
     "sourceId": 1807973,
     "sourceType": "datasetVersion"
    },
    {
     "sourceId": 150248402,
     "sourceType": "kernelVersion"
    }
   ],
   "dockerImageVersionId": 30587,
   "isGpuEnabled": true,
   "isInternetEnabled": true,
   "language": "python",
   "sourceType": "notebook"
  },
  "kernelspec": {
   "display_name": "Python 3",
   "language": "python",
   "name": "python3"
  },
  "language_info": {
   "codemirror_mode": {
    "name": "ipython",
    "version": 3
   },
   "file_extension": ".py",
   "mimetype": "text/x-python",
   "name": "python",
   "nbconvert_exporter": "python",
   "pygments_lexer": "ipython3",
   "version": "3.10.13"
  }
 },
 "nbformat": 4,
 "nbformat_minor": 4
}
