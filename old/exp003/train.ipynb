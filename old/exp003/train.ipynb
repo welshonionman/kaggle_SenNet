{
 "cells": [
  {
   "cell_type": "code",
   "execution_count": 1,
   "metadata": {
    "_cell_guid": "b1076dfc-b9ad-4769-8c92-a6c4dae69d19",
    "_kg_hide-input": true,
    "_kg_hide-output": true,
    "_uuid": "8f2839f25d086af736a60e9eeb907d3b93b6e0e5",
    "execution": {
     "iopub.execute_input": "2024-01-01T17:22:36.893625Z",
     "iopub.status.busy": "2024-01-01T17:22:36.892785Z",
     "iopub.status.idle": "2024-01-01T17:22:46.016554Z",
     "shell.execute_reply": "2024-01-01T17:22:46.015859Z"
    }
   },
   "outputs": [],
   "source": [
    "import numpy as np\n",
    "import os\n",
    "\n",
    "import albumentations as A\n",
    "from albumentations.pytorch import ToTensorV2\n",
    "import wandb\n",
    "from dotenv import load_dotenv\n",
    "\n",
    "from src.model.model import save_model, load_model\n",
    "from src.dataset.df import df_dataset, check_dataset\n",
    "from src.utils.common import set_seed\n",
    "from src.utils.optim_thresh import calc_optim_thresh\n",
    "from src.experiment.experiment import train, valid\n",
    "from src.experiment.initialize import init_dataset, init_model, init_exp"
   ]
  },
  {
   "cell_type": "code",
   "execution_count": 2,
   "metadata": {
    "execution": {
     "iopub.execute_input": "2024-01-01T17:22:46.020084Z",
     "iopub.status.busy": "2024-01-01T17:22:46.019586Z",
     "iopub.status.idle": "2024-01-01T17:22:46.033746Z",
     "shell.execute_reply": "2024-01-01T17:22:46.032742Z"
    }
   },
   "outputs": [],
   "source": [
    "class cfg:\n",
    "    debug = False\n",
    "    check_dataset = False\n",
    "\n",
    "    # = data CFG ====================================================\n",
    "\n",
    "    dataset_path = \"/kaggle/working/dataset/cropped_xy_256_128_z_6_6/\"\n",
    "    dataset = \"base2d\"\n",
    "\n",
    "    # = experiment CFG =================================================\n",
    "\n",
    "    project = \"SenNet\"\n",
    "    exp_name = os.path.basename(os.getcwd())\n",
    "    notes = \"aug_shiftscalerotate\"\n",
    "\n",
    "    # = model CFG ======================================================\n",
    "\n",
    "    model_arch = \"Unet\"\n",
    "    backbone = \"efficientnet-b0\"\n",
    "    in_chans = 6\n",
    "    target_size = 6\n",
    "\n",
    "    # = training CFG ===================================================\n",
    "\n",
    "    epochs = 20\n",
    "\n",
    "    train_batch_size = 128\n",
    "    valid_batch_size = train_batch_size\n",
    "\n",
    "    loss = \"DiceLoss\"\n",
    "    metrics = \"Dice\"\n",
    "    lr = 1e-4\n",
    "    thresholds_to_test = range(2, 101, 4)\n",
    "    num_workers = 24\n",
    "\n",
    "    # = augmentation ===================================================\n",
    "\n",
    "    image_size = 256\n",
    "    train_aug = [\n",
    "        # A.RandomResizedCrop(image_size, image_size, scale=(0.8, 1.0)),\n",
    "        A.ShiftScaleRotate(p=0.75),\n",
    "        # A.OneOf(\n",
    "        #     [\n",
    "        #         A.GaussNoise(var_limit=[10, 50]),\n",
    "        #         A.GaussianBlur(),\n",
    "        #         A.MotionBlur(),\n",
    "        #     ],\n",
    "        #     p=0.4,\n",
    "        # ),\n",
    "        # A.GridDistortion(num_steps=5, distort_limit=0.3, p=0.5),\n",
    "        ToTensorV2(transpose_mask=True),\n",
    "    ]\n",
    "\n",
    "    valid_aug = [\n",
    "        ToTensorV2(transpose_mask=True),\n",
    "    ]\n",
    "\n",
    "\n",
    "load_dotenv(\"/kaggle/key.env\")\n",
    "set_seed()"
   ]
  },
  {
   "cell_type": "code",
   "execution_count": 3,
   "metadata": {
    "execution": {
     "iopub.execute_input": "2024-01-01T17:22:46.036619Z",
     "iopub.status.busy": "2024-01-01T17:22:46.036086Z",
     "iopub.status.idle": "2024-01-01T17:22:48.893718Z",
     "shell.execute_reply": "2024-01-01T17:22:48.892823Z"
    }
   },
   "outputs": [
    {
     "data": {
      "text/html": [
       "<div>\n",
       "<style scoped>\n",
       "    .dataframe tbody tr th:only-of-type {\n",
       "        vertical-align: middle;\n",
       "    }\n",
       "\n",
       "    .dataframe tbody tr th {\n",
       "        vertical-align: top;\n",
       "    }\n",
       "\n",
       "    .dataframe thead th {\n",
       "        text-align: right;\n",
       "    }\n",
       "</style>\n",
       "<table border=\"1\" class=\"dataframe\">\n",
       "  <thead>\n",
       "    <tr style=\"text-align: right;\">\n",
       "      <th></th>\n",
       "      <th>image_path</th>\n",
       "      <th>label_path</th>\n",
       "      <th>fname</th>\n",
       "      <th>kidney</th>\n",
       "      <th>x</th>\n",
       "      <th>y</th>\n",
       "      <th>z</th>\n",
       "      <th>std</th>\n",
       "      <th>sum</th>\n",
       "      <th>fold0</th>\n",
       "      <th>fold1</th>\n",
       "    </tr>\n",
       "  </thead>\n",
       "  <tbody>\n",
       "    <tr>\n",
       "      <th>0</th>\n",
       "      <td>/kaggle/working/dataset/cropped_xy_256_128_z_6...</td>\n",
       "      <td>/kaggle/working/dataset/cropped_xy_256_128_z_6...</td>\n",
       "      <td>x0_y0_z12_std0040_sum0</td>\n",
       "      <td>kidney_1_dense</td>\n",
       "      <td>0</td>\n",
       "      <td>0</td>\n",
       "      <td>12</td>\n",
       "      <td>40</td>\n",
       "      <td>0</td>\n",
       "      <td>train</td>\n",
       "      <td>valid</td>\n",
       "    </tr>\n",
       "    <tr>\n",
       "      <th>1</th>\n",
       "      <td>/kaggle/working/dataset/cropped_xy_256_128_z_6...</td>\n",
       "      <td>/kaggle/working/dataset/cropped_xy_256_128_z_6...</td>\n",
       "      <td>x0_y0_z150_std0033_sum0</td>\n",
       "      <td>kidney_1_dense</td>\n",
       "      <td>0</td>\n",
       "      <td>0</td>\n",
       "      <td>150</td>\n",
       "      <td>33</td>\n",
       "      <td>0</td>\n",
       "      <td>train</td>\n",
       "      <td>valid</td>\n",
       "    </tr>\n",
       "    <tr>\n",
       "      <th>2</th>\n",
       "      <td>/kaggle/working/dataset/cropped_xy_256_128_z_6...</td>\n",
       "      <td>/kaggle/working/dataset/cropped_xy_256_128_z_6...</td>\n",
       "      <td>x0_y0_z252_std0036_sum0</td>\n",
       "      <td>kidney_1_dense</td>\n",
       "      <td>0</td>\n",
       "      <td>0</td>\n",
       "      <td>252</td>\n",
       "      <td>36</td>\n",
       "      <td>0</td>\n",
       "      <td>train</td>\n",
       "      <td>valid</td>\n",
       "    </tr>\n",
       "    <tr>\n",
       "      <th>3</th>\n",
       "      <td>/kaggle/working/dataset/cropped_xy_256_128_z_6...</td>\n",
       "      <td>/kaggle/working/dataset/cropped_xy_256_128_z_6...</td>\n",
       "      <td>x0_y0_z270_std0036_sum0</td>\n",
       "      <td>kidney_1_dense</td>\n",
       "      <td>0</td>\n",
       "      <td>0</td>\n",
       "      <td>270</td>\n",
       "      <td>36</td>\n",
       "      <td>0</td>\n",
       "      <td>train</td>\n",
       "      <td>valid</td>\n",
       "    </tr>\n",
       "    <tr>\n",
       "      <th>4</th>\n",
       "      <td>/kaggle/working/dataset/cropped_xy_256_128_z_6...</td>\n",
       "      <td>/kaggle/working/dataset/cropped_xy_256_128_z_6...</td>\n",
       "      <td>x0_y0_z300_std0037_sum0</td>\n",
       "      <td>kidney_1_dense</td>\n",
       "      <td>0</td>\n",
       "      <td>0</td>\n",
       "      <td>300</td>\n",
       "      <td>37</td>\n",
       "      <td>0</td>\n",
       "      <td>train</td>\n",
       "      <td>valid</td>\n",
       "    </tr>\n",
       "    <tr>\n",
       "      <th>...</th>\n",
       "      <td>...</td>\n",
       "      <td>...</td>\n",
       "      <td>...</td>\n",
       "      <td>...</td>\n",
       "      <td>...</td>\n",
       "      <td>...</td>\n",
       "      <td>...</td>\n",
       "      <td>...</td>\n",
       "      <td>...</td>\n",
       "      <td>...</td>\n",
       "      <td>...</td>\n",
       "    </tr>\n",
       "    <tr>\n",
       "      <th>37926</th>\n",
       "      <td>/kaggle/working/dataset/cropped_xy_256_128_z_6...</td>\n",
       "      <td>/kaggle/working/dataset/cropped_xy_256_128_z_6...</td>\n",
       "      <td>x256_y896_z972_std0228_sum3897</td>\n",
       "      <td>kidney_3_sparse</td>\n",
       "      <td>256</td>\n",
       "      <td>896</td>\n",
       "      <td>972</td>\n",
       "      <td>228</td>\n",
       "      <td>3897</td>\n",
       "      <td></td>\n",
       "      <td>train</td>\n",
       "    </tr>\n",
       "    <tr>\n",
       "      <th>37927</th>\n",
       "      <td>/kaggle/working/dataset/cropped_xy_256_128_z_6...</td>\n",
       "      <td>/kaggle/working/dataset/cropped_xy_256_128_z_6...</td>\n",
       "      <td>x256_y896_z978_std0223_sum5084</td>\n",
       "      <td>kidney_3_sparse</td>\n",
       "      <td>256</td>\n",
       "      <td>896</td>\n",
       "      <td>978</td>\n",
       "      <td>223</td>\n",
       "      <td>5084</td>\n",
       "      <td></td>\n",
       "      <td>train</td>\n",
       "    </tr>\n",
       "    <tr>\n",
       "      <th>37928</th>\n",
       "      <td>/kaggle/working/dataset/cropped_xy_256_128_z_6...</td>\n",
       "      <td>/kaggle/working/dataset/cropped_xy_256_128_z_6...</td>\n",
       "      <td>x256_y896_z984_std0223_sum6730</td>\n",
       "      <td>kidney_3_sparse</td>\n",
       "      <td>256</td>\n",
       "      <td>896</td>\n",
       "      <td>984</td>\n",
       "      <td>223</td>\n",
       "      <td>6730</td>\n",
       "      <td></td>\n",
       "      <td>train</td>\n",
       "    </tr>\n",
       "    <tr>\n",
       "      <th>37929</th>\n",
       "      <td>/kaggle/working/dataset/cropped_xy_256_128_z_6...</td>\n",
       "      <td>/kaggle/working/dataset/cropped_xy_256_128_z_6...</td>\n",
       "      <td>x256_y896_z990_std0227_sum7998</td>\n",
       "      <td>kidney_3_sparse</td>\n",
       "      <td>256</td>\n",
       "      <td>896</td>\n",
       "      <td>990</td>\n",
       "      <td>227</td>\n",
       "      <td>7998</td>\n",
       "      <td></td>\n",
       "      <td>train</td>\n",
       "    </tr>\n",
       "    <tr>\n",
       "      <th>37930</th>\n",
       "      <td>/kaggle/working/dataset/cropped_xy_256_128_z_6...</td>\n",
       "      <td>/kaggle/working/dataset/cropped_xy_256_128_z_6...</td>\n",
       "      <td>x256_y896_z996_std0234_sum7410</td>\n",
       "      <td>kidney_3_sparse</td>\n",
       "      <td>256</td>\n",
       "      <td>896</td>\n",
       "      <td>996</td>\n",
       "      <td>234</td>\n",
       "      <td>7410</td>\n",
       "      <td></td>\n",
       "      <td>train</td>\n",
       "    </tr>\n",
       "  </tbody>\n",
       "</table>\n",
       "<p>37931 rows × 11 columns</p>\n",
       "</div>"
      ],
      "text/plain": [
       "                                              image_path  \\\n",
       "0      /kaggle/working/dataset/cropped_xy_256_128_z_6...   \n",
       "1      /kaggle/working/dataset/cropped_xy_256_128_z_6...   \n",
       "2      /kaggle/working/dataset/cropped_xy_256_128_z_6...   \n",
       "3      /kaggle/working/dataset/cropped_xy_256_128_z_6...   \n",
       "4      /kaggle/working/dataset/cropped_xy_256_128_z_6...   \n",
       "...                                                  ...   \n",
       "37926  /kaggle/working/dataset/cropped_xy_256_128_z_6...   \n",
       "37927  /kaggle/working/dataset/cropped_xy_256_128_z_6...   \n",
       "37928  /kaggle/working/dataset/cropped_xy_256_128_z_6...   \n",
       "37929  /kaggle/working/dataset/cropped_xy_256_128_z_6...   \n",
       "37930  /kaggle/working/dataset/cropped_xy_256_128_z_6...   \n",
       "\n",
       "                                              label_path  \\\n",
       "0      /kaggle/working/dataset/cropped_xy_256_128_z_6...   \n",
       "1      /kaggle/working/dataset/cropped_xy_256_128_z_6...   \n",
       "2      /kaggle/working/dataset/cropped_xy_256_128_z_6...   \n",
       "3      /kaggle/working/dataset/cropped_xy_256_128_z_6...   \n",
       "4      /kaggle/working/dataset/cropped_xy_256_128_z_6...   \n",
       "...                                                  ...   \n",
       "37926  /kaggle/working/dataset/cropped_xy_256_128_z_6...   \n",
       "37927  /kaggle/working/dataset/cropped_xy_256_128_z_6...   \n",
       "37928  /kaggle/working/dataset/cropped_xy_256_128_z_6...   \n",
       "37929  /kaggle/working/dataset/cropped_xy_256_128_z_6...   \n",
       "37930  /kaggle/working/dataset/cropped_xy_256_128_z_6...   \n",
       "\n",
       "                                fname           kidney    x    y    z  std  \\\n",
       "0              x0_y0_z12_std0040_sum0   kidney_1_dense    0    0   12   40   \n",
       "1             x0_y0_z150_std0033_sum0   kidney_1_dense    0    0  150   33   \n",
       "2             x0_y0_z252_std0036_sum0   kidney_1_dense    0    0  252   36   \n",
       "3             x0_y0_z270_std0036_sum0   kidney_1_dense    0    0  270   36   \n",
       "4             x0_y0_z300_std0037_sum0   kidney_1_dense    0    0  300   37   \n",
       "...                               ...              ...  ...  ...  ...  ...   \n",
       "37926  x256_y896_z972_std0228_sum3897  kidney_3_sparse  256  896  972  228   \n",
       "37927  x256_y896_z978_std0223_sum5084  kidney_3_sparse  256  896  978  223   \n",
       "37928  x256_y896_z984_std0223_sum6730  kidney_3_sparse  256  896  984  223   \n",
       "37929  x256_y896_z990_std0227_sum7998  kidney_3_sparse  256  896  990  227   \n",
       "37930  x256_y896_z996_std0234_sum7410  kidney_3_sparse  256  896  996  234   \n",
       "\n",
       "        sum  fold0  fold1  \n",
       "0         0  train  valid  \n",
       "1         0  train  valid  \n",
       "2         0  train  valid  \n",
       "3         0  train  valid  \n",
       "4         0  train  valid  \n",
       "...     ...    ...    ...  \n",
       "37926  3897         train  \n",
       "37927  5084         train  \n",
       "37928  6730         train  \n",
       "37929  7998         train  \n",
       "37930  7410         train  \n",
       "\n",
       "[37931 rows x 11 columns]"
      ]
     },
     "metadata": {},
     "output_type": "display_data"
    }
   ],
   "source": [
    "def filter_dataset(df):\n",
    "    # labelが全くないものは90%の確率で除外\n",
    "    df[\"random\"] = np.random.rand(len(df))\n",
    "    df = df[(df[\"sum\"] > 0) | (df[\"random\"] < 0.1)]\n",
    "    df = df.reset_index(drop=True)\n",
    "    df = df.drop([\"random\"], axis=1)\n",
    "    return df\n",
    "\n",
    "\n",
    "df = df_dataset(cfg)\n",
    "df = filter_dataset(df)\n",
    "# df = df.sample(1000).reset_index(drop=True)\n",
    "if cfg.debug:\n",
    "    df = df.sample(10000).reset_index(drop=True)\n",
    "display(df)\n",
    "\n",
    "if cfg.check_dataset:\n",
    "    check_dataset(df, cfg)"
   ]
  },
  {
   "cell_type": "code",
   "execution_count": 4,
   "metadata": {
    "execution": {
     "iopub.execute_input": "2024-01-01T17:22:48.916434Z",
     "iopub.status.busy": "2024-01-01T17:22:48.915796Z",
     "iopub.status.idle": "2024-01-01T19:18:24.797834Z",
     "shell.execute_reply": "2024-01-01T19:18:24.794599Z"
    }
   },
   "outputs": [
    {
     "name": "stdout",
     "output_type": "stream",
     "text": [
      "model_arch:  Unet\n",
      "backbone:  efficientnet-b0\n"
     ]
    },
    {
     "name": "stderr",
     "output_type": "stream",
     "text": [
      "\u001b[34m\u001b[1mwandb\u001b[0m: Currently logged in as: \u001b[33mwelshonionman\u001b[0m. Use \u001b[1m`wandb login --relogin`\u001b[0m to force relogin\n",
      "\u001b[34m\u001b[1mwandb\u001b[0m: Tracking run with wandb version 0.16.1\n",
      "\u001b[34m\u001b[1mwandb\u001b[0m: Run data is saved locally in \u001b[35m\u001b[1m/kaggle/wandb/run-20240101_172301-kmuio8w9\u001b[0m\n",
      "\u001b[34m\u001b[1mwandb\u001b[0m: Run \u001b[1m`wandb offline`\u001b[0m to turn off syncing.\n",
      "\u001b[34m\u001b[1mwandb\u001b[0m: Syncing run \u001b[33mexp003_fold0\u001b[0m\n",
      "\u001b[34m\u001b[1mwandb\u001b[0m: ⭐️ View project at \u001b[34m\u001b[4mhttps://wandb.ai/welshonionman/SenNet\u001b[0m\n",
      "\u001b[34m\u001b[1mwandb\u001b[0m: 🚀 View run at \u001b[34m\u001b[4mhttps://wandb.ai/welshonionman/SenNet/runs/kmuio8w9\u001b[0m\n",
      "Epoch 0/20  Mem : 14.7GB  LR : 1.00E-04  Loss: 0.9274: 100%|██████████| 237/237 [02:00<00:00,  1.97it/s]\n",
      "Val Loss: 0.9439: 100%|██████████| 30/30 [00:18<00:00,  1.58it/s]                                                                                                                                                                                                                                      \n"
     ]
    },
    {
     "name": "stdout",
     "output_type": "stream",
     "text": [
      "loss : 0.9439\tSAVED MODEL\n",
      "\n"
     ]
    },
    {
     "name": "stderr",
     "output_type": "stream",
     "text": [
      "Epoch 1/20  Mem : 19GB  LR : 1.00E-03  Loss: 0.2181: 100%|██████████| 237/237 [01:43<00:00,  2.29it/s]\n",
      "Val Loss: 0.3333: 100%|██████████| 30/30 [00:18<00:00,  1.58it/s]                                                                                                                                                                                                                                      \n"
     ]
    },
    {
     "name": "stdout",
     "output_type": "stream",
     "text": [
      "loss : 0.3333\tSAVED MODEL\n",
      "\n"
     ]
    },
    {
     "name": "stderr",
     "output_type": "stream",
     "text": [
      "Epoch 2/20  Mem : 19GB  LR : 1.00E-04  Loss: 0.1052: 100%|██████████| 237/237 [01:43<00:00,  2.29it/s]\n",
      "Val Loss: 0.1673: 100%|██████████| 30/30 [00:18<00:00,  1.62it/s]                                                                                                                                                                                                                                      \n"
     ]
    },
    {
     "name": "stdout",
     "output_type": "stream",
     "text": [
      "loss : 0.1673\tSAVED MODEL\n",
      "\n"
     ]
    },
    {
     "name": "stderr",
     "output_type": "stream",
     "text": [
      "Epoch 3/20  Mem : 19GB  LR : 9.94E-05  Loss: 0.0992: 100%|██████████| 237/237 [01:43<00:00,  2.28it/s]\n",
      "Val Loss: 0.1564: 100%|██████████| 30/30 [00:18<00:00,  1.60it/s]                                                                                                                                                                                                                                      \n"
     ]
    },
    {
     "name": "stdout",
     "output_type": "stream",
     "text": [
      "loss : 0.1564\tSAVED MODEL\n",
      "\n"
     ]
    },
    {
     "name": "stderr",
     "output_type": "stream",
     "text": [
      "Epoch 4/20  Mem : 19GB  LR : 9.76E-05  Loss: 0.0944: 100%|██████████| 237/237 [01:43<00:00,  2.28it/s]\n",
      "Val Loss: 0.1486: 100%|██████████| 30/30 [00:18<00:00,  1.63it/s]                                                                                                                                                                                                                                      \n"
     ]
    },
    {
     "name": "stdout",
     "output_type": "stream",
     "text": [
      "loss : 0.1486\tSAVED MODEL\n",
      "\n"
     ]
    },
    {
     "name": "stderr",
     "output_type": "stream",
     "text": [
      "Epoch 5/20  Mem : 19GB  LR : 9.46E-05  Loss: 0.0902: 100%|██████████| 237/237 [01:45<00:00,  2.25it/s]\n",
      "Val Loss: 0.1396: 100%|██████████| 30/30 [00:18<00:00,  1.62it/s]                                                                                                                                                                                                                                      \n"
     ]
    },
    {
     "name": "stdout",
     "output_type": "stream",
     "text": [
      "loss : 0.1396\tSAVED MODEL\n",
      "\n"
     ]
    },
    {
     "name": "stderr",
     "output_type": "stream",
     "text": [
      "Epoch 6/20  Mem : 19GB  LR : 9.05E-05  Loss: 0.0884: 100%|██████████| 237/237 [01:43<00:00,  2.29it/s]\n",
      "Val Loss: 0.1346: 100%|██████████| 30/30 [00:18<00:00,  1.59it/s]                                                                                                                                                                                                                                      \n"
     ]
    },
    {
     "name": "stdout",
     "output_type": "stream",
     "text": [
      "loss : 0.1346\tSAVED MODEL\n",
      "\n"
     ]
    },
    {
     "name": "stderr",
     "output_type": "stream",
     "text": [
      "Epoch 7/20  Mem : 19GB  LR : 8.54E-05  Loss: 0.0866: 100%|██████████| 237/237 [01:43<00:00,  2.28it/s]\n",
      "Val Loss: 0.1308: 100%|██████████| 30/30 [00:18<00:00,  1.61it/s]                                                                                                                                                                                                                                      \n"
     ]
    },
    {
     "name": "stdout",
     "output_type": "stream",
     "text": [
      "loss : 0.1308\tSAVED MODEL\n",
      "\n"
     ]
    },
    {
     "name": "stderr",
     "output_type": "stream",
     "text": [
      "Epoch 8/20  Mem : 19GB  LR : 7.94E-05  Loss: 0.0842: 100%|██████████| 237/237 [01:43<00:00,  2.28it/s]\n",
      "Val Loss: 0.1297: 100%|██████████| 30/30 [00:18<00:00,  1.61it/s]                                                                                                                                                                                                                                      \n"
     ]
    },
    {
     "name": "stdout",
     "output_type": "stream",
     "text": [
      "loss : 0.1297\tSAVED MODEL\n",
      "\n"
     ]
    },
    {
     "name": "stderr",
     "output_type": "stream",
     "text": [
      "Epoch 9/20  Mem : 19GB  LR : 7.27E-05  Loss: 0.0832: 100%|██████████| 237/237 [01:44<00:00,  2.27it/s]\n",
      "Val Loss: 0.1329: 100%|██████████| 30/30 [00:18<00:00,  1.60it/s]                                                                                                                                                                                                                                      \n"
     ]
    },
    {
     "name": "stdout",
     "output_type": "stream",
     "text": [
      "loss : 0.1329\n",
      "\n"
     ]
    },
    {
     "name": "stderr",
     "output_type": "stream",
     "text": [
      "Epoch 10/20  Mem : 19GB  LR : 6.55E-05  Loss: 0.0816: 100%|██████████| 237/237 [01:43<00:00,  2.29it/s]\n",
      "Val Loss: 0.1267: 100%|██████████| 30/30 [00:18<00:00,  1.59it/s]                                                                                                                                                                                                                                      \n"
     ]
    },
    {
     "name": "stdout",
     "output_type": "stream",
     "text": [
      "loss : 0.1267\tSAVED MODEL\n",
      "\n"
     ]
    },
    {
     "name": "stderr",
     "output_type": "stream",
     "text": [
      "Epoch 11/20  Mem : 19GB  LR : 5.79E-05  Loss: 0.0807: 100%|██████████| 237/237 [01:44<00:00,  2.27it/s]\n",
      "Val Loss: 0.1255: 100%|██████████| 30/30 [00:18<00:00,  1.63it/s]                                                                                                                                                                                                                                      \n"
     ]
    },
    {
     "name": "stdout",
     "output_type": "stream",
     "text": [
      "loss : 0.1255\tSAVED MODEL\n",
      "\n"
     ]
    },
    {
     "name": "stderr",
     "output_type": "stream",
     "text": [
      "Epoch 12/20  Mem : 19GB  LR : 5.01E-05  Loss: 0.0798: 100%|██████████| 237/237 [01:43<00:00,  2.29it/s]\n",
      "Val Loss: 0.1236: 100%|██████████| 30/30 [00:18<00:00,  1.60it/s]                                                                                                                                                                                                                                      \n"
     ]
    },
    {
     "name": "stdout",
     "output_type": "stream",
     "text": [
      "loss : 0.1236\tSAVED MODEL\n",
      "\n"
     ]
    },
    {
     "name": "stderr",
     "output_type": "stream",
     "text": [
      "Epoch 13/20  Mem : 19GB  LR : 4.22E-05  Loss: 0.0786: 100%|██████████| 237/237 [01:43<00:00,  2.29it/s]\n",
      "Val Loss: 0.1242: 100%|██████████| 30/30 [00:18<00:00,  1.64it/s]                                                                                                                                                                                                                                      \n"
     ]
    },
    {
     "name": "stdout",
     "output_type": "stream",
     "text": [
      "loss : 0.1242\n",
      "\n"
     ]
    },
    {
     "name": "stderr",
     "output_type": "stream",
     "text": [
      "Epoch 14/20  Mem : 19GB  LR : 3.46E-05  Loss: 0.0782: 100%|██████████| 237/237 [01:43<00:00,  2.29it/s]\n",
      "Val Loss: 0.1216: 100%|██████████| 30/30 [00:18<00:00,  1.60it/s]                                                                                                                                                                                                                                      \n"
     ]
    },
    {
     "name": "stdout",
     "output_type": "stream",
     "text": [
      "loss : 0.1216\tSAVED MODEL\n",
      "\n"
     ]
    },
    {
     "name": "stderr",
     "output_type": "stream",
     "text": [
      "Epoch 15/20  Mem : 19GB  LR : 2.74E-05  Loss: 0.0785: 100%|██████████| 237/237 [01:44<00:00,  2.27it/s]\n",
      "Val Loss: 0.1228: 100%|██████████| 30/30 [00:18<00:00,  1.61it/s]                                                                                                                                                                                                                                      \n"
     ]
    },
    {
     "name": "stdout",
     "output_type": "stream",
     "text": [
      "loss : 0.1228\n",
      "\n"
     ]
    },
    {
     "name": "stderr",
     "output_type": "stream",
     "text": [
      "Epoch 16/20  Mem : 19GB  LR : 2.07E-05  Loss: 0.0773: 100%|██████████| 237/237 [01:44<00:00,  2.28it/s]\n",
      "Val Loss: 0.1210: 100%|██████████| 30/30 [00:18<00:00,  1.63it/s]                                                                                                                                                                                                                                      \n"
     ]
    },
    {
     "name": "stdout",
     "output_type": "stream",
     "text": [
      "loss : 0.1210\tSAVED MODEL\n",
      "\n"
     ]
    },
    {
     "name": "stderr",
     "output_type": "stream",
     "text": [
      "Epoch 17/20  Mem : 19GB  LR : 1.47E-05  Loss: 0.0765: 100%|██████████| 237/237 [01:43<00:00,  2.28it/s]\n",
      "Val Loss: 0.1207: 100%|██████████| 30/30 [00:18<00:00,  1.62it/s]                                                                                                                                                                                                                                      \n"
     ]
    },
    {
     "name": "stdout",
     "output_type": "stream",
     "text": [
      "loss : 0.1207\tSAVED MODEL\n",
      "\n"
     ]
    },
    {
     "name": "stderr",
     "output_type": "stream",
     "text": [
      "Epoch 18/20  Mem : 19GB  LR : 9.64E-06  Loss: 0.0772: 100%|██████████| 237/237 [01:43<00:00,  2.28it/s]\n",
      "Val Loss: 0.1207: 100%|██████████| 30/30 [00:18<00:00,  1.62it/s]                                                                                                                                                                                                                                      \n"
     ]
    },
    {
     "name": "stdout",
     "output_type": "stream",
     "text": [
      "loss : 0.1207\tSAVED MODEL\n",
      "\n"
     ]
    },
    {
     "name": "stderr",
     "output_type": "stream",
     "text": [
      "Epoch 19/20  Mem : 19GB  LR : 5.54E-06  Loss: 0.0762: 100%|██████████| 237/237 [01:43<00:00,  2.29it/s]\n",
      "Val Loss: 0.1205: 100%|██████████| 30/30 [00:18<00:00,  1.63it/s]                                                                                                                                                                                                                                      \n"
     ]
    },
    {
     "name": "stdout",
     "output_type": "stream",
     "text": [
      "loss : 0.1205\tSAVED MODEL\n",
      "\n"
     ]
    },
    {
     "name": "stderr",
     "output_type": "stream",
     "text": [
      "100%|██████████████████████████████████████████████████████████████████████████████████████████████████████████████████████████████████████████████████████████████████████████████████████████████████████████████████████████████████████████████████████████████████| 25/25 [02:15<00:00,  5.41s/it]\n",
      "Val Loss: 0.1205: 100%|██████████| 30/30 [00:18<00:00,  1.59it/s]                                                                                                                                                                                                                                      \n",
      "100%|██████████████████████████████████████████████████████████████████████████████████████████████████████████████████████████████████████████████████████████████████████████████████████████████████████████████████████████████████████████████████████████████████| 25/25 [02:15<00:00,  5.43s/it]\n",
      "\u001b[34m\u001b[1mwandb\u001b[0m:                                                                                \n",
      "\u001b[34m\u001b[1mwandb\u001b[0m: \n",
      "\u001b[34m\u001b[1mwandb\u001b[0m: Run history:\n",
      "\u001b[34m\u001b[1mwandb\u001b[0m:      epoch ▁▁▁▁▂▂▂▂▂▂▃▃▃▃▄▄▄▄▄▄▅▅▅▅▅▅▆▆▆▆▇▇▇▇▇▇████\n",
      "\u001b[34m\u001b[1mwandb\u001b[0m: train_loss █▂▂▁▁▁▁▂▁▁▁▁▁▁▁▁▁▁▁▁\n",
      "\u001b[34m\u001b[1mwandb\u001b[0m: valid_loss █▃▁▁▁▁▁▁▁▁▁▁▁▁▁▁▁▁▁▁\n",
      "\u001b[34m\u001b[1mwandb\u001b[0m: \n",
      "\u001b[34m\u001b[1mwandb\u001b[0m: Run summary:\n",
      "\u001b[34m\u001b[1mwandb\u001b[0m:      epoch 19\n",
      "\u001b[34m\u001b[1mwandb\u001b[0m: train_loss 0.07095\n",
      "\u001b[34m\u001b[1mwandb\u001b[0m: valid_loss 0.1205\n",
      "\u001b[34m\u001b[1mwandb\u001b[0m: \n",
      "\u001b[34m\u001b[1mwandb\u001b[0m: 🚀 View run \u001b[33mexp003_fold0\u001b[0m at: \u001b[34m\u001b[4mhttps://wandb.ai/welshonionman/SenNet/runs/kmuio8w9\u001b[0m\n",
      "\u001b[34m\u001b[1mwandb\u001b[0m: Synced 5 W&B file(s), 0 media file(s), 0 artifact file(s) and 0 other file(s)\n",
      "\u001b[34m\u001b[1mwandb\u001b[0m: Find logs at: \u001b[35m\u001b[1m/kaggle/wandb/run-20240101_172301-kmuio8w9/logs\u001b[0m\n"
     ]
    },
    {
     "name": "stdout",
     "output_type": "stream",
     "text": [
      "model_arch:  Unet\n",
      "backbone:  efficientnet-b0\n"
     ]
    },
    {
     "name": "stderr",
     "output_type": "stream",
     "text": [
      "\u001b[34m\u001b[1mwandb\u001b[0m: Tracking run with wandb version 0.16.1\n",
      "\u001b[34m\u001b[1mwandb\u001b[0m: Run data is saved locally in \u001b[35m\u001b[1m/kaggle/wandb/run-20240101_181032-d6xgp6ri\u001b[0m\n",
      "\u001b[34m\u001b[1mwandb\u001b[0m: Run \u001b[1m`wandb offline`\u001b[0m to turn off syncing.\n",
      "\u001b[34m\u001b[1mwandb\u001b[0m: Syncing run \u001b[33mexp003_fold1\u001b[0m\n",
      "\u001b[34m\u001b[1mwandb\u001b[0m: ⭐️ View project at \u001b[34m\u001b[4mhttps://wandb.ai/welshonionman/SenNet\u001b[0m\n",
      "\u001b[34m\u001b[1mwandb\u001b[0m: 🚀 View run at \u001b[34m\u001b[4mhttps://wandb.ai/welshonionman/SenNet/runs/d6xgp6ri\u001b[0m\n",
      "Epoch 0/20  Mem : 19GB  LR : 1.00E-04  Loss: 0.9578: 100%|██████████| 189/189 [01:26<00:00,  2.19it/s]\n",
      "Val Loss: 0.9670: 100%|██████████| 109/109 [00:56<00:00,  1.93it/s]                                                                                                                                                                                                                                    \n"
     ]
    },
    {
     "name": "stdout",
     "output_type": "stream",
     "text": [
      "loss : 0.9670\tSAVED MODEL\n",
      "\n"
     ]
    },
    {
     "name": "stderr",
     "output_type": "stream",
     "text": [
      "Epoch 1/20  Mem : 19GB  LR : 1.00E-03  Loss: 0.2418: 100%|██████████| 189/189 [01:24<00:00,  2.24it/s]\n",
      "Val Loss: 0.8123: 100%|██████████| 109/109 [01:07<00:00,  1.62it/s]                                                                                                                                                                                                                                    \n"
     ]
    },
    {
     "name": "stdout",
     "output_type": "stream",
     "text": [
      "loss : 0.8123\tSAVED MODEL\n",
      "\n"
     ]
    },
    {
     "name": "stderr",
     "output_type": "stream",
     "text": [
      "Epoch 2/20  Mem : 19GB  LR : 1.00E-04  Loss: 0.1028: 100%|██████████| 189/189 [01:25<00:00,  2.20it/s]\n",
      "Val Loss: 0.5801: 100%|██████████| 109/109 [00:57<00:00,  1.91it/s]                                                                                                                                                                                                                                    \n"
     ]
    },
    {
     "name": "stdout",
     "output_type": "stream",
     "text": [
      "loss : 0.5801\tSAVED MODEL\n",
      "\n"
     ]
    },
    {
     "name": "stderr",
     "output_type": "stream",
     "text": [
      "Epoch 3/20  Mem : 19GB  LR : 9.94E-05  Loss: 0.0928: 100%|██████████| 189/189 [01:25<00:00,  2.21it/s]\n",
      "Val Loss: 0.3671: 100%|██████████| 109/109 [00:56<00:00,  1.94it/s]                                                                                                                                                                                                                                    \n"
     ]
    },
    {
     "name": "stdout",
     "output_type": "stream",
     "text": [
      "loss : 0.3671\tSAVED MODEL\n",
      "\n"
     ]
    },
    {
     "name": "stderr",
     "output_type": "stream",
     "text": [
      "Epoch 4/20  Mem : 19GB  LR : 9.76E-05  Loss: 0.0867: 100%|██████████| 189/189 [01:26<00:00,  2.19it/s]\n",
      "Val Loss: 0.3260: 100%|██████████| 109/109 [00:59<00:00,  1.83it/s]                                                                                                                                                                                                                                    \n"
     ]
    },
    {
     "name": "stdout",
     "output_type": "stream",
     "text": [
      "loss : 0.3260\tSAVED MODEL\n",
      "\n"
     ]
    },
    {
     "name": "stderr",
     "output_type": "stream",
     "text": [
      "Epoch 5/20  Mem : 19GB  LR : 9.46E-05  Loss: 0.0821: 100%|██████████| 189/189 [01:26<00:00,  2.18it/s]\n",
      "Val Loss: 0.3285: 100%|██████████| 109/109 [00:58<00:00,  1.86it/s]                                                                                                                                                                                                                                    \n"
     ]
    },
    {
     "name": "stdout",
     "output_type": "stream",
     "text": [
      "loss : 0.3285\n",
      "\n"
     ]
    },
    {
     "name": "stderr",
     "output_type": "stream",
     "text": [
      "Epoch 6/20  Mem : 19GB  LR : 9.05E-05  Loss: 0.0795: 100%|██████████| 189/189 [01:26<00:00,  2.19it/s]\n",
      "Val Loss: 0.3079: 100%|██████████| 109/109 [00:58<00:00,  1.87it/s]                                                                                                                                                                                                                                    \n"
     ]
    },
    {
     "name": "stdout",
     "output_type": "stream",
     "text": [
      "loss : 0.3079\tSAVED MODEL\n",
      "\n"
     ]
    },
    {
     "name": "stderr",
     "output_type": "stream",
     "text": [
      "Epoch 7/20  Mem : 19GB  LR : 8.54E-05  Loss: 0.0765: 100%|██████████| 189/189 [01:26<00:00,  2.19it/s]\n",
      "Val Loss: 0.2874: 100%|██████████| 109/109 [00:58<00:00,  1.87it/s]                                                                                                                                                                                                                                    \n"
     ]
    },
    {
     "name": "stdout",
     "output_type": "stream",
     "text": [
      "loss : 0.2874\tSAVED MODEL\n",
      "\n"
     ]
    },
    {
     "name": "stderr",
     "output_type": "stream",
     "text": [
      "Epoch 8/20  Mem : 19GB  LR : 7.94E-05  Loss: 0.0742: 100%|██████████| 189/189 [01:26<00:00,  2.19it/s]\n",
      "Val Loss: 0.2858: 100%|██████████| 109/109 [00:57<00:00,  1.90it/s]                                                                                                                                                                                                                                    \n"
     ]
    },
    {
     "name": "stdout",
     "output_type": "stream",
     "text": [
      "loss : 0.2858\tSAVED MODEL\n",
      "\n"
     ]
    },
    {
     "name": "stderr",
     "output_type": "stream",
     "text": [
      "Epoch 9/20  Mem : 19GB  LR : 7.27E-05  Loss: 0.0721: 100%|██████████| 189/189 [01:26<00:00,  2.18it/s]\n",
      "Val Loss: 0.2784: 100%|██████████| 109/109 [00:58<00:00,  1.86it/s]                                                                                                                                                                                                                                    \n"
     ]
    },
    {
     "name": "stdout",
     "output_type": "stream",
     "text": [
      "loss : 0.2784\tSAVED MODEL\n",
      "\n"
     ]
    },
    {
     "name": "stderr",
     "output_type": "stream",
     "text": [
      "Epoch 10/20  Mem : 19GB  LR : 6.55E-05  Loss: 0.0713: 100%|██████████| 189/189 [01:27<00:00,  2.17it/s]\n",
      "Val Loss: 0.2731: 100%|██████████| 109/109 [00:56<00:00,  1.92it/s]                                                                                                                                                                                                                                    \n"
     ]
    },
    {
     "name": "stdout",
     "output_type": "stream",
     "text": [
      "loss : 0.2731\tSAVED MODEL\n",
      "\n"
     ]
    },
    {
     "name": "stderr",
     "output_type": "stream",
     "text": [
      "Epoch 11/20  Mem : 19GB  LR : 5.79E-05  Loss: 0.0693: 100%|██████████| 189/189 [01:28<00:00,  2.15it/s]\n",
      "Val Loss: 0.2987: 100%|██████████| 109/109 [00:58<00:00,  1.85it/s]                                                                                                                                                                                                                                    \n"
     ]
    },
    {
     "name": "stdout",
     "output_type": "stream",
     "text": [
      "loss : 0.2987\n",
      "\n"
     ]
    },
    {
     "name": "stderr",
     "output_type": "stream",
     "text": [
      "Epoch 12/20  Mem : 19GB  LR : 5.01E-05  Loss: 0.0692: 100%|██████████| 189/189 [01:26<00:00,  2.19it/s]\n",
      "Val Loss: 0.2865: 100%|██████████| 109/109 [00:57<00:00,  1.88it/s]                                                                                                                                                                                                                                    \n"
     ]
    },
    {
     "name": "stdout",
     "output_type": "stream",
     "text": [
      "loss : 0.2865\n",
      "\n"
     ]
    },
    {
     "name": "stderr",
     "output_type": "stream",
     "text": [
      "Epoch 13/20  Mem : 19GB  LR : 4.22E-05  Loss: 0.0680: 100%|██████████| 189/189 [01:28<00:00,  2.14it/s]\n",
      "Val Loss: 0.2968: 100%|██████████| 109/109 [00:58<00:00,  1.87it/s]                                                                                                                                                                                                                                    \n"
     ]
    },
    {
     "name": "stdout",
     "output_type": "stream",
     "text": [
      "loss : 0.2968\n",
      "\n"
     ]
    },
    {
     "name": "stderr",
     "output_type": "stream",
     "text": [
      "Epoch 14/20  Mem : 19GB  LR : 3.46E-05  Loss: 0.0672: 100%|██████████| 189/189 [01:26<00:00,  2.19it/s]\n",
      "Val Loss: 0.2973: 100%|██████████| 109/109 [00:57<00:00,  1.89it/s]                                                                                                                                                                                                                                    \n"
     ]
    },
    {
     "name": "stdout",
     "output_type": "stream",
     "text": [
      "loss : 0.2973\n",
      "\n"
     ]
    },
    {
     "name": "stderr",
     "output_type": "stream",
     "text": [
      "Epoch 15/20  Mem : 19GB  LR : 2.74E-05  Loss: 0.0668: 100%|██████████| 189/189 [01:32<00:00,  2.05it/s]\n",
      "Val Loss: 0.2711: 100%|██████████| 109/109 [00:57<00:00,  1.90it/s]                                                                                                                                                                                                                                    \n"
     ]
    },
    {
     "name": "stdout",
     "output_type": "stream",
     "text": [
      "loss : 0.2711\tSAVED MODEL\n",
      "\n"
     ]
    },
    {
     "name": "stderr",
     "output_type": "stream",
     "text": [
      "Epoch 16/20  Mem : 19GB  LR : 2.07E-05  Loss: 0.0665: 100%|██████████| 189/189 [01:25<00:00,  2.21it/s]\n",
      "Val Loss: 0.2863: 100%|██████████| 109/109 [00:57<00:00,  1.89it/s]                                                                                                                                                                                                                                    \n"
     ]
    },
    {
     "name": "stdout",
     "output_type": "stream",
     "text": [
      "loss : 0.2863\n",
      "\n"
     ]
    },
    {
     "name": "stderr",
     "output_type": "stream",
     "text": [
      "Epoch 17/20  Mem : 19GB  LR : 1.47E-05  Loss: 0.0658: 100%|██████████| 189/189 [01:26<00:00,  2.19it/s]\n",
      "Val Loss: 0.2907: 100%|██████████| 109/109 [00:57<00:00,  1.89it/s]                                                                                                                                                                                                                                    \n"
     ]
    },
    {
     "name": "stdout",
     "output_type": "stream",
     "text": [
      "loss : 0.2907\n",
      "\n"
     ]
    },
    {
     "name": "stderr",
     "output_type": "stream",
     "text": [
      "Epoch 18/20  Mem : 19GB  LR : 9.64E-06  Loss: 0.0661: 100%|██████████| 189/189 [01:25<00:00,  2.20it/s]\n",
      "Val Loss: 0.2826: 100%|██████████| 109/109 [00:58<00:00,  1.85it/s]                                                                                                                                                                                                                                    \n"
     ]
    },
    {
     "name": "stdout",
     "output_type": "stream",
     "text": [
      "loss : 0.2826\n",
      "\n"
     ]
    },
    {
     "name": "stderr",
     "output_type": "stream",
     "text": [
      "Epoch 19/20  Mem : 19GB  LR : 5.54E-06  Loss: 0.0654: 100%|██████████| 189/189 [01:26<00:00,  2.18it/s]\n",
      "Val Loss: 0.2824: 100%|██████████| 109/109 [00:58<00:00,  1.87it/s]                                                                                                                                                                                                                                    \n"
     ]
    },
    {
     "name": "stdout",
     "output_type": "stream",
     "text": [
      "loss : 0.2824\n",
      "\n"
     ]
    },
    {
     "name": "stderr",
     "output_type": "stream",
     "text": [
      "100%|██████████████████████████████████████████████████████████████████████████████████████████████████████████████████████████████████████████████████████████████████████████████████████████████████████████████████████████████████████████████████████████████████| 25/25 [08:17<00:00, 19.88s/it]\n",
      "Val Loss: 0.2711: 100%|██████████| 109/109 [01:00<00:00,  1.81it/s]                                                                                                                                                                                                                                    \n",
      "100%|██████████████████████████████████████████████████████████████████████████████████████████████████████████████████████████████████████████████████████████████████████████████████████████████████████████████████████████████████████████████████████████████████| 25/25 [08:12<00:00, 19.69s/it]\n",
      "\u001b[34m\u001b[1mwandb\u001b[0m:                                                                                \n",
      "\u001b[34m\u001b[1mwandb\u001b[0m: \n",
      "\u001b[34m\u001b[1mwandb\u001b[0m: Run history:\n",
      "\u001b[34m\u001b[1mwandb\u001b[0m:      epoch ▁▁▁▁▂▂▂▂▂▂▃▃▃▃▄▄▄▄▄▄▅▅▅▅▅▅▆▆▆▆▇▇▇▇▇▇████\n",
      "\u001b[34m\u001b[1mwandb\u001b[0m: train_loss █▂▁▂▂▁▁▁▁▁▁▁▁▁▁▁▁▁▁▁\n",
      "\u001b[34m\u001b[1mwandb\u001b[0m: valid_loss █▆▄▂▂▂▁▁▁▁▁▁▁▁▁▁▁▁▁▁\n",
      "\u001b[34m\u001b[1mwandb\u001b[0m: \n",
      "\u001b[34m\u001b[1mwandb\u001b[0m: Run summary:\n",
      "\u001b[34m\u001b[1mwandb\u001b[0m:      epoch 19\n",
      "\u001b[34m\u001b[1mwandb\u001b[0m: train_loss 0.08667\n",
      "\u001b[34m\u001b[1mwandb\u001b[0m: valid_loss 0.28238\n",
      "\u001b[34m\u001b[1mwandb\u001b[0m: \n",
      "\u001b[34m\u001b[1mwandb\u001b[0m: 🚀 View run \u001b[33mexp003_fold1\u001b[0m at: \u001b[34m\u001b[4mhttps://wandb.ai/welshonionman/SenNet/runs/d6xgp6ri\u001b[0m\n",
      "\u001b[34m\u001b[1mwandb\u001b[0m: Synced 5 W&B file(s), 0 media file(s), 0 artifact file(s) and 0 other file(s)\n",
      "\u001b[34m\u001b[1mwandb\u001b[0m: Find logs at: \u001b[35m\u001b[1m/kaggle/wandb/run-20240101_181032-d6xgp6ri/logs\u001b[0m\n"
     ]
    }
   ],
   "source": [
    "if cfg.debug:\n",
    "    print(\"!!!Debug mode!!!\\n\")\n",
    "    cfg.epochs = 5\n",
    "\n",
    "for fold in range(2):\n",
    "    train_dataloader, valid_dataloader = init_dataset(fold, df, cfg)\n",
    "    model, scaler, criterion, optimizer, scheduler, metrics = init_model(cfg)\n",
    "    slacknotify = init_exp(fold, cfg)\n",
    "\n",
    "    path_best = f\"./{cfg.exp_name}/{cfg.exp_name}_best_fold{fold}.pth\"\n",
    "    path_last = f\"./{cfg.exp_name}/{cfg.exp_name}_last_fold{fold}.pth\"\n",
    "\n",
    "    best_loss = float(\"inf\")\n",
    "    for epoch in range(cfg.epochs):\n",
    "        train(model, train_dataloader, optimizer, criterion, scheduler, scaler, epoch, cfg)\n",
    "        loss, pred_list, true_list = valid(model, valid_dataloader, criterion, epoch, cfg)\n",
    "\n",
    "        if loss < best_loss:\n",
    "            print(f\"loss : {loss:.4f}\\tSAVED MODEL\\n\")\n",
    "            slacknotify.send_reply(f\"epoch : {epoch}\\tscore : {loss:.4f}\\tBEST\")\n",
    "            best_loss = loss\n",
    "            save_model(model, cfg, path_best, loss=loss)\n",
    "        else:\n",
    "            print(f\"loss : {loss:.4f}\\n\")\n",
    "            slacknotify.send_reply(f\"epoch : {epoch}\\tscore : {loss:.4f}\")\n",
    "\n",
    "    last_score, last_thresh = calc_optim_thresh(pred_list, true_list, metrics, cfg)\n",
    "    save_model(model, cfg, path_last, loss=loss, score=last_score, thresh=last_thresh)\n",
    "    wandb.config.update({\"last_score\": last_score, \"last_thresh\": last_thresh})\n",
    "\n",
    "    best_model = load_model(model, path_best)\n",
    "    loss, pred_list, true_list = valid(best_model, valid_dataloader, criterion, epoch, cfg, log=False)\n",
    "\n",
    "    best_score, best_thresh = calc_optim_thresh(pred_list, true_list, metrics, cfg)\n",
    "    save_model(best_model, cfg, path_best, loss=loss, score=best_score, thresh=best_thresh)\n",
    "    wandb.config.update({\"best_score\": best_score, \"best_thresh\": best_thresh})\n",
    "\n",
    "    slacknotify.send_reply(\n",
    "        f\"{cfg.exp_name}_fold{fold} training finished\\nbest score : {best_score:.4f} last score : {last_score:.4f}\",\n",
    "        True,\n",
    "    )\n",
    "\n",
    "    if wandb.run:\n",
    "        wandb.finish()"
   ]
  },
  {
   "cell_type": "code",
   "execution_count": null,
   "metadata": {},
   "outputs": [],
   "source": []
  }
 ],
 "metadata": {
  "kaggle": {
   "accelerator": "nvidiaTeslaT4",
   "dataSources": [
    {
     "databundleVersionId": 6962461,
     "sourceId": 61446,
     "sourceType": "competition"
    },
    {
     "datasetId": 1074109,
     "sourceId": 1807973,
     "sourceType": "datasetVersion"
    },
    {
     "sourceId": 150248402,
     "sourceType": "kernelVersion"
    }
   ],
   "dockerImageVersionId": 30587,
   "isGpuEnabled": true,
   "isInternetEnabled": true,
   "language": "python",
   "sourceType": "notebook"
  },
  "kernelspec": {
   "display_name": "Python 3",
   "language": "python",
   "name": "python3"
  },
  "language_info": {
   "codemirror_mode": {
    "name": "ipython",
    "version": 3
   },
   "file_extension": ".py",
   "mimetype": "text/x-python",
   "name": "python",
   "nbconvert_exporter": "python",
   "pygments_lexer": "ipython3",
   "version": "3.10.13"
  }
 },
 "nbformat": 4,
 "nbformat_minor": 4
}
