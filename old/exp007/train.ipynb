{
 "cells": [
  {
   "cell_type": "code",
   "execution_count": 1,
   "metadata": {
    "_cell_guid": "b1076dfc-b9ad-4769-8c92-a6c4dae69d19",
    "_kg_hide-input": true,
    "_kg_hide-output": true,
    "_uuid": "8f2839f25d086af736a60e9eeb907d3b93b6e0e5",
    "execution": {
     "iopub.execute_input": "2024-01-01T23:31:54.361293Z",
     "iopub.status.busy": "2024-01-01T23:31:54.360591Z",
     "iopub.status.idle": "2024-01-01T23:32:02.234703Z",
     "shell.execute_reply": "2024-01-01T23:32:02.234030Z"
    }
   },
   "outputs": [],
   "source": [
    "import numpy as np\n",
    "import os\n",
    "\n",
    "import albumentations as A\n",
    "from albumentations.pytorch import ToTensorV2\n",
    "import wandb\n",
    "from dotenv import load_dotenv\n",
    "\n",
    "from src.model.model import save_model, load_model\n",
    "from src.dataset.df import df_dataset, check_dataset\n",
    "from src.utils.common import set_seed\n",
    "from src.utils.optim_thresh import calc_optim_thresh\n",
    "from src.experiment.experiment import train, valid\n",
    "from src.experiment.initialize import init_dataset, init_model, init_exp"
   ]
  },
  {
   "cell_type": "code",
   "execution_count": 2,
   "metadata": {
    "execution": {
     "iopub.execute_input": "2024-01-01T23:32:02.237868Z",
     "iopub.status.busy": "2024-01-01T23:32:02.237340Z",
     "iopub.status.idle": "2024-01-01T23:32:02.251305Z",
     "shell.execute_reply": "2024-01-01T23:32:02.250718Z"
    }
   },
   "outputs": [],
   "source": [
    "class cfg:\n",
    "    debug = False\n",
    "    check_dataset = False\n",
    "\n",
    "    # = data CFG ====================================================\n",
    "\n",
    "    dataset_path = \"/kaggle/working/dataset/cropped_xy_256_128_z_6_6/\"\n",
    "    dataset = \"base2d\"\n",
    "\n",
    "    # = experiment CFG =================================================\n",
    "\n",
    "    project = \"SenNet\"\n",
    "    exp_name = os.path.basename(os.getcwd())\n",
    "    notes = \"aug_RandomRotate90\"\n",
    "\n",
    "    # = model CFG ======================================================\n",
    "\n",
    "    model_arch = \"Unet\"\n",
    "    backbone = \"efficientnet-b0\"\n",
    "    in_chans = 6\n",
    "    target_size = 6\n",
    "\n",
    "    # = training CFG ===================================================\n",
    "\n",
    "    epochs = 20\n",
    "\n",
    "    train_batch_size = 128\n",
    "    valid_batch_size = train_batch_size\n",
    "\n",
    "    loss = \"DiceLoss\"\n",
    "    metrics = \"Dice\"\n",
    "    lr = 1e-4\n",
    "    thresholds_to_test = range(2, 101, 4)\n",
    "    num_workers = 24\n",
    "\n",
    "    # = augmentation ===================================================\n",
    "\n",
    "    image_size = 256\n",
    "    train_aug = [\n",
    "        # A.RandomResizedCrop(image_size, image_size, scale=(0.8, 1.0)),\n",
    "        A.RandomRotate90(p=0.75),\n",
    "        # A.ShiftScaleRotate(p=0.75),\n",
    "        # A.OneOf(\n",
    "        #     [\n",
    "        #         A.GaussNoise(var_limit=[10, 50]),\n",
    "        #         A.GaussianBlur(),\n",
    "        #         A.MotionBlur(),\n",
    "        #     ],\n",
    "        #     p=0.4,\n",
    "        # ),\n",
    "        # A.GridDistortion(num_steps=5, distort_limit=0.3, p=0.5),\n",
    "        ToTensorV2(transpose_mask=True),\n",
    "    ]\n",
    "\n",
    "    valid_aug = [\n",
    "        ToTensorV2(transpose_mask=True),\n",
    "    ]\n",
    "\n",
    "\n",
    "load_dotenv(\"/kaggle/key.env\")\n",
    "set_seed()"
   ]
  },
  {
   "cell_type": "code",
   "execution_count": 3,
   "metadata": {
    "execution": {
     "iopub.execute_input": "2024-01-01T23:32:02.254144Z",
     "iopub.status.busy": "2024-01-01T23:32:02.253610Z",
     "iopub.status.idle": "2024-01-01T23:32:05.023503Z",
     "shell.execute_reply": "2024-01-01T23:32:05.022650Z"
    }
   },
   "outputs": [
    {
     "data": {
      "text/html": [
       "<div>\n",
       "<style scoped>\n",
       "    .dataframe tbody tr th:only-of-type {\n",
       "        vertical-align: middle;\n",
       "    }\n",
       "\n",
       "    .dataframe tbody tr th {\n",
       "        vertical-align: top;\n",
       "    }\n",
       "\n",
       "    .dataframe thead th {\n",
       "        text-align: right;\n",
       "    }\n",
       "</style>\n",
       "<table border=\"1\" class=\"dataframe\">\n",
       "  <thead>\n",
       "    <tr style=\"text-align: right;\">\n",
       "      <th></th>\n",
       "      <th>image_path</th>\n",
       "      <th>label_path</th>\n",
       "      <th>fname</th>\n",
       "      <th>kidney</th>\n",
       "      <th>x</th>\n",
       "      <th>y</th>\n",
       "      <th>z</th>\n",
       "      <th>std</th>\n",
       "      <th>sum</th>\n",
       "      <th>fold0</th>\n",
       "      <th>fold1</th>\n",
       "    </tr>\n",
       "  </thead>\n",
       "  <tbody>\n",
       "    <tr>\n",
       "      <th>0</th>\n",
       "      <td>/kaggle/working/dataset/cropped_xy_256_128_z_6...</td>\n",
       "      <td>/kaggle/working/dataset/cropped_xy_256_128_z_6...</td>\n",
       "      <td>x0_y0_z12_std0040_sum0</td>\n",
       "      <td>kidney_1_dense</td>\n",
       "      <td>0</td>\n",
       "      <td>0</td>\n",
       "      <td>12</td>\n",
       "      <td>40</td>\n",
       "      <td>0</td>\n",
       "      <td>train</td>\n",
       "      <td>valid</td>\n",
       "    </tr>\n",
       "    <tr>\n",
       "      <th>1</th>\n",
       "      <td>/kaggle/working/dataset/cropped_xy_256_128_z_6...</td>\n",
       "      <td>/kaggle/working/dataset/cropped_xy_256_128_z_6...</td>\n",
       "      <td>x0_y0_z150_std0033_sum0</td>\n",
       "      <td>kidney_1_dense</td>\n",
       "      <td>0</td>\n",
       "      <td>0</td>\n",
       "      <td>150</td>\n",
       "      <td>33</td>\n",
       "      <td>0</td>\n",
       "      <td>train</td>\n",
       "      <td>valid</td>\n",
       "    </tr>\n",
       "    <tr>\n",
       "      <th>2</th>\n",
       "      <td>/kaggle/working/dataset/cropped_xy_256_128_z_6...</td>\n",
       "      <td>/kaggle/working/dataset/cropped_xy_256_128_z_6...</td>\n",
       "      <td>x0_y0_z252_std0036_sum0</td>\n",
       "      <td>kidney_1_dense</td>\n",
       "      <td>0</td>\n",
       "      <td>0</td>\n",
       "      <td>252</td>\n",
       "      <td>36</td>\n",
       "      <td>0</td>\n",
       "      <td>train</td>\n",
       "      <td>valid</td>\n",
       "    </tr>\n",
       "    <tr>\n",
       "      <th>3</th>\n",
       "      <td>/kaggle/working/dataset/cropped_xy_256_128_z_6...</td>\n",
       "      <td>/kaggle/working/dataset/cropped_xy_256_128_z_6...</td>\n",
       "      <td>x0_y0_z270_std0036_sum0</td>\n",
       "      <td>kidney_1_dense</td>\n",
       "      <td>0</td>\n",
       "      <td>0</td>\n",
       "      <td>270</td>\n",
       "      <td>36</td>\n",
       "      <td>0</td>\n",
       "      <td>train</td>\n",
       "      <td>valid</td>\n",
       "    </tr>\n",
       "    <tr>\n",
       "      <th>4</th>\n",
       "      <td>/kaggle/working/dataset/cropped_xy_256_128_z_6...</td>\n",
       "      <td>/kaggle/working/dataset/cropped_xy_256_128_z_6...</td>\n",
       "      <td>x0_y0_z300_std0037_sum0</td>\n",
       "      <td>kidney_1_dense</td>\n",
       "      <td>0</td>\n",
       "      <td>0</td>\n",
       "      <td>300</td>\n",
       "      <td>37</td>\n",
       "      <td>0</td>\n",
       "      <td>train</td>\n",
       "      <td>valid</td>\n",
       "    </tr>\n",
       "    <tr>\n",
       "      <th>...</th>\n",
       "      <td>...</td>\n",
       "      <td>...</td>\n",
       "      <td>...</td>\n",
       "      <td>...</td>\n",
       "      <td>...</td>\n",
       "      <td>...</td>\n",
       "      <td>...</td>\n",
       "      <td>...</td>\n",
       "      <td>...</td>\n",
       "      <td>...</td>\n",
       "      <td>...</td>\n",
       "    </tr>\n",
       "    <tr>\n",
       "      <th>37926</th>\n",
       "      <td>/kaggle/working/dataset/cropped_xy_256_128_z_6...</td>\n",
       "      <td>/kaggle/working/dataset/cropped_xy_256_128_z_6...</td>\n",
       "      <td>x256_y896_z972_std0228_sum3897</td>\n",
       "      <td>kidney_3_sparse</td>\n",
       "      <td>256</td>\n",
       "      <td>896</td>\n",
       "      <td>972</td>\n",
       "      <td>228</td>\n",
       "      <td>3897</td>\n",
       "      <td></td>\n",
       "      <td>train</td>\n",
       "    </tr>\n",
       "    <tr>\n",
       "      <th>37927</th>\n",
       "      <td>/kaggle/working/dataset/cropped_xy_256_128_z_6...</td>\n",
       "      <td>/kaggle/working/dataset/cropped_xy_256_128_z_6...</td>\n",
       "      <td>x256_y896_z978_std0223_sum5084</td>\n",
       "      <td>kidney_3_sparse</td>\n",
       "      <td>256</td>\n",
       "      <td>896</td>\n",
       "      <td>978</td>\n",
       "      <td>223</td>\n",
       "      <td>5084</td>\n",
       "      <td></td>\n",
       "      <td>train</td>\n",
       "    </tr>\n",
       "    <tr>\n",
       "      <th>37928</th>\n",
       "      <td>/kaggle/working/dataset/cropped_xy_256_128_z_6...</td>\n",
       "      <td>/kaggle/working/dataset/cropped_xy_256_128_z_6...</td>\n",
       "      <td>x256_y896_z984_std0223_sum6730</td>\n",
       "      <td>kidney_3_sparse</td>\n",
       "      <td>256</td>\n",
       "      <td>896</td>\n",
       "      <td>984</td>\n",
       "      <td>223</td>\n",
       "      <td>6730</td>\n",
       "      <td></td>\n",
       "      <td>train</td>\n",
       "    </tr>\n",
       "    <tr>\n",
       "      <th>37929</th>\n",
       "      <td>/kaggle/working/dataset/cropped_xy_256_128_z_6...</td>\n",
       "      <td>/kaggle/working/dataset/cropped_xy_256_128_z_6...</td>\n",
       "      <td>x256_y896_z990_std0227_sum7998</td>\n",
       "      <td>kidney_3_sparse</td>\n",
       "      <td>256</td>\n",
       "      <td>896</td>\n",
       "      <td>990</td>\n",
       "      <td>227</td>\n",
       "      <td>7998</td>\n",
       "      <td></td>\n",
       "      <td>train</td>\n",
       "    </tr>\n",
       "    <tr>\n",
       "      <th>37930</th>\n",
       "      <td>/kaggle/working/dataset/cropped_xy_256_128_z_6...</td>\n",
       "      <td>/kaggle/working/dataset/cropped_xy_256_128_z_6...</td>\n",
       "      <td>x256_y896_z996_std0234_sum7410</td>\n",
       "      <td>kidney_3_sparse</td>\n",
       "      <td>256</td>\n",
       "      <td>896</td>\n",
       "      <td>996</td>\n",
       "      <td>234</td>\n",
       "      <td>7410</td>\n",
       "      <td></td>\n",
       "      <td>train</td>\n",
       "    </tr>\n",
       "  </tbody>\n",
       "</table>\n",
       "<p>37931 rows × 11 columns</p>\n",
       "</div>"
      ],
      "text/plain": [
       "                                              image_path  \\\n",
       "0      /kaggle/working/dataset/cropped_xy_256_128_z_6...   \n",
       "1      /kaggle/working/dataset/cropped_xy_256_128_z_6...   \n",
       "2      /kaggle/working/dataset/cropped_xy_256_128_z_6...   \n",
       "3      /kaggle/working/dataset/cropped_xy_256_128_z_6...   \n",
       "4      /kaggle/working/dataset/cropped_xy_256_128_z_6...   \n",
       "...                                                  ...   \n",
       "37926  /kaggle/working/dataset/cropped_xy_256_128_z_6...   \n",
       "37927  /kaggle/working/dataset/cropped_xy_256_128_z_6...   \n",
       "37928  /kaggle/working/dataset/cropped_xy_256_128_z_6...   \n",
       "37929  /kaggle/working/dataset/cropped_xy_256_128_z_6...   \n",
       "37930  /kaggle/working/dataset/cropped_xy_256_128_z_6...   \n",
       "\n",
       "                                              label_path  \\\n",
       "0      /kaggle/working/dataset/cropped_xy_256_128_z_6...   \n",
       "1      /kaggle/working/dataset/cropped_xy_256_128_z_6...   \n",
       "2      /kaggle/working/dataset/cropped_xy_256_128_z_6...   \n",
       "3      /kaggle/working/dataset/cropped_xy_256_128_z_6...   \n",
       "4      /kaggle/working/dataset/cropped_xy_256_128_z_6...   \n",
       "...                                                  ...   \n",
       "37926  /kaggle/working/dataset/cropped_xy_256_128_z_6...   \n",
       "37927  /kaggle/working/dataset/cropped_xy_256_128_z_6...   \n",
       "37928  /kaggle/working/dataset/cropped_xy_256_128_z_6...   \n",
       "37929  /kaggle/working/dataset/cropped_xy_256_128_z_6...   \n",
       "37930  /kaggle/working/dataset/cropped_xy_256_128_z_6...   \n",
       "\n",
       "                                fname           kidney    x    y    z  std  \\\n",
       "0              x0_y0_z12_std0040_sum0   kidney_1_dense    0    0   12   40   \n",
       "1             x0_y0_z150_std0033_sum0   kidney_1_dense    0    0  150   33   \n",
       "2             x0_y0_z252_std0036_sum0   kidney_1_dense    0    0  252   36   \n",
       "3             x0_y0_z270_std0036_sum0   kidney_1_dense    0    0  270   36   \n",
       "4             x0_y0_z300_std0037_sum0   kidney_1_dense    0    0  300   37   \n",
       "...                               ...              ...  ...  ...  ...  ...   \n",
       "37926  x256_y896_z972_std0228_sum3897  kidney_3_sparse  256  896  972  228   \n",
       "37927  x256_y896_z978_std0223_sum5084  kidney_3_sparse  256  896  978  223   \n",
       "37928  x256_y896_z984_std0223_sum6730  kidney_3_sparse  256  896  984  223   \n",
       "37929  x256_y896_z990_std0227_sum7998  kidney_3_sparse  256  896  990  227   \n",
       "37930  x256_y896_z996_std0234_sum7410  kidney_3_sparse  256  896  996  234   \n",
       "\n",
       "        sum  fold0  fold1  \n",
       "0         0  train  valid  \n",
       "1         0  train  valid  \n",
       "2         0  train  valid  \n",
       "3         0  train  valid  \n",
       "4         0  train  valid  \n",
       "...     ...    ...    ...  \n",
       "37926  3897         train  \n",
       "37927  5084         train  \n",
       "37928  6730         train  \n",
       "37929  7998         train  \n",
       "37930  7410         train  \n",
       "\n",
       "[37931 rows x 11 columns]"
      ]
     },
     "metadata": {},
     "output_type": "display_data"
    }
   ],
   "source": [
    "def filter_dataset(df):\n",
    "    # labelが全くないものは90%の確率で除外\n",
    "    df[\"random\"] = np.random.rand(len(df))\n",
    "    df = df[(df[\"sum\"] > 0) | (df[\"random\"] < 0.1)]\n",
    "    df = df.reset_index(drop=True)\n",
    "    df = df.drop([\"random\"], axis=1)\n",
    "    return df\n",
    "\n",
    "\n",
    "df = df_dataset(cfg)\n",
    "df = filter_dataset(df)\n",
    "# df = df.sample(1000).reset_index(drop=True)\n",
    "if cfg.debug:\n",
    "    df = df.sample(10000).reset_index(drop=True)\n",
    "display(df)\n",
    "\n",
    "if cfg.check_dataset:\n",
    "    check_dataset(df, cfg)"
   ]
  },
  {
   "cell_type": "code",
   "execution_count": 4,
   "metadata": {
    "execution": {
     "iopub.execute_input": "2024-01-01T23:32:05.046838Z",
     "iopub.status.busy": "2024-01-01T23:32:05.046248Z",
     "iopub.status.idle": "2024-01-02T01:26:25.888229Z",
     "shell.execute_reply": "2024-01-02T01:26:25.885093Z"
    }
   },
   "outputs": [
    {
     "name": "stdout",
     "output_type": "stream",
     "text": [
      "model_arch:  Unet\n",
      "backbone:  efficientnet-b0\n"
     ]
    },
    {
     "name": "stderr",
     "output_type": "stream",
     "text": [
      "\u001b[34m\u001b[1mwandb\u001b[0m: Currently logged in as: \u001b[33mwelshonionman\u001b[0m. Use \u001b[1m`wandb login --relogin`\u001b[0m to force relogin\n",
      "\u001b[34m\u001b[1mwandb\u001b[0m: Tracking run with wandb version 0.16.1\n",
      "\u001b[34m\u001b[1mwandb\u001b[0m: Run data is saved locally in \u001b[35m\u001b[1m/kaggle/wandb/run-20240101_233216-srhv3qgk\u001b[0m\n",
      "\u001b[34m\u001b[1mwandb\u001b[0m: Run \u001b[1m`wandb offline`\u001b[0m to turn off syncing.\n",
      "\u001b[34m\u001b[1mwandb\u001b[0m: Syncing run \u001b[33mexp007_fold0\u001b[0m\n",
      "\u001b[34m\u001b[1mwandb\u001b[0m: ⭐️ View project at \u001b[34m\u001b[4mhttps://wandb.ai/welshonionman/SenNet\u001b[0m\n",
      "\u001b[34m\u001b[1mwandb\u001b[0m: 🚀 View run at \u001b[34m\u001b[4mhttps://wandb.ai/welshonionman/SenNet/runs/srhv3qgk\u001b[0m\n",
      "Epoch 0/20  Mem : 14.7GB  LR : 1.00E-04  Loss: 0.9272: 100%|██████████| 237/237 [01:49<00:00,  2.16it/s]\n",
      "Val Loss: 0.9473: 100%|██████████| 30/30 [00:18<00:00,  1.60it/s]                                                                                                                                                                                                                                      \n"
     ]
    },
    {
     "name": "stdout",
     "output_type": "stream",
     "text": [
      "loss : 0.9473\tSAVED MODEL\n",
      "\n"
     ]
    },
    {
     "name": "stderr",
     "output_type": "stream",
     "text": [
      "Epoch 1/20  Mem : 19GB  LR : 1.00E-03  Loss: 0.2136: 100%|██████████| 237/237 [01:41<00:00,  2.34it/s]\n",
      "Val Loss: 0.4210: 100%|██████████| 30/30 [00:18<00:00,  1.61it/s]                                                                                                                                                                                                                                      \n"
     ]
    },
    {
     "name": "stdout",
     "output_type": "stream",
     "text": [
      "loss : 0.4210\tSAVED MODEL\n",
      "\n"
     ]
    },
    {
     "name": "stderr",
     "output_type": "stream",
     "text": [
      "Epoch 2/20  Mem : 19GB  LR : 1.00E-04  Loss: 0.0936: 100%|██████████| 237/237 [01:42<00:00,  2.30it/s]\n",
      "Val Loss: 0.1550: 100%|██████████| 30/30 [00:18<00:00,  1.63it/s]                                                                                                                                                                                                                                      \n"
     ]
    },
    {
     "name": "stdout",
     "output_type": "stream",
     "text": [
      "loss : 0.1550\tSAVED MODEL\n",
      "\n"
     ]
    },
    {
     "name": "stderr",
     "output_type": "stream",
     "text": [
      "Epoch 3/20  Mem : 19GB  LR : 9.94E-05  Loss: 0.0877: 100%|██████████| 237/237 [01:41<00:00,  2.33it/s]\n",
      "Val Loss: 0.1369: 100%|██████████| 30/30 [00:18<00:00,  1.59it/s]                                                                                                                                                                                                                                      \n"
     ]
    },
    {
     "name": "stdout",
     "output_type": "stream",
     "text": [
      "loss : 0.1369\tSAVED MODEL\n",
      "\n"
     ]
    },
    {
     "name": "stderr",
     "output_type": "stream",
     "text": [
      "Epoch 4/20  Mem : 19GB  LR : 9.76E-05  Loss: 0.0835: 100%|██████████| 237/237 [01:42<00:00,  2.32it/s]\n",
      "Val Loss: 0.1354: 100%|██████████| 30/30 [00:18<00:00,  1.60it/s]                                                                                                                                                                                                                                      \n"
     ]
    },
    {
     "name": "stdout",
     "output_type": "stream",
     "text": [
      "loss : 0.1354\tSAVED MODEL\n",
      "\n"
     ]
    },
    {
     "name": "stderr",
     "output_type": "stream",
     "text": [
      "Epoch 5/20  Mem : 19GB  LR : 9.46E-05  Loss: 0.0802: 100%|██████████| 237/237 [01:42<00:00,  2.32it/s]\n",
      "Val Loss: 0.1273: 100%|██████████| 30/30 [00:19<00:00,  1.57it/s]                                                                                                                                                                                                                                      \n"
     ]
    },
    {
     "name": "stdout",
     "output_type": "stream",
     "text": [
      "loss : 0.1273\tSAVED MODEL\n",
      "\n"
     ]
    },
    {
     "name": "stderr",
     "output_type": "stream",
     "text": [
      "Epoch 6/20  Mem : 19GB  LR : 9.05E-05  Loss: 0.0781: 100%|██████████| 237/237 [01:42<00:00,  2.31it/s]\n",
      "Val Loss: 0.1288: 100%|██████████| 30/30 [00:18<00:00,  1.58it/s]                                                                                                                                                                                                                                      \n"
     ]
    },
    {
     "name": "stdout",
     "output_type": "stream",
     "text": [
      "loss : 0.1288\n",
      "\n"
     ]
    },
    {
     "name": "stderr",
     "output_type": "stream",
     "text": [
      "Epoch 7/20  Mem : 19GB  LR : 8.54E-05  Loss: 0.0761: 100%|██████████| 237/237 [01:42<00:00,  2.30it/s]\n",
      "Val Loss: 0.1238: 100%|██████████| 30/30 [00:18<00:00,  1.62it/s]                                                                                                                                                                                                                                      \n"
     ]
    },
    {
     "name": "stdout",
     "output_type": "stream",
     "text": [
      "loss : 0.1238\tSAVED MODEL\n",
      "\n"
     ]
    },
    {
     "name": "stderr",
     "output_type": "stream",
     "text": [
      "Epoch 8/20  Mem : 19GB  LR : 7.94E-05  Loss: 0.0738: 100%|██████████| 237/237 [01:43<00:00,  2.29it/s]\n",
      "Val Loss: 0.1190: 100%|██████████| 30/30 [00:18<00:00,  1.60it/s]                                                                                                                                                                                                                                      \n"
     ]
    },
    {
     "name": "stdout",
     "output_type": "stream",
     "text": [
      "loss : 0.1190\tSAVED MODEL\n",
      "\n"
     ]
    },
    {
     "name": "stderr",
     "output_type": "stream",
     "text": [
      "Epoch 9/20  Mem : 19GB  LR : 7.27E-05  Loss: 0.0721: 100%|██████████| 237/237 [01:42<00:00,  2.32it/s]\n",
      "Val Loss: 0.1188: 100%|██████████| 30/30 [00:18<00:00,  1.61it/s]                                                                                                                                                                                                                                      \n"
     ]
    },
    {
     "name": "stdout",
     "output_type": "stream",
     "text": [
      "loss : 0.1188\tSAVED MODEL\n",
      "\n"
     ]
    },
    {
     "name": "stderr",
     "output_type": "stream",
     "text": [
      "Epoch 10/20  Mem : 19GB  LR : 6.55E-05  Loss: 0.0709: 100%|██████████| 237/237 [01:42<00:00,  2.31it/s]\n",
      "Val Loss: 0.1165: 100%|██████████| 30/30 [00:19<00:00,  1.57it/s]                                                                                                                                                                                                                                      \n"
     ]
    },
    {
     "name": "stdout",
     "output_type": "stream",
     "text": [
      "loss : 0.1165\tSAVED MODEL\n",
      "\n"
     ]
    },
    {
     "name": "stderr",
     "output_type": "stream",
     "text": [
      "Epoch 11/20  Mem : 19GB  LR : 5.79E-05  Loss: 0.0696: 100%|██████████| 237/237 [01:42<00:00,  2.32it/s]\n",
      "Val Loss: 0.1163: 100%|██████████| 30/30 [00:18<00:00,  1.62it/s]                                                                                                                                                                                                                                      \n"
     ]
    },
    {
     "name": "stdout",
     "output_type": "stream",
     "text": [
      "loss : 0.1163\tSAVED MODEL\n",
      "\n"
     ]
    },
    {
     "name": "stderr",
     "output_type": "stream",
     "text": [
      "Epoch 12/20  Mem : 19GB  LR : 5.01E-05  Loss: 0.0684: 100%|██████████| 237/237 [01:41<00:00,  2.34it/s]\n",
      "Val Loss: 0.1131: 100%|██████████| 30/30 [00:18<00:00,  1.58it/s]                                                                                                                                                                                                                                      \n"
     ]
    },
    {
     "name": "stdout",
     "output_type": "stream",
     "text": [
      "loss : 0.1131\tSAVED MODEL\n",
      "\n"
     ]
    },
    {
     "name": "stderr",
     "output_type": "stream",
     "text": [
      "Epoch 13/20  Mem : 19GB  LR : 4.22E-05  Loss: 0.0668: 100%|██████████| 237/237 [01:41<00:00,  2.33it/s]\n",
      "Val Loss: 0.1157: 100%|██████████| 30/30 [00:18<00:00,  1.62it/s]                                                                                                                                                                                                                                      \n"
     ]
    },
    {
     "name": "stdout",
     "output_type": "stream",
     "text": [
      "loss : 0.1157\n",
      "\n"
     ]
    },
    {
     "name": "stderr",
     "output_type": "stream",
     "text": [
      "Epoch 14/20  Mem : 19GB  LR : 3.46E-05  Loss: 0.0659: 100%|██████████| 237/237 [01:41<00:00,  2.34it/s]\n",
      "Val Loss: 0.1113: 100%|██████████| 30/30 [00:18<00:00,  1.59it/s]                                                                                                                                                                                                                                      \n"
     ]
    },
    {
     "name": "stdout",
     "output_type": "stream",
     "text": [
      "loss : 0.1113\tSAVED MODEL\n",
      "\n"
     ]
    },
    {
     "name": "stderr",
     "output_type": "stream",
     "text": [
      "Epoch 15/20  Mem : 19GB  LR : 2.74E-05  Loss: 0.0655: 100%|██████████| 237/237 [01:41<00:00,  2.33it/s]\n",
      "Val Loss: 0.1110: 100%|██████████| 30/30 [00:18<00:00,  1.61it/s]                                                                                                                                                                                                                                      \n"
     ]
    },
    {
     "name": "stdout",
     "output_type": "stream",
     "text": [
      "loss : 0.1110\tSAVED MODEL\n",
      "\n"
     ]
    },
    {
     "name": "stderr",
     "output_type": "stream",
     "text": [
      "Epoch 16/20  Mem : 19GB  LR : 2.07E-05  Loss: 0.0646: 100%|██████████| 237/237 [01:41<00:00,  2.33it/s]\n",
      "Val Loss: 0.1104: 100%|██████████| 30/30 [00:18<00:00,  1.62it/s]                                                                                                                                                                                                                                      \n"
     ]
    },
    {
     "name": "stdout",
     "output_type": "stream",
     "text": [
      "loss : 0.1104\tSAVED MODEL\n",
      "\n"
     ]
    },
    {
     "name": "stderr",
     "output_type": "stream",
     "text": [
      "Epoch 17/20  Mem : 19GB  LR : 1.47E-05  Loss: 0.0639: 100%|██████████| 237/237 [01:41<00:00,  2.33it/s]\n",
      "Val Loss: 0.1101: 100%|██████████| 30/30 [00:18<00:00,  1.63it/s]                                                                                                                                                                                                                                      \n"
     ]
    },
    {
     "name": "stdout",
     "output_type": "stream",
     "text": [
      "loss : 0.1101\tSAVED MODEL\n",
      "\n"
     ]
    },
    {
     "name": "stderr",
     "output_type": "stream",
     "text": [
      "Epoch 18/20  Mem : 19GB  LR : 9.64E-06  Loss: 0.0642: 100%|██████████| 237/237 [01:41<00:00,  2.33it/s]\n",
      "Val Loss: 0.1100: 100%|██████████| 30/30 [00:18<00:00,  1.60it/s]                                                                                                                                                                                                                                      \n"
     ]
    },
    {
     "name": "stdout",
     "output_type": "stream",
     "text": [
      "loss : 0.1100\tSAVED MODEL\n",
      "\n"
     ]
    },
    {
     "name": "stderr",
     "output_type": "stream",
     "text": [
      "Epoch 19/20  Mem : 19GB  LR : 5.54E-06  Loss: 0.0633: 100%|██████████| 237/237 [01:43<00:00,  2.30it/s]\n",
      "Val Loss: 0.1100: 100%|██████████| 30/30 [00:18<00:00,  1.63it/s]                                                                                                                                                                                                                                      \n"
     ]
    },
    {
     "name": "stdout",
     "output_type": "stream",
     "text": [
      "loss : 0.1100\n",
      "\n"
     ]
    },
    {
     "name": "stderr",
     "output_type": "stream",
     "text": [
      "100%|██████████████████████████████████████████████████████████████████████████████████████████████████████████████████████████████████████████████████████████████████████████████████████████████████████████████████████████████████████████████████████████████████| 25/25 [02:16<00:00,  5.47s/it]\n",
      "Val Loss: 0.1100: 100%|██████████| 30/30 [00:18<00:00,  1.59it/s]                                                                                                                                                                                                                                      \n",
      "100%|██████████████████████████████████████████████████████████████████████████████████████████████████████████████████████████████████████████████████████████████████████████████████████████████████████████████████████████████████████████████████████████████████| 25/25 [02:18<00:00,  5.55s/it]\n",
      "\u001b[34m\u001b[1mwandb\u001b[0m:                                                                                \n",
      "\u001b[34m\u001b[1mwandb\u001b[0m: \n",
      "\u001b[34m\u001b[1mwandb\u001b[0m: Run history:\n",
      "\u001b[34m\u001b[1mwandb\u001b[0m:      epoch ▁▁▁▁▂▂▂▂▂▂▃▃▃▃▄▄▄▄▄▄▅▅▅▅▅▅▆▆▆▆▇▇▇▇▇▇████\n",
      "\u001b[34m\u001b[1mwandb\u001b[0m: train_loss █▂▁▁▁▁▁▁▁▁▁▁▁▁▁▁▁▁▁▁\n",
      "\u001b[34m\u001b[1mwandb\u001b[0m: valid_loss █▄▁▁▁▁▁▁▁▁▁▁▁▁▁▁▁▁▁▁\n",
      "\u001b[34m\u001b[1mwandb\u001b[0m: \n",
      "\u001b[34m\u001b[1mwandb\u001b[0m: Run summary:\n",
      "\u001b[34m\u001b[1mwandb\u001b[0m:      epoch 19\n",
      "\u001b[34m\u001b[1mwandb\u001b[0m: train_loss 0.05789\n",
      "\u001b[34m\u001b[1mwandb\u001b[0m: valid_loss 0.10996\n",
      "\u001b[34m\u001b[1mwandb\u001b[0m: \n",
      "\u001b[34m\u001b[1mwandb\u001b[0m: 🚀 View run \u001b[33mexp007_fold0\u001b[0m at: \u001b[34m\u001b[4mhttps://wandb.ai/welshonionman/SenNet/runs/srhv3qgk\u001b[0m\n",
      "\u001b[34m\u001b[1mwandb\u001b[0m: Synced 5 W&B file(s), 0 media file(s), 0 artifact file(s) and 0 other file(s)\n",
      "\u001b[34m\u001b[1mwandb\u001b[0m: Find logs at: \u001b[35m\u001b[1m/kaggle/wandb/run-20240101_233216-srhv3qgk/logs\u001b[0m\n"
     ]
    },
    {
     "name": "stdout",
     "output_type": "stream",
     "text": [
      "model_arch:  Unet\n",
      "backbone:  efficientnet-b0\n"
     ]
    },
    {
     "name": "stderr",
     "output_type": "stream",
     "text": [
      "\u001b[34m\u001b[1mwandb\u001b[0m: Tracking run with wandb version 0.16.1\n",
      "\u001b[34m\u001b[1mwandb\u001b[0m: Run data is saved locally in \u001b[35m\u001b[1m/kaggle/wandb/run-20240102_001914-66oai3s4\u001b[0m\n",
      "\u001b[34m\u001b[1mwandb\u001b[0m: Run \u001b[1m`wandb offline`\u001b[0m to turn off syncing.\n",
      "\u001b[34m\u001b[1mwandb\u001b[0m: Syncing run \u001b[33mexp007_fold1\u001b[0m\n",
      "\u001b[34m\u001b[1mwandb\u001b[0m: ⭐️ View project at \u001b[34m\u001b[4mhttps://wandb.ai/welshonionman/SenNet\u001b[0m\n",
      "\u001b[34m\u001b[1mwandb\u001b[0m: 🚀 View run at \u001b[34m\u001b[4mhttps://wandb.ai/welshonionman/SenNet/runs/66oai3s4\u001b[0m\n",
      "Epoch 0/20  Mem : 19GB  LR : 1.00E-04  Loss: 0.9580: 100%|██████████| 189/189 [01:31<00:00,  2.07it/s]\n",
      "Val Loss: 0.9737: 100%|██████████| 109/109 [00:58<00:00,  1.87it/s]                                                                                                                                                                                                                                    \n"
     ]
    },
    {
     "name": "stdout",
     "output_type": "stream",
     "text": [
      "loss : 0.9737\tSAVED MODEL\n",
      "\n"
     ]
    },
    {
     "name": "stderr",
     "output_type": "stream",
     "text": [
      "Epoch 1/20  Mem : 19GB  LR : 1.00E-03  Loss: 0.2358: 100%|██████████| 189/189 [01:24<00:00,  2.24it/s]\n",
      "Val Loss: 0.9748: 100%|██████████| 109/109 [01:05<00:00,  1.67it/s]                                                                                                                                                                                                                                    \n"
     ]
    },
    {
     "name": "stdout",
     "output_type": "stream",
     "text": [
      "loss : 0.9748\n",
      "\n"
     ]
    },
    {
     "name": "stderr",
     "output_type": "stream",
     "text": [
      "Epoch 2/20  Mem : 19GB  LR : 1.00E-04  Loss: 0.0953: 100%|██████████| 189/189 [01:23<00:00,  2.26it/s]\n",
      "Val Loss: 0.6995: 100%|██████████| 109/109 [01:04<00:00,  1.70it/s]                                                                                                                                                                                                                                    \n"
     ]
    },
    {
     "name": "stdout",
     "output_type": "stream",
     "text": [
      "loss : 0.6995\tSAVED MODEL\n",
      "\n"
     ]
    },
    {
     "name": "stderr",
     "output_type": "stream",
     "text": [
      "Epoch 3/20  Mem : 19GB  LR : 9.94E-05  Loss: 0.0869: 100%|██████████| 189/189 [01:23<00:00,  2.27it/s]\n",
      "Val Loss: 0.4903: 100%|██████████| 109/109 [00:57<00:00,  1.91it/s]                                                                                                                                                                                                                                    \n"
     ]
    },
    {
     "name": "stdout",
     "output_type": "stream",
     "text": [
      "loss : 0.4903\tSAVED MODEL\n",
      "\n"
     ]
    },
    {
     "name": "stderr",
     "output_type": "stream",
     "text": [
      "Epoch 4/20  Mem : 19GB  LR : 9.76E-05  Loss: 0.0813: 100%|██████████| 189/189 [01:23<00:00,  2.26it/s]\n",
      "Val Loss: 0.4545: 100%|██████████| 109/109 [00:59<00:00,  1.83it/s]                                                                                                                                                                                                                                    \n"
     ]
    },
    {
     "name": "stdout",
     "output_type": "stream",
     "text": [
      "loss : 0.4545\tSAVED MODEL\n",
      "\n"
     ]
    },
    {
     "name": "stderr",
     "output_type": "stream",
     "text": [
      "Epoch 5/20  Mem : 19GB  LR : 9.46E-05  Loss: 0.0765: 100%|██████████| 189/189 [01:23<00:00,  2.25it/s]\n",
      "Val Loss: 0.4310: 100%|██████████| 109/109 [00:57<00:00,  1.88it/s]                                                                                                                                                                                                                                    \n"
     ]
    },
    {
     "name": "stdout",
     "output_type": "stream",
     "text": [
      "loss : 0.4310\tSAVED MODEL\n",
      "\n"
     ]
    },
    {
     "name": "stderr",
     "output_type": "stream",
     "text": [
      "Epoch 6/20  Mem : 19GB  LR : 9.05E-05  Loss: 0.0734: 100%|██████████| 189/189 [01:24<00:00,  2.24it/s]\n",
      "Val Loss: 0.4491: 100%|██████████| 109/109 [00:56<00:00,  1.92it/s]                                                                                                                                                                                                                                    \n"
     ]
    },
    {
     "name": "stdout",
     "output_type": "stream",
     "text": [
      "loss : 0.4491\n",
      "\n"
     ]
    },
    {
     "name": "stderr",
     "output_type": "stream",
     "text": [
      "Epoch 7/20  Mem : 19GB  LR : 8.54E-05  Loss: 0.0705: 100%|██████████| 189/189 [01:23<00:00,  2.25it/s]\n",
      "Val Loss: 0.4513: 100%|██████████| 109/109 [00:57<00:00,  1.88it/s]                                                                                                                                                                                                                                    \n"
     ]
    },
    {
     "name": "stdout",
     "output_type": "stream",
     "text": [
      "loss : 0.4513\n",
      "\n"
     ]
    },
    {
     "name": "stderr",
     "output_type": "stream",
     "text": [
      "Epoch 8/20  Mem : 19GB  LR : 7.94E-05  Loss: 0.0683: 100%|██████████| 189/189 [01:23<00:00,  2.26it/s]\n",
      "Val Loss: 0.5193: 100%|██████████| 109/109 [00:57<00:00,  1.89it/s]                                                                                                                                                                                                                                    \n"
     ]
    },
    {
     "name": "stdout",
     "output_type": "stream",
     "text": [
      "loss : 0.5193\n",
      "\n"
     ]
    },
    {
     "name": "stderr",
     "output_type": "stream",
     "text": [
      "Epoch 9/20  Mem : 19GB  LR : 7.27E-05  Loss: 0.0666: 100%|██████████| 189/189 [01:23<00:00,  2.26it/s]\n",
      "Val Loss: 0.4643: 100%|██████████| 109/109 [00:59<00:00,  1.85it/s]                                                                                                                                                                                                                                    \n"
     ]
    },
    {
     "name": "stdout",
     "output_type": "stream",
     "text": [
      "loss : 0.4643\n",
      "\n"
     ]
    },
    {
     "name": "stderr",
     "output_type": "stream",
     "text": [
      "Epoch 10/20  Mem : 19GB  LR : 6.55E-05  Loss: 0.0648: 100%|██████████| 189/189 [01:24<00:00,  2.24it/s]\n",
      "Val Loss: 0.4192: 100%|██████████| 109/109 [00:57<00:00,  1.90it/s]                                                                                                                                                                                                                                    \n"
     ]
    },
    {
     "name": "stdout",
     "output_type": "stream",
     "text": [
      "loss : 0.4192\tSAVED MODEL\n",
      "\n"
     ]
    },
    {
     "name": "stderr",
     "output_type": "stream",
     "text": [
      "Epoch 11/20  Mem : 19GB  LR : 5.79E-05  Loss: 0.0631: 100%|██████████| 189/189 [01:23<00:00,  2.27it/s]\n",
      "Val Loss: 0.4358: 100%|██████████| 109/109 [00:58<00:00,  1.88it/s]                                                                                                                                                                                                                                    \n"
     ]
    },
    {
     "name": "stdout",
     "output_type": "stream",
     "text": [
      "loss : 0.4358\n",
      "\n"
     ]
    },
    {
     "name": "stderr",
     "output_type": "stream",
     "text": [
      "Epoch 12/20  Mem : 19GB  LR : 5.01E-05  Loss: 0.0623: 100%|██████████| 189/189 [01:23<00:00,  2.27it/s]\n",
      "Val Loss: 0.4337: 100%|██████████| 109/109 [00:56<00:00,  1.92it/s]                                                                                                                                                                                                                                    \n"
     ]
    },
    {
     "name": "stdout",
     "output_type": "stream",
     "text": [
      "loss : 0.4337\n",
      "\n"
     ]
    },
    {
     "name": "stderr",
     "output_type": "stream",
     "text": [
      "Epoch 13/20  Mem : 19GB  LR : 4.22E-05  Loss: 0.0618: 100%|██████████| 189/189 [01:23<00:00,  2.26it/s]\n",
      "Val Loss: 0.4287: 100%|██████████| 109/109 [00:58<00:00,  1.86it/s]                                                                                                                                                                                                                                    \n"
     ]
    },
    {
     "name": "stdout",
     "output_type": "stream",
     "text": [
      "loss : 0.4287\n",
      "\n"
     ]
    },
    {
     "name": "stderr",
     "output_type": "stream",
     "text": [
      "Epoch 14/20  Mem : 19GB  LR : 3.46E-05  Loss: 0.0603: 100%|██████████| 189/189 [01:23<00:00,  2.28it/s]\n",
      "Val Loss: 0.4321: 100%|██████████| 109/109 [00:58<00:00,  1.88it/s]                                                                                                                                                                                                                                    \n"
     ]
    },
    {
     "name": "stdout",
     "output_type": "stream",
     "text": [
      "loss : 0.4321\n",
      "\n"
     ]
    },
    {
     "name": "stderr",
     "output_type": "stream",
     "text": [
      "Epoch 15/20  Mem : 19GB  LR : 2.74E-05  Loss: 0.0601: 100%|██████████| 189/189 [01:23<00:00,  2.26it/s]\n",
      "Val Loss: 0.4412: 100%|██████████| 109/109 [00:57<00:00,  1.90it/s]                                                                                                                                                                                                                                    \n"
     ]
    },
    {
     "name": "stdout",
     "output_type": "stream",
     "text": [
      "loss : 0.4412\n",
      "\n"
     ]
    },
    {
     "name": "stderr",
     "output_type": "stream",
     "text": [
      "Epoch 16/20  Mem : 19GB  LR : 2.07E-05  Loss: 0.0599: 100%|██████████| 189/189 [01:29<00:00,  2.11it/s]\n",
      "Val Loss: 0.4483: 100%|██████████| 109/109 [00:58<00:00,  1.88it/s]                                                                                                                                                                                                                                    \n"
     ]
    },
    {
     "name": "stdout",
     "output_type": "stream",
     "text": [
      "loss : 0.4483\n",
      "\n"
     ]
    },
    {
     "name": "stderr",
     "output_type": "stream",
     "text": [
      "Epoch 17/20  Mem : 19GB  LR : 1.47E-05  Loss: 0.0590: 100%|██████████| 189/189 [01:23<00:00,  2.26it/s]\n",
      "Val Loss: 0.4409: 100%|██████████| 109/109 [00:57<00:00,  1.89it/s]                                                                                                                                                                                                                                    \n"
     ]
    },
    {
     "name": "stdout",
     "output_type": "stream",
     "text": [
      "loss : 0.4409\n",
      "\n"
     ]
    },
    {
     "name": "stderr",
     "output_type": "stream",
     "text": [
      "Epoch 18/20  Mem : 19GB  LR : 9.64E-06  Loss: 0.0593: 100%|██████████| 189/189 [01:23<00:00,  2.25it/s]\n",
      "Val Loss: 0.4389: 100%|██████████| 109/109 [00:57<00:00,  1.88it/s]                                                                                                                                                                                                                                    \n"
     ]
    },
    {
     "name": "stdout",
     "output_type": "stream",
     "text": [
      "loss : 0.4389\n",
      "\n"
     ]
    },
    {
     "name": "stderr",
     "output_type": "stream",
     "text": [
      "Epoch 19/20  Mem : 19GB  LR : 5.54E-06  Loss: 0.0588: 100%|██████████| 189/189 [01:23<00:00,  2.27it/s]\n",
      "Val Loss: 0.4341: 100%|██████████| 109/109 [00:58<00:00,  1.87it/s]                                                                                                                                                                                                                                    \n"
     ]
    },
    {
     "name": "stdout",
     "output_type": "stream",
     "text": [
      "loss : 0.4341\n",
      "\n"
     ]
    },
    {
     "name": "stderr",
     "output_type": "stream",
     "text": [
      "100%|██████████████████████████████████████████████████████████████████████████████████████████████████████████████████████████████████████████████████████████████████████████████████████████████████████████████████████████████████████████████████████████████████| 25/25 [08:20<00:00, 20.01s/it]\n",
      "Val Loss: 0.4192: 100%|██████████| 109/109 [01:00<00:00,  1.81it/s]                                                                                                                                                                                                                                    \n",
      "100%|██████████████████████████████████████████████████████████████████████████████████████████████████████████████████████████████████████████████████████████████████████████████████████████████████████████████████████████████████████████████████████████████████| 25/25 [08:16<00:00, 19.86s/it]\n",
      "\u001b[34m\u001b[1mwandb\u001b[0m:                                                                                \n",
      "\u001b[34m\u001b[1mwandb\u001b[0m: \n",
      "\u001b[34m\u001b[1mwandb\u001b[0m: Run history:\n",
      "\u001b[34m\u001b[1mwandb\u001b[0m:      epoch ▁▁▁▁▂▂▂▂▂▂▃▃▃▃▄▄▄▄▄▄▅▅▅▅▅▅▆▆▆▆▇▇▇▇▇▇████\n",
      "\u001b[34m\u001b[1mwandb\u001b[0m: train_loss █▁▁▁▂▁▁▁▁▁▁▁▁▁▁▁▁▁▁▁\n",
      "\u001b[34m\u001b[1mwandb\u001b[0m: valid_loss ██▅▂▁▁▁▁▂▂▁▁▁▁▁▁▁▁▁▁\n",
      "\u001b[34m\u001b[1mwandb\u001b[0m: \n",
      "\u001b[34m\u001b[1mwandb\u001b[0m: Run summary:\n",
      "\u001b[34m\u001b[1mwandb\u001b[0m:      epoch 19\n",
      "\u001b[34m\u001b[1mwandb\u001b[0m: train_loss 0.07811\n",
      "\u001b[34m\u001b[1mwandb\u001b[0m: valid_loss 0.43409\n",
      "\u001b[34m\u001b[1mwandb\u001b[0m: \n",
      "\u001b[34m\u001b[1mwandb\u001b[0m: 🚀 View run \u001b[33mexp007_fold1\u001b[0m at: \u001b[34m\u001b[4mhttps://wandb.ai/welshonionman/SenNet/runs/66oai3s4\u001b[0m\n",
      "\u001b[34m\u001b[1mwandb\u001b[0m: Synced 5 W&B file(s), 0 media file(s), 0 artifact file(s) and 0 other file(s)\n",
      "\u001b[34m\u001b[1mwandb\u001b[0m: Find logs at: \u001b[35m\u001b[1m/kaggle/wandb/run-20240102_001914-66oai3s4/logs\u001b[0m\n"
     ]
    }
   ],
   "source": [
    "if cfg.debug:\n",
    "    print(\"!!!Debug mode!!!\\n\")\n",
    "    cfg.epochs = 5\n",
    "\n",
    "for fold in range(2):\n",
    "    train_dataloader, valid_dataloader = init_dataset(fold, df, cfg)\n",
    "    model, scaler, criterion, optimizer, scheduler, metrics = init_model(cfg)\n",
    "    slacknotify = init_exp(fold, cfg)\n",
    "\n",
    "    path_best = f\"./{cfg.exp_name}/{cfg.exp_name}_best_fold{fold}.pth\"\n",
    "    path_last = f\"./{cfg.exp_name}/{cfg.exp_name}_last_fold{fold}.pth\"\n",
    "\n",
    "    best_loss = float(\"inf\")\n",
    "    for epoch in range(cfg.epochs):\n",
    "        train(model, train_dataloader, optimizer, criterion, scheduler, scaler, epoch, cfg)\n",
    "        loss, pred_list, true_list = valid(model, valid_dataloader, criterion, epoch, cfg)\n",
    "\n",
    "        if loss < best_loss:\n",
    "            print(f\"loss : {loss:.4f}\\tSAVED MODEL\\n\")\n",
    "            slacknotify.send_reply(f\"epoch : {epoch}\\tscore : {loss:.4f}\\tBEST\")\n",
    "            best_loss = loss\n",
    "            save_model(model, cfg, path_best, loss=loss)\n",
    "        else:\n",
    "            print(f\"loss : {loss:.4f}\\n\")\n",
    "            slacknotify.send_reply(f\"epoch : {epoch}\\tscore : {loss:.4f}\")\n",
    "\n",
    "    last_score, last_thresh = calc_optim_thresh(pred_list, true_list, metrics, cfg)\n",
    "    save_model(model, cfg, path_last, loss=loss, score=last_score, thresh=last_thresh)\n",
    "    wandb.config.update({\"last_score\": last_score, \"last_thresh\": last_thresh})\n",
    "\n",
    "    best_model = load_model(model, path_best)\n",
    "    loss, pred_list, true_list = valid(best_model, valid_dataloader, criterion, epoch, cfg, log=False)\n",
    "\n",
    "    best_score, best_thresh = calc_optim_thresh(pred_list, true_list, metrics, cfg)\n",
    "    save_model(best_model, cfg, path_best, loss=loss, score=best_score, thresh=best_thresh)\n",
    "    wandb.config.update({\"best_score\": best_score, \"best_thresh\": best_thresh})\n",
    "\n",
    "    slacknotify.send_reply(\n",
    "        f\"{cfg.exp_name}_fold{fold} training finished\\nbest score : {best_score:.4f} last score : {last_score:.4f}\",\n",
    "        True,\n",
    "    )\n",
    "\n",
    "    if wandb.run:\n",
    "        wandb.finish()"
   ]
  },
  {
   "cell_type": "code",
   "execution_count": null,
   "metadata": {},
   "outputs": [],
   "source": []
  }
 ],
 "metadata": {
  "kaggle": {
   "accelerator": "nvidiaTeslaT4",
   "dataSources": [
    {
     "databundleVersionId": 6962461,
     "sourceId": 61446,
     "sourceType": "competition"
    },
    {
     "datasetId": 1074109,
     "sourceId": 1807973,
     "sourceType": "datasetVersion"
    },
    {
     "sourceId": 150248402,
     "sourceType": "kernelVersion"
    }
   ],
   "dockerImageVersionId": 30587,
   "isGpuEnabled": true,
   "isInternetEnabled": true,
   "language": "python",
   "sourceType": "notebook"
  },
  "kernelspec": {
   "display_name": "Python 3",
   "language": "python",
   "name": "python3"
  },
  "language_info": {
   "codemirror_mode": {
    "name": "ipython",
    "version": 3
   },
   "file_extension": ".py",
   "mimetype": "text/x-python",
   "name": "python",
   "nbconvert_exporter": "python",
   "pygments_lexer": "ipython3",
   "version": "3.10.13"
  }
 },
 "nbformat": 4,
 "nbformat_minor": 4
}
