{
 "cells": [
  {
   "cell_type": "code",
   "execution_count": 1,
   "metadata": {
    "_cell_guid": "b1076dfc-b9ad-4769-8c92-a6c4dae69d19",
    "_kg_hide-input": true,
    "_kg_hide-output": true,
    "_uuid": "8f2839f25d086af736a60e9eeb907d3b93b6e0e5",
    "execution": {
     "iopub.execute_input": "2024-01-07T01:52:38.718744Z",
     "iopub.status.busy": "2024-01-07T01:52:38.718608Z",
     "iopub.status.idle": "2024-01-07T01:52:42.586686Z",
     "shell.execute_reply": "2024-01-07T01:52:42.586096Z"
    }
   },
   "outputs": [],
   "source": [
    "import json\n",
    "import pandas as pd\n",
    "import numpy as np\n",
    "import numexpr as ne\n",
    "import os\n",
    "import albumentations as A\n",
    "from albumentations.pytorch import ToTensorV2\n",
    "import wandb\n",
    "from dotenv import load_dotenv\n",
    "from tqdm import tqdm\n",
    "import torch\n",
    "from torch.utils.data import DataLoader\n",
    "import torch.cuda.amp as amp\n",
    "\n",
    "from src.model.model import save_model, load_inference_model\n",
    "from src.dataset.df import check_dataset\n",
    "from src.utils.common import set_seed\n",
    "\n",
    "from src.experiment.inference import inference\n",
    "from src.experiment.initialize import init_exp\n",
    "from src.utils.metrics import compute_surface_dice_score_from_volume\n",
    "from src.model.model import build_model\n",
    "from src.model.loss import get_lossfn\n",
    "from src.utils.metrics import get_metrics\n",
    "from src.model.scheduler import get_scheduler\n",
    "from src.dataset.common import get_train_dataset"
   ]
  },
  {
   "cell_type": "code",
   "execution_count": 2,
   "metadata": {
    "execution": {
     "iopub.execute_input": "2024-01-07T01:52:42.589433Z",
     "iopub.status.busy": "2024-01-07T01:52:42.589032Z",
     "iopub.status.idle": "2024-01-07T01:52:42.610525Z",
     "shell.execute_reply": "2024-01-07T01:52:42.609985Z"
    }
   },
   "outputs": [],
   "source": [
    "class cfg:\n",
    "    debug = False\n",
    "    check_dataset = False\n",
    "\n",
    "    # = data CFG ====================================================\n",
    "\n",
    "    dataset_path = \"/kaggle/working/dataset/train03_xy_256_128_z_1_1/\"\n",
    "    train_dataset = \"Base2dDataset\"\n",
    "    negative_sample_rate = 0.2\n",
    "\n",
    "    # = experiment CFG =================================================\n",
    "\n",
    "    project = \"SenNet\"\n",
    "    exp_name = os.path.basename(os.getcwd())\n",
    "    notes = \"training with pseudo label model 2\"\n",
    "\n",
    "    # = model CFG ======================================================\n",
    "\n",
    "    model_arch = \"Unet\"\n",
    "    backbone = \"se_resnext50_32x4d\"\n",
    "    in_chans = 1\n",
    "    target_size = 1\n",
    "\n",
    "    # = training CFG ===================================================\n",
    "\n",
    "    epochs = 30\n",
    "\n",
    "    train_batch_size = 64\n",
    "    valid_batch_size = train_batch_size\n",
    "\n",
    "    loss = \"DiceLoss\"\n",
    "    metrics = \"Dice\"\n",
    "    lr = 5e-4\n",
    "    num_workers = 12\n",
    "\n",
    "    # = augmentation ===================================================\n",
    "\n",
    "    image_size = 256\n",
    "    train_aug = [\n",
    "        A.RandomRotate90(p=0.5),\n",
    "        A.RandomGamma(p=0.5),\n",
    "        A.RandomBrightnessContrast(p=0.5),\n",
    "        A.ShiftScaleRotate(p=0.5),\n",
    "        A.GridDistortion(num_steps=5, distort_limit=0.3, p=0.5),\n",
    "        ToTensorV2(transpose_mask=True),\n",
    "    ]\n",
    "\n",
    "    valid_aug = [\n",
    "        ToTensorV2(transpose_mask=True),\n",
    "    ]\n",
    "\n",
    "    # =============== inference ========================================\n",
    "\n",
    "    test_dataset = \"BaseInferenceDataset\"\n",
    "    stride = image_size // 2\n",
    "    drop_egde_pixel = 32\n",
    "\n",
    "\n",
    "load_dotenv(\"/kaggle/key.env\")\n",
    "set_seed()"
   ]
  },
  {
   "cell_type": "code",
   "execution_count": 4,
   "metadata": {
    "execution": {
     "iopub.execute_input": "2024-01-07T01:52:42.612743Z",
     "iopub.status.busy": "2024-01-07T01:52:42.612486Z",
     "iopub.status.idle": "2024-01-07T01:52:51.138112Z",
     "shell.execute_reply": "2024-01-07T01:52:51.137629Z"
    }
   },
   "outputs": [
    {
     "data": {
      "text/html": [
       "<div>\n",
       "<style scoped>\n",
       "    .dataframe tbody tr th:only-of-type {\n",
       "        vertical-align: middle;\n",
       "    }\n",
       "\n",
       "    .dataframe tbody tr th {\n",
       "        vertical-align: top;\n",
       "    }\n",
       "\n",
       "    .dataframe thead th {\n",
       "        text-align: right;\n",
       "    }\n",
       "</style>\n",
       "<table border=\"1\" class=\"dataframe\">\n",
       "  <thead>\n",
       "    <tr style=\"text-align: right;\">\n",
       "      <th></th>\n",
       "      <th>image_path</th>\n",
       "      <th>label_path</th>\n",
       "      <th>fname</th>\n",
       "      <th>kidney</th>\n",
       "      <th>x</th>\n",
       "      <th>y</th>\n",
       "      <th>z</th>\n",
       "      <th>std</th>\n",
       "      <th>sum</th>\n",
       "      <th>fold0</th>\n",
       "      <th>fold1</th>\n",
       "      <th>fold2</th>\n",
       "      <th>fold3</th>\n",
       "      <th>fold4</th>\n",
       "    </tr>\n",
       "  </thead>\n",
       "  <tbody>\n",
       "    <tr>\n",
       "      <th>0</th>\n",
       "      <td>/kaggle/working/dataset/train03_xy_256_128_z_1...</td>\n",
       "      <td>/kaggle/working/dataset/train03_xy_256_128_z_1...</td>\n",
       "      <td>x0_y0_z102_std0036_sum0</td>\n",
       "      <td>kidney_1_pseudo</td>\n",
       "      <td>0</td>\n",
       "      <td>0</td>\n",
       "      <td>102</td>\n",
       "      <td>36</td>\n",
       "      <td>0</td>\n",
       "      <td>train</td>\n",
       "      <td>train</td>\n",
       "      <td>train</td>\n",
       "      <td>valid</td>\n",
       "      <td>train</td>\n",
       "    </tr>\n",
       "    <tr>\n",
       "      <th>1</th>\n",
       "      <td>/kaggle/working/dataset/train03_xy_256_128_z_1...</td>\n",
       "      <td>/kaggle/working/dataset/train03_xy_256_128_z_1...</td>\n",
       "      <td>x0_y0_z104_std0036_sum0</td>\n",
       "      <td>kidney_1_pseudo</td>\n",
       "      <td>0</td>\n",
       "      <td>0</td>\n",
       "      <td>104</td>\n",
       "      <td>36</td>\n",
       "      <td>0</td>\n",
       "      <td>train</td>\n",
       "      <td>train</td>\n",
       "      <td>train</td>\n",
       "      <td>valid</td>\n",
       "      <td>train</td>\n",
       "    </tr>\n",
       "    <tr>\n",
       "      <th>2</th>\n",
       "      <td>/kaggle/working/dataset/train03_xy_256_128_z_1...</td>\n",
       "      <td>/kaggle/working/dataset/train03_xy_256_128_z_1...</td>\n",
       "      <td>x0_y0_z111_std0034_sum0</td>\n",
       "      <td>kidney_1_pseudo</td>\n",
       "      <td>0</td>\n",
       "      <td>0</td>\n",
       "      <td>111</td>\n",
       "      <td>34</td>\n",
       "      <td>0</td>\n",
       "      <td>train</td>\n",
       "      <td>train</td>\n",
       "      <td>train</td>\n",
       "      <td>valid</td>\n",
       "      <td>train</td>\n",
       "    </tr>\n",
       "    <tr>\n",
       "      <th>3</th>\n",
       "      <td>/kaggle/working/dataset/train03_xy_256_128_z_1...</td>\n",
       "      <td>/kaggle/working/dataset/train03_xy_256_128_z_1...</td>\n",
       "      <td>x0_y0_z115_std0034_sum0</td>\n",
       "      <td>kidney_1_pseudo</td>\n",
       "      <td>0</td>\n",
       "      <td>0</td>\n",
       "      <td>115</td>\n",
       "      <td>34</td>\n",
       "      <td>0</td>\n",
       "      <td>train</td>\n",
       "      <td>train</td>\n",
       "      <td>train</td>\n",
       "      <td>valid</td>\n",
       "      <td>train</td>\n",
       "    </tr>\n",
       "    <tr>\n",
       "      <th>4</th>\n",
       "      <td>/kaggle/working/dataset/train03_xy_256_128_z_1...</td>\n",
       "      <td>/kaggle/working/dataset/train03_xy_256_128_z_1...</td>\n",
       "      <td>x0_y0_z123_std0033_sum0</td>\n",
       "      <td>kidney_1_pseudo</td>\n",
       "      <td>0</td>\n",
       "      <td>0</td>\n",
       "      <td>123</td>\n",
       "      <td>33</td>\n",
       "      <td>0</td>\n",
       "      <td>train</td>\n",
       "      <td>train</td>\n",
       "      <td>train</td>\n",
       "      <td>valid</td>\n",
       "      <td>train</td>\n",
       "    </tr>\n",
       "    <tr>\n",
       "      <th>...</th>\n",
       "      <td>...</td>\n",
       "      <td>...</td>\n",
       "      <td>...</td>\n",
       "      <td>...</td>\n",
       "      <td>...</td>\n",
       "      <td>...</td>\n",
       "      <td>...</td>\n",
       "      <td>...</td>\n",
       "      <td>...</td>\n",
       "      <td>...</td>\n",
       "      <td>...</td>\n",
       "      <td>...</td>\n",
       "      <td>...</td>\n",
       "      <td>...</td>\n",
       "    </tr>\n",
       "    <tr>\n",
       "      <th>1456730</th>\n",
       "      <td>/kaggle/working/dataset/train03_xy_256_128_z_1...</td>\n",
       "      <td>/kaggle/working/dataset/train03_xy_256_128_z_1...</td>\n",
       "      <td>x896_y896_z997_std0148_sum0</td>\n",
       "      <td>kidney_9_pseudo</td>\n",
       "      <td>896</td>\n",
       "      <td>896</td>\n",
       "      <td>997</td>\n",
       "      <td>148</td>\n",
       "      <td>0</td>\n",
       "      <td>valid</td>\n",
       "      <td>train</td>\n",
       "      <td>train</td>\n",
       "      <td>train</td>\n",
       "      <td>train</td>\n",
       "    </tr>\n",
       "    <tr>\n",
       "      <th>1456731</th>\n",
       "      <td>/kaggle/working/dataset/train03_xy_256_128_z_1...</td>\n",
       "      <td>/kaggle/working/dataset/train03_xy_256_128_z_1...</td>\n",
       "      <td>x896_y896_z998_std0147_sum0</td>\n",
       "      <td>kidney_9_pseudo</td>\n",
       "      <td>896</td>\n",
       "      <td>896</td>\n",
       "      <td>998</td>\n",
       "      <td>147</td>\n",
       "      <td>0</td>\n",
       "      <td>valid</td>\n",
       "      <td>train</td>\n",
       "      <td>train</td>\n",
       "      <td>train</td>\n",
       "      <td>train</td>\n",
       "    </tr>\n",
       "    <tr>\n",
       "      <th>1456732</th>\n",
       "      <td>/kaggle/working/dataset/train03_xy_256_128_z_1...</td>\n",
       "      <td>/kaggle/working/dataset/train03_xy_256_128_z_1...</td>\n",
       "      <td>x896_y896_z999_std0145_sum0</td>\n",
       "      <td>kidney_9_pseudo</td>\n",
       "      <td>896</td>\n",
       "      <td>896</td>\n",
       "      <td>999</td>\n",
       "      <td>145</td>\n",
       "      <td>0</td>\n",
       "      <td>valid</td>\n",
       "      <td>train</td>\n",
       "      <td>train</td>\n",
       "      <td>train</td>\n",
       "      <td>train</td>\n",
       "    </tr>\n",
       "    <tr>\n",
       "      <th>1456733</th>\n",
       "      <td>/kaggle/working/dataset/train03_xy_256_128_z_1...</td>\n",
       "      <td>/kaggle/working/dataset/train03_xy_256_128_z_1...</td>\n",
       "      <td>x896_y896_z99_std0047_sum0</td>\n",
       "      <td>kidney_9_pseudo</td>\n",
       "      <td>896</td>\n",
       "      <td>896</td>\n",
       "      <td>99</td>\n",
       "      <td>47</td>\n",
       "      <td>0</td>\n",
       "      <td>valid</td>\n",
       "      <td>train</td>\n",
       "      <td>train</td>\n",
       "      <td>train</td>\n",
       "      <td>train</td>\n",
       "    </tr>\n",
       "    <tr>\n",
       "      <th>1456734</th>\n",
       "      <td>/kaggle/working/dataset/train03_xy_256_128_z_1...</td>\n",
       "      <td>/kaggle/working/dataset/train03_xy_256_128_z_1...</td>\n",
       "      <td>x896_y896_z9_std0028_sum0</td>\n",
       "      <td>kidney_9_pseudo</td>\n",
       "      <td>896</td>\n",
       "      <td>896</td>\n",
       "      <td>9</td>\n",
       "      <td>28</td>\n",
       "      <td>0</td>\n",
       "      <td>valid</td>\n",
       "      <td>train</td>\n",
       "      <td>train</td>\n",
       "      <td>train</td>\n",
       "      <td>train</td>\n",
       "    </tr>\n",
       "  </tbody>\n",
       "</table>\n",
       "<p>1456735 rows × 14 columns</p>\n",
       "</div>"
      ],
      "text/plain": [
       "                                                image_path  \\\n",
       "0        /kaggle/working/dataset/train03_xy_256_128_z_1...   \n",
       "1        /kaggle/working/dataset/train03_xy_256_128_z_1...   \n",
       "2        /kaggle/working/dataset/train03_xy_256_128_z_1...   \n",
       "3        /kaggle/working/dataset/train03_xy_256_128_z_1...   \n",
       "4        /kaggle/working/dataset/train03_xy_256_128_z_1...   \n",
       "...                                                    ...   \n",
       "1456730  /kaggle/working/dataset/train03_xy_256_128_z_1...   \n",
       "1456731  /kaggle/working/dataset/train03_xy_256_128_z_1...   \n",
       "1456732  /kaggle/working/dataset/train03_xy_256_128_z_1...   \n",
       "1456733  /kaggle/working/dataset/train03_xy_256_128_z_1...   \n",
       "1456734  /kaggle/working/dataset/train03_xy_256_128_z_1...   \n",
       "\n",
       "                                                label_path  \\\n",
       "0        /kaggle/working/dataset/train03_xy_256_128_z_1...   \n",
       "1        /kaggle/working/dataset/train03_xy_256_128_z_1...   \n",
       "2        /kaggle/working/dataset/train03_xy_256_128_z_1...   \n",
       "3        /kaggle/working/dataset/train03_xy_256_128_z_1...   \n",
       "4        /kaggle/working/dataset/train03_xy_256_128_z_1...   \n",
       "...                                                    ...   \n",
       "1456730  /kaggle/working/dataset/train03_xy_256_128_z_1...   \n",
       "1456731  /kaggle/working/dataset/train03_xy_256_128_z_1...   \n",
       "1456732  /kaggle/working/dataset/train03_xy_256_128_z_1...   \n",
       "1456733  /kaggle/working/dataset/train03_xy_256_128_z_1...   \n",
       "1456734  /kaggle/working/dataset/train03_xy_256_128_z_1...   \n",
       "\n",
       "                               fname           kidney    x    y    z  std  \\\n",
       "0            x0_y0_z102_std0036_sum0  kidney_1_pseudo    0    0  102   36   \n",
       "1            x0_y0_z104_std0036_sum0  kidney_1_pseudo    0    0  104   36   \n",
       "2            x0_y0_z111_std0034_sum0  kidney_1_pseudo    0    0  111   34   \n",
       "3            x0_y0_z115_std0034_sum0  kidney_1_pseudo    0    0  115   34   \n",
       "4            x0_y0_z123_std0033_sum0  kidney_1_pseudo    0    0  123   33   \n",
       "...                              ...              ...  ...  ...  ...  ...   \n",
       "1456730  x896_y896_z997_std0148_sum0  kidney_9_pseudo  896  896  997  148   \n",
       "1456731  x896_y896_z998_std0147_sum0  kidney_9_pseudo  896  896  998  147   \n",
       "1456732  x896_y896_z999_std0145_sum0  kidney_9_pseudo  896  896  999  145   \n",
       "1456733   x896_y896_z99_std0047_sum0  kidney_9_pseudo  896  896   99   47   \n",
       "1456734    x896_y896_z9_std0028_sum0  kidney_9_pseudo  896  896    9   28   \n",
       "\n",
       "         sum  fold0  fold1  fold2  fold3  fold4  \n",
       "0          0  train  train  train  valid  train  \n",
       "1          0  train  train  train  valid  train  \n",
       "2          0  train  train  train  valid  train  \n",
       "3          0  train  train  train  valid  train  \n",
       "4          0  train  train  train  valid  train  \n",
       "...      ...    ...    ...    ...    ...    ...  \n",
       "1456730    0  valid  train  train  train  train  \n",
       "1456731    0  valid  train  train  train  train  \n",
       "1456732    0  valid  train  train  train  train  \n",
       "1456733    0  valid  train  train  train  train  \n",
       "1456734    0  valid  train  train  train  train  \n",
       "\n",
       "[1456735 rows x 14 columns]"
      ]
     },
     "metadata": {},
     "output_type": "display_data"
    }
   ],
   "source": [
    "def filter_dataset(df):\n",
    "    # trainのうちlabelが全くないものは90%の確率で除外\n",
    "    df[\"random\"] = np.random.rand(len(df))\n",
    "    df = df[(df[\"sum\"] > 0) | (df[\"fold0\"] == \"valid\") | (df[\"random\"] < cfg.negative_sample_rate)]\n",
    "    df = df.reset_index(drop=True)\n",
    "    df = df.drop([\"random\"], axis=1)\n",
    "    return df\n",
    "\n",
    "\n",
    "df = pd.read_csv(f\"{cfg.dataset_path}/dataset.csv\")\n",
    "df = filter_dataset(df)\n",
    "if cfg.debug:\n",
    "    df = df.sample(10000).reset_index(drop=True)\n",
    "display(df)\n",
    "\n",
    "if cfg.check_dataset:\n",
    "    check_dataset(df, cfg)"
   ]
  },
  {
   "cell_type": "code",
   "execution_count": 5,
   "metadata": {
    "execution": {
     "iopub.execute_input": "2024-01-07T01:52:51.157425Z",
     "iopub.status.busy": "2024-01-07T01:52:51.157197Z",
     "iopub.status.idle": "2024-01-07T12:46:21.995347Z",
     "shell.execute_reply": "2024-01-07T12:46:21.993525Z"
    }
   },
   "outputs": [
    {
     "name": "stdout",
     "output_type": "stream",
     "text": [
      "model_arch:  Unet\n",
      "backbone:  se_resnext50_32x4d\n"
     ]
    },
    {
     "name": "stderr",
     "output_type": "stream",
     "text": [
      "Failed to detect the name of this notebook, you can set it manually with the WANDB_NOTEBOOK_NAME environment variable to enable code saving.\n",
      "\u001b[34m\u001b[1mwandb\u001b[0m: Currently logged in as: \u001b[33mwelshonionman\u001b[0m. Use \u001b[1m`wandb login --relogin`\u001b[0m to force relogin\n"
     ]
    },
    {
     "data": {
      "text/html": [
       "Tracking run with wandb version 0.16.2"
      ],
      "text/plain": [
       "<IPython.core.display.HTML object>"
      ]
     },
     "metadata": {},
     "output_type": "display_data"
    },
    {
     "data": {
      "text/html": [
       "Run data is saved locally in <code>/kaggle\\wandb\\run-20240202_212426-75ee6j9y</code>"
      ],
      "text/plain": [
       "<IPython.core.display.HTML object>"
      ]
     },
     "metadata": {},
     "output_type": "display_data"
    },
    {
     "data": {
      "text/html": [
       "Syncing run <strong><a href='https://wandb.ai/welshonionman/SenNet/runs/75ee6j9y' target=\"_blank\">train03_fold4</a></strong> to <a href='https://wandb.ai/welshonionman/SenNet' target=\"_blank\">Weights & Biases</a> (<a href='https://wandb.me/run' target=\"_blank\">docs</a>)<br/>"
      ],
      "text/plain": [
       "<IPython.core.display.HTML object>"
      ]
     },
     "metadata": {},
     "output_type": "display_data"
    },
    {
     "data": {
      "text/html": [
       " View project at <a href='https://wandb.ai/welshonionman/SenNet' target=\"_blank\">https://wandb.ai/welshonionman/SenNet</a>"
      ],
      "text/plain": [
       "<IPython.core.display.HTML object>"
      ]
     },
     "metadata": {},
     "output_type": "display_data"
    },
    {
     "data": {
      "text/html": [
       " View run at <a href='https://wandb.ai/welshonionman/SenNet/runs/75ee6j9y' target=\"_blank\">https://wandb.ai/welshonionman/SenNet/runs/75ee6j9y</a>"
      ],
      "text/plain": [
       "<IPython.core.display.HTML object>"
      ]
     },
     "metadata": {},
     "output_type": "display_data"
    },
    {
     "name": "stderr",
     "output_type": "stream",
     "text": [
      "Epoch 0/30  Mem : 12.3GB  LR : 5.00E-04  Loss: 0.0716: 100%|██████████| 22762/22762 [1:07:08<00:00,  5.65it/s]\n",
      "|          | 0/0 [00:06<?, ?it/s]\n"
     ]
    },
    {
     "name": "stdout",
     "output_type": "stream",
     "text": [
      "loss : 0.0716\tSAVED MODEL\n",
      "\n"
     ]
    },
    {
     "name": "stderr",
     "output_type": "stream",
     "text": [
      "Epoch 1/30  Mem : 12.3GB  LR : 5.00E-03  Loss: 0.0881: 100%|██████████| 22762/22762 [1:06:23<00:00,  5.71it/s]\n",
      "|          | 0/0 [00:06<?, ?it/s]\n"
     ]
    },
    {
     "name": "stdout",
     "output_type": "stream",
     "text": [
      "loss : 0.0881\n",
      "\n"
     ]
    },
    {
     "name": "stderr",
     "output_type": "stream",
     "text": [
      "Epoch 2/30  Mem : 12.3GB  LR : 5.00E-04  Loss: 0.0566: 100%|██████████| 22762/22762 [1:06:27<00:00,  5.71it/s]\n",
      "|          | 0/0 [00:06<?, ?it/s]\n"
     ]
    },
    {
     "name": "stdout",
     "output_type": "stream",
     "text": [
      "loss : 0.0566\tSAVED MODEL\n",
      "\n"
     ]
    },
    {
     "name": "stderr",
     "output_type": "stream",
     "text": [
      "Epoch 3/30  Mem : 12.3GB  LR : 4.99E-04  Loss: 0.0532: 100%|██████████| 22762/22762 [1:06:42<00:00,  5.69it/s]\n",
      "|          | 0/0 [00:06<?, ?it/s]\n"
     ]
    },
    {
     "name": "stdout",
     "output_type": "stream",
     "text": [
      "loss : 0.0532\tSAVED MODEL\n",
      "\n"
     ]
    },
    {
     "name": "stderr",
     "output_type": "stream",
     "text": [
      "Epoch 4/30  Mem : 12.3GB  LR : 4.95E-04  Loss: 0.0515: 100%|██████████| 22762/22762 [1:06:25<00:00,  5.71it/s]\n",
      "|          | 0/0 [00:06<?, ?it/s]\n"
     ]
    },
    {
     "name": "stdout",
     "output_type": "stream",
     "text": [
      "loss : 0.0515\tSAVED MODEL\n",
      "\n"
     ]
    },
    {
     "name": "stderr",
     "output_type": "stream",
     "text": [
      "Epoch 5/30  Mem : 12.3GB  LR : 4.88E-04  Loss: 0.0505: 100%|██████████| 22762/22762 [1:06:39<00:00,  5.69it/s]\n",
      "|          | 0/0 [00:06<?, ?it/s]\n"
     ]
    },
    {
     "name": "stdout",
     "output_type": "stream",
     "text": [
      "loss : 0.0505\tSAVED MODEL\n",
      "\n"
     ]
    },
    {
     "name": "stderr",
     "output_type": "stream",
     "text": [
      "Epoch 6/30  Mem : 12.3GB  LR : 4.78E-04  Loss: 0.0498: 100%|██████████| 22762/22762 [1:06:27<00:00,  5.71it/s]\n",
      "|          | 0/0 [00:06<?, ?it/s]\n"
     ]
    },
    {
     "name": "stdout",
     "output_type": "stream",
     "text": [
      "loss : 0.0498\tSAVED MODEL\n",
      "\n"
     ]
    },
    {
     "name": "stderr",
     "output_type": "stream",
     "text": [
      "Epoch 7/30  Mem : 12.3GB  LR : 4.67E-04  Loss: 0.0493: 100%|██████████| 22762/22762 [1:08:16<00:00,  5.56it/s]\n",
      "|          | 0/0 [00:13<?, ?it/s]\n"
     ]
    },
    {
     "name": "stdout",
     "output_type": "stream",
     "text": [
      "loss : 0.0493\tSAVED MODEL\n",
      "\n"
     ]
    },
    {
     "name": "stderr",
     "output_type": "stream",
     "text": [
      "Epoch 8/30  Mem : 12.3GB  LR : 4.52E-04  Loss: 0.0486: 100%|██████████| 22762/22762 [1:08:29<00:00,  5.54it/s]\n",
      "|          | 0/0 [00:08<?, ?it/s]\n"
     ]
    },
    {
     "name": "stdout",
     "output_type": "stream",
     "text": [
      "loss : 0.0486\tSAVED MODEL\n",
      "\n"
     ]
    },
    {
     "name": "stderr",
     "output_type": "stream",
     "text": [
      "Epoch 9/30  Mem : 12.3GB  LR : 4.36E-04  Loss: 0.0482: 100%|██████████| 22762/22762 [1:08:17<00:00,  5.55it/s]\n",
      "|          | 0/0 [00:08<?, ?it/s]\n"
     ]
    },
    {
     "name": "stdout",
     "output_type": "stream",
     "text": [
      "loss : 0.0482\tSAVED MODEL\n",
      "\n"
     ]
    },
    {
     "name": "stderr",
     "output_type": "stream",
     "text": [
      "Epoch 10/30  Mem : 12.3GB  LR : 4.17E-04  Loss: 0.0477: 100%|██████████| 22762/22762 [1:08:26<00:00,  5.54it/s]\n",
      "|          | 0/0 [00:08<?, ?it/s]\n"
     ]
    },
    {
     "name": "stdout",
     "output_type": "stream",
     "text": [
      "loss : 0.0477\tSAVED MODEL\n",
      "\n"
     ]
    },
    {
     "name": "stderr",
     "output_type": "stream",
     "text": [
      "Epoch 11/30  Mem : 12.3GB  LR : 3.97E-04  Loss: 0.0473: 100%|██████████| 22762/22762 [1:08:21<00:00,  5.55it/s]\n",
      "|          | 0/0 [00:08<?, ?it/s]\n"
     ]
    },
    {
     "name": "stdout",
     "output_type": "stream",
     "text": [
      "loss : 0.0473\tSAVED MODEL\n",
      "\n"
     ]
    },
    {
     "name": "stderr",
     "output_type": "stream",
     "text": [
      "Epoch 12/30  Mem : 12.3GB  LR : 3.75E-04  Loss: 0.0469: 100%|██████████| 22762/22762 [1:08:30<00:00,  5.54it/s]\n",
      "|          | 0/0 [00:08<?, ?it/s]\n"
     ]
    },
    {
     "name": "stdout",
     "output_type": "stream",
     "text": [
      "loss : 0.0469\tSAVED MODEL\n",
      "\n"
     ]
    },
    {
     "name": "stderr",
     "output_type": "stream",
     "text": [
      "Epoch 13/30  Mem : 12.3GB  LR : 3.52E-04  Loss: 0.0463: 100%|██████████| 22762/22762 [1:08:31<00:00,  5.54it/s]\n",
      "|          | 0/0 [00:08<?, ?it/s]\n"
     ]
    },
    {
     "name": "stdout",
     "output_type": "stream",
     "text": [
      "loss : 0.0463\tSAVED MODEL\n",
      "\n"
     ]
    },
    {
     "name": "stderr",
     "output_type": "stream",
     "text": [
      "Epoch 14/30  Mem : 12.3GB  LR : 3.27E-04  Loss: 0.0457: 100%|██████████| 22762/22762 [1:08:18<00:00,  5.55it/s]\n",
      "|          | 0/0 [00:08<?, ?it/s]\n"
     ]
    },
    {
     "name": "stdout",
     "output_type": "stream",
     "text": [
      "loss : 0.0457\tSAVED MODEL\n",
      "\n"
     ]
    },
    {
     "name": "stderr",
     "output_type": "stream",
     "text": [
      "Epoch 15/30  Mem : 12.3GB  LR : 3.02E-04  Loss: 0.0454: 100%|██████████| 22762/22762 [1:08:33<00:00,  5.53it/s]\n",
      "|          | 0/0 [00:08<?, ?it/s]\n"
     ]
    },
    {
     "name": "stdout",
     "output_type": "stream",
     "text": [
      "loss : 0.0454\tSAVED MODEL\n",
      "\n"
     ]
    },
    {
     "name": "stderr",
     "output_type": "stream",
     "text": [
      "Epoch 16/30  Mem : 12.3GB  LR : 2.76E-04  Loss: 0.0450: 100%|██████████| 22762/22762 [1:08:33<00:00,  5.53it/s]\n",
      "|          | 0/0 [00:08<?, ?it/s]\n"
     ]
    },
    {
     "name": "stdout",
     "output_type": "stream",
     "text": [
      "loss : 0.0450\tSAVED MODEL\n",
      "\n"
     ]
    },
    {
     "name": "stderr",
     "output_type": "stream",
     "text": [
      "Epoch 17/30  Mem : 12.3GB  LR : 2.50E-04  Loss: 0.0446: 100%|██████████| 22762/22762 [1:08:30<00:00,  5.54it/s]\n",
      "|          | 0/0 [00:08<?, ?it/s]\n"
     ]
    },
    {
     "name": "stdout",
     "output_type": "stream",
     "text": [
      "loss : 0.0446\tSAVED MODEL\n",
      "\n"
     ]
    },
    {
     "name": "stderr",
     "output_type": "stream",
     "text": [
      "Epoch 18/30  Mem : 12.3GB  LR : 2.24E-04  Loss: 0.0440: 100%|██████████| 22762/22762 [1:08:27<00:00,  5.54it/s]\n",
      "|          | 0/0 [00:14<?, ?it/s]\n"
     ]
    },
    {
     "name": "stdout",
     "output_type": "stream",
     "text": [
      "loss : 0.0440\tSAVED MODEL\n",
      "\n"
     ]
    },
    {
     "name": "stderr",
     "output_type": "stream",
     "text": [
      "Epoch 19/30  Mem : 12.3GB  LR : 1.98E-04  Loss: 0.0438: 100%|██████████| 22762/22762 [1:08:44<00:00,  5.52it/s]\n",
      "|          | 0/0 [00:08<?, ?it/s]\n"
     ]
    },
    {
     "name": "stdout",
     "output_type": "stream",
     "text": [
      "loss : 0.0438\tSAVED MODEL\n",
      "\n"
     ]
    },
    {
     "name": "stderr",
     "output_type": "stream",
     "text": [
      "Epoch 20/30  Mem : 12.3GB  LR : 1.73E-04  Loss: 0.0434: 100%|██████████| 22762/22762 [1:08:52<00:00,  5.51it/s]\n",
      "|          | 0/0 [00:14<?, ?it/s]\n"
     ]
    },
    {
     "name": "stdout",
     "output_type": "stream",
     "text": [
      "loss : 0.0434\tSAVED MODEL\n",
      "\n"
     ]
    },
    {
     "name": "stderr",
     "output_type": "stream",
     "text": [
      "Epoch 21/30  Mem : 12.3GB  LR : 1.48E-04  Loss: 0.0431: 100%|██████████| 22762/22762 [1:08:32<00:00,  5.53it/s]\n",
      "|          | 0/0 [00:08<?, ?it/s]\n"
     ]
    },
    {
     "name": "stdout",
     "output_type": "stream",
     "text": [
      "loss : 0.0431\tSAVED MODEL\n",
      "\n"
     ]
    },
    {
     "name": "stderr",
     "output_type": "stream",
     "text": [
      "Epoch 22/30  Mem : 12.3GB  LR : 1.25E-04  Loss: 0.0427: 100%|██████████| 22762/22762 [1:08:36<00:00,  5.53it/s]\n",
      "|          | 0/0 [00:09<?, ?it/s]\n"
     ]
    },
    {
     "name": "stdout",
     "output_type": "stream",
     "text": [
      "loss : 0.0427\tSAVED MODEL\n",
      "\n"
     ]
    },
    {
     "name": "stderr",
     "output_type": "stream",
     "text": [
      "Epoch 23/30  Mem : 12.3GB  LR : 1.03E-04  Loss: 0.0423: 100%|██████████| 22762/22762 [1:08:45<00:00,  5.52it/s]\n",
      "|          | 0/0 [00:08<?, ?it/s]\n"
     ]
    },
    {
     "name": "stdout",
     "output_type": "stream",
     "text": [
      "loss : 0.0423\tSAVED MODEL\n",
      "\n"
     ]
    },
    {
     "name": "stderr",
     "output_type": "stream",
     "text": [
      "Epoch 24/30  Mem : 12.3GB  LR : 8.28E-05  Loss: 0.0421: 100%|██████████| 22762/22762 [1:08:50<00:00,  5.51it/s]\n",
      "|          | 0/0 [00:08<?, ?it/s]\n"
     ]
    },
    {
     "name": "stdout",
     "output_type": "stream",
     "text": [
      "loss : 0.0421\tSAVED MODEL\n",
      "\n"
     ]
    },
    {
     "name": "stderr",
     "output_type": "stream",
     "text": [
      "Epoch 25/30  Mem : 12.3GB  LR : 6.43E-05  Loss: 0.0418: 100%|██████████| 22762/22762 [1:08:46<00:00,  5.52it/s]\n",
      "|          | 0/0 [00:08<?, ?it/s]\n"
     ]
    },
    {
     "name": "stdout",
     "output_type": "stream",
     "text": [
      "loss : 0.0418\tSAVED MODEL\n",
      "\n"
     ]
    },
    {
     "name": "stderr",
     "output_type": "stream",
     "text": [
      "Epoch 26/30  Mem : 12.3GB  LR : 4.78E-05  Loss: 0.0416: 100%|██████████| 22762/22762 [1:08:43<00:00,  5.52it/s]\n",
      "|          | 0/0 [00:08<?, ?it/s]\n"
     ]
    },
    {
     "name": "stdout",
     "output_type": "stream",
     "text": [
      "loss : 0.0416\tSAVED MODEL\n",
      "\n"
     ]
    },
    {
     "name": "stderr",
     "output_type": "stream",
     "text": [
      "Epoch 27/30  Mem : 12.3GB  LR : 3.36E-05  Loss: 0.0414: 100%|██████████| 22762/22762 [1:08:54<00:00,  5.50it/s]\n",
      "|          | 0/0 [00:08<?, ?it/s]\n"
     ]
    },
    {
     "name": "stdout",
     "output_type": "stream",
     "text": [
      "loss : 0.0414\tSAVED MODEL\n",
      "\n"
     ]
    },
    {
     "name": "stderr",
     "output_type": "stream",
     "text": [
      "Epoch 28/30  Mem : 12.3GB  LR : 2.17E-05  Loss: 0.0412: 100%|██████████| 22762/22762 [1:08:39<00:00,  5.52it/s]\n",
      "|          | 0/0 [00:08<?, ?it/s]\n"
     ]
    },
    {
     "name": "stdout",
     "output_type": "stream",
     "text": [
      "loss : 0.0412\tSAVED MODEL\n",
      "\n"
     ]
    },
    {
     "name": "stderr",
     "output_type": "stream",
     "text": [
      "Epoch 29/30  Mem : 12.3GB  LR : 1.23E-05  Loss: 0.0412: 100%|██████████| 22762/22762 [1:08:46<00:00,  5.52it/s]\n",
      "|          | 0/0 [00:13<?, ?it/s]\n"
     ]
    },
    {
     "name": "stdout",
     "output_type": "stream",
     "text": [
      "loss : 0.0412\tSAVED MODEL\n",
      "\n"
     ]
    },
    {
     "data": {
      "application/vnd.jupyter.widget-view+json": {
       "model_id": "e89e3078d6be40eaaa5a14bc0c7321c2",
       "version_major": 2,
       "version_minor": 0
      },
      "text/plain": [
       "VBox(children=(Label(value='0.001 MB of 0.001 MB uploaded\\r'), FloatProgress(value=1.0, max=1.0)))"
      ]
     },
     "metadata": {},
     "output_type": "display_data"
    },
    {
     "data": {
      "text/html": [
       "<style>\n",
       "    table.wandb td:nth-child(1) { padding: 0 10px; text-align: left ; width: auto;} td:nth-child(2) {text-align: left ; width: 100%}\n",
       "    .wandb-row { display: flex; flex-direction: row; flex-wrap: wrap; justify-content: flex-start; width: 100% }\n",
       "    .wandb-col { display: flex; flex-direction: column; flex-basis: 100%; flex: 1; padding: 10px; }\n",
       "    </style>\n",
       "<div class=\"wandb-row\"><div class=\"wandb-col\"><h3>Run history:</h3><br/><table class=\"wandb\"><tr><td>epoch</td><td>▁▁▁▂▂▂▂▃▃▃▃▄▄▄▄▅▅▅▅▆▆▆▆▇▇▇▇███</td></tr><tr><td>train_loss</td><td>▆█▃▃▃▂▂▂▂▂▂▂▂▂▂▂▂▂▁▁▁▁▁▁▁▁▁▁▁▁</td></tr></table><br/></div><div class=\"wandb-col\"><h3>Run summary:</h3><br/><table class=\"wandb\"><tr><td>epoch</td><td>29</td></tr><tr><td>train_loss</td><td>0.04116</td></tr></table><br/></div></div>"
      ],
      "text/plain": [
       "<IPython.core.display.HTML object>"
      ]
     },
     "metadata": {},
     "output_type": "display_data"
    },
    {
     "data": {
      "text/html": [
       " View run <strong style=\"color:#cdcd00\">train03_fold4</strong> at: <a href='https://wandb.ai/welshonionman/SenNet/runs/75ee6j9y' target=\"_blank\">https://wandb.ai/welshonionman/SenNet/runs/75ee6j9y</a><br/>Synced 5 W&B file(s), 0 media file(s), 0 artifact file(s) and 0 other file(s)"
      ],
      "text/plain": [
       "<IPython.core.display.HTML object>"
      ]
     },
     "metadata": {},
     "output_type": "display_data"
    },
    {
     "data": {
      "text/html": [
       "Find logs at: <code>/kaggle\\wandb\\run-20240202_212426-75ee6j9y\\logs</code>"
      ],
      "text/plain": [
       "<IPython.core.display.HTML object>"
      ]
     },
     "metadata": {},
     "output_type": "display_data"
    }
   ],
   "source": [
    "if cfg.debug:\n",
    "    print(\"!!!Debug mode!!!\\n\")\n",
    "    cfg.epochs = 5\n",
    "\n",
    "for fold in [4]:\n",
    "    dataset = get_train_dataset(cfg)\n",
    "\n",
    "    train_df = df[df[f\"fold{fold}\"] == \"train\"]\n",
    "    valid_df = df[df[f\"fold{fold}\"] == \"valid\"]\n",
    "\n",
    "    train_dataset = dataset(train_df, cfg, is_train=True)\n",
    "    valid_dataset = dataset(valid_df, cfg, is_train=False)\n",
    "\n",
    "    train_dataloader = DataLoader(train_dataset, batch_size=cfg.train_batch_size, num_workers=cfg.num_workers, shuffle=True)\n",
    "    valid_dataloader = DataLoader(valid_dataset, batch_size=cfg.valid_batch_size, num_workers=cfg.num_workers, shuffle=False)\n",
    "\n",
    "    model = build_model(cfg.model_arch, cfg.backbone, cfg.in_chans, cfg.target_size)\n",
    "    scaler = torch.cuda.amp.GradScaler()\n",
    "    criterion = get_lossfn(cfg)\n",
    "    optimizer = torch.optim.AdamW(model.parameters(), lr=cfg.lr)\n",
    "    scheduler = get_scheduler(cfg, optimizer)\n",
    "    metrics = get_metrics(cfg)\n",
    "\n",
    "    # model, scaler, criterion, optimizer, scheduler, metrics = init_model(cfg)\n",
    "    slacknotify = init_exp(fold, cfg)\n",
    "\n",
    "    path_best = f\"./{cfg.exp_name}/{cfg.exp_name}_best_fold{fold}.pth\"\n",
    "    path_last = f\"./{cfg.exp_name}/{cfg.exp_name}_last_fold{fold}.pth\"\n",
    "\n",
    "    best_loss = float(\"inf\")\n",
    "    for epoch in range(cfg.epochs):\n",
    "        model.train()\n",
    "        total_loss = 0.0\n",
    "        pbar_train = tqdm(enumerate(train_dataloader), total=len(train_dataloader), bar_format=\"{l_bar}{bar:10}{r_bar}{bar:-0b}\")\n",
    "\n",
    "        for i, (images, masks) in pbar_train:\n",
    "            images, masks = images.cuda(), masks.cuda()\n",
    "            optimizer.zero_grad()\n",
    "\n",
    "            with amp.autocast():\n",
    "                preds = model(images)\n",
    "                loss = criterion(preds, masks)\n",
    "                scaler.scale(loss).backward()\n",
    "                scaler.step(optimizer)\n",
    "                scaler.update()\n",
    "                total_loss += loss.detach().item()\n",
    "\n",
    "            loss_ = total_loss / (i + 1)\n",
    "            lr = f\"LR : {scheduler.get_lr()[0]:.2E}\"\n",
    "            gpu_mem = f\"Mem : {torch.cuda.memory_reserved() / 1E9:.3g}GB\"\n",
    "            pbar_train.set_description((\"%10s  \" * 3 + \"%10s\") % (f\"Epoch {epoch}/{cfg.epochs}\", gpu_mem, lr, f\"Loss: {loss_:.4f}\"))\n",
    "\n",
    "        train_loss = loss_\n",
    "        scheduler.step()\n",
    "        wandb.log({\"epoch\": epoch, \"train_loss\": train_loss})\n",
    "\n",
    "        model.eval()\n",
    "        total_loss = 0.0\n",
    "        pbar_val = tqdm(enumerate(valid_dataloader), total=len(valid_dataloader), bar_format=\"{l_bar}{bar:10}{r_bar}{bar:-10b}\")\n",
    "\n",
    "        for i, (images, masks) in pbar_val:\n",
    "            images, masks = images.cuda(), masks.cuda()\n",
    "            with torch.no_grad():\n",
    "                preds = model(images)\n",
    "                loss = criterion(preds, masks)\n",
    "                total_loss += loss.item()\n",
    "\n",
    "            loss_ = total_loss / (i + 1)\n",
    "            pbar_val.set_description((\"%10s\") % (f\"Val Loss: {loss_:.4f}\"))\n",
    "        valid_loss = loss_\n",
    "        # wandb.log({\"epoch\": epoch, \"valid_loss\": valid_loss})\n",
    "\n",
    "        if valid_loss < best_loss:\n",
    "            print(f\"loss : {valid_loss:.4f}\\tSAVED MODEL\\n\")\n",
    "            slacknotify.send_reply(f\"epoch : {epoch}\\tscore : {valid_loss:.4f}\\tBEST\")\n",
    "            best_loss = valid_loss\n",
    "            save_model(model, cfg, path_best, loss=loss)\n",
    "        else:\n",
    "            print(f\"loss : {valid_loss:.4f}\\n\")\n",
    "            slacknotify.send_reply(f\"epoch : {epoch}\\tscore : {valid_loss:.4f}\")\n",
    "\n",
    "    save_model(model, cfg, path_last, loss=valid_loss)\n",
    "    wandb.config.update({\"last_loss\": valid_loss, \"best_loss\": best_loss})\n",
    "\n",
    "    slacknotify.send_reply(f\"{cfg.exp_name}_fold{fold} training finished\\nbest loss : {best_loss:.4f} last loss : {loss_:.4f}\", True)\n",
    "\n",
    "    if wandb.run:\n",
    "        wandb.finish()"
   ]
  },
  {
   "cell_type": "code",
   "execution_count": 4,
   "metadata": {},
   "outputs": [
    {
     "name": "stdout",
     "output_type": "stream",
     "text": [
      "fold0\n",
      "kidney_9_pseudo\n",
      "0.1 0.9008\n",
      "0.2 0.92\n",
      "0.3 0.9333\n",
      "0.4 0.9441\n",
      "0.5 0.9488\n",
      "0.6 0.951\n",
      "0.7 0.9512\n",
      "0.8 0.9463\n",
      "0.9 0.9328\n",
      "0.6 0.951\n",
      "0.61 0.9512\n",
      "0.62 0.9513\n",
      "0.63 0.9514\n",
      "0.64 0.9514\n",
      "0.65 0.9515\n",
      "0.66 0.9515\n",
      "0.67 0.9516\n",
      "0.68 0.9515\n",
      "0.69 0.9513\n",
      "0.7 0.9512\n",
      "0.71 0.951\n",
      "0.72 0.9508\n",
      "0.73 0.9506\n",
      "0.74 0.9503\n",
      "0.75 0.9495\n",
      "0.76 0.9489\n",
      "0.77 0.9486\n",
      "0.78 0.948\n",
      "0.79 0.9476\n",
      "(0.67, 0.9516)\n",
      "fold1\n",
      "kidney_3_pseudo\n",
      "0.1 0.8928\n",
      "0.2 0.9108\n",
      "0.3 0.9217\n",
      "0.4 0.9271\n",
      "0.5 0.9277\n",
      "0.6 0.925\n",
      "0.7 0.9072\n",
      "0.8 0.8895\n",
      "0.9 0.865\n",
      "0.4 0.9271\n",
      "0.41 0.9272\n",
      "0.42 0.9276\n",
      "0.43 0.9276\n",
      "0.44 0.9277\n",
      "0.45 0.9276\n",
      "0.46 0.9278\n",
      "0.47 0.9278\n",
      "0.48 0.9277\n",
      "0.49 0.9277\n",
      "0.5 0.9277\n",
      "0.51 0.9275\n",
      "0.52 0.9274\n",
      "0.53 0.9273\n",
      "0.54 0.9272\n",
      "0.55 0.9272\n",
      "0.56 0.927\n",
      "0.57 0.927\n",
      "0.58 0.9268\n",
      "0.59 0.9253\n",
      "(0.46, 0.9278)\n",
      "fold2\n",
      "kidney_2_pseudo\n",
      "0.1 0.9084\n",
      "0.2 0.9147\n",
      "0.3 0.9178\n",
      "0.4 0.9172\n",
      "0.5 0.9115\n",
      "0.6 0.9041\n",
      "0.7 0.8954\n",
      "0.8 0.8848\n",
      "0.9 0.8672\n",
      "0.2 0.9147\n",
      "0.21 0.9153\n",
      "0.22 0.9156\n",
      "0.23 0.9159\n",
      "0.24 0.9161\n",
      "0.25 0.9167\n",
      "0.26 0.917\n",
      "0.27 0.9172\n",
      "0.28 0.9174\n",
      "0.29 0.9175\n",
      "0.3 0.9178\n",
      "0.31 0.9179\n",
      "0.32 0.918\n",
      "0.33 0.9182\n",
      "0.34 0.917\n",
      "0.35 0.917\n",
      "0.36 0.9171\n",
      "0.37 0.9171\n",
      "0.38 0.9172\n",
      "0.39 0.9172\n",
      "0.4 0.9172\n",
      "(0.33, 0.9182)\n",
      "fold3\n",
      "kidney_1_dense\n",
      "0.1 0.8411\n",
      "0.2 0.8583\n",
      "0.3 0.8744\n",
      "0.4 0.879\n",
      "0.5 0.8754\n",
      "0.6 0.8671\n",
      "0.7 0.8501\n",
      "0.8 0.8249\n",
      "0.9 0.7864\n",
      "0.3 0.8744\n",
      "0.31 0.8748\n",
      "0.32 0.8753\n",
      "0.33 0.8758\n",
      "0.34 0.879\n",
      "0.35 0.879\n",
      "0.36 0.8791\n",
      "0.37 0.8791\n",
      "0.38 0.8791\n",
      "0.39 0.879\n",
      "0.4 0.879\n",
      "0.41 0.8789\n",
      "0.42 0.8784\n",
      "0.43 0.8782\n",
      "0.44 0.878\n",
      "0.45 0.8777\n",
      "0.46 0.8772\n",
      "0.47 0.8769\n",
      "0.48 0.8766\n",
      "0.49 0.8763\n",
      "(0.36, 0.8791)\n"
     ]
    }
   ],
   "source": [
    "# valid\n",
    "fold_dict = json.load(open(\"/kaggle/working/dataset/stack_train02/fold.json\", \"r\"))\n",
    "pth_types = [\"best\"]\n",
    "for pth_type in pth_types:\n",
    "    for fold in range(4):\n",
    "        kidney = fold_dict[f\"fold{fold}\"][\"valid\"][0]\n",
    "        pth_path = f\"./{cfg.exp_name}/{cfg.exp_name}_{pth_type}_fold{fold}.pth\"\n",
    "        stack_path = f\"/kaggle/working/dataset/stack_train02/{kidney}_images.npy\"\n",
    "        label_path = f\"/kaggle/working/dataset/stack_train02/{kidney}_labels.npy\"\n",
    "        preds_path = f\"./preds/{kidney}_{pth_type}_preds.npy\"\n",
    "        print(f\"fold{fold}\")\n",
    "        print(kidney)\n",
    "        if not os.path.exists(preds_path):\n",
    "            model = load_inference_model(pth_path, cfg)\n",
    "\n",
    "            print(kidney)\n",
    "            print(stack_path)\n",
    "            inference(model, stack_path, preds_path, cfg)\n",
    "\n",
    "        label = np.load(label_path)\n",
    "        preds = np.load(preds_path)\n",
    "        thresh_score_dict = {}\n",
    "\n",
    "        for thresh in np.arange(0.1, 0.99, 0.1):\n",
    "            thresh = round(thresh, 5)\n",
    "            thresh_score_dict[thresh] = compute_surface_dice_score_from_volume(ne.evaluate(\"preds > thresh\"), label)\n",
    "            print(thresh, thresh_score_dict[thresh])\n",
    "\n",
    "        max_score_thresh = max(thresh_score_dict, key=thresh_score_dict.get)\n",
    "\n",
    "        for thresh in np.arange(max_score_thresh - 0.1, max_score_thresh + 0.1, 0.01):\n",
    "            thresh = round(thresh, 5)\n",
    "            thresh_score_dict[thresh] = compute_surface_dice_score_from_volume(ne.evaluate(\"preds > thresh\"), label)\n",
    "            print(thresh, thresh_score_dict[thresh])\n",
    "\n",
    "        print(max(thresh_score_dict.items(), key=lambda x: x[1]))"
   ]
  },
  {
   "cell_type": "code",
   "execution_count": 3,
   "metadata": {},
   "outputs": [
    {
     "name": "stdout",
     "output_type": "stream",
     "text": [
      "model_name Unet\n",
      "backbone se_resnext50_32x4d\n",
      "/kaggle/working/dataset/stack_clipped/kidney_2_sparse_images.npy\n",
      "././preds/kidney_2_sparse_preds_0.npy\n"
     ]
    },
    {
     "name": "stderr",
     "output_type": "stream",
     "text": [
      "100%|██████████| 2216/2216 [10:13<00:00,  3.61it/s]\n"
     ]
    },
    {
     "name": "stdout",
     "output_type": "stream",
     "text": [
      "././preds/kidney_2_sparse_preds_1.npy\n"
     ]
    },
    {
     "name": "stderr",
     "output_type": "stream",
     "text": [
      "100%|██████████| 1040/1040 [09:36<00:00,  1.80it/s]\n"
     ]
    },
    {
     "name": "stdout",
     "output_type": "stream",
     "text": [
      "././preds/kidney_2_sparse_preds_2.npy\n"
     ]
    },
    {
     "name": "stderr",
     "output_type": "stream",
     "text": [
      "100%|██████████| 1510/1510 [10:44<00:00,  2.34it/s]\n"
     ]
    },
    {
     "name": "stdout",
     "output_type": "stream",
     "text": [
      "model_name Unet\n",
      "backbone se_resnext50_32x4d\n",
      "/kaggle/working/dataset/stack_clipped/kidney_3_sparse_images.npy\n",
      "././preds/kidney_3_sparse_preds_0.npy\n"
     ]
    },
    {
     "name": "stderr",
     "output_type": "stream",
     "text": [
      "100%|██████████| 495/495 [03:35<00:00,  2.30it/s]\n"
     ]
    },
    {
     "name": "stdout",
     "output_type": "stream",
     "text": [
      "././preds/kidney_3_sparse_preds_1.npy\n"
     ]
    },
    {
     "name": "stderr",
     "output_type": "stream",
     "text": [
      "100%|██████████| 1705/1705 [03:35<00:00,  7.93it/s]\n"
     ]
    },
    {
     "name": "stdout",
     "output_type": "stream",
     "text": [
      "././preds/kidney_3_sparse_preds_2.npy\n"
     ]
    },
    {
     "name": "stderr",
     "output_type": "stream",
     "text": [
      "100%|██████████| 1509/1509 [03:39<00:00,  6.87it/s]\n"
     ]
    },
    {
     "name": "stdout",
     "output_type": "stream",
     "text": [
      "model_name Unet\n",
      "backbone se_resnext50_32x4d\n",
      "/kaggle/working/dataset/stack_clipped/kidney_9_pseudo_images.npy\n",
      "././preds/kidney_9_pseudo_preds_0.npy\n"
     ]
    },
    {
     "name": "stderr",
     "output_type": "stream",
     "text": [
      "100%|██████████| 2140/2140 [10:50<00:00,  3.29it/s]\n"
     ]
    },
    {
     "name": "stdout",
     "output_type": "stream",
     "text": [
      "././preds/kidney_9_pseudo_preds_1.npy\n"
     ]
    },
    {
     "name": "stderr",
     "output_type": "stream",
     "text": [
      "100%|██████████| 1107/1107 [10:19<00:00,  1.79it/s]\n"
     ]
    },
    {
     "name": "stdout",
     "output_type": "stream",
     "text": [
      "././preds/kidney_9_pseudo_preds_2.npy\n"
     ]
    },
    {
     "name": "stderr",
     "output_type": "stream",
     "text": [
      "100%|██████████| 1643/1643 [10:39<00:00,  2.57it/s]\n"
     ]
    }
   ],
   "source": [
    "# infer\n",
    "pth_type = \"best\"\n",
    "fold = 2\n",
    "kidneys = [\"kidney_2_sparse\", \"kidney_3_sparse\", \"kidney_9_pseudo\"]\n",
    "\n",
    "pth_path = f\"./{cfg.exp_name}/{cfg.exp_name}_{pth_type}_fold{fold}.pth\"\n",
    "for kidney in kidneys:\n",
    "    stack_path = f\"/kaggle/working/dataset/stack_train01/{kidney}_images.npy\"\n",
    "    preds_path = f\"./preds/{kidney}_{pth_type}_preds.npy\"\n",
    "\n",
    "    model = load_inference_model(pth_path, cfg)\n",
    "\n",
    "    print(stack_path)\n",
    "    inference(model, stack_path, preds_path, cfg)"
   ]
  },
  {
   "cell_type": "code",
   "execution_count": 15,
   "metadata": {},
   "outputs": [],
   "source": [
    "pth_type = \"best\"\n",
    "kidneys = [\"kidney_2_sparse\", \"kidney_3_sparse\", \"kidney_9_pseudo\"]\n",
    "for kidney in kidneys:\n",
    "    stack_path = f\"/kaggle/working/dataset/stack_train01/{kidney}_images.npy\"\n",
    "    preds_path = f\"./preds/{kidney}_{pth_type}_preds.npy\"\n",
    "    preds_th_path = f\"./preds/{kidney}_{pth_type}_preds_th.npy\"\n",
    "    preds = np.load(preds_path)\n",
    "    preds_th = (preds > 0.67).astype(np.bool_)\n",
    "    np.save(preds_th_path, preds > 0.67)"
   ]
  },
  {
   "cell_type": "code",
   "execution_count": 1,
   "metadata": {},
   "outputs": [],
   "source": [
    "import numpy as np"
   ]
  },
  {
   "cell_type": "code",
   "execution_count": null,
   "metadata": {},
   "outputs": [],
   "source": []
  }
 ],
 "metadata": {
  "kaggle": {
   "accelerator": "nvidiaTeslaT4",
   "dataSources": [
    {
     "databundleVersionId": 6962461,
     "sourceId": 61446,
     "sourceType": "competition"
    },
    {
     "datasetId": 1074109,
     "sourceId": 1807973,
     "sourceType": "datasetVersion"
    },
    {
     "sourceId": 150248402,
     "sourceType": "kernelVersion"
    }
   ],
   "dockerImageVersionId": 30587,
   "isGpuEnabled": true,
   "isInternetEnabled": true,
   "language": "python",
   "sourceType": "notebook"
  },
  "kernelspec": {
   "display_name": "Python 3",
   "language": "python",
   "name": "python3"
  },
  "language_info": {
   "codemirror_mode": {
    "name": "ipython",
    "version": 3
   },
   "file_extension": ".py",
   "mimetype": "text/x-python",
   "name": "python",
   "nbconvert_exporter": "python",
   "pygments_lexer": "ipython3",
   "version": "3.11.1"
  }
 },
 "nbformat": 4,
 "nbformat_minor": 4
}
