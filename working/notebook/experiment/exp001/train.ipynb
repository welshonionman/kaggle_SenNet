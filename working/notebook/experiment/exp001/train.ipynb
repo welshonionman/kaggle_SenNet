{
 "cells": [
  {
   "cell_type": "code",
   "execution_count": 1,
   "metadata": {
    "_cell_guid": "b1076dfc-b9ad-4769-8c92-a6c4dae69d19",
    "_kg_hide-input": true,
    "_kg_hide-output": true,
    "_uuid": "8f2839f25d086af736a60e9eeb907d3b93b6e0e5",
    "execution": {
     "iopub.execute_input": "2024-01-06T15:21:36.708575Z",
     "iopub.status.busy": "2024-01-06T15:21:36.708288Z",
     "iopub.status.idle": "2024-01-06T15:21:39.464391Z",
     "shell.execute_reply": "2024-01-06T15:21:39.463802Z"
    }
   },
   "outputs": [],
   "source": [
    "import json\n",
    "import pandas as pd\n",
    "import numpy as np\n",
    "import numexpr as ne\n",
    "import os\n",
    "import albumentations as A\n",
    "from albumentations.pytorch import ToTensorV2\n",
    "import wandb\n",
    "from dotenv import load_dotenv\n",
    "from tqdm import tqdm\n",
    "import torch\n",
    "import torch.cuda.amp as amp\n",
    "\n",
    "from src.model.model import save_model, load_inference_model\n",
    "from src.dataset.df import df_dataset, check_dataset\n",
    "from src.utils.common import set_seed\n",
    "\n",
    "from src.experiment.inference import inference\n",
    "from src.experiment.initialize import init_dataset, init_model, init_exp\n",
    "from src.utils.metrics import compute_surface_dice_score_from_volume"
   ]
  },
  {
   "cell_type": "code",
   "execution_count": 2,
   "metadata": {
    "execution": {
     "iopub.execute_input": "2024-01-06T15:21:39.466788Z",
     "iopub.status.busy": "2024-01-06T15:21:39.466324Z",
     "iopub.status.idle": "2024-01-06T15:21:39.484892Z",
     "shell.execute_reply": "2024-01-06T15:21:39.484364Z"
    }
   },
   "outputs": [],
   "source": [
    "class cfg:\n",
    "    debug = False\n",
    "    check_dataset = False\n",
    "\n",
    "    # = data CFG ====================================================\n",
    "\n",
    "    dataset_path = \"/kaggle/working/dataset/cropped_xy_256_128_z_5_5/\"\n",
    "    train_dataset = \"Base2dDataset\"\n",
    "    negative_sample_rate = 0.05\n",
    "    # = experiment CFG =================================================\n",
    "\n",
    "    project = \"SenNet\"\n",
    "    exp_name = os.path.basename(os.getcwd())\n",
    "    notes = \"negative_sample=0.05\"\n",
    "\n",
    "    # = model CFG ======================================================\n",
    "\n",
    "    model_arch = \"Unet\"\n",
    "    backbone = \"se_resnext50_32x4d\"\n",
    "    in_chans = 5\n",
    "    target_size = 5\n",
    "\n",
    "    # = training CFG ===================================================\n",
    "\n",
    "    epochs = 40\n",
    "\n",
    "    train_batch_size = 64\n",
    "    valid_batch_size = train_batch_size\n",
    "\n",
    "    loss = \"DiceLoss\"\n",
    "    metrics = \"Dice\"\n",
    "    lr = 5e-5\n",
    "    num_workers = 12\n",
    "\n",
    "    # = augmentation ===================================================\n",
    "\n",
    "    image_size = 256\n",
    "    train_aug = [\n",
    "        A.RandomRotate90(p=0.5),\n",
    "        A.RandomGamma(p=0.5),\n",
    "        A.RandomBrightnessContrast(p=0.5),\n",
    "        A.RandomResizedCrop(image_size, image_size, scale=(0.8, 1)),\n",
    "        A.ShiftScaleRotate(p=0.5),\n",
    "        A.GridDistortion(num_steps=5, distort_limit=0.3, p=0.5),\n",
    "        ToTensorV2(transpose_mask=True),\n",
    "    ]\n",
    "\n",
    "    valid_aug = [\n",
    "        ToTensorV2(transpose_mask=True),\n",
    "    ]\n",
    "\n",
    "    # =============== inference ========================================\n",
    "\n",
    "    test_dataset = \"BaseInferenceDataset\"\n",
    "    stride = image_size // 2\n",
    "    drop_egde_pixel = 32\n",
    "\n",
    "\n",
    "load_dotenv(\"/kaggle/key.env\")\n",
    "set_seed()"
   ]
  },
  {
   "cell_type": "code",
   "execution_count": 4,
   "metadata": {
    "execution": {
     "iopub.execute_input": "2024-01-06T15:21:39.487287Z",
     "iopub.status.busy": "2024-01-06T15:21:39.486780Z",
     "iopub.status.idle": "2024-01-06T15:21:47.771282Z",
     "shell.execute_reply": "2024-01-06T15:21:47.770610Z"
    }
   },
   "outputs": [
    {
     "name": "stderr",
     "output_type": "stream",
     "text": [
      "/tmp/ipykernel_27781/4046888049.py:10: DtypeWarning: Columns (10) have mixed types. Specify dtype option on import or set low_memory=False.\n",
      "  df = pd.read_csv(f\"{cfg.dataset_path}/dataset.csv\")\n"
     ]
    },
    {
     "data": {
      "text/html": [
       "<div>\n",
       "<style scoped>\n",
       "    .dataframe tbody tr th:only-of-type {\n",
       "        vertical-align: middle;\n",
       "    }\n",
       "\n",
       "    .dataframe tbody tr th {\n",
       "        vertical-align: top;\n",
       "    }\n",
       "\n",
       "    .dataframe thead th {\n",
       "        text-align: right;\n",
       "    }\n",
       "</style>\n",
       "<table border=\"1\" class=\"dataframe\">\n",
       "  <thead>\n",
       "    <tr style=\"text-align: right;\">\n",
       "      <th></th>\n",
       "      <th>image_path</th>\n",
       "      <th>label_path</th>\n",
       "      <th>fname</th>\n",
       "      <th>kidney</th>\n",
       "      <th>x</th>\n",
       "      <th>y</th>\n",
       "      <th>z</th>\n",
       "      <th>std</th>\n",
       "      <th>sum</th>\n",
       "      <th>fold0</th>\n",
       "      <th>fold1</th>\n",
       "    </tr>\n",
       "  </thead>\n",
       "  <tbody>\n",
       "    <tr>\n",
       "      <th>0</th>\n",
       "      <td>/kaggle/working/dataset/cropped_xy_256_128_z_5...</td>\n",
       "      <td>/kaggle/working/dataset/cropped_xy_256_128_z_5...</td>\n",
       "      <td>x0_y0_z0_std0039_sum0</td>\n",
       "      <td>kidney_1_dense</td>\n",
       "      <td>0</td>\n",
       "      <td>0</td>\n",
       "      <td>0</td>\n",
       "      <td>39</td>\n",
       "      <td>0</td>\n",
       "      <td>valid</td>\n",
       "      <td>train</td>\n",
       "    </tr>\n",
       "    <tr>\n",
       "      <th>1</th>\n",
       "      <td>/kaggle/working/dataset/cropped_xy_256_128_z_5...</td>\n",
       "      <td>/kaggle/working/dataset/cropped_xy_256_128_z_5...</td>\n",
       "      <td>x0_y0_z100_std0036_sum0</td>\n",
       "      <td>kidney_1_dense</td>\n",
       "      <td>0</td>\n",
       "      <td>0</td>\n",
       "      <td>100</td>\n",
       "      <td>36</td>\n",
       "      <td>0</td>\n",
       "      <td>valid</td>\n",
       "      <td>train</td>\n",
       "    </tr>\n",
       "    <tr>\n",
       "      <th>2</th>\n",
       "      <td>/kaggle/working/dataset/cropped_xy_256_128_z_5...</td>\n",
       "      <td>/kaggle/working/dataset/cropped_xy_256_128_z_5...</td>\n",
       "      <td>x0_y0_z105_std0035_sum0</td>\n",
       "      <td>kidney_1_dense</td>\n",
       "      <td>0</td>\n",
       "      <td>0</td>\n",
       "      <td>105</td>\n",
       "      <td>35</td>\n",
       "      <td>0</td>\n",
       "      <td>valid</td>\n",
       "      <td>train</td>\n",
       "    </tr>\n",
       "    <tr>\n",
       "      <th>3</th>\n",
       "      <td>/kaggle/working/dataset/cropped_xy_256_128_z_5...</td>\n",
       "      <td>/kaggle/working/dataset/cropped_xy_256_128_z_5...</td>\n",
       "      <td>x0_y0_z10_std0039_sum0</td>\n",
       "      <td>kidney_1_dense</td>\n",
       "      <td>0</td>\n",
       "      <td>0</td>\n",
       "      <td>10</td>\n",
       "      <td>39</td>\n",
       "      <td>0</td>\n",
       "      <td>valid</td>\n",
       "      <td>train</td>\n",
       "    </tr>\n",
       "    <tr>\n",
       "      <th>4</th>\n",
       "      <td>/kaggle/working/dataset/cropped_xy_256_128_z_5...</td>\n",
       "      <td>/kaggle/working/dataset/cropped_xy_256_128_z_5...</td>\n",
       "      <td>x0_y0_z110_std0035_sum0</td>\n",
       "      <td>kidney_1_dense</td>\n",
       "      <td>0</td>\n",
       "      <td>0</td>\n",
       "      <td>110</td>\n",
       "      <td>35</td>\n",
       "      <td>0</td>\n",
       "      <td>valid</td>\n",
       "      <td>train</td>\n",
       "    </tr>\n",
       "    <tr>\n",
       "      <th>...</th>\n",
       "      <td>...</td>\n",
       "      <td>...</td>\n",
       "      <td>...</td>\n",
       "      <td>...</td>\n",
       "      <td>...</td>\n",
       "      <td>...</td>\n",
       "      <td>...</td>\n",
       "      <td>...</td>\n",
       "      <td>...</td>\n",
       "      <td>...</td>\n",
       "      <td>...</td>\n",
       "    </tr>\n",
       "    <tr>\n",
       "      <th>176652</th>\n",
       "      <td>/kaggle/working/dataset/cropped_xy_256_128_z_5...</td>\n",
       "      <td>/kaggle/working/dataset/cropped_xy_256_128_z_5...</td>\n",
       "      <td>x896_y256_z975_std0257_sum899</td>\n",
       "      <td>kidney_3_sparse</td>\n",
       "      <td>896</td>\n",
       "      <td>256</td>\n",
       "      <td>975</td>\n",
       "      <td>257</td>\n",
       "      <td>899</td>\n",
       "      <td>train</td>\n",
       "      <td>NaN</td>\n",
       "    </tr>\n",
       "    <tr>\n",
       "      <th>176653</th>\n",
       "      <td>/kaggle/working/dataset/cropped_xy_256_128_z_5...</td>\n",
       "      <td>/kaggle/working/dataset/cropped_xy_256_128_z_5...</td>\n",
       "      <td>x896_y256_z980_std0259_sum3087</td>\n",
       "      <td>kidney_3_sparse</td>\n",
       "      <td>896</td>\n",
       "      <td>256</td>\n",
       "      <td>980</td>\n",
       "      <td>259</td>\n",
       "      <td>3087</td>\n",
       "      <td>train</td>\n",
       "      <td>NaN</td>\n",
       "    </tr>\n",
       "    <tr>\n",
       "      <th>176654</th>\n",
       "      <td>/kaggle/working/dataset/cropped_xy_256_128_z_5...</td>\n",
       "      <td>/kaggle/working/dataset/cropped_xy_256_128_z_5...</td>\n",
       "      <td>x896_y256_z985_std0259_sum5991</td>\n",
       "      <td>kidney_3_sparse</td>\n",
       "      <td>896</td>\n",
       "      <td>256</td>\n",
       "      <td>985</td>\n",
       "      <td>259</td>\n",
       "      <td>5991</td>\n",
       "      <td>train</td>\n",
       "      <td>NaN</td>\n",
       "    </tr>\n",
       "    <tr>\n",
       "      <th>176655</th>\n",
       "      <td>/kaggle/working/dataset/cropped_xy_256_128_z_5...</td>\n",
       "      <td>/kaggle/working/dataset/cropped_xy_256_128_z_5...</td>\n",
       "      <td>x896_y256_z990_std0262_sum7311</td>\n",
       "      <td>kidney_3_sparse</td>\n",
       "      <td>896</td>\n",
       "      <td>256</td>\n",
       "      <td>990</td>\n",
       "      <td>262</td>\n",
       "      <td>7311</td>\n",
       "      <td>train</td>\n",
       "      <td>NaN</td>\n",
       "    </tr>\n",
       "    <tr>\n",
       "      <th>176656</th>\n",
       "      <td>/kaggle/working/dataset/cropped_xy_256_128_z_5...</td>\n",
       "      <td>/kaggle/working/dataset/cropped_xy_256_128_z_5...</td>\n",
       "      <td>x896_y256_z995_std0264_sum8657</td>\n",
       "      <td>kidney_3_sparse</td>\n",
       "      <td>896</td>\n",
       "      <td>256</td>\n",
       "      <td>995</td>\n",
       "      <td>264</td>\n",
       "      <td>8657</td>\n",
       "      <td>train</td>\n",
       "      <td>NaN</td>\n",
       "    </tr>\n",
       "  </tbody>\n",
       "</table>\n",
       "<p>176657 rows × 11 columns</p>\n",
       "</div>"
      ],
      "text/plain": [
       "                                               image_path  \\\n",
       "0       /kaggle/working/dataset/cropped_xy_256_128_z_5...   \n",
       "1       /kaggle/working/dataset/cropped_xy_256_128_z_5...   \n",
       "2       /kaggle/working/dataset/cropped_xy_256_128_z_5...   \n",
       "3       /kaggle/working/dataset/cropped_xy_256_128_z_5...   \n",
       "4       /kaggle/working/dataset/cropped_xy_256_128_z_5...   \n",
       "...                                                   ...   \n",
       "176652  /kaggle/working/dataset/cropped_xy_256_128_z_5...   \n",
       "176653  /kaggle/working/dataset/cropped_xy_256_128_z_5...   \n",
       "176654  /kaggle/working/dataset/cropped_xy_256_128_z_5...   \n",
       "176655  /kaggle/working/dataset/cropped_xy_256_128_z_5...   \n",
       "176656  /kaggle/working/dataset/cropped_xy_256_128_z_5...   \n",
       "\n",
       "                                               label_path  \\\n",
       "0       /kaggle/working/dataset/cropped_xy_256_128_z_5...   \n",
       "1       /kaggle/working/dataset/cropped_xy_256_128_z_5...   \n",
       "2       /kaggle/working/dataset/cropped_xy_256_128_z_5...   \n",
       "3       /kaggle/working/dataset/cropped_xy_256_128_z_5...   \n",
       "4       /kaggle/working/dataset/cropped_xy_256_128_z_5...   \n",
       "...                                                   ...   \n",
       "176652  /kaggle/working/dataset/cropped_xy_256_128_z_5...   \n",
       "176653  /kaggle/working/dataset/cropped_xy_256_128_z_5...   \n",
       "176654  /kaggle/working/dataset/cropped_xy_256_128_z_5...   \n",
       "176655  /kaggle/working/dataset/cropped_xy_256_128_z_5...   \n",
       "176656  /kaggle/working/dataset/cropped_xy_256_128_z_5...   \n",
       "\n",
       "                                 fname           kidney    x    y    z  std  \\\n",
       "0                x0_y0_z0_std0039_sum0   kidney_1_dense    0    0    0   39   \n",
       "1              x0_y0_z100_std0036_sum0   kidney_1_dense    0    0  100   36   \n",
       "2              x0_y0_z105_std0035_sum0   kidney_1_dense    0    0  105   35   \n",
       "3               x0_y0_z10_std0039_sum0   kidney_1_dense    0    0   10   39   \n",
       "4              x0_y0_z110_std0035_sum0   kidney_1_dense    0    0  110   35   \n",
       "...                                ...              ...  ...  ...  ...  ...   \n",
       "176652   x896_y256_z975_std0257_sum899  kidney_3_sparse  896  256  975  257   \n",
       "176653  x896_y256_z980_std0259_sum3087  kidney_3_sparse  896  256  980  259   \n",
       "176654  x896_y256_z985_std0259_sum5991  kidney_3_sparse  896  256  985  259   \n",
       "176655  x896_y256_z990_std0262_sum7311  kidney_3_sparse  896  256  990  262   \n",
       "176656  x896_y256_z995_std0264_sum8657  kidney_3_sparse  896  256  995  264   \n",
       "\n",
       "         sum  fold0  fold1  \n",
       "0          0  valid  train  \n",
       "1          0  valid  train  \n",
       "2          0  valid  train  \n",
       "3          0  valid  train  \n",
       "4          0  valid  train  \n",
       "...      ...    ...    ...  \n",
       "176652   899  train    NaN  \n",
       "176653  3087  train    NaN  \n",
       "176654  5991  train    NaN  \n",
       "176655  7311  train    NaN  \n",
       "176656  8657  train    NaN  \n",
       "\n",
       "[176657 rows x 11 columns]"
      ]
     },
     "metadata": {},
     "output_type": "display_data"
    }
   ],
   "source": [
    "def filter_dataset(df):\n",
    "    # trainのうちlabelが全くないものは90%の確率で除外\n",
    "    df[\"random\"] = np.random.rand(len(df))\n",
    "    df = df[(df[\"sum\"] > 0) | (df[\"fold0\"] == \"valid\") | (df[\"random\"] < cfg.negative_sample_rate)]\n",
    "    df = df.reset_index(drop=True)\n",
    "    df = df.drop([\"random\"], axis=1)\n",
    "    return df\n",
    "\n",
    "\n",
    "df = pd.read_csv(f\"{cfg.dataset_path}/dataset.csv\")\n",
    "df = filter_dataset(df)\n",
    "# df = df.sample(1000).reset_index(drop=True)\n",
    "if cfg.debug:\n",
    "    df = df.sample(10000).reset_index(drop=True)\n",
    "display(df)\n",
    "\n",
    "if cfg.check_dataset:\n",
    "    check_dataset(df, cfg)"
   ]
  },
  {
   "cell_type": "code",
   "execution_count": 5,
   "metadata": {
    "execution": {
     "iopub.execute_input": "2024-01-06T15:21:49.120030Z",
     "iopub.status.busy": "2024-01-06T15:21:49.119664Z",
     "iopub.status.idle": "2024-01-07T01:52:16.758149Z",
     "shell.execute_reply": "2024-01-07T01:52:16.757292Z"
    }
   },
   "outputs": [
    {
     "name": "stdout",
     "output_type": "stream",
     "text": [
      "model_arch:  Unet\n",
      "backbone:  se_resnext50_32x4d\n"
     ]
    },
    {
     "name": "stderr",
     "output_type": "stream",
     "text": [
      "\u001b[34m\u001b[1mwandb\u001b[0m: Currently logged in as: \u001b[33mwelshonionman\u001b[0m. Use \u001b[1m`wandb login --relogin`\u001b[0m to force relogin\n",
      "\u001b[34m\u001b[1mwandb\u001b[0m: Tracking run with wandb version 0.16.1\n",
      "\u001b[34m\u001b[1mwandb\u001b[0m: Run data is saved locally in \u001b[35m\u001b[1m/kaggle/wandb/run-20240106_152156-134as7zy\u001b[0m\n",
      "\u001b[34m\u001b[1mwandb\u001b[0m: Run \u001b[1m`wandb offline`\u001b[0m to turn off syncing.\n",
      "\u001b[34m\u001b[1mwandb\u001b[0m: Syncing run \u001b[33mexp001_fold0\u001b[0m\n",
      "\u001b[34m\u001b[1mwandb\u001b[0m: ⭐️ View project at \u001b[34m\u001b[4mhttps://wandb.ai/welshonionman/SenNet\u001b[0m\n",
      "\u001b[34m\u001b[1mwandb\u001b[0m: 🚀 View run at \u001b[34m\u001b[4mhttps://wandb.ai/welshonionman/SenNet/runs/134as7zy\u001b[0m\n",
      "Epoch 0/40  Mem : 10.1GB  LR : 5.00E-05  Loss: 0.6450: 100%|██████████| 1291/1291 [04:19<00:00,  4.98it/s]\n",
      "Val Loss: 0.5472: 100%|██████████| 1471/1471 [03:04<00:00,  7.98it/s]                                                                                                                                                                                                                                  \n"
     ]
    },
    {
     "name": "stdout",
     "output_type": "stream",
     "text": [
      "loss : 0.5472\tSAVED MODEL\n",
      "\n"
     ]
    },
    {
     "name": "stderr",
     "output_type": "stream",
     "text": [
      "Epoch 1/40  Mem : 11.9GB  LR : 5.00E-04  Loss: 0.1271: 100%|██████████| 1291/1291 [04:16<00:00,  5.04it/s]\n",
      "Val Loss: 0.3990: 100%|██████████| 1471/1471 [03:03<00:00,  8.00it/s]                                                                                                                                                                                                                                  \n"
     ]
    },
    {
     "name": "stdout",
     "output_type": "stream",
     "text": [
      "loss : 0.3990\tSAVED MODEL\n",
      "\n"
     ]
    },
    {
     "name": "stderr",
     "output_type": "stream",
     "text": [
      "Epoch 2/40  Mem : 11.9GB  LR : 5.00E-05  Loss: 0.0841: 100%|██████████| 1291/1291 [04:16<00:00,  5.03it/s]\n",
      "Val Loss: 0.3597: 100%|██████████| 1471/1471 [03:02<00:00,  8.05it/s]                                                                                                                                                                                                                                  \n"
     ]
    },
    {
     "name": "stdout",
     "output_type": "stream",
     "text": [
      "loss : 0.3597\tSAVED MODEL\n",
      "\n"
     ]
    },
    {
     "name": "stderr",
     "output_type": "stream",
     "text": [
      "Epoch 3/40  Mem : 11.9GB  LR : 4.99E-05  Loss: 0.0812: 100%|██████████| 1291/1291 [04:16<00:00,  5.04it/s]\n",
      "Val Loss: 0.3555: 100%|██████████| 1471/1471 [03:01<00:00,  8.08it/s]                                                                                                                                                                                                                                  \n"
     ]
    },
    {
     "name": "stdout",
     "output_type": "stream",
     "text": [
      "loss : 0.3555\tSAVED MODEL\n",
      "\n"
     ]
    },
    {
     "name": "stderr",
     "output_type": "stream",
     "text": [
      "Epoch 4/40  Mem : 11.9GB  LR : 4.97E-05  Loss: 0.0795: 100%|██████████| 1291/1291 [04:16<00:00,  5.03it/s]\n",
      "Val Loss: 0.3552: 100%|██████████| 1471/1471 [03:01<00:00,  8.12it/s]                                                                                                                                                                                                                                  \n"
     ]
    },
    {
     "name": "stdout",
     "output_type": "stream",
     "text": [
      "loss : 0.3552\tSAVED MODEL\n",
      "\n"
     ]
    },
    {
     "name": "stderr",
     "output_type": "stream",
     "text": [
      "Epoch 5/40  Mem : 11.9GB  LR : 4.93E-05  Loss: 0.0780: 100%|██████████| 1291/1291 [04:16<00:00,  5.04it/s]\n",
      "Val Loss: 0.3363: 100%|██████████| 1471/1471 [03:03<00:00,  8.01it/s]                                                                                                                                                                                                                                  \n"
     ]
    },
    {
     "name": "stdout",
     "output_type": "stream",
     "text": [
      "loss : 0.3363\tSAVED MODEL\n",
      "\n"
     ]
    },
    {
     "name": "stderr",
     "output_type": "stream",
     "text": [
      "Epoch 6/40  Mem : 11.9GB  LR : 4.88E-05  Loss: 0.0765: 100%|██████████| 1291/1291 [04:17<00:00,  5.02it/s]\n",
      "Val Loss: 0.3262: 100%|██████████| 1471/1471 [03:04<00:00,  7.99it/s]                                                                                                                                                                                                                                  \n"
     ]
    },
    {
     "name": "stdout",
     "output_type": "stream",
     "text": [
      "loss : 0.3262\tSAVED MODEL\n",
      "\n"
     ]
    },
    {
     "name": "stderr",
     "output_type": "stream",
     "text": [
      "Epoch 7/40  Mem : 11.9GB  LR : 4.81E-05  Loss: 0.0754: 100%|██████████| 1291/1291 [04:17<00:00,  5.01it/s]\n",
      "Val Loss: 0.3256: 100%|██████████| 1471/1471 [03:03<00:00,  8.00it/s]                                                                                                                                                                                                                                  \n"
     ]
    },
    {
     "name": "stdout",
     "output_type": "stream",
     "text": [
      "loss : 0.3256\tSAVED MODEL\n",
      "\n"
     ]
    },
    {
     "name": "stderr",
     "output_type": "stream",
     "text": [
      "Epoch 8/40  Mem : 11.9GB  LR : 4.73E-05  Loss: 0.0744: 100%|██████████| 1291/1291 [04:15<00:00,  5.04it/s]\n",
      "Val Loss: 0.3336: 100%|██████████| 1471/1471 [03:03<00:00,  8.01it/s]                                                                                                                                                                                                                                  \n"
     ]
    },
    {
     "name": "stdout",
     "output_type": "stream",
     "text": [
      "loss : 0.3336\n",
      "\n"
     ]
    },
    {
     "name": "stderr",
     "output_type": "stream",
     "text": [
      "Epoch 9/40  Mem : 11.9GB  LR : 4.63E-05  Loss: 0.0742: 100%|██████████| 1291/1291 [04:16<00:00,  5.03it/s]\n",
      "Val Loss: 0.3119: 100%|██████████| 1471/1471 [03:03<00:00,  8.02it/s]                                                                                                                                                                                                                                  \n"
     ]
    },
    {
     "name": "stdout",
     "output_type": "stream",
     "text": [
      "loss : 0.3119\tSAVED MODEL\n",
      "\n"
     ]
    },
    {
     "name": "stderr",
     "output_type": "stream",
     "text": [
      "Epoch 10/40  Mem : 11.9GB  LR : 4.52E-05  Loss: 0.0727: 100%|██████████| 1291/1291 [04:16<00:00,  5.03it/s]\n",
      "Val Loss: 0.3156: 100%|██████████| 1471/1471 [03:03<00:00,  8.00it/s]                                                                                                                                                                                                                                  \n"
     ]
    },
    {
     "name": "stdout",
     "output_type": "stream",
     "text": [
      "loss : 0.3156\n",
      "\n"
     ]
    },
    {
     "name": "stderr",
     "output_type": "stream",
     "text": [
      "Epoch 11/40  Mem : 11.9GB  LR : 4.40E-05  Loss: 0.0725: 100%|██████████| 1291/1291 [04:16<00:00,  5.03it/s]\n",
      "Val Loss: 0.3138: 100%|██████████| 1471/1471 [03:03<00:00,  8.00it/s]                                                                                                                                                                                                                                  \n"
     ]
    },
    {
     "name": "stdout",
     "output_type": "stream",
     "text": [
      "loss : 0.3138\n",
      "\n"
     ]
    },
    {
     "name": "stderr",
     "output_type": "stream",
     "text": [
      "Epoch 12/40  Mem : 11.9GB  LR : 4.27E-05  Loss: 0.0722: 100%|██████████| 1291/1291 [04:16<00:00,  5.03it/s]\n",
      "Val Loss: 0.3147: 100%|██████████| 1471/1471 [03:04<00:00,  7.98it/s]                                                                                                                                                                                                                                  \n"
     ]
    },
    {
     "name": "stdout",
     "output_type": "stream",
     "text": [
      "loss : 0.3147\n",
      "\n"
     ]
    },
    {
     "name": "stderr",
     "output_type": "stream",
     "text": [
      "Epoch 13/40  Mem : 11.9GB  LR : 4.13E-05  Loss: 0.0719: 100%|██████████| 1291/1291 [04:17<00:00,  5.02it/s]\n",
      "Val Loss: 0.3004: 100%|██████████| 1471/1471 [03:03<00:00,  8.01it/s]                                                                                                                                                                                                                                  \n"
     ]
    },
    {
     "name": "stdout",
     "output_type": "stream",
     "text": [
      "loss : 0.3004\tSAVED MODEL\n",
      "\n"
     ]
    },
    {
     "name": "stderr",
     "output_type": "stream",
     "text": [
      "Epoch 14/40  Mem : 11.9GB  LR : 3.97E-05  Loss: 0.0715: 100%|██████████| 1291/1291 [04:17<00:00,  5.02it/s]\n",
      "Val Loss: 0.2962: 100%|██████████| 1471/1471 [03:03<00:00,  8.00it/s]                                                                                                                                                                                                                                  \n"
     ]
    },
    {
     "name": "stdout",
     "output_type": "stream",
     "text": [
      "loss : 0.2962\tSAVED MODEL\n",
      "\n"
     ]
    },
    {
     "name": "stderr",
     "output_type": "stream",
     "text": [
      "Epoch 15/40  Mem : 11.9GB  LR : 3.81E-05  Loss: 0.0712: 100%|██████████| 1291/1291 [04:16<00:00,  5.03it/s]\n",
      "Val Loss: 0.3005: 100%|██████████| 1471/1471 [03:03<00:00,  8.01it/s]                                                                                                                                                                                                                                  \n"
     ]
    },
    {
     "name": "stdout",
     "output_type": "stream",
     "text": [
      "loss : 0.3005\n",
      "\n"
     ]
    },
    {
     "name": "stderr",
     "output_type": "stream",
     "text": [
      "Epoch 16/40  Mem : 11.9GB  LR : 3.64E-05  Loss: 0.0707: 100%|██████████| 1291/1291 [04:16<00:00,  5.04it/s]\n",
      "Val Loss: 0.2926: 100%|██████████| 1471/1471 [03:03<00:00,  8.02it/s]                                                                                                                                                                                                                                  \n"
     ]
    },
    {
     "name": "stdout",
     "output_type": "stream",
     "text": [
      "loss : 0.2926\tSAVED MODEL\n",
      "\n"
     ]
    },
    {
     "name": "stderr",
     "output_type": "stream",
     "text": [
      "Epoch 17/40  Mem : 11.9GB  LR : 3.46E-05  Loss: 0.0702: 100%|██████████| 1291/1291 [04:16<00:00,  5.03it/s]\n",
      "Val Loss: 0.3067: 100%|██████████| 1471/1471 [03:03<00:00,  8.03it/s]                                                                                                                                                                                                                                  \n"
     ]
    },
    {
     "name": "stdout",
     "output_type": "stream",
     "text": [
      "loss : 0.3067\n",
      "\n"
     ]
    },
    {
     "name": "stderr",
     "output_type": "stream",
     "text": [
      "Epoch 18/40  Mem : 11.9GB  LR : 3.28E-05  Loss: 0.0699: 100%|██████████| 1291/1291 [04:16<00:00,  5.04it/s]\n",
      "Val Loss: 0.2991: 100%|██████████| 1471/1471 [03:03<00:00,  8.02it/s]                                                                                                                                                                                                                                  \n"
     ]
    },
    {
     "name": "stdout",
     "output_type": "stream",
     "text": [
      "loss : 0.2991\n",
      "\n"
     ]
    },
    {
     "name": "stderr",
     "output_type": "stream",
     "text": [
      "Epoch 19/40  Mem : 11.9GB  LR : 3.09E-05  Loss: 0.0699: 100%|██████████| 1291/1291 [04:16<00:00,  5.03it/s]\n",
      "Val Loss: 0.2916: 100%|██████████| 1471/1471 [03:04<00:00,  7.99it/s]                                                                                                                                                                                                                                  \n"
     ]
    },
    {
     "name": "stdout",
     "output_type": "stream",
     "text": [
      "loss : 0.2916\tSAVED MODEL\n",
      "\n"
     ]
    },
    {
     "name": "stderr",
     "output_type": "stream",
     "text": [
      "Epoch 20/40  Mem : 11.9GB  LR : 2.90E-05  Loss: 0.0694: 100%|██████████| 1291/1291 [04:16<00:00,  5.03it/s]\n",
      "Val Loss: 0.2804: 100%|██████████| 1471/1471 [03:04<00:00,  7.98it/s]                                                                                                                                                                                                                                  \n"
     ]
    },
    {
     "name": "stdout",
     "output_type": "stream",
     "text": [
      "loss : 0.2804\tSAVED MODEL\n",
      "\n"
     ]
    },
    {
     "name": "stderr",
     "output_type": "stream",
     "text": [
      "Epoch 21/40  Mem : 11.9GB  LR : 2.70E-05  Loss: 0.0688: 100%|██████████| 1291/1291 [04:17<00:00,  5.02it/s]\n",
      "Val Loss: 0.2840: 100%|██████████| 1471/1471 [03:03<00:00,  7.99it/s]                                                                                                                                                                                                                                  \n"
     ]
    },
    {
     "name": "stdout",
     "output_type": "stream",
     "text": [
      "loss : 0.2840\n",
      "\n"
     ]
    },
    {
     "name": "stderr",
     "output_type": "stream",
     "text": [
      "Epoch 22/40  Mem : 11.9GB  LR : 2.50E-05  Loss: 0.0691: 100%|██████████| 1291/1291 [04:16<00:00,  5.03it/s]\n",
      "Val Loss: 0.2866: 100%|██████████| 1471/1471 [03:03<00:00,  8.01it/s]                                                                                                                                                                                                                                  \n"
     ]
    },
    {
     "name": "stdout",
     "output_type": "stream",
     "text": [
      "loss : 0.2866\n",
      "\n"
     ]
    },
    {
     "name": "stderr",
     "output_type": "stream",
     "text": [
      "Epoch 23/40  Mem : 11.9GB  LR : 2.31E-05  Loss: 0.0685: 100%|██████████| 1291/1291 [04:17<00:00,  5.01it/s]\n",
      "Val Loss: 0.2870: 100%|██████████| 1471/1471 [03:03<00:00,  8.01it/s]                                                                                                                                                                                                                                  \n"
     ]
    },
    {
     "name": "stdout",
     "output_type": "stream",
     "text": [
      "loss : 0.2870\n",
      "\n"
     ]
    },
    {
     "name": "stderr",
     "output_type": "stream",
     "text": [
      "Epoch 24/40  Mem : 11.9GB  LR : 2.11E-05  Loss: 0.0687: 100%|██████████| 1291/1291 [04:16<00:00,  5.04it/s]\n",
      "Val Loss: 0.2813: 100%|██████████| 1471/1471 [03:03<00:00,  8.00it/s]                                                                                                                                                                                                                                  \n"
     ]
    },
    {
     "name": "stdout",
     "output_type": "stream",
     "text": [
      "loss : 0.2813\n",
      "\n"
     ]
    },
    {
     "name": "stderr",
     "output_type": "stream",
     "text": [
      "Epoch 25/40  Mem : 11.9GB  LR : 1.92E-05  Loss: 0.0685: 100%|██████████| 1291/1291 [04:17<00:00,  5.02it/s]\n",
      "Val Loss: 0.2782: 100%|██████████| 1471/1471 [03:04<00:00,  7.95it/s]                                                                                                                                                                                                                                  \n"
     ]
    },
    {
     "name": "stdout",
     "output_type": "stream",
     "text": [
      "loss : 0.2782\tSAVED MODEL\n",
      "\n"
     ]
    },
    {
     "name": "stderr",
     "output_type": "stream",
     "text": [
      "Epoch 26/40  Mem : 11.9GB  LR : 1.73E-05  Loss: 0.0685: 100%|██████████| 1291/1291 [04:16<00:00,  5.03it/s]\n",
      "Val Loss: 0.2836: 100%|██████████| 1471/1471 [03:03<00:00,  8.00it/s]                                                                                                                                                                                                                                  \n"
     ]
    },
    {
     "name": "stdout",
     "output_type": "stream",
     "text": [
      "loss : 0.2836\n",
      "\n"
     ]
    },
    {
     "name": "stderr",
     "output_type": "stream",
     "text": [
      "Epoch 27/40  Mem : 11.9GB  LR : 1.55E-05  Loss: 0.0684: 100%|██████████| 1291/1291 [04:16<00:00,  5.03it/s]\n",
      "Val Loss: 0.2806: 100%|██████████| 1471/1471 [03:04<00:00,  7.99it/s]                                                                                                                                                                                                                                  \n"
     ]
    },
    {
     "name": "stdout",
     "output_type": "stream",
     "text": [
      "loss : 0.2806\n",
      "\n"
     ]
    },
    {
     "name": "stderr",
     "output_type": "stream",
     "text": [
      "Epoch 28/40  Mem : 11.9GB  LR : 1.37E-05  Loss: 0.0682: 100%|██████████| 1291/1291 [04:16<00:00,  5.03it/s]\n",
      "Val Loss: 0.2781: 100%|██████████| 1471/1471 [03:04<00:00,  7.98it/s]                                                                                                                                                                                                                                  \n"
     ]
    },
    {
     "name": "stdout",
     "output_type": "stream",
     "text": [
      "loss : 0.2781\tSAVED MODEL\n",
      "\n"
     ]
    },
    {
     "name": "stderr",
     "output_type": "stream",
     "text": [
      "Epoch 29/40  Mem : 11.9GB  LR : 1.20E-05  Loss: 0.0680: 100%|██████████| 1291/1291 [04:16<00:00,  5.03it/s]\n",
      "Val Loss: 0.2815: 100%|██████████| 1471/1471 [03:04<00:00,  7.97it/s]                                                                                                                                                                                                                                  \n"
     ]
    },
    {
     "name": "stdout",
     "output_type": "stream",
     "text": [
      "loss : 0.2815\n",
      "\n"
     ]
    },
    {
     "name": "stderr",
     "output_type": "stream",
     "text": [
      "Epoch 30/40  Mem : 11.9GB  LR : 1.04E-05  Loss: 0.0677: 100%|██████████| 1291/1291 [04:17<00:00,  5.02it/s]\n",
      "Val Loss: 0.2804: 100%|██████████| 1471/1471 [03:03<00:00,  8.03it/s]                                                                                                                                                                                                                                  \n"
     ]
    },
    {
     "name": "stdout",
     "output_type": "stream",
     "text": [
      "loss : 0.2804\n",
      "\n"
     ]
    },
    {
     "name": "stderr",
     "output_type": "stream",
     "text": [
      "Epoch 31/40  Mem : 11.9GB  LR : 8.85E-06  Loss: 0.0676: 100%|██████████| 1291/1291 [04:17<00:00,  5.02it/s]\n",
      "Val Loss: 0.2794: 100%|██████████| 1471/1471 [03:03<00:00,  8.01it/s]                                                                                                                                                                                                                                  \n"
     ]
    },
    {
     "name": "stdout",
     "output_type": "stream",
     "text": [
      "loss : 0.2794\n",
      "\n"
     ]
    },
    {
     "name": "stderr",
     "output_type": "stream",
     "text": [
      "Epoch 32/40  Mem : 11.9GB  LR : 7.41E-06  Loss: 0.0677: 100%|██████████| 1291/1291 [04:17<00:00,  5.02it/s]\n",
      "Val Loss: 0.2792: 100%|██████████| 1471/1471 [03:03<00:00,  8.00it/s]                                                                                                                                                                                                                                  \n"
     ]
    },
    {
     "name": "stdout",
     "output_type": "stream",
     "text": [
      "loss : 0.2792\n",
      "\n"
     ]
    },
    {
     "name": "stderr",
     "output_type": "stream",
     "text": [
      "Epoch 33/40  Mem : 11.9GB  LR : 6.08E-06  Loss: 0.0674: 100%|██████████| 1291/1291 [04:16<00:00,  5.02it/s]\n",
      "Val Loss: 0.2692: 100%|██████████| 1471/1471 [03:04<00:00,  7.97it/s]                                                                                                                                                                                                                                  \n"
     ]
    },
    {
     "name": "stdout",
     "output_type": "stream",
     "text": [
      "loss : 0.2692\tSAVED MODEL\n",
      "\n"
     ]
    },
    {
     "name": "stderr",
     "output_type": "stream",
     "text": [
      "Epoch 34/40  Mem : 11.9GB  LR : 4.87E-06  Loss: 0.0679: 100%|██████████| 1291/1291 [04:17<00:00,  5.01it/s]\n",
      "Val Loss: 0.2783: 100%|██████████| 1471/1471 [03:04<00:00,  7.97it/s]                                                                                                                                                                                                                                  \n"
     ]
    },
    {
     "name": "stdout",
     "output_type": "stream",
     "text": [
      "loss : 0.2783\n",
      "\n"
     ]
    },
    {
     "name": "stderr",
     "output_type": "stream",
     "text": [
      "Epoch 35/40  Mem : 11.9GB  LR : 3.78E-06  Loss: 0.0678: 100%|██████████| 1291/1291 [04:17<00:00,  5.02it/s]\n",
      "Val Loss: 0.2761: 100%|██████████| 1471/1471 [03:03<00:00,  8.01it/s]                                                                                                                                                                                                                                  \n"
     ]
    },
    {
     "name": "stdout",
     "output_type": "stream",
     "text": [
      "loss : 0.2761\n",
      "\n"
     ]
    },
    {
     "name": "stderr",
     "output_type": "stream",
     "text": [
      "Epoch 36/40  Mem : 11.9GB  LR : 2.82E-06  Loss: 0.0673: 100%|██████████| 1291/1291 [04:17<00:00,  5.02it/s]\n",
      "Val Loss: 0.2754: 100%|██████████| 1471/1471 [03:04<00:00,  7.99it/s]                                                                                                                                                                                                                                  \n"
     ]
    },
    {
     "name": "stdout",
     "output_type": "stream",
     "text": [
      "loss : 0.2754\n",
      "\n"
     ]
    },
    {
     "name": "stderr",
     "output_type": "stream",
     "text": [
      "Epoch 37/40  Mem : 11.9GB  LR : 2.00E-06  Loss: 0.0674: 100%|██████████| 1291/1291 [04:17<00:00,  5.01it/s]\n",
      "Val Loss: 0.2758: 100%|██████████| 1471/1471 [03:04<00:00,  7.97it/s]                                                                                                                                                                                                                                  \n"
     ]
    },
    {
     "name": "stdout",
     "output_type": "stream",
     "text": [
      "loss : 0.2758\n",
      "\n"
     ]
    },
    {
     "name": "stderr",
     "output_type": "stream",
     "text": [
      "Epoch 38/40  Mem : 11.9GB  LR : 1.32E-06  Loss: 0.0672: 100%|██████████| 1291/1291 [04:17<00:00,  5.02it/s]\n",
      "Val Loss: 0.2718: 100%|██████████| 1471/1471 [03:03<00:00,  8.00it/s]                                                                                                                                                                                                                                  \n"
     ]
    },
    {
     "name": "stdout",
     "output_type": "stream",
     "text": [
      "loss : 0.2718\n",
      "\n"
     ]
    },
    {
     "name": "stderr",
     "output_type": "stream",
     "text": [
      "Epoch 39/40  Mem : 11.9GB  LR : 7.89E-07  Loss: 0.0672: 100%|██████████| 1291/1291 [04:16<00:00,  5.03it/s]\n",
      "Val Loss: 0.2748: 100%|██████████| 1471/1471 [03:04<00:00,  7.98it/s]                                                                                                                                                                                                                                  \n"
     ]
    },
    {
     "name": "stdout",
     "output_type": "stream",
     "text": [
      "loss : 0.2748\n",
      "\n"
     ]
    },
    {
     "name": "stderr",
     "output_type": "stream",
     "text": [
      "wandb: WARNING No program path found, not creating job artifact. See https://docs.wandb.ai/guides/launch/create-job\n",
      "\u001b[34m\u001b[1mwandb\u001b[0m:                                                                                \n",
      "\u001b[34m\u001b[1mwandb\u001b[0m: \n",
      "\u001b[34m\u001b[1mwandb\u001b[0m: Run history:\n",
      "\u001b[34m\u001b[1mwandb\u001b[0m:      epoch ▁▁▁▂▂▂▂▂▂▃▃▃▃▃▄▄▄▄▄▄▅▅▅▅▅▅▆▆▆▆▆▇▇▇▇▇▇███\n",
      "\u001b[34m\u001b[1mwandb\u001b[0m: train_loss █▂▁▁▁▁▁▁▁▁▁▁▁▁▁▁▁▁▁▁▁▁▁▁▁▁▁▁▁▁▁▁▁▁▁▁▁▁▁▁\n",
      "\u001b[34m\u001b[1mwandb\u001b[0m: valid_loss █▄▃▃▃▃▂▂▃▂▂▂▂▂▂▂▂▂▂▂▁▁▁▁▁▁▁▁▁▁▁▁▁▁▁▁▁▁▁▁\n",
      "\u001b[34m\u001b[1mwandb\u001b[0m: \n",
      "\u001b[34m\u001b[1mwandb\u001b[0m: Run summary:\n",
      "\u001b[34m\u001b[1mwandb\u001b[0m:      epoch 39\n",
      "\u001b[34m\u001b[1mwandb\u001b[0m: train_loss 0.06721\n",
      "\u001b[34m\u001b[1mwandb\u001b[0m: valid_loss 0.27476\n",
      "\u001b[34m\u001b[1mwandb\u001b[0m: \n",
      "\u001b[34m\u001b[1mwandb\u001b[0m: 🚀 View run \u001b[33mexp001_fold0\u001b[0m at: \u001b[34m\u001b[4mhttps://wandb.ai/welshonionman/SenNet/runs/134as7zy\u001b[0m\n",
      "\u001b[34m\u001b[1mwandb\u001b[0m: Synced 5 W&B file(s), 0 media file(s), 0 artifact file(s) and 0 other file(s)\n",
      "\u001b[34m\u001b[1mwandb\u001b[0m: Find logs at: \u001b[35m\u001b[1m/kaggle/wandb/run-20240106_152156-134as7zy/logs\u001b[0m\n"
     ]
    },
    {
     "name": "stdout",
     "output_type": "stream",
     "text": [
      "model_arch:  Unet\n",
      "backbone:  se_resnext50_32x4d\n"
     ]
    },
    {
     "name": "stderr",
     "output_type": "stream",
     "text": [
      "\u001b[34m\u001b[1mwandb\u001b[0m: Tracking run with wandb version 0.16.1\n",
      "\u001b[34m\u001b[1mwandb\u001b[0m: Run data is saved locally in \u001b[35m\u001b[1m/kaggle/wandb/run-20240106_201654-ov77yn9d\u001b[0m\n",
      "\u001b[34m\u001b[1mwandb\u001b[0m: Run \u001b[1m`wandb offline`\u001b[0m to turn off syncing.\n",
      "\u001b[34m\u001b[1mwandb\u001b[0m: Syncing run \u001b[33mexp001_fold1\u001b[0m\n",
      "\u001b[34m\u001b[1mwandb\u001b[0m: ⭐️ View project at \u001b[34m\u001b[4mhttps://wandb.ai/welshonionman/SenNet\u001b[0m\n",
      "\u001b[34m\u001b[1mwandb\u001b[0m: 🚀 View run at \u001b[34m\u001b[4mhttps://wandb.ai/welshonionman/SenNet/runs/ov77yn9d\u001b[0m\n",
      "Epoch 0/40  Mem : 11.9GB  LR : 5.00E-05  Loss: 0.4787: 100%|██████████| 2329/2329 [07:53<00:00,  4.92it/s]\n",
      "Val Loss: 0.2634: 100%|██████████| 215/215 [00:27<00:00,  7.87it/s]                                                                                                                                                                                                                                    \n"
     ]
    },
    {
     "name": "stdout",
     "output_type": "stream",
     "text": [
      "loss : 0.2634\tSAVED MODEL\n",
      "\n"
     ]
    },
    {
     "name": "stderr",
     "output_type": "stream",
     "text": [
      "Epoch 1/40  Mem : 11.9GB  LR : 5.00E-04  Loss: 0.1351: 100%|██████████| 2329/2329 [07:55<00:00,  4.90it/s]\n",
      "Val Loss: 0.1539: 100%|██████████| 215/215 [00:27<00:00,  7.91it/s]                                                                                                                                                                                                                                    \n"
     ]
    },
    {
     "name": "stdout",
     "output_type": "stream",
     "text": [
      "loss : 0.1539\tSAVED MODEL\n",
      "\n"
     ]
    },
    {
     "name": "stderr",
     "output_type": "stream",
     "text": [
      "Epoch 2/40  Mem : 11.9GB  LR : 5.00E-05  Loss: 0.0929: 100%|██████████| 2329/2329 [07:53<00:00,  4.91it/s]\n",
      "Val Loss: 0.1499: 100%|██████████| 215/215 [00:27<00:00,  7.86it/s]                                                                                                                                                                                                                                    \n"
     ]
    },
    {
     "name": "stdout",
     "output_type": "stream",
     "text": [
      "loss : 0.1499\tSAVED MODEL\n",
      "\n"
     ]
    },
    {
     "name": "stderr",
     "output_type": "stream",
     "text": [
      "Epoch 3/40  Mem : 11.9GB  LR : 4.99E-05  Loss: 0.0893: 100%|██████████| 2329/2329 [07:55<00:00,  4.90it/s]\n",
      "Val Loss: 0.1542: 100%|██████████| 215/215 [00:27<00:00,  7.95it/s]                                                                                                                                                                                                                                    \n"
     ]
    },
    {
     "name": "stdout",
     "output_type": "stream",
     "text": [
      "loss : 0.1542\n",
      "\n"
     ]
    },
    {
     "name": "stderr",
     "output_type": "stream",
     "text": [
      "Epoch 4/40  Mem : 11.9GB  LR : 4.97E-05  Loss: 0.0877: 100%|██████████| 2329/2329 [07:54<00:00,  4.91it/s]\n",
      "Val Loss: 0.1453: 100%|██████████| 215/215 [00:27<00:00,  7.93it/s]                                                                                                                                                                                                                                    \n"
     ]
    },
    {
     "name": "stdout",
     "output_type": "stream",
     "text": [
      "loss : 0.1453\tSAVED MODEL\n",
      "\n"
     ]
    },
    {
     "name": "stderr",
     "output_type": "stream",
     "text": [
      "Epoch 5/40  Mem : 11.9GB  LR : 4.93E-05  Loss: 0.0853: 100%|██████████| 2329/2329 [07:53<00:00,  4.92it/s]\n",
      "Val Loss: 0.1481: 100%|██████████| 215/215 [00:27<00:00,  7.94it/s]                                                                                                                                                                                                                                    \n"
     ]
    },
    {
     "name": "stdout",
     "output_type": "stream",
     "text": [
      "loss : 0.1481\n",
      "\n"
     ]
    },
    {
     "name": "stderr",
     "output_type": "stream",
     "text": [
      "Epoch 6/40  Mem : 11.9GB  LR : 4.88E-05  Loss: 0.0845: 100%|██████████| 2329/2329 [07:55<00:00,  4.90it/s]\n",
      "Val Loss: 0.1435: 100%|██████████| 215/215 [00:27<00:00,  7.91it/s]                                                                                                                                                                                                                                    \n"
     ]
    },
    {
     "name": "stdout",
     "output_type": "stream",
     "text": [
      "loss : 0.1435\tSAVED MODEL\n",
      "\n"
     ]
    },
    {
     "name": "stderr",
     "output_type": "stream",
     "text": [
      "Epoch 7/40  Mem : 11.9GB  LR : 4.81E-05  Loss: 0.0835: 100%|██████████| 2329/2329 [07:52<00:00,  4.93it/s]\n",
      "Val Loss: 0.1378: 100%|██████████| 215/215 [00:26<00:00,  7.97it/s]                                                                                                                                                                                                                                    \n"
     ]
    },
    {
     "name": "stdout",
     "output_type": "stream",
     "text": [
      "loss : 0.1378\tSAVED MODEL\n",
      "\n"
     ]
    },
    {
     "name": "stderr",
     "output_type": "stream",
     "text": [
      "Epoch 8/40  Mem : 11.9GB  LR : 4.73E-05  Loss: 0.0828: 100%|██████████| 2329/2329 [07:53<00:00,  4.92it/s]\n",
      "Val Loss: 0.1475: 100%|██████████| 215/215 [00:26<00:00,  8.03it/s]                                                                                                                                                                                                                                    \n"
     ]
    },
    {
     "name": "stdout",
     "output_type": "stream",
     "text": [
      "loss : 0.1475\n",
      "\n"
     ]
    },
    {
     "name": "stderr",
     "output_type": "stream",
     "text": [
      "Epoch 9/40  Mem : 11.9GB  LR : 4.63E-05  Loss: 0.0822: 100%|██████████| 2329/2329 [07:52<00:00,  4.93it/s]\n",
      "Val Loss: 0.1494: 100%|██████████| 215/215 [00:26<00:00,  8.05it/s]                                                                                                                                                                                                                                    \n"
     ]
    },
    {
     "name": "stdout",
     "output_type": "stream",
     "text": [
      "loss : 0.1494\n",
      "\n"
     ]
    },
    {
     "name": "stderr",
     "output_type": "stream",
     "text": [
      "Epoch 10/40  Mem : 11.9GB  LR : 4.52E-05  Loss: 0.0814: 100%|██████████| 2329/2329 [07:52<00:00,  4.93it/s]\n",
      "Val Loss: 0.1389: 100%|██████████| 215/215 [00:26<00:00,  8.04it/s]                                                                                                                                                                                                                                    \n"
     ]
    },
    {
     "name": "stdout",
     "output_type": "stream",
     "text": [
      "loss : 0.1389\n",
      "\n"
     ]
    },
    {
     "name": "stderr",
     "output_type": "stream",
     "text": [
      "Epoch 11/40  Mem : 11.9GB  LR : 4.40E-05  Loss: 0.0807: 100%|██████████| 2329/2329 [07:52<00:00,  4.93it/s]\n",
      "Val Loss: 0.1334: 100%|██████████| 215/215 [00:26<00:00,  7.98it/s]                                                                                                                                                                                                                                    \n"
     ]
    },
    {
     "name": "stdout",
     "output_type": "stream",
     "text": [
      "loss : 0.1334\tSAVED MODEL\n",
      "\n"
     ]
    },
    {
     "name": "stderr",
     "output_type": "stream",
     "text": [
      "Epoch 12/40  Mem : 11.9GB  LR : 4.27E-05  Loss: 0.0806: 100%|██████████| 2329/2329 [07:54<00:00,  4.91it/s]\n",
      "Val Loss: 0.1378: 100%|██████████| 215/215 [00:27<00:00,  7.93it/s]                                                                                                                                                                                                                                    \n"
     ]
    },
    {
     "name": "stdout",
     "output_type": "stream",
     "text": [
      "loss : 0.1378\n",
      "\n"
     ]
    },
    {
     "name": "stderr",
     "output_type": "stream",
     "text": [
      "Epoch 13/40  Mem : 11.9GB  LR : 4.13E-05  Loss: 0.0800: 100%|██████████| 2329/2329 [07:54<00:00,  4.91it/s]\n",
      "Val Loss: 0.1347: 100%|██████████| 215/215 [00:27<00:00,  7.93it/s]                                                                                                                                                                                                                                    \n"
     ]
    },
    {
     "name": "stdout",
     "output_type": "stream",
     "text": [
      "loss : 0.1347\n",
      "\n"
     ]
    },
    {
     "name": "stderr",
     "output_type": "stream",
     "text": [
      "Epoch 14/40  Mem : 11.9GB  LR : 3.97E-05  Loss: 0.0799: 100%|██████████| 2329/2329 [07:55<00:00,  4.90it/s]\n",
      "Val Loss: 0.1411: 100%|██████████| 215/215 [00:27<00:00,  7.88it/s]                                                                                                                                                                                                                                    \n"
     ]
    },
    {
     "name": "stdout",
     "output_type": "stream",
     "text": [
      "loss : 0.1411\n",
      "\n"
     ]
    },
    {
     "name": "stderr",
     "output_type": "stream",
     "text": [
      "Epoch 15/40  Mem : 11.9GB  LR : 3.81E-05  Loss: 0.0794: 100%|██████████| 2329/2329 [07:55<00:00,  4.90it/s]\n",
      "Val Loss: 0.1365: 100%|██████████| 215/215 [00:27<00:00,  7.93it/s]                                                                                                                                                                                                                                    \n"
     ]
    },
    {
     "name": "stdout",
     "output_type": "stream",
     "text": [
      "loss : 0.1365\n",
      "\n"
     ]
    },
    {
     "name": "stderr",
     "output_type": "stream",
     "text": [
      "Epoch 16/40  Mem : 11.9GB  LR : 3.64E-05  Loss: 0.0785: 100%|██████████| 2329/2329 [07:55<00:00,  4.90it/s]\n",
      "Val Loss: 0.1426: 100%|██████████| 215/215 [00:27<00:00,  7.94it/s]                                                                                                                                                                                                                                    \n"
     ]
    },
    {
     "name": "stdout",
     "output_type": "stream",
     "text": [
      "loss : 0.1426\n",
      "\n"
     ]
    },
    {
     "name": "stderr",
     "output_type": "stream",
     "text": [
      "Epoch 17/40  Mem : 11.9GB  LR : 3.46E-05  Loss: 0.0784: 100%|██████████| 2329/2329 [07:57<00:00,  4.88it/s]\n",
      "Val Loss: 0.1385: 100%|██████████| 215/215 [00:27<00:00,  7.89it/s]                                                                                                                                                                                                                                    \n"
     ]
    },
    {
     "name": "stdout",
     "output_type": "stream",
     "text": [
      "loss : 0.1385\n",
      "\n"
     ]
    },
    {
     "name": "stderr",
     "output_type": "stream",
     "text": [
      "Epoch 18/40  Mem : 11.9GB  LR : 3.28E-05  Loss: 0.0779: 100%|██████████| 2329/2329 [07:55<00:00,  4.89it/s]\n",
      "Val Loss: 0.1354: 100%|██████████| 215/215 [00:27<00:00,  7.92it/s]                                                                                                                                                                                                                                    \n"
     ]
    },
    {
     "name": "stdout",
     "output_type": "stream",
     "text": [
      "loss : 0.1354\n",
      "\n"
     ]
    },
    {
     "name": "stderr",
     "output_type": "stream",
     "text": [
      "Epoch 19/40  Mem : 11.9GB  LR : 3.09E-05  Loss: 0.0778: 100%|██████████| 2329/2329 [07:53<00:00,  4.91it/s]\n",
      "Val Loss: 0.1422: 100%|██████████| 215/215 [00:27<00:00,  7.82it/s]                                                                                                                                                                                                                                    \n"
     ]
    },
    {
     "name": "stdout",
     "output_type": "stream",
     "text": [
      "loss : 0.1422\n",
      "\n"
     ]
    },
    {
     "name": "stderr",
     "output_type": "stream",
     "text": [
      "Epoch 20/40  Mem : 11.9GB  LR : 2.90E-05  Loss: 0.0779: 100%|██████████| 2329/2329 [07:51<00:00,  4.94it/s]\n",
      "Val Loss: 0.1347: 100%|██████████| 215/215 [00:26<00:00,  8.03it/s]                                                                                                                                                                                                                                    \n"
     ]
    },
    {
     "name": "stdout",
     "output_type": "stream",
     "text": [
      "loss : 0.1347\n",
      "\n"
     ]
    },
    {
     "name": "stderr",
     "output_type": "stream",
     "text": [
      "Epoch 21/40  Mem : 11.9GB  LR : 2.70E-05  Loss: 0.0770: 100%|██████████| 2329/2329 [07:51<00:00,  4.94it/s]\n",
      "Val Loss: 0.1408: 100%|██████████| 215/215 [00:26<00:00,  8.01it/s]                                                                                                                                                                                                                                    \n"
     ]
    },
    {
     "name": "stdout",
     "output_type": "stream",
     "text": [
      "loss : 0.1408\n",
      "\n"
     ]
    },
    {
     "name": "stderr",
     "output_type": "stream",
     "text": [
      "Epoch 22/40  Mem : 11.9GB  LR : 2.50E-05  Loss: 0.0769: 100%|██████████| 2329/2329 [07:52<00:00,  4.93it/s]\n",
      "Val Loss: 0.1315: 100%|██████████| 215/215 [00:26<00:00,  7.99it/s]                                                                                                                                                                                                                                    \n"
     ]
    },
    {
     "name": "stdout",
     "output_type": "stream",
     "text": [
      "loss : 0.1315\tSAVED MODEL\n",
      "\n"
     ]
    },
    {
     "name": "stderr",
     "output_type": "stream",
     "text": [
      "Epoch 23/40  Mem : 11.9GB  LR : 2.31E-05  Loss: 0.0767: 100%|██████████| 2329/2329 [07:53<00:00,  4.92it/s]\n",
      "Val Loss: 0.1350: 100%|██████████| 215/215 [00:26<00:00,  7.98it/s]                                                                                                                                                                                                                                    \n"
     ]
    },
    {
     "name": "stdout",
     "output_type": "stream",
     "text": [
      "loss : 0.1350\n",
      "\n"
     ]
    },
    {
     "name": "stderr",
     "output_type": "stream",
     "text": [
      "Epoch 24/40  Mem : 11.9GB  LR : 2.11E-05  Loss: 0.0767: 100%|██████████| 2329/2329 [07:52<00:00,  4.93it/s]\n",
      "Val Loss: 0.1374: 100%|██████████| 215/215 [00:26<00:00,  8.03it/s]                                                                                                                                                                                                                                    \n"
     ]
    },
    {
     "name": "stdout",
     "output_type": "stream",
     "text": [
      "loss : 0.1374\n",
      "\n"
     ]
    },
    {
     "name": "stderr",
     "output_type": "stream",
     "text": [
      "Epoch 25/40  Mem : 11.9GB  LR : 1.92E-05  Loss: 0.0760: 100%|██████████| 2329/2329 [07:51<00:00,  4.94it/s]\n",
      "Val Loss: 0.1352: 100%|██████████| 215/215 [00:26<00:00,  7.99it/s]                                                                                                                                                                                                                                    \n"
     ]
    },
    {
     "name": "stdout",
     "output_type": "stream",
     "text": [
      "loss : 0.1352\n",
      "\n"
     ]
    },
    {
     "name": "stderr",
     "output_type": "stream",
     "text": [
      "Epoch 26/40  Mem : 11.9GB  LR : 1.73E-05  Loss: 0.0758: 100%|██████████| 2329/2329 [07:53<00:00,  4.92it/s]\n",
      "Val Loss: 0.1348: 100%|██████████| 215/215 [00:26<00:00,  8.00it/s]                                                                                                                                                                                                                                    \n"
     ]
    },
    {
     "name": "stdout",
     "output_type": "stream",
     "text": [
      "loss : 0.1348\n",
      "\n"
     ]
    },
    {
     "name": "stderr",
     "output_type": "stream",
     "text": [
      "Epoch 27/40  Mem : 11.9GB  LR : 1.55E-05  Loss: 0.0756: 100%|██████████| 2329/2329 [07:53<00:00,  4.92it/s]\n",
      "Val Loss: 0.1334: 100%|██████████| 215/215 [00:27<00:00,  7.96it/s]                                                                                                                                                                                                                                    \n"
     ]
    },
    {
     "name": "stdout",
     "output_type": "stream",
     "text": [
      "loss : 0.1334\n",
      "\n"
     ]
    },
    {
     "name": "stderr",
     "output_type": "stream",
     "text": [
      "Epoch 28/40  Mem : 11.9GB  LR : 1.37E-05  Loss: 0.0755: 100%|██████████| 2329/2329 [07:56<00:00,  4.89it/s]\n",
      "Val Loss: 0.1340: 100%|██████████| 215/215 [00:27<00:00,  7.87it/s]                                                                                                                                                                                                                                    \n"
     ]
    },
    {
     "name": "stdout",
     "output_type": "stream",
     "text": [
      "loss : 0.1340\n",
      "\n"
     ]
    },
    {
     "name": "stderr",
     "output_type": "stream",
     "text": [
      "Epoch 29/40  Mem : 11.9GB  LR : 1.20E-05  Loss: 0.0753: 100%|██████████| 2329/2329 [07:56<00:00,  4.89it/s]\n",
      "Val Loss: 0.1377: 100%|██████████| 215/215 [00:27<00:00,  7.95it/s]                                                                                                                                                                                                                                    \n"
     ]
    },
    {
     "name": "stdout",
     "output_type": "stream",
     "text": [
      "loss : 0.1377\n",
      "\n"
     ]
    },
    {
     "name": "stderr",
     "output_type": "stream",
     "text": [
      "Epoch 30/40  Mem : 11.9GB  LR : 1.04E-05  Loss: 0.0749: 100%|██████████| 2329/2329 [07:55<00:00,  4.90it/s]\n",
      "Val Loss: 0.1333: 100%|██████████| 215/215 [00:27<00:00,  7.90it/s]                                                                                                                                                                                                                                    \n"
     ]
    },
    {
     "name": "stdout",
     "output_type": "stream",
     "text": [
      "loss : 0.1333\n",
      "\n"
     ]
    },
    {
     "name": "stderr",
     "output_type": "stream",
     "text": [
      "Epoch 31/40  Mem : 11.9GB  LR : 8.85E-06  Loss: 0.0752: 100%|██████████| 2329/2329 [07:56<00:00,  4.89it/s]\n",
      "Val Loss: 0.1335: 100%|██████████| 215/215 [00:27<00:00,  7.78it/s]                                                                                                                                                                                                                                    \n"
     ]
    },
    {
     "name": "stdout",
     "output_type": "stream",
     "text": [
      "loss : 0.1335\n",
      "\n"
     ]
    },
    {
     "name": "stderr",
     "output_type": "stream",
     "text": [
      "Epoch 32/40  Mem : 11.9GB  LR : 7.41E-06  Loss: 0.0749: 100%|██████████| 2329/2329 [07:56<00:00,  4.89it/s]\n",
      "Val Loss: 0.1311: 100%|██████████| 215/215 [00:27<00:00,  7.91it/s]                                                                                                                                                                                                                                    \n"
     ]
    },
    {
     "name": "stdout",
     "output_type": "stream",
     "text": [
      "loss : 0.1311\tSAVED MODEL\n",
      "\n"
     ]
    },
    {
     "name": "stderr",
     "output_type": "stream",
     "text": [
      "Epoch 33/40  Mem : 11.9GB  LR : 6.08E-06  Loss: 0.0747: 100%|██████████| 2329/2329 [07:56<00:00,  4.89it/s]\n",
      "Val Loss: 0.1301: 100%|██████████| 215/215 [00:27<00:00,  7.88it/s]                                                                                                                                                                                                                                    \n"
     ]
    },
    {
     "name": "stdout",
     "output_type": "stream",
     "text": [
      "loss : 0.1301\tSAVED MODEL\n",
      "\n"
     ]
    },
    {
     "name": "stderr",
     "output_type": "stream",
     "text": [
      "Epoch 34/40  Mem : 11.9GB  LR : 4.87E-06  Loss: 0.0744: 100%|██████████| 2329/2329 [07:57<00:00,  4.88it/s]\n",
      "Val Loss: 0.1330: 100%|██████████| 215/215 [00:27<00:00,  7.90it/s]                                                                                                                                                                                                                                    \n"
     ]
    },
    {
     "name": "stdout",
     "output_type": "stream",
     "text": [
      "loss : 0.1330\n",
      "\n"
     ]
    },
    {
     "name": "stderr",
     "output_type": "stream",
     "text": [
      "Epoch 35/40  Mem : 11.9GB  LR : 3.78E-06  Loss: 0.0748: 100%|██████████| 2329/2329 [07:54<00:00,  4.90it/s]\n",
      "Val Loss: 0.1315: 100%|██████████| 215/215 [00:27<00:00,  7.94it/s]                                                                                                                                                                                                                                    \n"
     ]
    },
    {
     "name": "stdout",
     "output_type": "stream",
     "text": [
      "loss : 0.1315\n",
      "\n"
     ]
    },
    {
     "name": "stderr",
     "output_type": "stream",
     "text": [
      "Epoch 36/40  Mem : 11.9GB  LR : 2.82E-06  Loss: 0.0747: 100%|██████████| 2329/2329 [07:53<00:00,  4.92it/s]\n",
      "Val Loss: 0.1305: 100%|██████████| 215/215 [00:26<00:00,  7.99it/s]                                                                                                                                                                                                                                    \n"
     ]
    },
    {
     "name": "stdout",
     "output_type": "stream",
     "text": [
      "loss : 0.1305\n",
      "\n"
     ]
    },
    {
     "name": "stderr",
     "output_type": "stream",
     "text": [
      "Epoch 37/40  Mem : 11.9GB  LR : 2.00E-06  Loss: 0.0746: 100%|██████████| 2329/2329 [07:54<00:00,  4.91it/s]\n",
      "Val Loss: 0.1298: 100%|██████████| 215/215 [00:26<00:00,  8.00it/s]                                                                                                                                                                                                                                    \n"
     ]
    },
    {
     "name": "stdout",
     "output_type": "stream",
     "text": [
      "loss : 0.1298\tSAVED MODEL\n",
      "\n"
     ]
    },
    {
     "name": "stderr",
     "output_type": "stream",
     "text": [
      "Epoch 38/40  Mem : 11.9GB  LR : 1.32E-06  Loss: 0.0744: 100%|██████████| 2329/2329 [07:53<00:00,  4.91it/s]\n",
      "Val Loss: 0.1298: 100%|██████████| 215/215 [00:27<00:00,  7.91it/s]                                                                                                                                                                                                                                    \n"
     ]
    },
    {
     "name": "stdout",
     "output_type": "stream",
     "text": [
      "loss : 0.1298\n",
      "\n"
     ]
    },
    {
     "name": "stderr",
     "output_type": "stream",
     "text": [
      "Epoch 39/40  Mem : 11.9GB  LR : 7.89E-07  Loss: 0.0746: 100%|██████████| 2329/2329 [07:53<00:00,  4.92it/s]\n",
      "Val Loss: 0.1303: 100%|██████████| 215/215 [00:26<00:00,  7.99it/s]                                                                                                                                                                                                                                    \n"
     ]
    },
    {
     "name": "stdout",
     "output_type": "stream",
     "text": [
      "loss : 0.1303\n",
      "\n"
     ]
    },
    {
     "name": "stderr",
     "output_type": "stream",
     "text": [
      "wandb: WARNING No program path found, not creating job artifact. See https://docs.wandb.ai/guides/launch/create-job\n",
      "\u001b[34m\u001b[1mwandb\u001b[0m:                                                                                \n",
      "\u001b[34m\u001b[1mwandb\u001b[0m: \n",
      "\u001b[34m\u001b[1mwandb\u001b[0m: Run history:\n",
      "\u001b[34m\u001b[1mwandb\u001b[0m:      epoch ▁▁▁▂▂▂▂▂▂▃▃▃▃▃▄▄▄▄▄▄▅▅▅▅▅▅▆▆▆▆▆▇▇▇▇▇▇███\n",
      "\u001b[34m\u001b[1mwandb\u001b[0m: train_loss █▂▁▁▁▁▁▁▁▁▁▁▁▁▁▁▁▁▁▁▁▁▁▁▁▁▁▁▁▁▁▁▁▁▁▁▁▁▁▁\n",
      "\u001b[34m\u001b[1mwandb\u001b[0m: valid_loss █▂▂▂▂▂▂▁▂▂▁▁▁▁▂▁▂▁▁▂▁▂▁▁▁▁▁▁▁▁▁▁▁▁▁▁▁▁▁▁\n",
      "\u001b[34m\u001b[1mwandb\u001b[0m: \n",
      "\u001b[34m\u001b[1mwandb\u001b[0m: Run summary:\n",
      "\u001b[34m\u001b[1mwandb\u001b[0m:      epoch 39\n",
      "\u001b[34m\u001b[1mwandb\u001b[0m: train_loss 0.07458\n",
      "\u001b[34m\u001b[1mwandb\u001b[0m: valid_loss 0.13031\n",
      "\u001b[34m\u001b[1mwandb\u001b[0m: \n",
      "\u001b[34m\u001b[1mwandb\u001b[0m: 🚀 View run \u001b[33mexp001_fold1\u001b[0m at: \u001b[34m\u001b[4mhttps://wandb.ai/welshonionman/SenNet/runs/ov77yn9d\u001b[0m\n",
      "\u001b[34m\u001b[1mwandb\u001b[0m: Synced 5 W&B file(s), 0 media file(s), 0 artifact file(s) and 0 other file(s)\n",
      "\u001b[34m\u001b[1mwandb\u001b[0m: Find logs at: \u001b[35m\u001b[1m/kaggle/wandb/run-20240106_201654-ov77yn9d/logs\u001b[0m\n"
     ]
    }
   ],
   "source": [
    "if cfg.debug:\n",
    "    print(\"!!!Debug mode!!!\\n\")\n",
    "    cfg.epochs = 5\n",
    "\n",
    "for fold in range(2):\n",
    "    train_dataloader, valid_dataloader = init_dataset(fold, df, cfg)\n",
    "    model, scaler, criterion, optimizer, scheduler, metrics = init_model(cfg)\n",
    "    slacknotify = init_exp(fold, cfg)\n",
    "\n",
    "    path_best = f\"./{cfg.exp_name}/{cfg.exp_name}_best_fold{fold}.pth\"\n",
    "    path_last = f\"./{cfg.exp_name}/{cfg.exp_name}_last_fold{fold}.pth\"\n",
    "\n",
    "    best_loss = float(\"inf\")\n",
    "    for epoch in range(cfg.epochs):\n",
    "        model.train()\n",
    "        total_loss = 0.0\n",
    "        pbar_train = tqdm(enumerate(train_dataloader), total=len(train_dataloader), bar_format=\"{l_bar}{bar:10}{r_bar}{bar:-0b}\")\n",
    "\n",
    "        for i, (images, masks) in pbar_train:\n",
    "            images, masks = images.cuda(), masks.cuda()\n",
    "            optimizer.zero_grad()\n",
    "\n",
    "            with amp.autocast():\n",
    "                preds = model(images)\n",
    "                loss = criterion(preds, masks)\n",
    "                scaler.scale(loss).backward()\n",
    "                scaler.step(optimizer)\n",
    "                scaler.update()\n",
    "                total_loss += loss.detach().item()\n",
    "\n",
    "            loss_ = total_loss / (i + 1)\n",
    "            lr = f\"LR : {scheduler.get_lr()[0]:.2E}\"\n",
    "            gpu_mem = f\"Mem : {torch.cuda.memory_reserved() / 1E9:.3g}GB\"\n",
    "            pbar_train.set_description((\"%10s  \" * 3 + \"%10s\") % (f\"Epoch {epoch}/{cfg.epochs}\", gpu_mem, lr, f\"Loss: {loss_:.4f}\"))\n",
    "\n",
    "        train_loss = loss_\n",
    "        scheduler.step()\n",
    "        wandb.log({\"epoch\": epoch, \"train_loss\": train_loss})\n",
    "\n",
    "        model.eval()\n",
    "        total_loss = 0.0\n",
    "        pbar_val = tqdm(enumerate(valid_dataloader), total=len(valid_dataloader), bar_format=\"{l_bar}{bar:10}{r_bar}{bar:-10b}\")\n",
    "\n",
    "        for i, (images, masks) in pbar_val:\n",
    "            images, masks = images.cuda(), masks.cuda()\n",
    "            with torch.no_grad():\n",
    "                preds = model(images)\n",
    "                loss = criterion(preds, masks)\n",
    "                total_loss += loss.item()\n",
    "\n",
    "            loss_ = total_loss / (i + 1)\n",
    "            pbar_val.set_description((\"%10s\") % (f\"Val Loss: {loss_:.4f}\"))\n",
    "        valid_loss = loss_\n",
    "        wandb.log({\"epoch\": epoch, \"valid_loss\": valid_loss})\n",
    "\n",
    "        if valid_loss < best_loss:\n",
    "            print(f\"loss : {valid_loss:.4f}\\tSAVED MODEL\\n\")\n",
    "            slacknotify.send_reply(f\"epoch : {epoch}\\tscore : {valid_loss:.4f}\\tBEST\")\n",
    "            best_loss = valid_loss\n",
    "            save_model(model, cfg, path_best, loss=loss)\n",
    "        else:\n",
    "            print(f\"loss : {valid_loss:.4f}\\n\")\n",
    "            slacknotify.send_reply(f\"epoch : {epoch}\\tscore : {valid_loss:.4f}\")\n",
    "\n",
    "    save_model(model, cfg, path_last, loss=valid_loss)\n",
    "    wandb.config.update({\"last_loss\": valid_loss, \"best_loss\": best_loss})\n",
    "\n",
    "    slacknotify.send_reply(f\"{cfg.exp_name}_fold{fold} training finished\\nbest loss : {best_loss:.4f} last loss : {loss_:.4f}\", True)\n",
    "\n",
    "    if wandb.run:\n",
    "        wandb.finish()"
   ]
  },
  {
   "cell_type": "code",
   "execution_count": 5,
   "metadata": {},
   "outputs": [
    {
     "name": "stdout",
     "output_type": "stream",
     "text": [
      "fold_0\n",
      "(0.5, 0.8012)\n",
      "fold_1\n",
      "(0.33, 0.8824)\n"
     ]
    }
   ],
   "source": [
    "fold_dict = json.load(open(\"/kaggle/src/dataset/fold.json\", \"r\"))\n",
    "\n",
    "for fold in range(2):\n",
    "    print(f\"fold_{fold}\")\n",
    "    valid_kidney = fold_dict[f\"fold{fold}\"][\"valid\"][0]\n",
    "    path_best = f\"./{cfg.exp_name}/{cfg.exp_name}_best_fold{fold}.pth\"\n",
    "    # model = load_inference_model(path_best, cfg)\n",
    "\n",
    "    stack_path = f\"/kaggle/working/dataset/stack_train01/{valid_kidney}_images.npy\"\n",
    "    label_path = f\"/kaggle/working/dataset/stack_train01/{valid_kidney}_labels.npy\"\n",
    "    save_path = \"./preds\"\n",
    "    preds_path = f\"{save_path}/{valid_kidney}_preds.npy\"\n",
    "    # inference(model, stack_path, save_path, cfg)\n",
    "\n",
    "    label = np.load(label_path)\n",
    "    preds = np.load(preds_path)\n",
    "    thresh_score_dict = {}\n",
    "\n",
    "    for thresh in np.arange(0.1, 0.99, 0.1):\n",
    "        thresh = round(thresh, 5)\n",
    "        thresh_score_dict[thresh] = compute_surface_dice_score_from_volume(ne.evaluate(\"preds > thresh\"), label)\n",
    "\n",
    "    max_thresh = max(thresh_score_dict, key=thresh_score_dict.get)\n",
    "\n",
    "    for thresh in np.arange(max_thresh - 0.1, max_thresh + 0.1, 0.01):\n",
    "        thresh = round(thresh, 5)\n",
    "        thresh_score_dict[thresh] = compute_surface_dice_score_from_volume(ne.evaluate(\"preds > thresh\"), label)\n",
    "\n",
    "    print(max(thresh_score_dict.items(), key=lambda x: x[1]))"
   ]
  },
  {
   "cell_type": "code",
   "execution_count": 6,
   "metadata": {},
   "outputs": [
    {
     "name": "stdout",
     "output_type": "stream",
     "text": [
      "/kaggle/working/notebook/experiment/exp001\n"
     ]
    }
   ],
   "source": []
  },
  {
   "cell_type": "code",
   "execution_count": null,
   "metadata": {},
   "outputs": [],
   "source": []
  }
 ],
 "metadata": {
  "kaggle": {
   "accelerator": "nvidiaTeslaT4",
   "dataSources": [
    {
     "databundleVersionId": 6962461,
     "sourceId": 61446,
     "sourceType": "competition"
    },
    {
     "datasetId": 1074109,
     "sourceId": 1807973,
     "sourceType": "datasetVersion"
    },
    {
     "sourceId": 150248402,
     "sourceType": "kernelVersion"
    }
   ],
   "dockerImageVersionId": 30587,
   "isGpuEnabled": true,
   "isInternetEnabled": true,
   "language": "python",
   "sourceType": "notebook"
  },
  "kernelspec": {
   "display_name": "Python 3",
   "language": "python",
   "name": "python3"
  },
  "language_info": {
   "codemirror_mode": {
    "name": "ipython",
    "version": 3
   },
   "file_extension": ".py",
   "mimetype": "text/x-python",
   "name": "python",
   "nbconvert_exporter": "python",
   "pygments_lexer": "ipython3",
   "version": "3.10.13"
  }
 },
 "nbformat": 4,
 "nbformat_minor": 4
}
