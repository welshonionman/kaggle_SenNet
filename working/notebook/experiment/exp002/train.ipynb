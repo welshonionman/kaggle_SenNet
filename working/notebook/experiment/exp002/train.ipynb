{
 "cells": [
  {
   "cell_type": "code",
   "execution_count": 5,
   "metadata": {
    "_cell_guid": "b1076dfc-b9ad-4769-8c92-a6c4dae69d19",
    "_kg_hide-input": true,
    "_kg_hide-output": true,
    "_uuid": "8f2839f25d086af736a60e9eeb907d3b93b6e0e5",
    "execution": {
     "iopub.execute_input": "2024-01-07T01:52:38.718744Z",
     "iopub.status.busy": "2024-01-07T01:52:38.718608Z",
     "iopub.status.idle": "2024-01-07T01:52:42.586686Z",
     "shell.execute_reply": "2024-01-07T01:52:42.586096Z"
    }
   },
   "outputs": [],
   "source": [
    "import json\n",
    "import pandas as pd\n",
    "import numpy as np\n",
    "import numexpr as ne\n",
    "import os\n",
    "import albumentations as A\n",
    "from albumentations.pytorch import ToTensorV2\n",
    "import wandb\n",
    "from dotenv import load_dotenv\n",
    "from tqdm import tqdm\n",
    "import torch\n",
    "import torch.cuda.amp as amp\n",
    "\n",
    "from src.model.model import save_model, load_inference_model\n",
    "from src.dataset.df import df_dataset, check_dataset\n",
    "from src.utils.common import set_seed\n",
    "\n",
    "from src.experiment.inference import inference\n",
    "from src.experiment.initialize import init_dataset, init_model, init_exp\n",
    "from src.utils.metrics import compute_surface_dice_score_from_volume"
   ]
  },
  {
   "cell_type": "code",
   "execution_count": 6,
   "metadata": {
    "execution": {
     "iopub.execute_input": "2024-01-07T01:52:42.589433Z",
     "iopub.status.busy": "2024-01-07T01:52:42.589032Z",
     "iopub.status.idle": "2024-01-07T01:52:42.610525Z",
     "shell.execute_reply": "2024-01-07T01:52:42.609985Z"
    }
   },
   "outputs": [],
   "source": [
    "class cfg:\n",
    "    debug = False\n",
    "    check_dataset = False\n",
    "\n",
    "    # = data CFG ====================================================\n",
    "\n",
    "    dataset_path = \"/kaggle/working/dataset/cropped_xy_256_128_z_5_5/\"\n",
    "    train_dataset = \"Base2dDataset\"\n",
    "    negative_sample_rate = 0.1\n",
    "    # = experiment CFG =================================================\n",
    "\n",
    "    project = \"SenNet\"\n",
    "    exp_name = os.path.basename(os.getcwd())\n",
    "    notes = \"negative_sample=0.1\"\n",
    "\n",
    "    # = model CFG ======================================================\n",
    "\n",
    "    model_arch = \"Unet\"\n",
    "    backbone = \"se_resnext50_32x4d\"\n",
    "    in_chans = 5\n",
    "    target_size = 5\n",
    "\n",
    "    # = training CFG ===================================================\n",
    "\n",
    "    epochs = 40\n",
    "\n",
    "    train_batch_size = 64\n",
    "    valid_batch_size = train_batch_size\n",
    "\n",
    "    loss = \"DiceLoss\"\n",
    "    metrics = \"Dice\"\n",
    "    lr = 5e-4\n",
    "    num_workers = 12\n",
    "\n",
    "    # = augmentation ===================================================\n",
    "\n",
    "    image_size = 256\n",
    "    train_aug = [\n",
    "        A.RandomRotate90(p=0.5),\n",
    "        A.RandomGamma(p=0.5),\n",
    "        A.RandomBrightnessContrast(p=0.5),\n",
    "        A.RandomResizedCrop(image_size, image_size, scale=(0.8, 1)),\n",
    "        A.ShiftScaleRotate(p=0.5),\n",
    "        A.GridDistortion(num_steps=5, distort_limit=0.3, p=0.5),\n",
    "        ToTensorV2(transpose_mask=True),\n",
    "    ]\n",
    "\n",
    "    valid_aug = [\n",
    "        ToTensorV2(transpose_mask=True),\n",
    "    ]\n",
    "\n",
    "    # =============== inference ========================================\n",
    "\n",
    "    test_dataset = \"BaseInferenceDataset\"\n",
    "    stride = image_size // 2\n",
    "    drop_egde_pixel = 32\n",
    "\n",
    "\n",
    "load_dotenv(\"/kaggle/key.env\")\n",
    "set_seed()"
   ]
  },
  {
   "cell_type": "code",
   "execution_count": 7,
   "metadata": {
    "execution": {
     "iopub.execute_input": "2024-01-07T01:52:42.612743Z",
     "iopub.status.busy": "2024-01-07T01:52:42.612486Z",
     "iopub.status.idle": "2024-01-07T01:52:51.138112Z",
     "shell.execute_reply": "2024-01-07T01:52:51.137629Z"
    }
   },
   "outputs": [
    {
     "name": "stderr",
     "output_type": "stream",
     "text": [
      "/tmp/ipykernel_27813/4046888049.py:10: DtypeWarning: Columns (10) have mixed types. Specify dtype option on import or set low_memory=False.\n",
      "  df = pd.read_csv(f\"{cfg.dataset_path}/dataset.csv\")\n"
     ]
    },
    {
     "data": {
      "text/html": [
       "<div>\n",
       "<style scoped>\n",
       "    .dataframe tbody tr th:only-of-type {\n",
       "        vertical-align: middle;\n",
       "    }\n",
       "\n",
       "    .dataframe tbody tr th {\n",
       "        vertical-align: top;\n",
       "    }\n",
       "\n",
       "    .dataframe thead th {\n",
       "        text-align: right;\n",
       "    }\n",
       "</style>\n",
       "<table border=\"1\" class=\"dataframe\">\n",
       "  <thead>\n",
       "    <tr style=\"text-align: right;\">\n",
       "      <th></th>\n",
       "      <th>image_path</th>\n",
       "      <th>label_path</th>\n",
       "      <th>fname</th>\n",
       "      <th>kidney</th>\n",
       "      <th>x</th>\n",
       "      <th>y</th>\n",
       "      <th>z</th>\n",
       "      <th>std</th>\n",
       "      <th>sum</th>\n",
       "      <th>fold0</th>\n",
       "      <th>fold1</th>\n",
       "    </tr>\n",
       "  </thead>\n",
       "  <tbody>\n",
       "    <tr>\n",
       "      <th>0</th>\n",
       "      <td>/kaggle/working/dataset/cropped_xy_256_128_z_5...</td>\n",
       "      <td>/kaggle/working/dataset/cropped_xy_256_128_z_5...</td>\n",
       "      <td>x0_y0_z0_std0039_sum0</td>\n",
       "      <td>kidney_1_dense</td>\n",
       "      <td>0</td>\n",
       "      <td>0</td>\n",
       "      <td>0</td>\n",
       "      <td>39</td>\n",
       "      <td>0</td>\n",
       "      <td>valid</td>\n",
       "      <td>train</td>\n",
       "    </tr>\n",
       "    <tr>\n",
       "      <th>1</th>\n",
       "      <td>/kaggle/working/dataset/cropped_xy_256_128_z_5...</td>\n",
       "      <td>/kaggle/working/dataset/cropped_xy_256_128_z_5...</td>\n",
       "      <td>x0_y0_z100_std0036_sum0</td>\n",
       "      <td>kidney_1_dense</td>\n",
       "      <td>0</td>\n",
       "      <td>0</td>\n",
       "      <td>100</td>\n",
       "      <td>36</td>\n",
       "      <td>0</td>\n",
       "      <td>valid</td>\n",
       "      <td>train</td>\n",
       "    </tr>\n",
       "    <tr>\n",
       "      <th>2</th>\n",
       "      <td>/kaggle/working/dataset/cropped_xy_256_128_z_5...</td>\n",
       "      <td>/kaggle/working/dataset/cropped_xy_256_128_z_5...</td>\n",
       "      <td>x0_y0_z105_std0035_sum0</td>\n",
       "      <td>kidney_1_dense</td>\n",
       "      <td>0</td>\n",
       "      <td>0</td>\n",
       "      <td>105</td>\n",
       "      <td>35</td>\n",
       "      <td>0</td>\n",
       "      <td>valid</td>\n",
       "      <td>train</td>\n",
       "    </tr>\n",
       "    <tr>\n",
       "      <th>3</th>\n",
       "      <td>/kaggle/working/dataset/cropped_xy_256_128_z_5...</td>\n",
       "      <td>/kaggle/working/dataset/cropped_xy_256_128_z_5...</td>\n",
       "      <td>x0_y0_z10_std0039_sum0</td>\n",
       "      <td>kidney_1_dense</td>\n",
       "      <td>0</td>\n",
       "      <td>0</td>\n",
       "      <td>10</td>\n",
       "      <td>39</td>\n",
       "      <td>0</td>\n",
       "      <td>valid</td>\n",
       "      <td>train</td>\n",
       "    </tr>\n",
       "    <tr>\n",
       "      <th>4</th>\n",
       "      <td>/kaggle/working/dataset/cropped_xy_256_128_z_5...</td>\n",
       "      <td>/kaggle/working/dataset/cropped_xy_256_128_z_5...</td>\n",
       "      <td>x0_y0_z110_std0035_sum0</td>\n",
       "      <td>kidney_1_dense</td>\n",
       "      <td>0</td>\n",
       "      <td>0</td>\n",
       "      <td>110</td>\n",
       "      <td>35</td>\n",
       "      <td>0</td>\n",
       "      <td>valid</td>\n",
       "      <td>train</td>\n",
       "    </tr>\n",
       "    <tr>\n",
       "      <th>...</th>\n",
       "      <td>...</td>\n",
       "      <td>...</td>\n",
       "      <td>...</td>\n",
       "      <td>...</td>\n",
       "      <td>...</td>\n",
       "      <td>...</td>\n",
       "      <td>...</td>\n",
       "      <td>...</td>\n",
       "      <td>...</td>\n",
       "      <td>...</td>\n",
       "      <td>...</td>\n",
       "    </tr>\n",
       "    <tr>\n",
       "      <th>182679</th>\n",
       "      <td>/kaggle/working/dataset/cropped_xy_256_128_z_5...</td>\n",
       "      <td>/kaggle/working/dataset/cropped_xy_256_128_z_5...</td>\n",
       "      <td>x896_y256_z975_std0257_sum899</td>\n",
       "      <td>kidney_3_sparse</td>\n",
       "      <td>896</td>\n",
       "      <td>256</td>\n",
       "      <td>975</td>\n",
       "      <td>257</td>\n",
       "      <td>899</td>\n",
       "      <td>train</td>\n",
       "      <td>NaN</td>\n",
       "    </tr>\n",
       "    <tr>\n",
       "      <th>182680</th>\n",
       "      <td>/kaggle/working/dataset/cropped_xy_256_128_z_5...</td>\n",
       "      <td>/kaggle/working/dataset/cropped_xy_256_128_z_5...</td>\n",
       "      <td>x896_y256_z980_std0259_sum3087</td>\n",
       "      <td>kidney_3_sparse</td>\n",
       "      <td>896</td>\n",
       "      <td>256</td>\n",
       "      <td>980</td>\n",
       "      <td>259</td>\n",
       "      <td>3087</td>\n",
       "      <td>train</td>\n",
       "      <td>NaN</td>\n",
       "    </tr>\n",
       "    <tr>\n",
       "      <th>182681</th>\n",
       "      <td>/kaggle/working/dataset/cropped_xy_256_128_z_5...</td>\n",
       "      <td>/kaggle/working/dataset/cropped_xy_256_128_z_5...</td>\n",
       "      <td>x896_y256_z985_std0259_sum5991</td>\n",
       "      <td>kidney_3_sparse</td>\n",
       "      <td>896</td>\n",
       "      <td>256</td>\n",
       "      <td>985</td>\n",
       "      <td>259</td>\n",
       "      <td>5991</td>\n",
       "      <td>train</td>\n",
       "      <td>NaN</td>\n",
       "    </tr>\n",
       "    <tr>\n",
       "      <th>182682</th>\n",
       "      <td>/kaggle/working/dataset/cropped_xy_256_128_z_5...</td>\n",
       "      <td>/kaggle/working/dataset/cropped_xy_256_128_z_5...</td>\n",
       "      <td>x896_y256_z990_std0262_sum7311</td>\n",
       "      <td>kidney_3_sparse</td>\n",
       "      <td>896</td>\n",
       "      <td>256</td>\n",
       "      <td>990</td>\n",
       "      <td>262</td>\n",
       "      <td>7311</td>\n",
       "      <td>train</td>\n",
       "      <td>NaN</td>\n",
       "    </tr>\n",
       "    <tr>\n",
       "      <th>182683</th>\n",
       "      <td>/kaggle/working/dataset/cropped_xy_256_128_z_5...</td>\n",
       "      <td>/kaggle/working/dataset/cropped_xy_256_128_z_5...</td>\n",
       "      <td>x896_y256_z995_std0264_sum8657</td>\n",
       "      <td>kidney_3_sparse</td>\n",
       "      <td>896</td>\n",
       "      <td>256</td>\n",
       "      <td>995</td>\n",
       "      <td>264</td>\n",
       "      <td>8657</td>\n",
       "      <td>train</td>\n",
       "      <td>NaN</td>\n",
       "    </tr>\n",
       "  </tbody>\n",
       "</table>\n",
       "<p>182684 rows × 11 columns</p>\n",
       "</div>"
      ],
      "text/plain": [
       "                                               image_path  \\\n",
       "0       /kaggle/working/dataset/cropped_xy_256_128_z_5...   \n",
       "1       /kaggle/working/dataset/cropped_xy_256_128_z_5...   \n",
       "2       /kaggle/working/dataset/cropped_xy_256_128_z_5...   \n",
       "3       /kaggle/working/dataset/cropped_xy_256_128_z_5...   \n",
       "4       /kaggle/working/dataset/cropped_xy_256_128_z_5...   \n",
       "...                                                   ...   \n",
       "182679  /kaggle/working/dataset/cropped_xy_256_128_z_5...   \n",
       "182680  /kaggle/working/dataset/cropped_xy_256_128_z_5...   \n",
       "182681  /kaggle/working/dataset/cropped_xy_256_128_z_5...   \n",
       "182682  /kaggle/working/dataset/cropped_xy_256_128_z_5...   \n",
       "182683  /kaggle/working/dataset/cropped_xy_256_128_z_5...   \n",
       "\n",
       "                                               label_path  \\\n",
       "0       /kaggle/working/dataset/cropped_xy_256_128_z_5...   \n",
       "1       /kaggle/working/dataset/cropped_xy_256_128_z_5...   \n",
       "2       /kaggle/working/dataset/cropped_xy_256_128_z_5...   \n",
       "3       /kaggle/working/dataset/cropped_xy_256_128_z_5...   \n",
       "4       /kaggle/working/dataset/cropped_xy_256_128_z_5...   \n",
       "...                                                   ...   \n",
       "182679  /kaggle/working/dataset/cropped_xy_256_128_z_5...   \n",
       "182680  /kaggle/working/dataset/cropped_xy_256_128_z_5...   \n",
       "182681  /kaggle/working/dataset/cropped_xy_256_128_z_5...   \n",
       "182682  /kaggle/working/dataset/cropped_xy_256_128_z_5...   \n",
       "182683  /kaggle/working/dataset/cropped_xy_256_128_z_5...   \n",
       "\n",
       "                                 fname           kidney    x    y    z  std  \\\n",
       "0                x0_y0_z0_std0039_sum0   kidney_1_dense    0    0    0   39   \n",
       "1              x0_y0_z100_std0036_sum0   kidney_1_dense    0    0  100   36   \n",
       "2              x0_y0_z105_std0035_sum0   kidney_1_dense    0    0  105   35   \n",
       "3               x0_y0_z10_std0039_sum0   kidney_1_dense    0    0   10   39   \n",
       "4              x0_y0_z110_std0035_sum0   kidney_1_dense    0    0  110   35   \n",
       "...                                ...              ...  ...  ...  ...  ...   \n",
       "182679   x896_y256_z975_std0257_sum899  kidney_3_sparse  896  256  975  257   \n",
       "182680  x896_y256_z980_std0259_sum3087  kidney_3_sparse  896  256  980  259   \n",
       "182681  x896_y256_z985_std0259_sum5991  kidney_3_sparse  896  256  985  259   \n",
       "182682  x896_y256_z990_std0262_sum7311  kidney_3_sparse  896  256  990  262   \n",
       "182683  x896_y256_z995_std0264_sum8657  kidney_3_sparse  896  256  995  264   \n",
       "\n",
       "         sum  fold0  fold1  \n",
       "0          0  valid  train  \n",
       "1          0  valid  train  \n",
       "2          0  valid  train  \n",
       "3          0  valid  train  \n",
       "4          0  valid  train  \n",
       "...      ...    ...    ...  \n",
       "182679   899  train    NaN  \n",
       "182680  3087  train    NaN  \n",
       "182681  5991  train    NaN  \n",
       "182682  7311  train    NaN  \n",
       "182683  8657  train    NaN  \n",
       "\n",
       "[182684 rows x 11 columns]"
      ]
     },
     "metadata": {},
     "output_type": "display_data"
    }
   ],
   "source": [
    "def filter_dataset(df):\n",
    "    # trainのうちlabelが全くないものは90%の確率で除外\n",
    "    df[\"random\"] = np.random.rand(len(df))\n",
    "    df = df[(df[\"sum\"] > 0) | (df[\"fold0\"] == \"valid\") | (df[\"random\"] < cfg.negative_sample_rate)]\n",
    "    df = df.reset_index(drop=True)\n",
    "    df = df.drop([\"random\"], axis=1)\n",
    "    return df\n",
    "\n",
    "\n",
    "df = pd.read_csv(f\"{cfg.dataset_path}/dataset.csv\")\n",
    "df = filter_dataset(df)\n",
    "# df = df.sample(1000).reset_index(drop=True)\n",
    "if cfg.debug:\n",
    "    df = df.sample(10000).reset_index(drop=True)\n",
    "display(df)\n",
    "\n",
    "if cfg.check_dataset:\n",
    "    check_dataset(df, cfg)"
   ]
  },
  {
   "cell_type": "code",
   "execution_count": 4,
   "metadata": {
    "execution": {
     "iopub.execute_input": "2024-01-07T01:52:51.157425Z",
     "iopub.status.busy": "2024-01-07T01:52:51.157197Z",
     "iopub.status.idle": "2024-01-07T12:46:21.995347Z",
     "shell.execute_reply": "2024-01-07T12:46:21.993525Z"
    }
   },
   "outputs": [
    {
     "name": "stdout",
     "output_type": "stream",
     "text": [
      "model_arch:  Unet\n",
      "backbone:  se_resnext50_32x4d\n"
     ]
    },
    {
     "name": "stderr",
     "output_type": "stream",
     "text": [
      "\u001b[34m\u001b[1mwandb\u001b[0m: Currently logged in as: \u001b[33mwelshonionman\u001b[0m. Use \u001b[1m`wandb login --relogin`\u001b[0m to force relogin\n",
      "\u001b[34m\u001b[1mwandb\u001b[0m: Tracking run with wandb version 0.16.1\n",
      "\u001b[34m\u001b[1mwandb\u001b[0m: Run data is saved locally in \u001b[35m\u001b[1m/kaggle/wandb/run-20240107_015300-girw0izu\u001b[0m\n",
      "\u001b[34m\u001b[1mwandb\u001b[0m: Run \u001b[1m`wandb offline`\u001b[0m to turn off syncing.\n",
      "\u001b[34m\u001b[1mwandb\u001b[0m: Syncing run \u001b[33mexp002_fold0\u001b[0m\n",
      "\u001b[34m\u001b[1mwandb\u001b[0m: ⭐️ View project at \u001b[34m\u001b[4mhttps://wandb.ai/welshonionman/SenNet\u001b[0m\n",
      "\u001b[34m\u001b[1mwandb\u001b[0m: 🚀 View run at \u001b[34m\u001b[4mhttps://wandb.ai/welshonionman/SenNet/runs/girw0izu\u001b[0m\n",
      "Epoch 0/40  Mem : 9.7GB  LR : 5.00E-04  Loss: 0.2032: 100%|██████████| 1385/1385 [04:40<00:00,  4.94it/s]\n",
      "Val Loss: 0.3659: 100%|██████████| 1471/1471 [03:03<00:00,  8.01it/s]                                                                                                                                                                                                                                  \n"
     ]
    },
    {
     "name": "stdout",
     "output_type": "stream",
     "text": [
      "loss : 0.3659\tSAVED MODEL\n",
      "\n"
     ]
    },
    {
     "name": "stderr",
     "output_type": "stream",
     "text": [
      "Epoch 1/40  Mem : 11.5GB  LR : 5.00E-03  Loss: 0.1677: 100%|██████████| 1385/1385 [04:34<00:00,  5.05it/s]\n",
      "Val Loss: 0.4592: 100%|██████████| 1471/1471 [03:03<00:00,  8.02it/s]                                                                                                                                                                                                                                  \n"
     ]
    },
    {
     "name": "stdout",
     "output_type": "stream",
     "text": [
      "loss : 0.4592\n",
      "\n"
     ]
    },
    {
     "name": "stderr",
     "output_type": "stream",
     "text": [
      "Epoch 2/40  Mem : 11.5GB  LR : 5.00E-04  Loss: 0.0931: 100%|██████████| 1385/1385 [04:34<00:00,  5.04it/s]\n",
      "Val Loss: 0.4003: 100%|██████████| 1471/1471 [03:03<00:00,  8.01it/s]                                                                                                                                                                                                                                  \n"
     ]
    },
    {
     "name": "stdout",
     "output_type": "stream",
     "text": [
      "loss : 0.4003\n",
      "\n"
     ]
    },
    {
     "name": "stderr",
     "output_type": "stream",
     "text": [
      "Epoch 3/40  Mem : 11.5GB  LR : 4.99E-04  Loss: 0.0869: 100%|██████████| 1385/1385 [04:36<00:00,  5.01it/s]\n",
      "Val Loss: 0.3597: 100%|██████████| 1471/1471 [03:03<00:00,  8.00it/s]                                                                                                                                                                                                                                  \n"
     ]
    },
    {
     "name": "stdout",
     "output_type": "stream",
     "text": [
      "loss : 0.3597\tSAVED MODEL\n",
      "\n"
     ]
    },
    {
     "name": "stderr",
     "output_type": "stream",
     "text": [
      "Epoch 4/40  Mem : 11.5GB  LR : 4.97E-04  Loss: 0.0838: 100%|██████████| 1385/1385 [04:36<00:00,  5.01it/s]\n",
      "Val Loss: 0.3315: 100%|██████████| 1471/1471 [03:03<00:00,  8.01it/s]                                                                                                                                                                                                                                  \n"
     ]
    },
    {
     "name": "stdout",
     "output_type": "stream",
     "text": [
      "loss : 0.3315\tSAVED MODEL\n",
      "\n"
     ]
    },
    {
     "name": "stderr",
     "output_type": "stream",
     "text": [
      "Epoch 5/40  Mem : 11.5GB  LR : 4.93E-04  Loss: 0.0807: 100%|██████████| 1385/1385 [04:37<00:00,  5.00it/s]\n",
      "Val Loss: 0.3231: 100%|██████████| 1471/1471 [03:03<00:00,  8.01it/s]                                                                                                                                                                                                                                  \n"
     ]
    },
    {
     "name": "stdout",
     "output_type": "stream",
     "text": [
      "loss : 0.3231\tSAVED MODEL\n",
      "\n"
     ]
    },
    {
     "name": "stderr",
     "output_type": "stream",
     "text": [
      "Epoch 6/40  Mem : 11.5GB  LR : 4.88E-04  Loss: 0.0796: 100%|██████████| 1385/1385 [04:38<00:00,  4.98it/s]\n",
      "Val Loss: 0.3806: 100%|██████████| 1471/1471 [03:04<00:00,  7.96it/s]                                                                                                                                                                                                                                  \n"
     ]
    },
    {
     "name": "stdout",
     "output_type": "stream",
     "text": [
      "loss : 0.3806\n",
      "\n"
     ]
    },
    {
     "name": "stderr",
     "output_type": "stream",
     "text": [
      "Epoch 7/40  Mem : 11.5GB  LR : 4.81E-04  Loss: 0.0781: 100%|██████████| 1385/1385 [04:37<00:00,  4.99it/s]\n",
      "Val Loss: 0.3249: 100%|██████████| 1471/1471 [03:04<00:00,  7.97it/s]                                                                                                                                                                                                                                  \n"
     ]
    },
    {
     "name": "stdout",
     "output_type": "stream",
     "text": [
      "loss : 0.3249\n",
      "\n"
     ]
    },
    {
     "name": "stderr",
     "output_type": "stream",
     "text": [
      "Epoch 8/40  Mem : 11.5GB  LR : 4.73E-04  Loss: 0.0774: 100%|██████████| 1385/1385 [04:37<00:00,  4.99it/s]\n",
      "Val Loss: 0.3040: 100%|██████████| 1471/1471 [03:05<00:00,  7.93it/s]                                                                                                                                                                                                                                  \n"
     ]
    },
    {
     "name": "stdout",
     "output_type": "stream",
     "text": [
      "loss : 0.3040\tSAVED MODEL\n",
      "\n"
     ]
    },
    {
     "name": "stderr",
     "output_type": "stream",
     "text": [
      "Epoch 9/40  Mem : 11.5GB  LR : 4.63E-04  Loss: 0.0773: 100%|██████████| 1385/1385 [04:37<00:00,  5.00it/s]\n",
      "Val Loss: 0.3301: 100%|██████████| 1471/1471 [03:04<00:00,  7.97it/s]                                                                                                                                                                                                                                  \n"
     ]
    },
    {
     "name": "stdout",
     "output_type": "stream",
     "text": [
      "loss : 0.3301\n",
      "\n"
     ]
    },
    {
     "name": "stderr",
     "output_type": "stream",
     "text": [
      "Epoch 10/40  Mem : 11.5GB  LR : 4.52E-04  Loss: 0.0752: 100%|██████████| 1385/1385 [04:36<00:00,  5.01it/s]\n",
      "Val Loss: 0.3217: 100%|██████████| 1471/1471 [03:02<00:00,  8.04it/s]                                                                                                                                                                                                                                  \n"
     ]
    },
    {
     "name": "stdout",
     "output_type": "stream",
     "text": [
      "loss : 0.3217\n",
      "\n"
     ]
    },
    {
     "name": "stderr",
     "output_type": "stream",
     "text": [
      "Epoch 11/40  Mem : 11.5GB  LR : 4.40E-04  Loss: 0.0738: 100%|██████████| 1385/1385 [04:35<00:00,  5.02it/s]\n",
      "Val Loss: 0.3076: 100%|██████████| 1471/1471 [03:02<00:00,  8.06it/s]                                                                                                                                                                                                                                  \n"
     ]
    },
    {
     "name": "stdout",
     "output_type": "stream",
     "text": [
      "loss : 0.3076\n",
      "\n"
     ]
    },
    {
     "name": "stderr",
     "output_type": "stream",
     "text": [
      "Epoch 12/40  Mem : 11.5GB  LR : 4.27E-04  Loss: 0.0737: 100%|██████████| 1385/1385 [04:35<00:00,  5.03it/s]\n",
      "Val Loss: 0.2949: 100%|██████████| 1471/1471 [03:03<00:00,  8.02it/s]                                                                                                                                                                                                                                  \n"
     ]
    },
    {
     "name": "stdout",
     "output_type": "stream",
     "text": [
      "loss : 0.2949\tSAVED MODEL\n",
      "\n"
     ]
    },
    {
     "name": "stderr",
     "output_type": "stream",
     "text": [
      "Epoch 13/40  Mem : 11.5GB  LR : 4.12E-04  Loss: 0.0736: 100%|██████████| 1385/1385 [04:35<00:00,  5.03it/s]\n",
      "Val Loss: 0.2959: 100%|██████████| 1471/1471 [03:03<00:00,  8.02it/s]                                                                                                                                                                                                                                  \n"
     ]
    },
    {
     "name": "stdout",
     "output_type": "stream",
     "text": [
      "loss : 0.2959\n",
      "\n"
     ]
    },
    {
     "name": "stderr",
     "output_type": "stream",
     "text": [
      "Epoch 14/40  Mem : 11.5GB  LR : 3.97E-04  Loss: 0.0724: 100%|██████████| 1385/1385 [04:34<00:00,  5.04it/s]\n",
      "Val Loss: 0.2871: 100%|██████████| 1471/1471 [03:02<00:00,  8.07it/s]                                                                                                                                                                                                                                  \n"
     ]
    },
    {
     "name": "stdout",
     "output_type": "stream",
     "text": [
      "loss : 0.2871\tSAVED MODEL\n",
      "\n"
     ]
    },
    {
     "name": "stderr",
     "output_type": "stream",
     "text": [
      "Epoch 15/40  Mem : 11.5GB  LR : 3.81E-04  Loss: 0.0721: 100%|██████████| 1385/1385 [04:35<00:00,  5.03it/s]\n",
      "Val Loss: 0.2920: 100%|██████████| 1471/1471 [03:02<00:00,  8.05it/s]                                                                                                                                                                                                                                  \n"
     ]
    },
    {
     "name": "stdout",
     "output_type": "stream",
     "text": [
      "loss : 0.2920\n",
      "\n"
     ]
    },
    {
     "name": "stderr",
     "output_type": "stream",
     "text": [
      "Epoch 16/40  Mem : 11.5GB  LR : 3.64E-04  Loss: 0.0716: 100%|██████████| 1385/1385 [04:36<00:00,  5.01it/s]\n",
      "Val Loss: 0.2628: 100%|██████████| 1471/1471 [03:04<00:00,  7.97it/s]                                                                                                                                                                                                                                  \n"
     ]
    },
    {
     "name": "stdout",
     "output_type": "stream",
     "text": [
      "loss : 0.2628\tSAVED MODEL\n",
      "\n"
     ]
    },
    {
     "name": "stderr",
     "output_type": "stream",
     "text": [
      "Epoch 17/40  Mem : 11.5GB  LR : 3.46E-04  Loss: 0.0711: 100%|██████████| 1385/1385 [04:35<00:00,  5.03it/s]\n",
      "Val Loss: 0.2825: 100%|██████████| 1471/1471 [03:02<00:00,  8.06it/s]                                                                                                                                                                                                                                  \n"
     ]
    },
    {
     "name": "stdout",
     "output_type": "stream",
     "text": [
      "loss : 0.2825\n",
      "\n"
     ]
    },
    {
     "name": "stderr",
     "output_type": "stream",
     "text": [
      "Epoch 18/40  Mem : 11.5GB  LR : 3.27E-04  Loss: 0.0715: 100%|██████████| 1385/1385 [04:37<00:00,  4.99it/s]\n",
      "Val Loss: 0.2873: 100%|██████████| 1471/1471 [03:05<00:00,  7.95it/s]                                                                                                                                                                                                                                  \n"
     ]
    },
    {
     "name": "stdout",
     "output_type": "stream",
     "text": [
      "loss : 0.2873\n",
      "\n"
     ]
    },
    {
     "name": "stderr",
     "output_type": "stream",
     "text": [
      "Epoch 19/40  Mem : 11.5GB  LR : 3.08E-04  Loss: 0.0707: 100%|██████████| 1385/1385 [04:37<00:00,  5.00it/s]\n",
      "Val Loss: 0.2742: 100%|██████████| 1471/1471 [03:05<00:00,  7.91it/s]                                                                                                                                                                                                                                  \n"
     ]
    },
    {
     "name": "stdout",
     "output_type": "stream",
     "text": [
      "loss : 0.2742\n",
      "\n"
     ]
    },
    {
     "name": "stderr",
     "output_type": "stream",
     "text": [
      "Epoch 20/40  Mem : 11.5GB  LR : 2.89E-04  Loss: 0.0705: 100%|██████████| 1385/1385 [04:36<00:00,  5.00it/s]\n",
      "Val Loss: 0.2730: 100%|██████████| 1471/1471 [03:06<00:00,  7.90it/s]                                                                                                                                                                                                                                  \n"
     ]
    },
    {
     "name": "stdout",
     "output_type": "stream",
     "text": [
      "loss : 0.2730\n",
      "\n"
     ]
    },
    {
     "name": "stderr",
     "output_type": "stream",
     "text": [
      "Epoch 21/40  Mem : 11.5GB  LR : 2.70E-04  Loss: 0.0699: 100%|██████████| 1385/1385 [04:37<00:00,  4.99it/s]\n",
      "Val Loss: 0.2770: 100%|██████████| 1471/1471 [03:05<00:00,  7.93it/s]                                                                                                                                                                                                                                  \n"
     ]
    },
    {
     "name": "stdout",
     "output_type": "stream",
     "text": [
      "loss : 0.2770\n",
      "\n"
     ]
    },
    {
     "name": "stderr",
     "output_type": "stream",
     "text": [
      "Epoch 22/40  Mem : 11.5GB  LR : 2.50E-04  Loss: 0.0695: 100%|██████████| 1385/1385 [04:37<00:00,  5.00it/s]\n",
      "Val Loss: 0.2776: 100%|██████████| 1471/1471 [03:05<00:00,  7.93it/s]                                                                                                                                                                                                                                  \n"
     ]
    },
    {
     "name": "stdout",
     "output_type": "stream",
     "text": [
      "loss : 0.2776\n",
      "\n"
     ]
    },
    {
     "name": "stderr",
     "output_type": "stream",
     "text": [
      "Epoch 23/40  Mem : 11.5GB  LR : 2.30E-04  Loss: 0.0698: 100%|██████████| 1385/1385 [04:37<00:00,  4.99it/s]\n",
      "Val Loss: 0.2645: 100%|██████████| 1471/1471 [03:05<00:00,  7.94it/s]                                                                                                                                                                                                                                  \n"
     ]
    },
    {
     "name": "stdout",
     "output_type": "stream",
     "text": [
      "loss : 0.2645\n",
      "\n"
     ]
    },
    {
     "name": "stderr",
     "output_type": "stream",
     "text": [
      "Epoch 24/40  Mem : 11.5GB  LR : 2.11E-04  Loss: 0.0695: 100%|██████████| 1385/1385 [04:37<00:00,  4.98it/s]\n",
      "Val Loss: 0.2491: 100%|██████████| 1471/1471 [03:05<00:00,  7.92it/s]                                                                                                                                                                                                                                  \n"
     ]
    },
    {
     "name": "stdout",
     "output_type": "stream",
     "text": [
      "loss : 0.2491\tSAVED MODEL\n",
      "\n"
     ]
    },
    {
     "name": "stderr",
     "output_type": "stream",
     "text": [
      "Epoch 25/40  Mem : 11.5GB  LR : 1.92E-04  Loss: 0.0692: 100%|██████████| 1385/1385 [04:37<00:00,  4.99it/s]\n",
      "Val Loss: 0.2459: 100%|██████████| 1471/1471 [03:05<00:00,  7.94it/s]                                                                                                                                                                                                                                  \n"
     ]
    },
    {
     "name": "stdout",
     "output_type": "stream",
     "text": [
      "loss : 0.2459\tSAVED MODEL\n",
      "\n"
     ]
    },
    {
     "name": "stderr",
     "output_type": "stream",
     "text": [
      "Epoch 26/40  Mem : 11.5GB  LR : 1.73E-04  Loss: 0.0687: 100%|██████████| 1385/1385 [04:35<00:00,  5.03it/s]\n",
      "Val Loss: 0.2458: 100%|██████████| 1471/1471 [03:03<00:00,  8.00it/s]                                                                                                                                                                                                                                  \n"
     ]
    },
    {
     "name": "stdout",
     "output_type": "stream",
     "text": [
      "loss : 0.2458\tSAVED MODEL\n",
      "\n"
     ]
    },
    {
     "name": "stderr",
     "output_type": "stream",
     "text": [
      "Epoch 27/40  Mem : 11.5GB  LR : 1.54E-04  Loss: 0.0688: 100%|██████████| 1385/1385 [04:36<00:00,  5.02it/s]\n",
      "Val Loss: 0.2484: 100%|██████████| 1471/1471 [03:04<00:00,  7.97it/s]                                                                                                                                                                                                                                  \n"
     ]
    },
    {
     "name": "stdout",
     "output_type": "stream",
     "text": [
      "loss : 0.2484\n",
      "\n"
     ]
    },
    {
     "name": "stderr",
     "output_type": "stream",
     "text": [
      "Epoch 28/40  Mem : 11.5GB  LR : 1.37E-04  Loss: 0.0680: 100%|██████████| 1385/1385 [04:35<00:00,  5.03it/s]\n",
      "Val Loss: 0.2423: 100%|██████████| 1471/1471 [03:03<00:00,  8.01it/s]                                                                                                                                                                                                                                  \n"
     ]
    },
    {
     "name": "stdout",
     "output_type": "stream",
     "text": [
      "loss : 0.2423\tSAVED MODEL\n",
      "\n"
     ]
    },
    {
     "name": "stderr",
     "output_type": "stream",
     "text": [
      "Epoch 29/40  Mem : 11.5GB  LR : 1.19E-04  Loss: 0.0682: 100%|██████████| 1385/1385 [04:35<00:00,  5.04it/s]\n",
      "Val Loss: 0.2431: 100%|██████████| 1471/1471 [03:03<00:00,  8.00it/s]                                                                                                                                                                                                                                  \n"
     ]
    },
    {
     "name": "stdout",
     "output_type": "stream",
     "text": [
      "loss : 0.2431\n",
      "\n"
     ]
    },
    {
     "name": "stderr",
     "output_type": "stream",
     "text": [
      "Epoch 30/40  Mem : 11.5GB  LR : 1.03E-04  Loss: 0.0684: 100%|██████████| 1385/1385 [04:36<00:00,  5.00it/s]\n",
      "Val Loss: 0.2537: 100%|██████████| 1471/1471 [03:04<00:00,  7.99it/s]                                                                                                                                                                                                                                  \n"
     ]
    },
    {
     "name": "stdout",
     "output_type": "stream",
     "text": [
      "loss : 0.2537\n",
      "\n"
     ]
    },
    {
     "name": "stderr",
     "output_type": "stream",
     "text": [
      "Epoch 31/40  Mem : 11.5GB  LR : 8.77E-05  Loss: 0.0681: 100%|██████████| 1385/1385 [04:38<00:00,  4.97it/s]\n",
      "Val Loss: 0.2502: 100%|██████████| 1471/1471 [03:05<00:00,  7.92it/s]                                                                                                                                                                                                                                  \n"
     ]
    },
    {
     "name": "stdout",
     "output_type": "stream",
     "text": [
      "loss : 0.2502\n",
      "\n"
     ]
    },
    {
     "name": "stderr",
     "output_type": "stream",
     "text": [
      "Epoch 32/40  Mem : 11.5GB  LR : 7.33E-05  Loss: 0.0677: 100%|██████████| 1385/1385 [04:37<00:00,  4.98it/s]\n",
      "Val Loss: 0.2449: 100%|██████████| 1471/1471 [03:05<00:00,  7.93it/s]                                                                                                                                                                                                                                  \n"
     ]
    },
    {
     "name": "stdout",
     "output_type": "stream",
     "text": [
      "loss : 0.2449\n",
      "\n"
     ]
    },
    {
     "name": "stderr",
     "output_type": "stream",
     "text": [
      "Epoch 33/40  Mem : 11.5GB  LR : 6.00E-05  Loss: 0.0676: 100%|██████████| 1385/1385 [04:37<00:00,  4.99it/s]\n",
      "Val Loss: 0.2461: 100%|██████████| 1471/1471 [03:06<00:00,  7.91it/s]                                                                                                                                                                                                                                  \n"
     ]
    },
    {
     "name": "stdout",
     "output_type": "stream",
     "text": [
      "loss : 0.2461\n",
      "\n"
     ]
    },
    {
     "name": "stderr",
     "output_type": "stream",
     "text": [
      "Epoch 34/40  Mem : 11.5GB  LR : 4.78E-05  Loss: 0.0674: 100%|██████████| 1385/1385 [04:38<00:00,  4.98it/s]\n",
      "Val Loss: 0.2477: 100%|██████████| 1471/1471 [03:05<00:00,  7.95it/s]                                                                                                                                                                                                                                  \n"
     ]
    },
    {
     "name": "stdout",
     "output_type": "stream",
     "text": [
      "loss : 0.2477\n",
      "\n"
     ]
    },
    {
     "name": "stderr",
     "output_type": "stream",
     "text": [
      "Epoch 35/40  Mem : 11.5GB  LR : 3.69E-05  Loss: 0.0675: 100%|██████████| 1385/1385 [04:38<00:00,  4.98it/s]\n",
      "Val Loss: 0.2405: 100%|██████████| 1471/1471 [03:05<00:00,  7.92it/s]                                                                                                                                                                                                                                  \n"
     ]
    },
    {
     "name": "stdout",
     "output_type": "stream",
     "text": [
      "loss : 0.2405\tSAVED MODEL\n",
      "\n"
     ]
    },
    {
     "name": "stderr",
     "output_type": "stream",
     "text": [
      "Epoch 36/40  Mem : 11.5GB  LR : 2.73E-05  Loss: 0.0673: 100%|██████████| 1385/1385 [04:38<00:00,  4.98it/s]\n",
      "Val Loss: 0.2442: 100%|██████████| 1471/1471 [03:05<00:00,  7.92it/s]                                                                                                                                                                                                                                  \n"
     ]
    },
    {
     "name": "stdout",
     "output_type": "stream",
     "text": [
      "loss : 0.2442\n",
      "\n"
     ]
    },
    {
     "name": "stderr",
     "output_type": "stream",
     "text": [
      "Epoch 37/40  Mem : 11.5GB  LR : 1.91E-05  Loss: 0.0674: 100%|██████████| 1385/1385 [04:37<00:00,  5.00it/s]\n",
      "Val Loss: 0.2424: 100%|██████████| 1471/1471 [03:05<00:00,  7.91it/s]                                                                                                                                                                                                                                  \n"
     ]
    },
    {
     "name": "stdout",
     "output_type": "stream",
     "text": [
      "loss : 0.2424\n",
      "\n"
     ]
    },
    {
     "name": "stderr",
     "output_type": "stream",
     "text": [
      "Epoch 38/40  Mem : 11.5GB  LR : 1.23E-05  Loss: 0.0669: 100%|██████████| 1385/1385 [04:38<00:00,  4.98it/s]\n",
      "Val Loss: 0.2422: 100%|██████████| 1471/1471 [03:04<00:00,  7.99it/s]                                                                                                                                                                                                                                  \n"
     ]
    },
    {
     "name": "stdout",
     "output_type": "stream",
     "text": [
      "loss : 0.2422\n",
      "\n"
     ]
    },
    {
     "name": "stderr",
     "output_type": "stream",
     "text": [
      "Epoch 39/40  Mem : 11.5GB  LR : 7.01E-06  Loss: 0.0673: 100%|██████████| 1385/1385 [04:34<00:00,  5.04it/s]\n",
      "Val Loss: 0.2407: 100%|██████████| 1471/1471 [03:04<00:00,  7.99it/s]                                                                                                                                                                                                                                  \n"
     ]
    },
    {
     "name": "stdout",
     "output_type": "stream",
     "text": [
      "loss : 0.2407\n",
      "\n"
     ]
    },
    {
     "name": "stderr",
     "output_type": "stream",
     "text": [
      "wandb: WARNING No program path found, not creating job artifact. See https://docs.wandb.ai/guides/launch/create-job\n",
      "\u001b[34m\u001b[1mwandb\u001b[0m:                                                                                \n",
      "\u001b[34m\u001b[1mwandb\u001b[0m: \n",
      "\u001b[34m\u001b[1mwandb\u001b[0m: Run history:\n",
      "\u001b[34m\u001b[1mwandb\u001b[0m:      epoch ▁▁▁▂▂▂▂▂▂▃▃▃▃▃▄▄▄▄▄▄▅▅▅▅▅▅▆▆▆▆▆▇▇▇▇▇▇███\n",
      "\u001b[34m\u001b[1mwandb\u001b[0m: train_loss █▆▂▂▂▂▂▂▂▂▁▁▁▁▁▁▁▁▁▁▁▁▁▁▁▁▁▁▁▁▁▁▁▁▁▁▁▁▁▁\n",
      "\u001b[34m\u001b[1mwandb\u001b[0m: valid_loss ▅█▆▅▄▄▅▄▃▄▄▃▃▃▂▃▂▂▂▂▂▂▂▂▁▁▁▁▁▁▁▁▁▁▁▁▁▁▁▁\n",
      "\u001b[34m\u001b[1mwandb\u001b[0m: \n",
      "\u001b[34m\u001b[1mwandb\u001b[0m: Run summary:\n",
      "\u001b[34m\u001b[1mwandb\u001b[0m:      epoch 39\n",
      "\u001b[34m\u001b[1mwandb\u001b[0m: train_loss 0.06729\n",
      "\u001b[34m\u001b[1mwandb\u001b[0m: valid_loss 0.2407\n",
      "\u001b[34m\u001b[1mwandb\u001b[0m: \n",
      "\u001b[34m\u001b[1mwandb\u001b[0m: 🚀 View run \u001b[33mexp002_fold0\u001b[0m at: \u001b[34m\u001b[4mhttps://wandb.ai/welshonionman/SenNet/runs/girw0izu\u001b[0m\n",
      "\u001b[34m\u001b[1mwandb\u001b[0m: Synced 5 W&B file(s), 0 media file(s), 0 artifact file(s) and 0 other file(s)\n",
      "\u001b[34m\u001b[1mwandb\u001b[0m: Find logs at: \u001b[35m\u001b[1m/kaggle/wandb/run-20240107_015300-girw0izu/logs\u001b[0m\n"
     ]
    },
    {
     "name": "stdout",
     "output_type": "stream",
     "text": [
      "model_arch:  Unet\n",
      "backbone:  se_resnext50_32x4d\n"
     ]
    },
    {
     "name": "stderr",
     "output_type": "stream",
     "text": [
      "\u001b[34m\u001b[1mwandb\u001b[0m: Tracking run with wandb version 0.16.1\n",
      "\u001b[34m\u001b[1mwandb\u001b[0m: Run data is saved locally in \u001b[35m\u001b[1m/kaggle/wandb/run-20240107_070151-pyfg7f3i\u001b[0m\n",
      "\u001b[34m\u001b[1mwandb\u001b[0m: Run \u001b[1m`wandb offline`\u001b[0m to turn off syncing.\n",
      "\u001b[34m\u001b[1mwandb\u001b[0m: Syncing run \u001b[33mexp002_fold1\u001b[0m\n",
      "\u001b[34m\u001b[1mwandb\u001b[0m: ⭐️ View project at \u001b[34m\u001b[4mhttps://wandb.ai/welshonionman/SenNet\u001b[0m\n",
      "\u001b[34m\u001b[1mwandb\u001b[0m: 🚀 View run at \u001b[34m\u001b[4mhttps://wandb.ai/welshonionman/SenNet/runs/pyfg7f3i\u001b[0m\n",
      "Epoch 0/40  Mem : 11.5GB  LR : 5.00E-04  Loss: 0.1888: 100%|██████████| 2383/2383 [07:57<00:00,  4.99it/s]\n",
      "Val Loss: 0.1811: 100%|██████████| 236/236 [00:30<00:00,  7.87it/s]                                                                                                                                                                                                                                    \n"
     ]
    },
    {
     "name": "stdout",
     "output_type": "stream",
     "text": [
      "loss : 0.1811\tSAVED MODEL\n",
      "\n"
     ]
    },
    {
     "name": "stderr",
     "output_type": "stream",
     "text": [
      "Epoch 1/40  Mem : 11.5GB  LR : 5.00E-03  Loss: 0.1626: 100%|██████████| 2383/2383 [07:58<00:00,  4.98it/s]\n",
      "Val Loss: 0.3569: 100%|██████████| 236/236 [00:29<00:00,  8.10it/s]                                                                                                                                                                                                                                    \n"
     ]
    },
    {
     "name": "stdout",
     "output_type": "stream",
     "text": [
      "loss : 0.3569\n",
      "\n"
     ]
    },
    {
     "name": "stderr",
     "output_type": "stream",
     "text": [
      "Epoch 2/40  Mem : 11.5GB  LR : 5.00E-04  Loss: 0.1010: 100%|██████████| 2383/2383 [07:58<00:00,  4.98it/s]\n",
      "Val Loss: 0.1462: 100%|██████████| 236/236 [00:29<00:00,  8.11it/s]                                                                                                                                                                                                                                    \n"
     ]
    },
    {
     "name": "stdout",
     "output_type": "stream",
     "text": [
      "loss : 0.1462\tSAVED MODEL\n",
      "\n"
     ]
    },
    {
     "name": "stderr",
     "output_type": "stream",
     "text": [
      "Epoch 3/40  Mem : 11.5GB  LR : 4.99E-04  Loss: 0.0926: 100%|██████████| 2383/2383 [07:59<00:00,  4.97it/s]\n",
      "Val Loss: 0.1428: 100%|██████████| 236/236 [00:29<00:00,  8.07it/s]                                                                                                                                                                                                                                    \n"
     ]
    },
    {
     "name": "stdout",
     "output_type": "stream",
     "text": [
      "loss : 0.1428\tSAVED MODEL\n",
      "\n"
     ]
    },
    {
     "name": "stderr",
     "output_type": "stream",
     "text": [
      "Epoch 4/40  Mem : 11.5GB  LR : 4.97E-04  Loss: 0.0894: 100%|██████████| 2383/2383 [07:58<00:00,  4.98it/s]\n",
      "Val Loss: 0.1460: 100%|██████████| 236/236 [00:29<00:00,  8.07it/s]                                                                                                                                                                                                                                    \n"
     ]
    },
    {
     "name": "stdout",
     "output_type": "stream",
     "text": [
      "loss : 0.1460\n",
      "\n"
     ]
    },
    {
     "name": "stderr",
     "output_type": "stream",
     "text": [
      "Epoch 5/40  Mem : 11.5GB  LR : 4.93E-04  Loss: 0.0868: 100%|██████████| 2383/2383 [07:58<00:00,  4.98it/s]\n",
      "Val Loss: 0.1375: 100%|██████████| 236/236 [00:29<00:00,  8.09it/s]                                                                                                                                                                                                                                    \n"
     ]
    },
    {
     "name": "stdout",
     "output_type": "stream",
     "text": [
      "loss : 0.1375\tSAVED MODEL\n",
      "\n"
     ]
    },
    {
     "name": "stderr",
     "output_type": "stream",
     "text": [
      "Epoch 6/40  Mem : 11.5GB  LR : 4.88E-04  Loss: 0.0858: 100%|██████████| 2383/2383 [08:00<00:00,  4.96it/s]\n",
      "Val Loss: 0.1373: 100%|██████████| 236/236 [00:29<00:00,  8.01it/s]                                                                                                                                                                                                                                    \n"
     ]
    },
    {
     "name": "stdout",
     "output_type": "stream",
     "text": [
      "loss : 0.1373\tSAVED MODEL\n",
      "\n"
     ]
    },
    {
     "name": "stderr",
     "output_type": "stream",
     "text": [
      "Epoch 7/40  Mem : 11.5GB  LR : 4.81E-04  Loss: 0.0846: 100%|██████████| 2383/2383 [08:01<00:00,  4.95it/s]\n",
      "Val Loss: 0.1489: 100%|██████████| 236/236 [00:29<00:00,  7.95it/s]                                                                                                                                                                                                                                    \n"
     ]
    },
    {
     "name": "stdout",
     "output_type": "stream",
     "text": [
      "loss : 0.1489\n",
      "\n"
     ]
    },
    {
     "name": "stderr",
     "output_type": "stream",
     "text": [
      "Epoch 8/40  Mem : 11.5GB  LR : 4.73E-04  Loss: 0.0829: 100%|██████████| 2383/2383 [08:02<00:00,  4.94it/s]\n",
      "Val Loss: 0.1405: 100%|██████████| 236/236 [00:29<00:00,  7.95it/s]                                                                                                                                                                                                                                    \n"
     ]
    },
    {
     "name": "stdout",
     "output_type": "stream",
     "text": [
      "loss : 0.1405\n",
      "\n"
     ]
    },
    {
     "name": "stderr",
     "output_type": "stream",
     "text": [
      "Epoch 9/40  Mem : 11.5GB  LR : 4.63E-04  Loss: 0.0827: 100%|██████████| 2383/2383 [08:03<00:00,  4.93it/s]\n",
      "Val Loss: 0.1445: 100%|██████████| 236/236 [00:29<00:00,  7.96it/s]                                                                                                                                                                                                                                    \n"
     ]
    },
    {
     "name": "stdout",
     "output_type": "stream",
     "text": [
      "loss : 0.1445\n",
      "\n"
     ]
    },
    {
     "name": "stderr",
     "output_type": "stream",
     "text": [
      "Epoch 10/40  Mem : 11.5GB  LR : 4.52E-04  Loss: 0.0820: 100%|██████████| 2383/2383 [08:03<00:00,  4.93it/s]\n",
      "Val Loss: 0.1483: 100%|██████████| 236/236 [00:29<00:00,  8.00it/s]                                                                                                                                                                                                                                    \n"
     ]
    },
    {
     "name": "stdout",
     "output_type": "stream",
     "text": [
      "loss : 0.1483\n",
      "\n"
     ]
    },
    {
     "name": "stderr",
     "output_type": "stream",
     "text": [
      "Epoch 11/40  Mem : 11.5GB  LR : 4.40E-04  Loss: 0.0818: 100%|██████████| 2383/2383 [08:03<00:00,  4.93it/s]\n",
      "Val Loss: 0.1436: 100%|██████████| 236/236 [00:29<00:00,  7.99it/s]                                                                                                                                                                                                                                    \n"
     ]
    },
    {
     "name": "stdout",
     "output_type": "stream",
     "text": [
      "loss : 0.1436\n",
      "\n"
     ]
    },
    {
     "name": "stderr",
     "output_type": "stream",
     "text": [
      "Epoch 12/40  Mem : 11.5GB  LR : 4.27E-04  Loss: 0.0807: 100%|██████████| 2383/2383 [08:01<00:00,  4.95it/s]\n",
      "Val Loss: 0.1472: 100%|██████████| 236/236 [00:29<00:00,  8.00it/s]                                                                                                                                                                                                                                    \n"
     ]
    },
    {
     "name": "stdout",
     "output_type": "stream",
     "text": [
      "loss : 0.1472\n",
      "\n"
     ]
    },
    {
     "name": "stderr",
     "output_type": "stream",
     "text": [
      "Epoch 13/40  Mem : 11.5GB  LR : 4.12E-04  Loss: 0.0806: 100%|██████████| 2383/2383 [08:01<00:00,  4.95it/s]\n",
      "Val Loss: 0.1399: 100%|██████████| 236/236 [00:29<00:00,  8.04it/s]                                                                                                                                                                                                                                    \n"
     ]
    },
    {
     "name": "stdout",
     "output_type": "stream",
     "text": [
      "loss : 0.1399\n",
      "\n"
     ]
    },
    {
     "name": "stderr",
     "output_type": "stream",
     "text": [
      "Epoch 14/40  Mem : 11.5GB  LR : 3.97E-04  Loss: 0.0803: 100%|██████████| 2383/2383 [08:00<00:00,  4.96it/s]\n",
      "Val Loss: 0.1338: 100%|██████████| 236/236 [00:29<00:00,  7.96it/s]                                                                                                                                                                                                                                    \n"
     ]
    },
    {
     "name": "stdout",
     "output_type": "stream",
     "text": [
      "loss : 0.1338\tSAVED MODEL\n",
      "\n"
     ]
    },
    {
     "name": "stderr",
     "output_type": "stream",
     "text": [
      "Epoch 15/40  Mem : 11.5GB  LR : 3.81E-04  Loss: 0.0795: 100%|██████████| 2383/2383 [08:02<00:00,  4.94it/s]\n",
      "Val Loss: 0.1392: 100%|██████████| 236/236 [00:29<00:00,  7.95it/s]                                                                                                                                                                                                                                    \n"
     ]
    },
    {
     "name": "stdout",
     "output_type": "stream",
     "text": [
      "loss : 0.1392\n",
      "\n"
     ]
    },
    {
     "name": "stderr",
     "output_type": "stream",
     "text": [
      "Epoch 16/40  Mem : 11.5GB  LR : 3.64E-04  Loss: 0.0797: 100%|██████████| 2383/2383 [08:00<00:00,  4.96it/s]\n",
      "Val Loss: 0.1393: 100%|██████████| 236/236 [00:29<00:00,  8.05it/s]                                                                                                                                                                                                                                    \n"
     ]
    },
    {
     "name": "stdout",
     "output_type": "stream",
     "text": [
      "loss : 0.1393\n",
      "\n"
     ]
    },
    {
     "name": "stderr",
     "output_type": "stream",
     "text": [
      "Epoch 17/40  Mem : 11.5GB  LR : 3.46E-04  Loss: 0.0781: 100%|██████████| 2383/2383 [08:03<00:00,  4.93it/s]\n",
      "Val Loss: 0.1305: 100%|██████████| 236/236 [00:29<00:00,  8.03it/s]                                                                                                                                                                                                                                    \n"
     ]
    },
    {
     "name": "stdout",
     "output_type": "stream",
     "text": [
      "loss : 0.1305\tSAVED MODEL\n",
      "\n"
     ]
    },
    {
     "name": "stderr",
     "output_type": "stream",
     "text": [
      "Epoch 18/40  Mem : 11.5GB  LR : 3.27E-04  Loss: 0.0783: 100%|██████████| 2383/2383 [08:02<00:00,  4.94it/s]\n",
      "Val Loss: 0.1359: 100%|██████████| 236/236 [00:29<00:00,  7.89it/s]                                                                                                                                                                                                                                    \n"
     ]
    },
    {
     "name": "stdout",
     "output_type": "stream",
     "text": [
      "loss : 0.1359\n",
      "\n"
     ]
    },
    {
     "name": "stderr",
     "output_type": "stream",
     "text": [
      "Epoch 19/40  Mem : 11.5GB  LR : 3.08E-04  Loss: 0.0778: 100%|██████████| 2383/2383 [08:00<00:00,  4.96it/s]\n",
      "Val Loss: 0.1443: 100%|██████████| 236/236 [00:29<00:00,  8.00it/s]                                                                                                                                                                                                                                    \n"
     ]
    },
    {
     "name": "stdout",
     "output_type": "stream",
     "text": [
      "loss : 0.1443\n",
      "\n"
     ]
    },
    {
     "name": "stderr",
     "output_type": "stream",
     "text": [
      "Epoch 20/40  Mem : 11.5GB  LR : 2.89E-04  Loss: 0.0775: 100%|██████████| 2383/2383 [08:03<00:00,  4.93it/s]\n",
      "Val Loss: 0.1327: 100%|██████████| 236/236 [00:30<00:00,  7.81it/s]                                                                                                                                                                                                                                    \n"
     ]
    },
    {
     "name": "stdout",
     "output_type": "stream",
     "text": [
      "loss : 0.1327\n",
      "\n"
     ]
    },
    {
     "name": "stderr",
     "output_type": "stream",
     "text": [
      "Epoch 21/40  Mem : 11.5GB  LR : 2.70E-04  Loss: 0.0775: 100%|██████████| 2383/2383 [08:09<00:00,  4.86it/s]\n",
      "Val Loss: 0.1439: 100%|██████████| 236/236 [00:29<00:00,  7.95it/s]                                                                                                                                                                                                                                    \n"
     ]
    },
    {
     "name": "stdout",
     "output_type": "stream",
     "text": [
      "loss : 0.1439\n",
      "\n"
     ]
    },
    {
     "name": "stderr",
     "output_type": "stream",
     "text": [
      "Epoch 22/40  Mem : 11.5GB  LR : 2.50E-04  Loss: 0.0768: 100%|██████████| 2383/2383 [08:08<00:00,  4.88it/s]\n",
      "Val Loss: 0.1340: 100%|██████████| 236/236 [00:29<00:00,  7.92it/s]                                                                                                                                                                                                                                    \n"
     ]
    },
    {
     "name": "stdout",
     "output_type": "stream",
     "text": [
      "loss : 0.1340\n",
      "\n"
     ]
    },
    {
     "name": "stderr",
     "output_type": "stream",
     "text": [
      "Epoch 23/40  Mem : 11.5GB  LR : 2.30E-04  Loss: 0.0761: 100%|██████████| 2383/2383 [08:07<00:00,  4.89it/s]\n",
      "Val Loss: 0.1337: 100%|██████████| 236/236 [00:29<00:00,  7.91it/s]                                                                                                                                                                                                                                    \n"
     ]
    },
    {
     "name": "stdout",
     "output_type": "stream",
     "text": [
      "loss : 0.1337\n",
      "\n"
     ]
    },
    {
     "name": "stderr",
     "output_type": "stream",
     "text": [
      "Epoch 24/40  Mem : 11.5GB  LR : 2.11E-04  Loss: 0.0761: 100%|██████████| 2383/2383 [08:14<00:00,  4.82it/s]\n",
      "Val Loss: 0.1360: 100%|██████████| 236/236 [00:31<00:00,  7.52it/s]                                                                                                                                                                                                                                    \n"
     ]
    },
    {
     "name": "stdout",
     "output_type": "stream",
     "text": [
      "loss : 0.1360\n",
      "\n"
     ]
    },
    {
     "name": "stderr",
     "output_type": "stream",
     "text": [
      "Epoch 25/40  Mem : 11.5GB  LR : 1.92E-04  Loss: 0.0758: 100%|██████████| 2383/2383 [08:20<00:00,  4.77it/s]\n",
      "Val Loss: 0.1362: 100%|██████████| 236/236 [00:31<00:00,  7.49it/s]                                                                                                                                                                                                                                    \n"
     ]
    },
    {
     "name": "stdout",
     "output_type": "stream",
     "text": [
      "loss : 0.1362\n",
      "\n"
     ]
    },
    {
     "name": "stderr",
     "output_type": "stream",
     "text": [
      "Epoch 26/40  Mem : 11.5GB  LR : 1.73E-04  Loss: 0.0754: 100%|██████████| 2383/2383 [08:23<00:00,  4.73it/s]\n",
      "Val Loss: 0.1340: 100%|██████████| 236/236 [00:31<00:00,  7.57it/s]                                                                                                                                                                                                                                    \n"
     ]
    },
    {
     "name": "stdout",
     "output_type": "stream",
     "text": [
      "loss : 0.1340\n",
      "\n"
     ]
    },
    {
     "name": "stderr",
     "output_type": "stream",
     "text": [
      "Epoch 27/40  Mem : 11.5GB  LR : 1.54E-04  Loss: 0.0753: 100%|██████████| 2383/2383 [08:15<00:00,  4.81it/s]\n",
      "Val Loss: 0.1287: 100%|██████████| 236/236 [00:30<00:00,  7.78it/s]                                                                                                                                                                                                                                    \n"
     ]
    },
    {
     "name": "stdout",
     "output_type": "stream",
     "text": [
      "loss : 0.1287\tSAVED MODEL\n",
      "\n"
     ]
    },
    {
     "name": "stderr",
     "output_type": "stream",
     "text": [
      "Epoch 28/40  Mem : 11.5GB  LR : 1.37E-04  Loss: 0.0751: 100%|██████████| 2383/2383 [08:05<00:00,  4.90it/s]\n",
      "Val Loss: 0.1327: 100%|██████████| 236/236 [00:29<00:00,  7.89it/s]                                                                                                                                                                                                                                    \n"
     ]
    },
    {
     "name": "stdout",
     "output_type": "stream",
     "text": [
      "loss : 0.1327\n",
      "\n"
     ]
    },
    {
     "name": "stderr",
     "output_type": "stream",
     "text": [
      "Epoch 29/40  Mem : 11.5GB  LR : 1.19E-04  Loss: 0.0749: 100%|██████████| 2383/2383 [08:04<00:00,  4.92it/s]\n",
      "Val Loss: 0.1291: 100%|██████████| 236/236 [00:29<00:00,  7.88it/s]                                                                                                                                                                                                                                    \n"
     ]
    },
    {
     "name": "stdout",
     "output_type": "stream",
     "text": [
      "loss : 0.1291\n",
      "\n"
     ]
    },
    {
     "name": "stderr",
     "output_type": "stream",
     "text": [
      "Epoch 30/40  Mem : 11.5GB  LR : 1.03E-04  Loss: 0.0752: 100%|██████████| 2383/2383 [08:04<00:00,  4.92it/s]\n",
      "Val Loss: 0.1309: 100%|██████████| 236/236 [00:29<00:00,  7.88it/s]                                                                                                                                                                                                                                    \n"
     ]
    },
    {
     "name": "stdout",
     "output_type": "stream",
     "text": [
      "loss : 0.1309\n",
      "\n"
     ]
    },
    {
     "name": "stderr",
     "output_type": "stream",
     "text": [
      "Epoch 31/40  Mem : 11.5GB  LR : 8.77E-05  Loss: 0.0749: 100%|██████████| 2383/2383 [08:05<00:00,  4.91it/s]\n",
      "Val Loss: 0.1337: 100%|██████████| 236/236 [00:29<00:00,  7.90it/s]                                                                                                                                                                                                                                    \n"
     ]
    },
    {
     "name": "stdout",
     "output_type": "stream",
     "text": [
      "loss : 0.1337\n",
      "\n"
     ]
    },
    {
     "name": "stderr",
     "output_type": "stream",
     "text": [
      "Epoch 32/40  Mem : 11.5GB  LR : 7.33E-05  Loss: 0.0742: 100%|██████████| 2383/2383 [08:03<00:00,  4.93it/s]\n",
      "Val Loss: 0.1292: 100%|██████████| 236/236 [00:29<00:00,  7.87it/s]                                                                                                                                                                                                                                    \n"
     ]
    },
    {
     "name": "stdout",
     "output_type": "stream",
     "text": [
      "loss : 0.1292\n",
      "\n"
     ]
    },
    {
     "name": "stderr",
     "output_type": "stream",
     "text": [
      "Epoch 33/40  Mem : 11.5GB  LR : 6.00E-05  Loss: 0.0745: 100%|██████████| 2383/2383 [08:04<00:00,  4.92it/s]\n",
      "Val Loss: 0.1303: 100%|██████████| 236/236 [00:32<00:00,  7.35it/s]                                                                                                                                                                                                                                    \n"
     ]
    },
    {
     "name": "stdout",
     "output_type": "stream",
     "text": [
      "loss : 0.1303\n",
      "\n"
     ]
    },
    {
     "name": "stderr",
     "output_type": "stream",
     "text": [
      "Epoch 34/40  Mem : 11.5GB  LR : 4.78E-05  Loss: 0.0741: 100%|██████████| 2383/2383 [08:04<00:00,  4.92it/s]\n",
      "Val Loss: 0.1310: 100%|██████████| 236/236 [00:29<00:00,  7.93it/s]                                                                                                                                                                                                                                    \n"
     ]
    },
    {
     "name": "stdout",
     "output_type": "stream",
     "text": [
      "loss : 0.1310\n",
      "\n"
     ]
    },
    {
     "name": "stderr",
     "output_type": "stream",
     "text": [
      "Epoch 35/40  Mem : 11.5GB  LR : 3.69E-05  Loss: 0.0737: 100%|██████████| 2383/2383 [08:04<00:00,  4.92it/s]\n",
      "Val Loss: 0.1274: 100%|██████████| 236/236 [00:29<00:00,  7.87it/s]                                                                                                                                                                                                                                    \n"
     ]
    },
    {
     "name": "stdout",
     "output_type": "stream",
     "text": [
      "loss : 0.1274\tSAVED MODEL\n",
      "\n"
     ]
    },
    {
     "name": "stderr",
     "output_type": "stream",
     "text": [
      "Epoch 36/40  Mem : 11.5GB  LR : 2.73E-05  Loss: 0.0739: 100%|██████████| 2383/2383 [08:03<00:00,  4.93it/s]\n",
      "Val Loss: 0.1271: 100%|██████████| 236/236 [00:29<00:00,  7.90it/s]                                                                                                                                                                                                                                    \n"
     ]
    },
    {
     "name": "stdout",
     "output_type": "stream",
     "text": [
      "loss : 0.1271\tSAVED MODEL\n",
      "\n"
     ]
    },
    {
     "name": "stderr",
     "output_type": "stream",
     "text": [
      "Epoch 37/40  Mem : 11.5GB  LR : 1.91E-05  Loss: 0.0738: 100%|██████████| 2383/2383 [08:07<00:00,  4.89it/s]\n",
      "Val Loss: 0.1298: 100%|██████████| 236/236 [00:30<00:00,  7.62it/s]                                                                                                                                                                                                                                    \n"
     ]
    },
    {
     "name": "stdout",
     "output_type": "stream",
     "text": [
      "loss : 0.1298\n",
      "\n"
     ]
    },
    {
     "name": "stderr",
     "output_type": "stream",
     "text": [
      "Epoch 38/40  Mem : 11.5GB  LR : 1.23E-05  Loss: 0.0737: 100%|██████████| 2383/2383 [08:22<00:00,  4.74it/s]\n",
      "Val Loss: 0.1278: 100%|██████████| 236/236 [00:30<00:00,  7.76it/s]                                                                                                                                                                                                                                    \n"
     ]
    },
    {
     "name": "stdout",
     "output_type": "stream",
     "text": [
      "loss : 0.1278\n",
      "\n"
     ]
    },
    {
     "name": "stderr",
     "output_type": "stream",
     "text": [
      "Epoch 39/40  Mem : 11.5GB  LR : 7.01E-06  Loss: 0.0738: 100%|██████████| 2383/2383 [08:07<00:00,  4.89it/s]\n",
      "Val Loss: 0.1289: 100%|██████████| 236/236 [00:29<00:00,  7.87it/s]                                                                                                                                                                                                                                    \n"
     ]
    },
    {
     "name": "stdout",
     "output_type": "stream",
     "text": [
      "loss : 0.1289\n",
      "\n"
     ]
    },
    {
     "name": "stderr",
     "output_type": "stream",
     "text": [
      "wandb: WARNING No program path found, not creating job artifact. See https://docs.wandb.ai/guides/launch/create-job\n",
      "\u001b[34m\u001b[1mwandb\u001b[0m:                                                                                \n",
      "\u001b[34m\u001b[1mwandb\u001b[0m: \n",
      "\u001b[34m\u001b[1mwandb\u001b[0m: Run history:\n",
      "\u001b[34m\u001b[1mwandb\u001b[0m:      epoch ▁▁▁▂▂▂▂▂▂▃▃▃▃▃▄▄▄▄▄▄▅▅▅▅▅▅▆▆▆▆▆▇▇▇▇▇▇███\n",
      "\u001b[34m\u001b[1mwandb\u001b[0m: train_loss █▆▃▂▂▂▂▂▂▂▂▁▁▁▁▁▁▁▁▁▁▁▁▁▁▁▁▁▁▁▁▁▁▁▁▁▁▁▁▁\n",
      "\u001b[34m\u001b[1mwandb\u001b[0m: valid_loss ▃█▂▁▂▁▁▂▁▂▂▂▂▁▁▁▁▁▁▂▁▂▁▁▁▁▁▁▁▁▁▁▁▁▁▁▁▁▁▁\n",
      "\u001b[34m\u001b[1mwandb\u001b[0m: \n",
      "\u001b[34m\u001b[1mwandb\u001b[0m: Run summary:\n",
      "\u001b[34m\u001b[1mwandb\u001b[0m:      epoch 39\n",
      "\u001b[34m\u001b[1mwandb\u001b[0m: train_loss 0.07378\n",
      "\u001b[34m\u001b[1mwandb\u001b[0m: valid_loss 0.12894\n",
      "\u001b[34m\u001b[1mwandb\u001b[0m: \n",
      "\u001b[34m\u001b[1mwandb\u001b[0m: 🚀 View run \u001b[33mexp002_fold1\u001b[0m at: \u001b[34m\u001b[4mhttps://wandb.ai/welshonionman/SenNet/runs/pyfg7f3i\u001b[0m\n",
      "\u001b[34m\u001b[1mwandb\u001b[0m: Synced 5 W&B file(s), 0 media file(s), 0 artifact file(s) and 0 other file(s)\n",
      "\u001b[34m\u001b[1mwandb\u001b[0m: Find logs at: \u001b[35m\u001b[1m/kaggle/wandb/run-20240107_070151-pyfg7f3i/logs\u001b[0m\n"
     ]
    }
   ],
   "source": [
    "if cfg.debug:\n",
    "    print(\"!!!Debug mode!!!\\n\")\n",
    "    cfg.epochs = 5\n",
    "\n",
    "for fold in range(2):\n",
    "    train_dataloader, valid_dataloader = init_dataset(fold, df, cfg)\n",
    "    model, scaler, criterion, optimizer, scheduler, metrics = init_model(cfg)\n",
    "    slacknotify = init_exp(fold, cfg)\n",
    "\n",
    "    path_best = f\"./{cfg.exp_name}/{cfg.exp_name}_best_fold{fold}.pth\"\n",
    "    path_last = f\"./{cfg.exp_name}/{cfg.exp_name}_last_fold{fold}.pth\"\n",
    "\n",
    "    best_loss = float(\"inf\")\n",
    "    for epoch in range(cfg.epochs):\n",
    "        model.train()\n",
    "        total_loss = 0.0\n",
    "        pbar_train = tqdm(enumerate(train_dataloader), total=len(train_dataloader), bar_format=\"{l_bar}{bar:10}{r_bar}{bar:-0b}\")\n",
    "\n",
    "        for i, (images, masks) in pbar_train:\n",
    "            images, masks = images.cuda(), masks.cuda()\n",
    "            optimizer.zero_grad()\n",
    "\n",
    "            with amp.autocast():\n",
    "                preds = model(images)\n",
    "                loss = criterion(preds, masks)\n",
    "                scaler.scale(loss).backward()\n",
    "                scaler.step(optimizer)\n",
    "                scaler.update()\n",
    "                total_loss += loss.detach().item()\n",
    "\n",
    "            loss_ = total_loss / (i + 1)\n",
    "            lr = f\"LR : {scheduler.get_lr()[0]:.2E}\"\n",
    "            gpu_mem = f\"Mem : {torch.cuda.memory_reserved() / 1E9:.3g}GB\"\n",
    "            pbar_train.set_description((\"%10s  \" * 3 + \"%10s\") % (f\"Epoch {epoch}/{cfg.epochs}\", gpu_mem, lr, f\"Loss: {loss_:.4f}\"))\n",
    "\n",
    "        train_loss = loss_\n",
    "        scheduler.step()\n",
    "        wandb.log({\"epoch\": epoch, \"train_loss\": train_loss})\n",
    "\n",
    "        model.eval()\n",
    "        total_loss = 0.0\n",
    "        pbar_val = tqdm(enumerate(valid_dataloader), total=len(valid_dataloader), bar_format=\"{l_bar}{bar:10}{r_bar}{bar:-10b}\")\n",
    "\n",
    "        for i, (images, masks) in pbar_val:\n",
    "            images, masks = images.cuda(), masks.cuda()\n",
    "            with torch.no_grad():\n",
    "                preds = model(images)\n",
    "                loss = criterion(preds, masks)\n",
    "                total_loss += loss.item()\n",
    "\n",
    "            loss_ = total_loss / (i + 1)\n",
    "            pbar_val.set_description((\"%10s\") % (f\"Val Loss: {loss_:.4f}\"))\n",
    "        valid_loss = loss_\n",
    "        wandb.log({\"epoch\": epoch, \"valid_loss\": valid_loss})\n",
    "\n",
    "        if valid_loss < best_loss:\n",
    "            print(f\"loss : {valid_loss:.4f}\\tSAVED MODEL\\n\")\n",
    "            slacknotify.send_reply(f\"epoch : {epoch}\\tscore : {valid_loss:.4f}\\tBEST\")\n",
    "            best_loss = valid_loss\n",
    "            save_model(model, cfg, path_best, loss=loss)\n",
    "        else:\n",
    "            print(f\"loss : {valid_loss:.4f}\\n\")\n",
    "            slacknotify.send_reply(f\"epoch : {epoch}\\tscore : {valid_loss:.4f}\")\n",
    "\n",
    "    save_model(model, cfg, path_last, loss=valid_loss)\n",
    "    wandb.config.update({\"last_loss\": valid_loss, \"best_loss\": best_loss})\n",
    "\n",
    "    slacknotify.send_reply(f\"{cfg.exp_name}_fold{fold} training finished\\nbest loss : {best_loss:.4f} last loss : {loss_:.4f}\", True)\n",
    "\n",
    "    if wandb.run:\n",
    "        wandb.finish()"
   ]
  },
  {
   "cell_type": "code",
   "execution_count": 8,
   "metadata": {},
   "outputs": [
    {
     "name": "stdout",
     "output_type": "stream",
     "text": [
      "fold_0\n",
      "(0.45, 0.8306)\n",
      "fold_1\n",
      "(0.29, 0.8901)\n"
     ]
    }
   ],
   "source": [
    "fold_dict = json.load(open(\"/kaggle/src/dataset/fold.json\", \"r\"))\n",
    "\n",
    "for fold in range(2):\n",
    "    print(f\"fold_{fold}\")\n",
    "    valid_kidney = fold_dict[f\"fold{fold}\"][\"valid\"][0]\n",
    "    path_best = f\"./{cfg.exp_name}/{cfg.exp_name}_best_fold{fold}.pth\"\n",
    "    model = load_inference_model(path_best, cfg)\n",
    "\n",
    "    stack_path = f\"/kaggle/working/dataset/stack_train01/{valid_kidney}_images.npy\"\n",
    "    label_path = f\"/kaggle/working/dataset/stack_train01/{valid_kidney}_labels.npy\"\n",
    "    save_path = \"./preds\"\n",
    "    preds_path = f\"{save_path}/{valid_kidney}_preds.npy\"\n",
    "    inference(model, stack_path, save_path, cfg)\n",
    "\n",
    "    label = np.load(label_path)\n",
    "    preds = np.load(preds_path)\n",
    "    thresh_score_dict = {}\n",
    "\n",
    "    for thresh in np.arange(0.1, 0.99, 0.1):\n",
    "        thresh = round(thresh, 5)\n",
    "        thresh_score_dict[thresh] = compute_surface_dice_score_from_volume(ne.evaluate(\"preds > thresh\"), label)\n",
    "\n",
    "    max_score_thresh = max(thresh_score_dict, key=thresh_score_dict.get)\n",
    "\n",
    "    for thresh in np.arange(max_score_thresh - 0.1, max_score_thresh + 0.1, 0.01):\n",
    "        thresh = round(thresh, 5)\n",
    "        thresh_score_dict[thresh] = compute_surface_dice_score_from_volume(ne.evaluate(\"preds > thresh\"), label)\n",
    "\n",
    "    print(max(thresh_score_dict.items(), key=lambda x: x[1]))"
   ]
  },
  {
   "cell_type": "code",
   "execution_count": null,
   "metadata": {},
   "outputs": [],
   "source": []
  }
 ],
 "metadata": {
  "kaggle": {
   "accelerator": "nvidiaTeslaT4",
   "dataSources": [
    {
     "databundleVersionId": 6962461,
     "sourceId": 61446,
     "sourceType": "competition"
    },
    {
     "datasetId": 1074109,
     "sourceId": 1807973,
     "sourceType": "datasetVersion"
    },
    {
     "sourceId": 150248402,
     "sourceType": "kernelVersion"
    }
   ],
   "dockerImageVersionId": 30587,
   "isGpuEnabled": true,
   "isInternetEnabled": true,
   "language": "python",
   "sourceType": "notebook"
  },
  "kernelspec": {
   "display_name": "Python 3",
   "language": "python",
   "name": "python3"
  },
  "language_info": {
   "codemirror_mode": {
    "name": "ipython",
    "version": 3
   },
   "file_extension": ".py",
   "mimetype": "text/x-python",
   "name": "python",
   "nbconvert_exporter": "python",
   "pygments_lexer": "ipython3",
   "version": "3.10.13"
  }
 },
 "nbformat": 4,
 "nbformat_minor": 4
}
