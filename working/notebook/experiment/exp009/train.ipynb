{
 "cells": [
  {
   "cell_type": "code",
   "execution_count": 1,
   "metadata": {
    "_cell_guid": "b1076dfc-b9ad-4769-8c92-a6c4dae69d19",
    "_kg_hide-input": true,
    "_kg_hide-output": true,
    "_uuid": "8f2839f25d086af736a60e9eeb907d3b93b6e0e5",
    "execution": {
     "iopub.execute_input": "2024-01-07T01:52:38.718744Z",
     "iopub.status.busy": "2024-01-07T01:52:38.718608Z",
     "iopub.status.idle": "2024-01-07T01:52:42.586686Z",
     "shell.execute_reply": "2024-01-07T01:52:42.586096Z"
    }
   },
   "outputs": [],
   "source": [
    "import json\n",
    "import pandas as pd\n",
    "import numpy as np\n",
    "import numexpr as ne\n",
    "import os\n",
    "import albumentations as A\n",
    "from albumentations.pytorch import ToTensorV2\n",
    "import wandb\n",
    "from dotenv import load_dotenv\n",
    "from tqdm import tqdm\n",
    "import torch\n",
    "import torch.cuda.amp as amp\n",
    "\n",
    "from src.model.model import save_model, load_inference_model\n",
    "from src.dataset.df import df_dataset, check_dataset\n",
    "from src.utils.common import set_seed\n",
    "\n",
    "from src.experiment.inference import inference\n",
    "from src.experiment.initialize import init_dataset, init_model, init_exp\n",
    "from src.utils.metrics import compute_surface_dice_score_from_volume"
   ]
  },
  {
   "cell_type": "code",
   "execution_count": 2,
   "metadata": {
    "execution": {
     "iopub.execute_input": "2024-01-07T01:52:42.589433Z",
     "iopub.status.busy": "2024-01-07T01:52:42.589032Z",
     "iopub.status.idle": "2024-01-07T01:52:42.610525Z",
     "shell.execute_reply": "2024-01-07T01:52:42.609985Z"
    }
   },
   "outputs": [],
   "source": [
    "class cfg:\n",
    "    debug = False\n",
    "    check_dataset = False\n",
    "\n",
    "    # = data CFG ====================================================\n",
    "\n",
    "    dataset_path = \"/kaggle/working/dataset/train01_xy_256_128_z_1_2/\"\n",
    "    train_dataset = \"GaussLabelDataset\"\n",
    "    negative_sample_rate = 0.1\n",
    "    max_distance = 20\n",
    "    sigma1 = 0.4\n",
    "    sigma2 = 0.001\n",
    "    weight = 0.2\n",
    "    # = experiment CFG =================================================\n",
    "\n",
    "    project = \"SenNet\"\n",
    "    exp_name = os.path.basename(os.getcwd())\n",
    "    notes = \"GaussLabelDataset preliminaly\"\n",
    "\n",
    "    # = model CFG ======================================================\n",
    "\n",
    "    model_arch = \"Unet\"\n",
    "    backbone = \"se_resnext50_32x4d\"\n",
    "    in_chans = 1\n",
    "    target_size = 1\n",
    "\n",
    "    # = training CFG ===================================================\n",
    "\n",
    "    epochs = 20\n",
    "\n",
    "    train_batch_size = 64\n",
    "    valid_batch_size = train_batch_size\n",
    "\n",
    "    loss = \"DiceLoss\"\n",
    "    metrics = \"Dice\"\n",
    "    lr = 5e-4\n",
    "    num_workers = 12\n",
    "\n",
    "    # = augmentation ===================================================\n",
    "\n",
    "    image_size = 256\n",
    "    train_aug = [\n",
    "        A.RandomRotate90(p=0.5),\n",
    "        A.RandomGamma(p=0.5),\n",
    "        A.RandomBrightnessContrast(p=0.5),\n",
    "        A.RandomResizedCrop(image_size, image_size, scale=(0.8, 1)),\n",
    "        A.ShiftScaleRotate(p=0.5),\n",
    "        A.GridDistortion(num_steps=5, distort_limit=0.3, p=0.5),\n",
    "        ToTensorV2(transpose_mask=True),\n",
    "    ]\n",
    "\n",
    "    valid_aug = [\n",
    "        ToTensorV2(transpose_mask=True),\n",
    "    ]\n",
    "\n",
    "    # =============== inference ========================================\n",
    "\n",
    "    test_dataset = \"BaseInferenceDataset\"\n",
    "    stride = image_size // 2\n",
    "    drop_egde_pixel = 32\n",
    "\n",
    "\n",
    "load_dotenv(\"/kaggle/key.env\")\n",
    "set_seed()"
   ]
  },
  {
   "cell_type": "code",
   "execution_count": 3,
   "metadata": {
    "execution": {
     "iopub.execute_input": "2024-01-07T01:52:42.612743Z",
     "iopub.status.busy": "2024-01-07T01:52:42.612486Z",
     "iopub.status.idle": "2024-01-07T01:52:51.138112Z",
     "shell.execute_reply": "2024-01-07T01:52:51.137629Z"
    }
   },
   "outputs": [
    {
     "name": "stderr",
     "output_type": "stream",
     "text": [
      "/tmp/ipykernel_24162/4046888049.py:10: DtypeWarning: Columns (10) have mixed types. Specify dtype option on import or set low_memory=False.\n",
      "  df = pd.read_csv(f\"{cfg.dataset_path}/dataset.csv\")\n"
     ]
    },
    {
     "data": {
      "text/html": [
       "<div>\n",
       "<style scoped>\n",
       "    .dataframe tbody tr th:only-of-type {\n",
       "        vertical-align: middle;\n",
       "    }\n",
       "\n",
       "    .dataframe tbody tr th {\n",
       "        vertical-align: top;\n",
       "    }\n",
       "\n",
       "    .dataframe thead th {\n",
       "        text-align: right;\n",
       "    }\n",
       "</style>\n",
       "<table border=\"1\" class=\"dataframe\">\n",
       "  <thead>\n",
       "    <tr style=\"text-align: right;\">\n",
       "      <th></th>\n",
       "      <th>image_path</th>\n",
       "      <th>label_path</th>\n",
       "      <th>fname</th>\n",
       "      <th>kidney</th>\n",
       "      <th>x</th>\n",
       "      <th>y</th>\n",
       "      <th>z</th>\n",
       "      <th>std</th>\n",
       "      <th>sum</th>\n",
       "      <th>fold0</th>\n",
       "      <th>fold1</th>\n",
       "    </tr>\n",
       "  </thead>\n",
       "  <tbody>\n",
       "    <tr>\n",
       "      <th>0</th>\n",
       "      <td>/kaggle/working/dataset/cropped_xy_256_128_z_1...</td>\n",
       "      <td>/kaggle/working/dataset/cropped_xy_256_128_z_1...</td>\n",
       "      <td>x0_y0_z0_std0039_sum0</td>\n",
       "      <td>kidney_1_dense</td>\n",
       "      <td>0</td>\n",
       "      <td>0</td>\n",
       "      <td>0</td>\n",
       "      <td>39</td>\n",
       "      <td>0</td>\n",
       "      <td>valid</td>\n",
       "      <td>train</td>\n",
       "    </tr>\n",
       "    <tr>\n",
       "      <th>1</th>\n",
       "      <td>/kaggle/working/dataset/cropped_xy_256_128_z_1...</td>\n",
       "      <td>/kaggle/working/dataset/cropped_xy_256_128_z_1...</td>\n",
       "      <td>x0_y0_z100_std0037_sum0</td>\n",
       "      <td>kidney_1_dense</td>\n",
       "      <td>0</td>\n",
       "      <td>0</td>\n",
       "      <td>100</td>\n",
       "      <td>37</td>\n",
       "      <td>0</td>\n",
       "      <td>valid</td>\n",
       "      <td>train</td>\n",
       "    </tr>\n",
       "    <tr>\n",
       "      <th>2</th>\n",
       "      <td>/kaggle/working/dataset/cropped_xy_256_128_z_1...</td>\n",
       "      <td>/kaggle/working/dataset/cropped_xy_256_128_z_1...</td>\n",
       "      <td>x0_y0_z102_std0036_sum0</td>\n",
       "      <td>kidney_1_dense</td>\n",
       "      <td>0</td>\n",
       "      <td>0</td>\n",
       "      <td>102</td>\n",
       "      <td>36</td>\n",
       "      <td>0</td>\n",
       "      <td>valid</td>\n",
       "      <td>train</td>\n",
       "    </tr>\n",
       "    <tr>\n",
       "      <th>3</th>\n",
       "      <td>/kaggle/working/dataset/cropped_xy_256_128_z_1...</td>\n",
       "      <td>/kaggle/working/dataset/cropped_xy_256_128_z_1...</td>\n",
       "      <td>x0_y0_z104_std0036_sum0</td>\n",
       "      <td>kidney_1_dense</td>\n",
       "      <td>0</td>\n",
       "      <td>0</td>\n",
       "      <td>104</td>\n",
       "      <td>36</td>\n",
       "      <td>0</td>\n",
       "      <td>valid</td>\n",
       "      <td>train</td>\n",
       "    </tr>\n",
       "    <tr>\n",
       "      <th>4</th>\n",
       "      <td>/kaggle/working/dataset/cropped_xy_256_128_z_1...</td>\n",
       "      <td>/kaggle/working/dataset/cropped_xy_256_128_z_1...</td>\n",
       "      <td>x0_y0_z106_std0036_sum0</td>\n",
       "      <td>kidney_1_dense</td>\n",
       "      <td>0</td>\n",
       "      <td>0</td>\n",
       "      <td>106</td>\n",
       "      <td>36</td>\n",
       "      <td>0</td>\n",
       "      <td>valid</td>\n",
       "      <td>train</td>\n",
       "    </tr>\n",
       "    <tr>\n",
       "      <th>...</th>\n",
       "      <td>...</td>\n",
       "      <td>...</td>\n",
       "      <td>...</td>\n",
       "      <td>...</td>\n",
       "      <td>...</td>\n",
       "      <td>...</td>\n",
       "      <td>...</td>\n",
       "      <td>...</td>\n",
       "      <td>...</td>\n",
       "      <td>...</td>\n",
       "      <td>...</td>\n",
       "    </tr>\n",
       "    <tr>\n",
       "      <th>452169</th>\n",
       "      <td>/kaggle/working/dataset/cropped_xy_256_128_z_1...</td>\n",
       "      <td>/kaggle/working/dataset/cropped_xy_256_128_z_1...</td>\n",
       "      <td>x896_y256_z990_std0261_sum1352</td>\n",
       "      <td>kidney_3_sparse</td>\n",
       "      <td>896</td>\n",
       "      <td>256</td>\n",
       "      <td>990</td>\n",
       "      <td>261</td>\n",
       "      <td>1352</td>\n",
       "      <td>train</td>\n",
       "      <td>NaN</td>\n",
       "    </tr>\n",
       "    <tr>\n",
       "      <th>452170</th>\n",
       "      <td>/kaggle/working/dataset/cropped_xy_256_128_z_1...</td>\n",
       "      <td>/kaggle/working/dataset/cropped_xy_256_128_z_1...</td>\n",
       "      <td>x896_y256_z992_std0262_sum1473</td>\n",
       "      <td>kidney_3_sparse</td>\n",
       "      <td>896</td>\n",
       "      <td>256</td>\n",
       "      <td>992</td>\n",
       "      <td>262</td>\n",
       "      <td>1473</td>\n",
       "      <td>train</td>\n",
       "      <td>NaN</td>\n",
       "    </tr>\n",
       "    <tr>\n",
       "      <th>452171</th>\n",
       "      <td>/kaggle/working/dataset/cropped_xy_256_128_z_1...</td>\n",
       "      <td>/kaggle/working/dataset/cropped_xy_256_128_z_1...</td>\n",
       "      <td>x896_y256_z994_std0263_sum1554</td>\n",
       "      <td>kidney_3_sparse</td>\n",
       "      <td>896</td>\n",
       "      <td>256</td>\n",
       "      <td>994</td>\n",
       "      <td>263</td>\n",
       "      <td>1554</td>\n",
       "      <td>train</td>\n",
       "      <td>NaN</td>\n",
       "    </tr>\n",
       "    <tr>\n",
       "      <th>452172</th>\n",
       "      <td>/kaggle/working/dataset/cropped_xy_256_128_z_1...</td>\n",
       "      <td>/kaggle/working/dataset/cropped_xy_256_128_z_1...</td>\n",
       "      <td>x896_y256_z996_std0264_sum1656</td>\n",
       "      <td>kidney_3_sparse</td>\n",
       "      <td>896</td>\n",
       "      <td>256</td>\n",
       "      <td>996</td>\n",
       "      <td>264</td>\n",
       "      <td>1656</td>\n",
       "      <td>train</td>\n",
       "      <td>NaN</td>\n",
       "    </tr>\n",
       "    <tr>\n",
       "      <th>452173</th>\n",
       "      <td>/kaggle/working/dataset/cropped_xy_256_128_z_1...</td>\n",
       "      <td>/kaggle/working/dataset/cropped_xy_256_128_z_1...</td>\n",
       "      <td>x896_y256_z998_std0265_sum1830</td>\n",
       "      <td>kidney_3_sparse</td>\n",
       "      <td>896</td>\n",
       "      <td>256</td>\n",
       "      <td>998</td>\n",
       "      <td>265</td>\n",
       "      <td>1830</td>\n",
       "      <td>train</td>\n",
       "      <td>NaN</td>\n",
       "    </tr>\n",
       "  </tbody>\n",
       "</table>\n",
       "<p>452174 rows × 11 columns</p>\n",
       "</div>"
      ],
      "text/plain": [
       "                                               image_path  \\\n",
       "0       /kaggle/working/dataset/cropped_xy_256_128_z_1...   \n",
       "1       /kaggle/working/dataset/cropped_xy_256_128_z_1...   \n",
       "2       /kaggle/working/dataset/cropped_xy_256_128_z_1...   \n",
       "3       /kaggle/working/dataset/cropped_xy_256_128_z_1...   \n",
       "4       /kaggle/working/dataset/cropped_xy_256_128_z_1...   \n",
       "...                                                   ...   \n",
       "452169  /kaggle/working/dataset/cropped_xy_256_128_z_1...   \n",
       "452170  /kaggle/working/dataset/cropped_xy_256_128_z_1...   \n",
       "452171  /kaggle/working/dataset/cropped_xy_256_128_z_1...   \n",
       "452172  /kaggle/working/dataset/cropped_xy_256_128_z_1...   \n",
       "452173  /kaggle/working/dataset/cropped_xy_256_128_z_1...   \n",
       "\n",
       "                                               label_path  \\\n",
       "0       /kaggle/working/dataset/cropped_xy_256_128_z_1...   \n",
       "1       /kaggle/working/dataset/cropped_xy_256_128_z_1...   \n",
       "2       /kaggle/working/dataset/cropped_xy_256_128_z_1...   \n",
       "3       /kaggle/working/dataset/cropped_xy_256_128_z_1...   \n",
       "4       /kaggle/working/dataset/cropped_xy_256_128_z_1...   \n",
       "...                                                   ...   \n",
       "452169  /kaggle/working/dataset/cropped_xy_256_128_z_1...   \n",
       "452170  /kaggle/working/dataset/cropped_xy_256_128_z_1...   \n",
       "452171  /kaggle/working/dataset/cropped_xy_256_128_z_1...   \n",
       "452172  /kaggle/working/dataset/cropped_xy_256_128_z_1...   \n",
       "452173  /kaggle/working/dataset/cropped_xy_256_128_z_1...   \n",
       "\n",
       "                                 fname           kidney    x    y    z  std  \\\n",
       "0                x0_y0_z0_std0039_sum0   kidney_1_dense    0    0    0   39   \n",
       "1              x0_y0_z100_std0037_sum0   kidney_1_dense    0    0  100   37   \n",
       "2              x0_y0_z102_std0036_sum0   kidney_1_dense    0    0  102   36   \n",
       "3              x0_y0_z104_std0036_sum0   kidney_1_dense    0    0  104   36   \n",
       "4              x0_y0_z106_std0036_sum0   kidney_1_dense    0    0  106   36   \n",
       "...                                ...              ...  ...  ...  ...  ...   \n",
       "452169  x896_y256_z990_std0261_sum1352  kidney_3_sparse  896  256  990  261   \n",
       "452170  x896_y256_z992_std0262_sum1473  kidney_3_sparse  896  256  992  262   \n",
       "452171  x896_y256_z994_std0263_sum1554  kidney_3_sparse  896  256  994  263   \n",
       "452172  x896_y256_z996_std0264_sum1656  kidney_3_sparse  896  256  996  264   \n",
       "452173  x896_y256_z998_std0265_sum1830  kidney_3_sparse  896  256  998  265   \n",
       "\n",
       "         sum  fold0  fold1  \n",
       "0          0  valid  train  \n",
       "1          0  valid  train  \n",
       "2          0  valid  train  \n",
       "3          0  valid  train  \n",
       "4          0  valid  train  \n",
       "...      ...    ...    ...  \n",
       "452169  1352  train    NaN  \n",
       "452170  1473  train    NaN  \n",
       "452171  1554  train    NaN  \n",
       "452172  1656  train    NaN  \n",
       "452173  1830  train    NaN  \n",
       "\n",
       "[452174 rows x 11 columns]"
      ]
     },
     "metadata": {},
     "output_type": "display_data"
    }
   ],
   "source": [
    "def filter_dataset(df):\n",
    "    # trainのうちlabelが全くないものは90%の確率で除外\n",
    "    df[\"random\"] = np.random.rand(len(df))\n",
    "    df = df[(df[\"sum\"] > 0) | (df[\"fold0\"] == \"valid\") | (df[\"random\"] < cfg.negative_sample_rate)]\n",
    "    df = df.reset_index(drop=True)\n",
    "    df = df.drop([\"random\"], axis=1)\n",
    "    return df\n",
    "\n",
    "\n",
    "df = pd.read_csv(f\"{cfg.dataset_path}/dataset.csv\")\n",
    "df = filter_dataset(df)\n",
    "# df = df.sample(1000).reset_index(drop=True)\n",
    "if cfg.debug:\n",
    "    df = df.sample(10000).reset_index(drop=True)\n",
    "display(df)\n",
    "\n",
    "if cfg.check_dataset:\n",
    "    check_dataset(df, cfg)"
   ]
  },
  {
   "cell_type": "code",
   "execution_count": 5,
   "metadata": {
    "execution": {
     "iopub.execute_input": "2024-01-07T01:52:51.157425Z",
     "iopub.status.busy": "2024-01-07T01:52:51.157197Z",
     "iopub.status.idle": "2024-01-07T12:46:21.995347Z",
     "shell.execute_reply": "2024-01-07T12:46:21.993525Z"
    }
   },
   "outputs": [
    {
     "name": "stdout",
     "output_type": "stream",
     "text": [
      "model_arch:  Unet\n",
      "backbone:  se_resnext50_32x4d\n"
     ]
    },
    {
     "name": "stderr",
     "output_type": "stream",
     "text": [
      "Failed to detect the name of this notebook, you can set it manually with the WANDB_NOTEBOOK_NAME environment variable to enable code saving.\n",
      "\u001b[34m\u001b[1mwandb\u001b[0m: Currently logged in as: \u001b[33mwelshonionman\u001b[0m. Use \u001b[1m`wandb login --relogin`\u001b[0m to force relogin\n"
     ]
    },
    {
     "data": {
      "text/html": [
       "wandb version 0.16.2 is available!  To upgrade, please run:\n",
       " $ pip install wandb --upgrade"
      ],
      "text/plain": [
       "<IPython.core.display.HTML object>"
      ]
     },
     "metadata": {},
     "output_type": "display_data"
    },
    {
     "data": {
      "text/html": [
       "Tracking run with wandb version 0.16.1"
      ],
      "text/plain": [
       "<IPython.core.display.HTML object>"
      ]
     },
     "metadata": {},
     "output_type": "display_data"
    },
    {
     "data": {
      "text/html": [
       "Run data is saved locally in <code>/kaggle/wandb/run-20240113_013035-m0f1hjtw</code>"
      ],
      "text/plain": [
       "<IPython.core.display.HTML object>"
      ]
     },
     "metadata": {},
     "output_type": "display_data"
    },
    {
     "data": {
      "text/html": [
       "Syncing run <strong><a href='https://wandb.ai/welshonionman/SenNet/runs/m0f1hjtw' target=\"_blank\">exp009_fold0</a></strong> to <a href='https://wandb.ai/welshonionman/SenNet' target=\"_blank\">Weights & Biases</a> (<a href='https://wandb.me/run' target=\"_blank\">docs</a>)<br/>"
      ],
      "text/plain": [
       "<IPython.core.display.HTML object>"
      ]
     },
     "metadata": {},
     "output_type": "display_data"
    },
    {
     "data": {
      "text/html": [
       " View project at <a href='https://wandb.ai/welshonionman/SenNet' target=\"_blank\">https://wandb.ai/welshonionman/SenNet</a>"
      ],
      "text/plain": [
       "<IPython.core.display.HTML object>"
      ]
     },
     "metadata": {},
     "output_type": "display_data"
    },
    {
     "data": {
      "text/html": [
       " View run at <a href='https://wandb.ai/welshonionman/SenNet/runs/m0f1hjtw' target=\"_blank\">https://wandb.ai/welshonionman/SenNet/runs/m0f1hjtw</a>"
      ],
      "text/plain": [
       "<IPython.core.display.HTML object>"
      ]
     },
     "metadata": {},
     "output_type": "display_data"
    },
    {
     "name": "stderr",
     "output_type": "stream",
     "text": [
      "Epoch 0/20  Mem : 9.27GB  LR : 5.00E-04  Loss: 0.4041: 100%|██████████| 3393/3393 [09:40<00:00,  5.85it/s]\n",
      "Val Loss: 0.5032: 100%|██████████| 3674/3674 [05:53<00:00, 10.39it/s]\n"
     ]
    },
    {
     "name": "stdout",
     "output_type": "stream",
     "text": [
      "loss : 0.5032\tSAVED MODEL\n",
      "\n"
     ]
    },
    {
     "name": "stderr",
     "output_type": "stream",
     "text": [
      "Epoch 1/20  Mem : 11.1GB  LR : 5.00E-03  Loss: 0.4089: 100%|██████████| 3393/3393 [09:34<00:00,  5.90it/s]\n",
      "Val Loss: 0.5633: 100%|██████████| 3674/3674 [05:55<00:00, 10.33it/s]\n"
     ]
    },
    {
     "name": "stdout",
     "output_type": "stream",
     "text": [
      "loss : 0.5633\n",
      "\n"
     ]
    },
    {
     "name": "stderr",
     "output_type": "stream",
     "text": [
      "Epoch 2/20  Mem : 11.1GB  LR : 5.00E-04  Loss: 0.3813: 100%|██████████| 3393/3393 [09:34<00:00,  5.91it/s]\n",
      "Val Loss: 0.5079: 100%|██████████| 3674/3674 [05:48<00:00, 10.55it/s]\n"
     ]
    },
    {
     "name": "stdout",
     "output_type": "stream",
     "text": [
      "loss : 0.5079\n",
      "\n"
     ]
    },
    {
     "name": "stderr",
     "output_type": "stream",
     "text": [
      "Epoch 3/20  Mem : 11.1GB  LR : 4.97E-04  Loss: 0.3775: 100%|██████████| 3393/3393 [09:25<00:00,  6.00it/s]\n",
      "Val Loss: 0.5110: 100%|██████████| 3674/3674 [05:40<00:00, 10.78it/s]\n"
     ]
    },
    {
     "name": "stdout",
     "output_type": "stream",
     "text": [
      "loss : 0.5110\n",
      "\n"
     ]
    },
    {
     "name": "stderr",
     "output_type": "stream",
     "text": [
      "Epoch 4/20  Mem : 11.1GB  LR : 4.88E-04  Loss: 0.3761: 100%|██████████| 3393/3393 [09:18<00:00,  6.07it/s]\n",
      "Val Loss: 0.5056: 100%|██████████| 3674/3674 [05:40<00:00, 10.78it/s]\n"
     ]
    },
    {
     "name": "stdout",
     "output_type": "stream",
     "text": [
      "loss : 0.5056\n",
      "\n"
     ]
    },
    {
     "name": "stderr",
     "output_type": "stream",
     "text": [
      "Epoch 5/20  Mem : 11.1GB  LR : 4.73E-04  Loss: 0.3750: 100%|██████████| 3393/3393 [09:18<00:00,  6.07it/s]\n",
      "Val Loss: 0.5027: 100%|██████████| 3674/3674 [05:40<00:00, 10.79it/s]\n"
     ]
    },
    {
     "name": "stdout",
     "output_type": "stream",
     "text": [
      "loss : 0.5027\tSAVED MODEL\n",
      "\n"
     ]
    },
    {
     "name": "stderr",
     "output_type": "stream",
     "text": [
      "Epoch 6/20  Mem : 11.1GB  LR : 4.52E-04  Loss: 0.3749: 100%|██████████| 3393/3393 [09:18<00:00,  6.07it/s]\n",
      "Val Loss: 0.5018: 100%|██████████| 3674/3674 [05:40<00:00, 10.80it/s]\n"
     ]
    },
    {
     "name": "stdout",
     "output_type": "stream",
     "text": [
      "loss : 0.5018\tSAVED MODEL\n",
      "\n"
     ]
    },
    {
     "name": "stderr",
     "output_type": "stream",
     "text": [
      "Epoch 7/20  Mem : 11.1GB  LR : 4.27E-04  Loss: 0.3741: 100%|██████████| 3393/3393 [09:19<00:00,  6.07it/s]\n",
      "Val Loss: 0.4920: 100%|██████████| 3674/3674 [05:40<00:00, 10.80it/s]\n"
     ]
    },
    {
     "name": "stdout",
     "output_type": "stream",
     "text": [
      "loss : 0.4920\tSAVED MODEL\n",
      "\n"
     ]
    },
    {
     "name": "stderr",
     "output_type": "stream",
     "text": [
      "Epoch 8/20  Mem : 11.1GB  LR : 3.97E-04  Loss: 0.3734: 100%|██████████| 3393/3393 [09:19<00:00,  6.07it/s]\n",
      "Val Loss: 0.5015: 100%|██████████| 3674/3674 [05:40<00:00, 10.79it/s]\n"
     ]
    },
    {
     "name": "stdout",
     "output_type": "stream",
     "text": [
      "loss : 0.5015\n",
      "\n"
     ]
    },
    {
     "name": "stderr",
     "output_type": "stream",
     "text": [
      "Epoch 9/20  Mem : 11.1GB  LR : 3.64E-04  Loss: 0.3736: 100%|██████████| 3393/3393 [09:19<00:00,  6.07it/s]\n",
      "Val Loss: 0.5029: 100%|██████████| 3674/3674 [05:40<00:00, 10.79it/s]\n"
     ]
    },
    {
     "name": "stdout",
     "output_type": "stream",
     "text": [
      "loss : 0.5029\n",
      "\n"
     ]
    },
    {
     "name": "stderr",
     "output_type": "stream",
     "text": [
      "Epoch 10/20  Mem : 11.1GB  LR : 3.27E-04  Loss: 0.3728: 100%|██████████| 3393/3393 [09:20<00:00,  6.06it/s]\n",
      "Val Loss: 0.4922: 100%|██████████| 3674/3674 [05:40<00:00, 10.79it/s]\n"
     ]
    },
    {
     "name": "stdout",
     "output_type": "stream",
     "text": [
      "loss : 0.4922\n",
      "\n"
     ]
    },
    {
     "name": "stderr",
     "output_type": "stream",
     "text": [
      "Epoch 11/20  Mem : 11.1GB  LR : 2.89E-04  Loss: 0.3731: 100%|██████████| 3393/3393 [09:18<00:00,  6.07it/s]\n",
      "Val Loss: 0.4887: 100%|██████████| 3674/3674 [05:53<00:00, 10.41it/s]\n"
     ]
    },
    {
     "name": "stdout",
     "output_type": "stream",
     "text": [
      "loss : 0.4887\tSAVED MODEL\n",
      "\n"
     ]
    },
    {
     "name": "stderr",
     "output_type": "stream",
     "text": [
      "Epoch 12/20  Mem : 11.1GB  LR : 2.50E-04  Loss: 0.3730: 100%|██████████| 3393/3393 [09:44<00:00,  5.80it/s]\n",
      "Val Loss: 0.4893: 100%|██████████| 3674/3674 [05:45<00:00, 10.64it/s]\n"
     ]
    },
    {
     "name": "stdout",
     "output_type": "stream",
     "text": [
      "loss : 0.4893\n",
      "\n"
     ]
    },
    {
     "name": "stderr",
     "output_type": "stream",
     "text": [
      "Epoch 13/20  Mem : 11.1GB  LR : 2.11E-04  Loss: 0.3725: 100%|██████████| 3393/3393 [09:28<00:00,  5.97it/s]\n",
      "Val Loss: 0.4907: 100%|██████████| 3674/3674 [05:42<00:00, 10.72it/s]\n"
     ]
    },
    {
     "name": "stdout",
     "output_type": "stream",
     "text": [
      "loss : 0.4907\n",
      "\n"
     ]
    },
    {
     "name": "stderr",
     "output_type": "stream",
     "text": [
      "Epoch 14/20  Mem : 11.1GB  LR : 1.73E-04  Loss: 0.3716: 100%|██████████| 3393/3393 [09:31<00:00,  5.94it/s]\n",
      "Val Loss: 0.4922: 100%|██████████| 3674/3674 [05:52<00:00, 10.43it/s]\n"
     ]
    },
    {
     "name": "stdout",
     "output_type": "stream",
     "text": [
      "loss : 0.4922\n",
      "\n"
     ]
    },
    {
     "name": "stderr",
     "output_type": "stream",
     "text": [
      "Epoch 15/20  Mem : 11.1GB  LR : 1.37E-04  Loss: 0.3725: 100%|██████████| 3393/3393 [09:43<00:00,  5.82it/s]\n",
      "Val Loss: 0.4887: 100%|██████████| 3674/3674 [05:43<00:00, 10.68it/s]\n"
     ]
    },
    {
     "name": "stdout",
     "output_type": "stream",
     "text": [
      "loss : 0.4887\tSAVED MODEL\n",
      "\n"
     ]
    },
    {
     "name": "stderr",
     "output_type": "stream",
     "text": [
      "Epoch 16/20  Mem : 11.1GB  LR : 1.03E-04  Loss: 0.3714:  55%|█████▌    | 1872/3393 [05:22<04:21,  5.81it/s]\n"
     ]
    },
    {
     "ename": "KeyboardInterrupt",
     "evalue": "",
     "output_type": "error",
     "traceback": [
      "\u001b[0;31m---------------------------------------------------------------------------\u001b[0m",
      "\u001b[0;31mKeyboardInterrupt\u001b[0m                         Traceback (most recent call last)",
      "Cell \u001b[0;32mIn[5], line 27\u001b[0m\n\u001b[1;32m     25\u001b[0m loss \u001b[38;5;241m=\u001b[39m criterion(preds, masks)\n\u001b[1;32m     26\u001b[0m scaler\u001b[38;5;241m.\u001b[39mscale(loss)\u001b[38;5;241m.\u001b[39mbackward()\n\u001b[0;32m---> 27\u001b[0m \u001b[43mscaler\u001b[49m\u001b[38;5;241;43m.\u001b[39;49m\u001b[43mstep\u001b[49m\u001b[43m(\u001b[49m\u001b[43moptimizer\u001b[49m\u001b[43m)\u001b[49m\n\u001b[1;32m     28\u001b[0m scaler\u001b[38;5;241m.\u001b[39mupdate()\n\u001b[1;32m     29\u001b[0m total_loss \u001b[38;5;241m+\u001b[39m\u001b[38;5;241m=\u001b[39m loss\u001b[38;5;241m.\u001b[39mdetach()\u001b[38;5;241m.\u001b[39mitem()\n",
      "File \u001b[0;32m/usr/local/lib/python3.10/dist-packages/torch/cuda/amp/grad_scaler.py:416\u001b[0m, in \u001b[0;36mGradScaler.step\u001b[0;34m(self, optimizer, *args, **kwargs)\u001b[0m\n\u001b[1;32m    410\u001b[0m     \u001b[38;5;28mself\u001b[39m\u001b[38;5;241m.\u001b[39munscale_(optimizer)\n\u001b[1;32m    412\u001b[0m \u001b[38;5;28;01massert\u001b[39;00m (\n\u001b[1;32m    413\u001b[0m     \u001b[38;5;28mlen\u001b[39m(optimizer_state[\u001b[38;5;124m\"\u001b[39m\u001b[38;5;124mfound_inf_per_device\u001b[39m\u001b[38;5;124m\"\u001b[39m]) \u001b[38;5;241m>\u001b[39m \u001b[38;5;241m0\u001b[39m\n\u001b[1;32m    414\u001b[0m ), \u001b[38;5;124m\"\u001b[39m\u001b[38;5;124mNo inf checks were recorded for this optimizer.\u001b[39m\u001b[38;5;124m\"\u001b[39m\n\u001b[0;32m--> 416\u001b[0m retval \u001b[38;5;241m=\u001b[39m \u001b[38;5;28;43mself\u001b[39;49m\u001b[38;5;241;43m.\u001b[39;49m\u001b[43m_maybe_opt_step\u001b[49m\u001b[43m(\u001b[49m\u001b[43moptimizer\u001b[49m\u001b[43m,\u001b[49m\u001b[43m \u001b[49m\u001b[43moptimizer_state\u001b[49m\u001b[43m,\u001b[49m\u001b[43m \u001b[49m\u001b[38;5;241;43m*\u001b[39;49m\u001b[43margs\u001b[49m\u001b[43m,\u001b[49m\u001b[43m \u001b[49m\u001b[38;5;241;43m*\u001b[39;49m\u001b[38;5;241;43m*\u001b[39;49m\u001b[43mkwargs\u001b[49m\u001b[43m)\u001b[49m\n\u001b[1;32m    418\u001b[0m optimizer_state[\u001b[38;5;124m\"\u001b[39m\u001b[38;5;124mstage\u001b[39m\u001b[38;5;124m\"\u001b[39m] \u001b[38;5;241m=\u001b[39m OptState\u001b[38;5;241m.\u001b[39mSTEPPED\n\u001b[1;32m    420\u001b[0m \u001b[38;5;28;01mreturn\u001b[39;00m retval\n",
      "File \u001b[0;32m/usr/local/lib/python3.10/dist-packages/torch/cuda/amp/grad_scaler.py:314\u001b[0m, in \u001b[0;36mGradScaler._maybe_opt_step\u001b[0;34m(self, optimizer, optimizer_state, *args, **kwargs)\u001b[0m\n\u001b[1;32m    312\u001b[0m \u001b[38;5;28;01mdef\u001b[39;00m \u001b[38;5;21m_maybe_opt_step\u001b[39m(\u001b[38;5;28mself\u001b[39m, optimizer, optimizer_state, \u001b[38;5;241m*\u001b[39margs, \u001b[38;5;241m*\u001b[39m\u001b[38;5;241m*\u001b[39mkwargs):\n\u001b[1;32m    313\u001b[0m     retval \u001b[38;5;241m=\u001b[39m \u001b[38;5;28;01mNone\u001b[39;00m\n\u001b[0;32m--> 314\u001b[0m     \u001b[38;5;28;01mif\u001b[39;00m \u001b[38;5;129;01mnot\u001b[39;00m \u001b[38;5;28;43msum\u001b[39;49m\u001b[43m(\u001b[49m\u001b[43mv\u001b[49m\u001b[38;5;241;43m.\u001b[39;49m\u001b[43mitem\u001b[49m\u001b[43m(\u001b[49m\u001b[43m)\u001b[49m\u001b[43m \u001b[49m\u001b[38;5;28;43;01mfor\u001b[39;49;00m\u001b[43m \u001b[49m\u001b[43mv\u001b[49m\u001b[43m \u001b[49m\u001b[38;5;129;43;01min\u001b[39;49;00m\u001b[43m \u001b[49m\u001b[43moptimizer_state\u001b[49m\u001b[43m[\u001b[49m\u001b[38;5;124;43m\"\u001b[39;49m\u001b[38;5;124;43mfound_inf_per_device\u001b[39;49m\u001b[38;5;124;43m\"\u001b[39;49m\u001b[43m]\u001b[49m\u001b[38;5;241;43m.\u001b[39;49m\u001b[43mvalues\u001b[49m\u001b[43m(\u001b[49m\u001b[43m)\u001b[49m\u001b[43m)\u001b[49m:\n\u001b[1;32m    315\u001b[0m         retval \u001b[38;5;241m=\u001b[39m optimizer\u001b[38;5;241m.\u001b[39mstep(\u001b[38;5;241m*\u001b[39margs, \u001b[38;5;241m*\u001b[39m\u001b[38;5;241m*\u001b[39mkwargs)\n\u001b[1;32m    316\u001b[0m     \u001b[38;5;28;01mreturn\u001b[39;00m retval\n",
      "File \u001b[0;32m/usr/local/lib/python3.10/dist-packages/torch/cuda/amp/grad_scaler.py:314\u001b[0m, in \u001b[0;36m<genexpr>\u001b[0;34m(.0)\u001b[0m\n\u001b[1;32m    312\u001b[0m \u001b[38;5;28;01mdef\u001b[39;00m \u001b[38;5;21m_maybe_opt_step\u001b[39m(\u001b[38;5;28mself\u001b[39m, optimizer, optimizer_state, \u001b[38;5;241m*\u001b[39margs, \u001b[38;5;241m*\u001b[39m\u001b[38;5;241m*\u001b[39mkwargs):\n\u001b[1;32m    313\u001b[0m     retval \u001b[38;5;241m=\u001b[39m \u001b[38;5;28;01mNone\u001b[39;00m\n\u001b[0;32m--> 314\u001b[0m     \u001b[38;5;28;01mif\u001b[39;00m \u001b[38;5;129;01mnot\u001b[39;00m \u001b[38;5;28msum\u001b[39m(\u001b[43mv\u001b[49m\u001b[38;5;241;43m.\u001b[39;49m\u001b[43mitem\u001b[49m\u001b[43m(\u001b[49m\u001b[43m)\u001b[49m \u001b[38;5;28;01mfor\u001b[39;00m v \u001b[38;5;129;01min\u001b[39;00m optimizer_state[\u001b[38;5;124m\"\u001b[39m\u001b[38;5;124mfound_inf_per_device\u001b[39m\u001b[38;5;124m\"\u001b[39m]\u001b[38;5;241m.\u001b[39mvalues()):\n\u001b[1;32m    315\u001b[0m         retval \u001b[38;5;241m=\u001b[39m optimizer\u001b[38;5;241m.\u001b[39mstep(\u001b[38;5;241m*\u001b[39margs, \u001b[38;5;241m*\u001b[39m\u001b[38;5;241m*\u001b[39mkwargs)\n\u001b[1;32m    316\u001b[0m     \u001b[38;5;28;01mreturn\u001b[39;00m retval\n",
      "\u001b[0;31mKeyboardInterrupt\u001b[0m: "
     ]
    }
   ],
   "source": [
    "if cfg.debug:\n",
    "    print(\"!!!Debug mode!!!\\n\")\n",
    "    cfg.epochs = 5\n",
    "\n",
    "for fold in range(0, 1):\n",
    "    train_dataloader, valid_dataloader = init_dataset(fold, df, cfg)\n",
    "    model, scaler, criterion, optimizer, scheduler, metrics = init_model(cfg)\n",
    "    slacknotify = init_exp(fold, cfg)\n",
    "\n",
    "    path_best = f\"./{cfg.exp_name}/{cfg.exp_name}_best_fold{fold}.pth\"\n",
    "    path_last = f\"./{cfg.exp_name}/{cfg.exp_name}_last_fold{fold}.pth\"\n",
    "\n",
    "    best_loss = float(\"inf\")\n",
    "    for epoch in range(cfg.epochs):\n",
    "        model.train()\n",
    "        total_loss = 0.0\n",
    "        pbar_train = tqdm(enumerate(train_dataloader), total=len(train_dataloader), bar_format=\"{l_bar}{bar:10}{r_bar}{bar:-0b}\")\n",
    "\n",
    "        for i, (images, masks) in pbar_train:\n",
    "            images, masks = images.cuda(), masks.cuda()\n",
    "            optimizer.zero_grad()\n",
    "\n",
    "            with amp.autocast():\n",
    "                preds = model(images)\n",
    "                loss = criterion(preds, masks)\n",
    "                scaler.scale(loss).backward()\n",
    "                scaler.step(optimizer)\n",
    "                scaler.update()\n",
    "                total_loss += loss.detach().item()\n",
    "\n",
    "            loss_ = total_loss / (i + 1)\n",
    "            lr = f\"LR : {scheduler.get_lr()[0]:.2E}\"\n",
    "            gpu_mem = f\"Mem : {torch.cuda.memory_reserved() / 1E9:.3g}GB\"\n",
    "            pbar_train.set_description((\"%10s  \" * 3 + \"%10s\") % (f\"Epoch {epoch}/{cfg.epochs}\", gpu_mem, lr, f\"Loss: {loss_:.4f}\"))\n",
    "\n",
    "        train_loss = loss_\n",
    "        scheduler.step()\n",
    "        wandb.log({\"epoch\": epoch, \"train_loss\": train_loss})\n",
    "\n",
    "        model.eval()\n",
    "        total_loss = 0.0\n",
    "        pbar_val = tqdm(enumerate(valid_dataloader), total=len(valid_dataloader), bar_format=\"{l_bar}{bar:10}{r_bar}{bar:-10b}\")\n",
    "\n",
    "        for i, (images, masks) in pbar_val:\n",
    "            images, masks = images.cuda(), masks.cuda()\n",
    "            with torch.no_grad():\n",
    "                preds = model(images)\n",
    "                loss = criterion(preds, masks)\n",
    "                total_loss += loss.item()\n",
    "\n",
    "            loss_ = total_loss / (i + 1)\n",
    "            pbar_val.set_description((\"%10s\") % (f\"Val Loss: {loss_:.4f}\"))\n",
    "        valid_loss = loss_\n",
    "        wandb.log({\"epoch\": epoch, \"valid_loss\": valid_loss})\n",
    "\n",
    "        if valid_loss < best_loss:\n",
    "            print(f\"loss : {valid_loss:.4f}\\tSAVED MODEL\\n\")\n",
    "            slacknotify.send_reply(f\"epoch : {epoch}\\tscore : {valid_loss:.4f}\\tBEST\")\n",
    "            best_loss = valid_loss\n",
    "            save_model(model, cfg, path_best, loss=loss)\n",
    "        else:\n",
    "            print(f\"loss : {valid_loss:.4f}\\n\")\n",
    "            slacknotify.send_reply(f\"epoch : {epoch}\\tscore : {valid_loss:.4f}\")\n",
    "\n",
    "    save_model(model, cfg, path_last, loss=valid_loss)\n",
    "    wandb.config.update({\"last_loss\": valid_loss, \"best_loss\": best_loss})\n",
    "\n",
    "    slacknotify.send_reply(f\"{cfg.exp_name}_fold{fold} training finished\\nbest loss : {best_loss:.4f} last loss : {loss_:.4f}\", True)\n",
    "\n",
    "    if wandb.run:\n",
    "        wandb.finish()"
   ]
  },
  {
   "cell_type": "code",
   "execution_count": 6,
   "metadata": {},
   "outputs": [
    {
     "name": "stdout",
     "output_type": "stream",
     "text": [
      "fold_0\n",
      "model_name Unet\n",
      "backbone se_resnext50_32x4d\n"
     ]
    },
    {
     "name": "stderr",
     "output_type": "stream",
     "text": [
      "100%|██████████| 2278/2278 [08:23<00:00,  4.53it/s]\n",
      "100%|██████████| 1302/1302 [07:39<00:00,  2.83it/s]\n",
      "100%|██████████| 911/911 [07:21<00:00,  2.06it/s]\n"
     ]
    },
    {
     "name": "stdout",
     "output_type": "stream",
     "text": [
      "(0.79, 0.7662)\n",
      "fold_1\n"
     ]
    },
    {
     "ename": "FileNotFoundError",
     "evalue": "[Errno 2] No such file or directory: './exp009/exp009_best_fold1.pth'",
     "output_type": "error",
     "traceback": [
      "\u001b[0;31m---------------------------------------------------------------------------\u001b[0m",
      "\u001b[0;31mFileNotFoundError\u001b[0m                         Traceback (most recent call last)",
      "Cell \u001b[0;32mIn[6], line 7\u001b[0m\n\u001b[1;32m      5\u001b[0m valid_kidney \u001b[38;5;241m=\u001b[39m fold_dict[\u001b[38;5;124mf\u001b[39m\u001b[38;5;124m\"\u001b[39m\u001b[38;5;124mfold\u001b[39m\u001b[38;5;132;01m{\u001b[39;00mfold\u001b[38;5;132;01m}\u001b[39;00m\u001b[38;5;124m\"\u001b[39m][\u001b[38;5;124m\"\u001b[39m\u001b[38;5;124mvalid\u001b[39m\u001b[38;5;124m\"\u001b[39m][\u001b[38;5;241m0\u001b[39m]\n\u001b[1;32m      6\u001b[0m path_best \u001b[38;5;241m=\u001b[39m \u001b[38;5;124mf\u001b[39m\u001b[38;5;124m\"\u001b[39m\u001b[38;5;124m./\u001b[39m\u001b[38;5;132;01m{\u001b[39;00mcfg\u001b[38;5;241m.\u001b[39mexp_name\u001b[38;5;132;01m}\u001b[39;00m\u001b[38;5;124m/\u001b[39m\u001b[38;5;132;01m{\u001b[39;00mcfg\u001b[38;5;241m.\u001b[39mexp_name\u001b[38;5;132;01m}\u001b[39;00m\u001b[38;5;124m_best_fold\u001b[39m\u001b[38;5;132;01m{\u001b[39;00mfold\u001b[38;5;132;01m}\u001b[39;00m\u001b[38;5;124m.pth\u001b[39m\u001b[38;5;124m\"\u001b[39m\n\u001b[0;32m----> 7\u001b[0m model \u001b[38;5;241m=\u001b[39m \u001b[43mload_inference_model\u001b[49m\u001b[43m(\u001b[49m\u001b[43mpath_best\u001b[49m\u001b[43m,\u001b[49m\u001b[43m \u001b[49m\u001b[43mcfg\u001b[49m\u001b[43m)\u001b[49m\n\u001b[1;32m      9\u001b[0m stack_path \u001b[38;5;241m=\u001b[39m \u001b[38;5;124mf\u001b[39m\u001b[38;5;124m\"\u001b[39m\u001b[38;5;124m/kaggle/working/dataset/stack_train01/\u001b[39m\u001b[38;5;132;01m{\u001b[39;00mvalid_kidney\u001b[38;5;132;01m}\u001b[39;00m\u001b[38;5;124m_images.npy\u001b[39m\u001b[38;5;124m\"\u001b[39m\n\u001b[1;32m     10\u001b[0m label_path \u001b[38;5;241m=\u001b[39m \u001b[38;5;124mf\u001b[39m\u001b[38;5;124m\"\u001b[39m\u001b[38;5;124m/kaggle/working/dataset/stack_train01/\u001b[39m\u001b[38;5;132;01m{\u001b[39;00mvalid_kidney\u001b[38;5;132;01m}\u001b[39;00m\u001b[38;5;124m_labels.npy\u001b[39m\u001b[38;5;124m\"\u001b[39m\n",
      "File \u001b[0;32m/kaggle/src/model/model.py:89\u001b[0m, in \u001b[0;36mload_inference_model\u001b[0;34m(model_path, cfg)\u001b[0m\n\u001b[1;32m     88\u001b[0m \u001b[38;5;28;01mdef\u001b[39;00m \u001b[38;5;21mload_inference_model\u001b[39m(model_path, cfg):\n\u001b[0;32m---> 89\u001b[0m     pth \u001b[38;5;241m=\u001b[39m \u001b[43mtorch\u001b[49m\u001b[38;5;241;43m.\u001b[39;49m\u001b[43mload\u001b[49m\u001b[43m(\u001b[49m\u001b[43mmodel_path\u001b[49m\u001b[43m)\u001b[49m\n\u001b[1;32m     91\u001b[0m     \u001b[38;5;28mprint\u001b[39m(\u001b[38;5;124m\"\u001b[39m\u001b[38;5;124mmodel_name\u001b[39m\u001b[38;5;124m\"\u001b[39m, pth[\u001b[38;5;124m\"\u001b[39m\u001b[38;5;124mmodel_arch\u001b[39m\u001b[38;5;124m\"\u001b[39m])\n\u001b[1;32m     92\u001b[0m     \u001b[38;5;28mprint\u001b[39m(\u001b[38;5;124m\"\u001b[39m\u001b[38;5;124mbackbone\u001b[39m\u001b[38;5;124m\"\u001b[39m, pth[\u001b[38;5;124m\"\u001b[39m\u001b[38;5;124mbackbone\u001b[39m\u001b[38;5;124m\"\u001b[39m])\n",
      "File \u001b[0;32m/usr/local/lib/python3.10/dist-packages/torch/serialization.py:986\u001b[0m, in \u001b[0;36mload\u001b[0;34m(f, map_location, pickle_module, weights_only, mmap, **pickle_load_args)\u001b[0m\n\u001b[1;32m    983\u001b[0m \u001b[38;5;28;01mif\u001b[39;00m \u001b[38;5;124m'\u001b[39m\u001b[38;5;124mencoding\u001b[39m\u001b[38;5;124m'\u001b[39m \u001b[38;5;129;01mnot\u001b[39;00m \u001b[38;5;129;01min\u001b[39;00m pickle_load_args\u001b[38;5;241m.\u001b[39mkeys():\n\u001b[1;32m    984\u001b[0m     pickle_load_args[\u001b[38;5;124m'\u001b[39m\u001b[38;5;124mencoding\u001b[39m\u001b[38;5;124m'\u001b[39m] \u001b[38;5;241m=\u001b[39m \u001b[38;5;124m'\u001b[39m\u001b[38;5;124mutf-8\u001b[39m\u001b[38;5;124m'\u001b[39m\n\u001b[0;32m--> 986\u001b[0m \u001b[38;5;28;01mwith\u001b[39;00m \u001b[43m_open_file_like\u001b[49m\u001b[43m(\u001b[49m\u001b[43mf\u001b[49m\u001b[43m,\u001b[49m\u001b[43m \u001b[49m\u001b[38;5;124;43m'\u001b[39;49m\u001b[38;5;124;43mrb\u001b[39;49m\u001b[38;5;124;43m'\u001b[39;49m\u001b[43m)\u001b[49m \u001b[38;5;28;01mas\u001b[39;00m opened_file:\n\u001b[1;32m    987\u001b[0m     \u001b[38;5;28;01mif\u001b[39;00m _is_zipfile(opened_file):\n\u001b[1;32m    988\u001b[0m         \u001b[38;5;66;03m# The zipfile reader is going to advance the current file position.\u001b[39;00m\n\u001b[1;32m    989\u001b[0m         \u001b[38;5;66;03m# If we want to actually tail call to torch.jit.load, we need to\u001b[39;00m\n\u001b[1;32m    990\u001b[0m         \u001b[38;5;66;03m# reset back to the original position.\u001b[39;00m\n\u001b[1;32m    991\u001b[0m         orig_position \u001b[38;5;241m=\u001b[39m opened_file\u001b[38;5;241m.\u001b[39mtell()\n",
      "File \u001b[0;32m/usr/local/lib/python3.10/dist-packages/torch/serialization.py:435\u001b[0m, in \u001b[0;36m_open_file_like\u001b[0;34m(name_or_buffer, mode)\u001b[0m\n\u001b[1;32m    433\u001b[0m \u001b[38;5;28;01mdef\u001b[39;00m \u001b[38;5;21m_open_file_like\u001b[39m(name_or_buffer, mode):\n\u001b[1;32m    434\u001b[0m     \u001b[38;5;28;01mif\u001b[39;00m _is_path(name_or_buffer):\n\u001b[0;32m--> 435\u001b[0m         \u001b[38;5;28;01mreturn\u001b[39;00m \u001b[43m_open_file\u001b[49m\u001b[43m(\u001b[49m\u001b[43mname_or_buffer\u001b[49m\u001b[43m,\u001b[49m\u001b[43m \u001b[49m\u001b[43mmode\u001b[49m\u001b[43m)\u001b[49m\n\u001b[1;32m    436\u001b[0m     \u001b[38;5;28;01melse\u001b[39;00m:\n\u001b[1;32m    437\u001b[0m         \u001b[38;5;28;01mif\u001b[39;00m \u001b[38;5;124m'\u001b[39m\u001b[38;5;124mw\u001b[39m\u001b[38;5;124m'\u001b[39m \u001b[38;5;129;01min\u001b[39;00m mode:\n",
      "File \u001b[0;32m/usr/local/lib/python3.10/dist-packages/torch/serialization.py:416\u001b[0m, in \u001b[0;36m_open_file.__init__\u001b[0;34m(self, name, mode)\u001b[0m\n\u001b[1;32m    415\u001b[0m \u001b[38;5;28;01mdef\u001b[39;00m \u001b[38;5;21m__init__\u001b[39m(\u001b[38;5;28mself\u001b[39m, name, mode):\n\u001b[0;32m--> 416\u001b[0m     \u001b[38;5;28msuper\u001b[39m()\u001b[38;5;241m.\u001b[39m\u001b[38;5;21m__init__\u001b[39m(\u001b[38;5;28;43mopen\u001b[39;49m\u001b[43m(\u001b[49m\u001b[43mname\u001b[49m\u001b[43m,\u001b[49m\u001b[43m \u001b[49m\u001b[43mmode\u001b[49m\u001b[43m)\u001b[49m)\n",
      "\u001b[0;31mFileNotFoundError\u001b[0m: [Errno 2] No such file or directory: './exp009/exp009_best_fold1.pth'"
     ]
    }
   ],
   "source": [
    "fold_dict = json.load(open(\"/kaggle/src/dataset/fold.json\", \"r\"))\n",
    "\n",
    "for fold in range(2):\n",
    "    print(f\"fold_{fold}\")\n",
    "    valid_kidney = fold_dict[f\"fold{fold}\"][\"valid\"][0]\n",
    "    path_best = f\"./{cfg.exp_name}/{cfg.exp_name}_best_fold{fold}.pth\"\n",
    "    model = load_inference_model(path_best, cfg)\n",
    "\n",
    "    stack_path = f\"/kaggle/working/dataset/stack_train01/{valid_kidney}_images.npy\"\n",
    "    label_path = f\"/kaggle/working/dataset/stack_train01/{valid_kidney}_labels.npy\"\n",
    "    save_path = \"./preds\"\n",
    "    preds_path = f\"{save_path}/{valid_kidney}_preds.npy\"\n",
    "    inference(model, stack_path, save_path, cfg)\n",
    "\n",
    "    label = np.load(label_path)\n",
    "    preds = np.load(preds_path)\n",
    "    thresh_score_dict = {}\n",
    "\n",
    "    for thresh in np.arange(0.1, 0.99, 0.1):\n",
    "        thresh = round(thresh, 5)\n",
    "        thresh_score_dict[thresh] = compute_surface_dice_score_from_volume(ne.evaluate(\"preds > thresh\"), label)\n",
    "\n",
    "    max_score_thresh = max(thresh_score_dict, key=thresh_score_dict.get)\n",
    "\n",
    "    for thresh in np.arange(max_score_thresh - 0.1, max_score_thresh + 0.1, 0.01):\n",
    "        thresh = round(thresh, 5)\n",
    "        thresh_score_dict[thresh] = compute_surface_dice_score_from_volume(ne.evaluate(\"preds > thresh\"), label)\n",
    "\n",
    "    print(max(thresh_score_dict.items(), key=lambda x: x[1]))"
   ]
  },
  {
   "cell_type": "code",
   "execution_count": null,
   "metadata": {},
   "outputs": [],
   "source": []
  },
  {
   "cell_type": "code",
   "execution_count": null,
   "metadata": {},
   "outputs": [],
   "source": []
  }
 ],
 "metadata": {
  "kaggle": {
   "accelerator": "nvidiaTeslaT4",
   "dataSources": [
    {
     "databundleVersionId": 6962461,
     "sourceId": 61446,
     "sourceType": "competition"
    },
    {
     "datasetId": 1074109,
     "sourceId": 1807973,
     "sourceType": "datasetVersion"
    },
    {
     "sourceId": 150248402,
     "sourceType": "kernelVersion"
    }
   ],
   "dockerImageVersionId": 30587,
   "isGpuEnabled": true,
   "isInternetEnabled": true,
   "language": "python",
   "sourceType": "notebook"
  },
  "kernelspec": {
   "display_name": "Python 3",
   "language": "python",
   "name": "python3"
  },
  "language_info": {
   "codemirror_mode": {
    "name": "ipython",
    "version": 3
   },
   "file_extension": ".py",
   "mimetype": "text/x-python",
   "name": "python",
   "nbconvert_exporter": "python",
   "pygments_lexer": "ipython3",
   "version": "3.10.13"
  }
 },
 "nbformat": 4,
 "nbformat_minor": 4
}
