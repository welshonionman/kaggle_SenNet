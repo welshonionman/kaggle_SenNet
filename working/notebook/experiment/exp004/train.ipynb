{
 "cells": [
  {
   "cell_type": "code",
   "execution_count": 1,
   "metadata": {
    "_cell_guid": "b1076dfc-b9ad-4769-8c92-a6c4dae69d19",
    "_kg_hide-input": true,
    "_kg_hide-output": true,
    "_uuid": "8f2839f25d086af736a60e9eeb907d3b93b6e0e5",
    "execution": {
     "iopub.execute_input": "2024-01-07T18:34:11.426388Z",
     "iopub.status.busy": "2024-01-07T18:34:11.426225Z",
     "iopub.status.idle": "2024-01-07T18:34:14.499879Z",
     "shell.execute_reply": "2024-01-07T18:34:14.499299Z"
    }
   },
   "outputs": [],
   "source": [
    "import json\n",
    "import pandas as pd\n",
    "import numpy as np\n",
    "import numexpr as ne\n",
    "import os\n",
    "import albumentations as A\n",
    "from albumentations.pytorch import ToTensorV2\n",
    "import wandb\n",
    "from dotenv import load_dotenv\n",
    "from tqdm import tqdm\n",
    "import torch\n",
    "import torch.cuda.amp as amp\n",
    "\n",
    "from src.model.model import save_model, load_inference_model\n",
    "from src.dataset.df import df_dataset, check_dataset\n",
    "from src.utils.common import set_seed\n",
    "\n",
    "from src.experiment.inference import inference\n",
    "from src.experiment.initialize import init_dataset, init_model, init_exp\n",
    "from src.utils.metrics import compute_surface_dice_score_from_volume"
   ]
  },
  {
   "cell_type": "code",
   "execution_count": 5,
   "metadata": {
    "execution": {
     "iopub.execute_input": "2024-01-07T18:34:14.502409Z",
     "iopub.status.busy": "2024-01-07T18:34:14.502028Z",
     "iopub.status.idle": "2024-01-07T18:34:14.512853Z",
     "shell.execute_reply": "2024-01-07T18:34:14.512384Z"
    }
   },
   "outputs": [],
   "source": [
    "class cfg:\n",
    "    debug = False\n",
    "    check_dataset = False\n",
    "\n",
    "    # = data CFG ====================================================\n",
    "\n",
    "    dataset_path = \"/kaggle/working/dataset/cropped_xy_256_128_z_5_5/\"\n",
    "    dataset = \"base2d\"\n",
    "    negative_sample_rate = 0.5\n",
    "    # = experiment CFG =================================================\n",
    "\n",
    "    project = \"SenNet\"\n",
    "    exp_name = os.path.basename(os.getcwd())\n",
    "    notes = \"negative_sample=0.5\"\n",
    "\n",
    "    # = model CFG ======================================================\n",
    "\n",
    "    model_arch = \"Unet\"\n",
    "    backbone = \"se_resnext50_32x4d\"\n",
    "    in_chans = 5\n",
    "    target_size = 5\n",
    "\n",
    "    # = training CFG ===================================================\n",
    "\n",
    "    epochs = 20\n",
    "\n",
    "    train_batch_size = 64\n",
    "    valid_batch_size = train_batch_size\n",
    "\n",
    "    loss = \"DiceLoss\"\n",
    "    metrics = \"Dice\"\n",
    "    lr = 5e-4\n",
    "    num_workers = 12\n",
    "\n",
    "    # = augmentation ===================================================\n",
    "\n",
    "    image_size = 256\n",
    "    train_aug = [\n",
    "        A.RandomRotate90(p=0.5),\n",
    "        A.RandomGamma(p=0.5),\n",
    "        A.RandomBrightnessContrast(p=0.5),\n",
    "        A.RandomResizedCrop(image_size, image_size, scale=(0.8, 1)),\n",
    "        A.ShiftScaleRotate(p=0.5),\n",
    "        A.GridDistortion(num_steps=5, distort_limit=0.3, p=0.5),\n",
    "        ToTensorV2(transpose_mask=True),\n",
    "    ]\n",
    "\n",
    "    valid_aug = [\n",
    "        ToTensorV2(transpose_mask=True),\n",
    "    ]\n",
    "    # =============== inference ========================================\n",
    "\n",
    "    test_dataset = \"BaseInferenceDataset\"\n",
    "    stride = image_size // 2\n",
    "    drop_egde_pixel = 32\n",
    "\n",
    "\n",
    "load_dotenv(\"/kaggle/key.env\")\n",
    "set_seed()"
   ]
  },
  {
   "cell_type": "code",
   "execution_count": 3,
   "metadata": {
    "execution": {
     "iopub.execute_input": "2024-01-07T18:34:14.514764Z",
     "iopub.status.busy": "2024-01-07T18:34:14.514528Z",
     "iopub.status.idle": "2024-01-07T18:34:23.133746Z",
     "shell.execute_reply": "2024-01-07T18:34:23.133059Z"
    }
   },
   "outputs": [
    {
     "name": "stderr",
     "output_type": "stream",
     "text": [
      "/tmp/ipykernel_19432/4046888049.py:10: DtypeWarning: Columns (10) have mixed types. Specify dtype option on import or set low_memory=False.\n",
      "  df = pd.read_csv(f\"{cfg.dataset_path}/dataset.csv\")\n"
     ]
    },
    {
     "data": {
      "text/html": [
       "<div>\n",
       "<style scoped>\n",
       "    .dataframe tbody tr th:only-of-type {\n",
       "        vertical-align: middle;\n",
       "    }\n",
       "\n",
       "    .dataframe tbody tr th {\n",
       "        vertical-align: top;\n",
       "    }\n",
       "\n",
       "    .dataframe thead th {\n",
       "        text-align: right;\n",
       "    }\n",
       "</style>\n",
       "<table border=\"1\" class=\"dataframe\">\n",
       "  <thead>\n",
       "    <tr style=\"text-align: right;\">\n",
       "      <th></th>\n",
       "      <th>image_path</th>\n",
       "      <th>label_path</th>\n",
       "      <th>fname</th>\n",
       "      <th>kidney</th>\n",
       "      <th>x</th>\n",
       "      <th>y</th>\n",
       "      <th>z</th>\n",
       "      <th>std</th>\n",
       "      <th>sum</th>\n",
       "      <th>fold0</th>\n",
       "      <th>fold1</th>\n",
       "    </tr>\n",
       "  </thead>\n",
       "  <tbody>\n",
       "    <tr>\n",
       "      <th>0</th>\n",
       "      <td>/kaggle/working/dataset/cropped_xy_256_128_z_5...</td>\n",
       "      <td>/kaggle/working/dataset/cropped_xy_256_128_z_5...</td>\n",
       "      <td>x0_y0_z0_std0039_sum0</td>\n",
       "      <td>kidney_1_dense</td>\n",
       "      <td>0</td>\n",
       "      <td>0</td>\n",
       "      <td>0</td>\n",
       "      <td>39</td>\n",
       "      <td>0</td>\n",
       "      <td>valid</td>\n",
       "      <td>train</td>\n",
       "    </tr>\n",
       "    <tr>\n",
       "      <th>1</th>\n",
       "      <td>/kaggle/working/dataset/cropped_xy_256_128_z_5...</td>\n",
       "      <td>/kaggle/working/dataset/cropped_xy_256_128_z_5...</td>\n",
       "      <td>x0_y0_z100_std0036_sum0</td>\n",
       "      <td>kidney_1_dense</td>\n",
       "      <td>0</td>\n",
       "      <td>0</td>\n",
       "      <td>100</td>\n",
       "      <td>36</td>\n",
       "      <td>0</td>\n",
       "      <td>valid</td>\n",
       "      <td>train</td>\n",
       "    </tr>\n",
       "    <tr>\n",
       "      <th>2</th>\n",
       "      <td>/kaggle/working/dataset/cropped_xy_256_128_z_5...</td>\n",
       "      <td>/kaggle/working/dataset/cropped_xy_256_128_z_5...</td>\n",
       "      <td>x0_y0_z105_std0035_sum0</td>\n",
       "      <td>kidney_1_dense</td>\n",
       "      <td>0</td>\n",
       "      <td>0</td>\n",
       "      <td>105</td>\n",
       "      <td>35</td>\n",
       "      <td>0</td>\n",
       "      <td>valid</td>\n",
       "      <td>train</td>\n",
       "    </tr>\n",
       "    <tr>\n",
       "      <th>3</th>\n",
       "      <td>/kaggle/working/dataset/cropped_xy_256_128_z_5...</td>\n",
       "      <td>/kaggle/working/dataset/cropped_xy_256_128_z_5...</td>\n",
       "      <td>x0_y0_z10_std0039_sum0</td>\n",
       "      <td>kidney_1_dense</td>\n",
       "      <td>0</td>\n",
       "      <td>0</td>\n",
       "      <td>10</td>\n",
       "      <td>39</td>\n",
       "      <td>0</td>\n",
       "      <td>valid</td>\n",
       "      <td>train</td>\n",
       "    </tr>\n",
       "    <tr>\n",
       "      <th>4</th>\n",
       "      <td>/kaggle/working/dataset/cropped_xy_256_128_z_5...</td>\n",
       "      <td>/kaggle/working/dataset/cropped_xy_256_128_z_5...</td>\n",
       "      <td>x0_y0_z110_std0035_sum0</td>\n",
       "      <td>kidney_1_dense</td>\n",
       "      <td>0</td>\n",
       "      <td>0</td>\n",
       "      <td>110</td>\n",
       "      <td>35</td>\n",
       "      <td>0</td>\n",
       "      <td>valid</td>\n",
       "      <td>train</td>\n",
       "    </tr>\n",
       "    <tr>\n",
       "      <th>...</th>\n",
       "      <td>...</td>\n",
       "      <td>...</td>\n",
       "      <td>...</td>\n",
       "      <td>...</td>\n",
       "      <td>...</td>\n",
       "      <td>...</td>\n",
       "      <td>...</td>\n",
       "      <td>...</td>\n",
       "      <td>...</td>\n",
       "      <td>...</td>\n",
       "      <td>...</td>\n",
       "    </tr>\n",
       "    <tr>\n",
       "      <th>229335</th>\n",
       "      <td>/kaggle/working/dataset/cropped_xy_256_128_z_5...</td>\n",
       "      <td>/kaggle/working/dataset/cropped_xy_256_128_z_5...</td>\n",
       "      <td>x896_y256_z975_std0257_sum899</td>\n",
       "      <td>kidney_3_sparse</td>\n",
       "      <td>896</td>\n",
       "      <td>256</td>\n",
       "      <td>975</td>\n",
       "      <td>257</td>\n",
       "      <td>899</td>\n",
       "      <td>train</td>\n",
       "      <td>NaN</td>\n",
       "    </tr>\n",
       "    <tr>\n",
       "      <th>229336</th>\n",
       "      <td>/kaggle/working/dataset/cropped_xy_256_128_z_5...</td>\n",
       "      <td>/kaggle/working/dataset/cropped_xy_256_128_z_5...</td>\n",
       "      <td>x896_y256_z980_std0259_sum3087</td>\n",
       "      <td>kidney_3_sparse</td>\n",
       "      <td>896</td>\n",
       "      <td>256</td>\n",
       "      <td>980</td>\n",
       "      <td>259</td>\n",
       "      <td>3087</td>\n",
       "      <td>train</td>\n",
       "      <td>NaN</td>\n",
       "    </tr>\n",
       "    <tr>\n",
       "      <th>229337</th>\n",
       "      <td>/kaggle/working/dataset/cropped_xy_256_128_z_5...</td>\n",
       "      <td>/kaggle/working/dataset/cropped_xy_256_128_z_5...</td>\n",
       "      <td>x896_y256_z985_std0259_sum5991</td>\n",
       "      <td>kidney_3_sparse</td>\n",
       "      <td>896</td>\n",
       "      <td>256</td>\n",
       "      <td>985</td>\n",
       "      <td>259</td>\n",
       "      <td>5991</td>\n",
       "      <td>train</td>\n",
       "      <td>NaN</td>\n",
       "    </tr>\n",
       "    <tr>\n",
       "      <th>229338</th>\n",
       "      <td>/kaggle/working/dataset/cropped_xy_256_128_z_5...</td>\n",
       "      <td>/kaggle/working/dataset/cropped_xy_256_128_z_5...</td>\n",
       "      <td>x896_y256_z990_std0262_sum7311</td>\n",
       "      <td>kidney_3_sparse</td>\n",
       "      <td>896</td>\n",
       "      <td>256</td>\n",
       "      <td>990</td>\n",
       "      <td>262</td>\n",
       "      <td>7311</td>\n",
       "      <td>train</td>\n",
       "      <td>NaN</td>\n",
       "    </tr>\n",
       "    <tr>\n",
       "      <th>229339</th>\n",
       "      <td>/kaggle/working/dataset/cropped_xy_256_128_z_5...</td>\n",
       "      <td>/kaggle/working/dataset/cropped_xy_256_128_z_5...</td>\n",
       "      <td>x896_y256_z995_std0264_sum8657</td>\n",
       "      <td>kidney_3_sparse</td>\n",
       "      <td>896</td>\n",
       "      <td>256</td>\n",
       "      <td>995</td>\n",
       "      <td>264</td>\n",
       "      <td>8657</td>\n",
       "      <td>train</td>\n",
       "      <td>NaN</td>\n",
       "    </tr>\n",
       "  </tbody>\n",
       "</table>\n",
       "<p>229340 rows × 11 columns</p>\n",
       "</div>"
      ],
      "text/plain": [
       "                                               image_path  \\\n",
       "0       /kaggle/working/dataset/cropped_xy_256_128_z_5...   \n",
       "1       /kaggle/working/dataset/cropped_xy_256_128_z_5...   \n",
       "2       /kaggle/working/dataset/cropped_xy_256_128_z_5...   \n",
       "3       /kaggle/working/dataset/cropped_xy_256_128_z_5...   \n",
       "4       /kaggle/working/dataset/cropped_xy_256_128_z_5...   \n",
       "...                                                   ...   \n",
       "229335  /kaggle/working/dataset/cropped_xy_256_128_z_5...   \n",
       "229336  /kaggle/working/dataset/cropped_xy_256_128_z_5...   \n",
       "229337  /kaggle/working/dataset/cropped_xy_256_128_z_5...   \n",
       "229338  /kaggle/working/dataset/cropped_xy_256_128_z_5...   \n",
       "229339  /kaggle/working/dataset/cropped_xy_256_128_z_5...   \n",
       "\n",
       "                                               label_path  \\\n",
       "0       /kaggle/working/dataset/cropped_xy_256_128_z_5...   \n",
       "1       /kaggle/working/dataset/cropped_xy_256_128_z_5...   \n",
       "2       /kaggle/working/dataset/cropped_xy_256_128_z_5...   \n",
       "3       /kaggle/working/dataset/cropped_xy_256_128_z_5...   \n",
       "4       /kaggle/working/dataset/cropped_xy_256_128_z_5...   \n",
       "...                                                   ...   \n",
       "229335  /kaggle/working/dataset/cropped_xy_256_128_z_5...   \n",
       "229336  /kaggle/working/dataset/cropped_xy_256_128_z_5...   \n",
       "229337  /kaggle/working/dataset/cropped_xy_256_128_z_5...   \n",
       "229338  /kaggle/working/dataset/cropped_xy_256_128_z_5...   \n",
       "229339  /kaggle/working/dataset/cropped_xy_256_128_z_5...   \n",
       "\n",
       "                                 fname           kidney    x    y    z  std  \\\n",
       "0                x0_y0_z0_std0039_sum0   kidney_1_dense    0    0    0   39   \n",
       "1              x0_y0_z100_std0036_sum0   kidney_1_dense    0    0  100   36   \n",
       "2              x0_y0_z105_std0035_sum0   kidney_1_dense    0    0  105   35   \n",
       "3               x0_y0_z10_std0039_sum0   kidney_1_dense    0    0   10   39   \n",
       "4              x0_y0_z110_std0035_sum0   kidney_1_dense    0    0  110   35   \n",
       "...                                ...              ...  ...  ...  ...  ...   \n",
       "229335   x896_y256_z975_std0257_sum899  kidney_3_sparse  896  256  975  257   \n",
       "229336  x896_y256_z980_std0259_sum3087  kidney_3_sparse  896  256  980  259   \n",
       "229337  x896_y256_z985_std0259_sum5991  kidney_3_sparse  896  256  985  259   \n",
       "229338  x896_y256_z990_std0262_sum7311  kidney_3_sparse  896  256  990  262   \n",
       "229339  x896_y256_z995_std0264_sum8657  kidney_3_sparse  896  256  995  264   \n",
       "\n",
       "         sum  fold0  fold1  \n",
       "0          0  valid  train  \n",
       "1          0  valid  train  \n",
       "2          0  valid  train  \n",
       "3          0  valid  train  \n",
       "4          0  valid  train  \n",
       "...      ...    ...    ...  \n",
       "229335   899  train    NaN  \n",
       "229336  3087  train    NaN  \n",
       "229337  5991  train    NaN  \n",
       "229338  7311  train    NaN  \n",
       "229339  8657  train    NaN  \n",
       "\n",
       "[229340 rows x 11 columns]"
      ]
     },
     "metadata": {},
     "output_type": "display_data"
    }
   ],
   "source": [
    "def filter_dataset(df):\n",
    "    # trainのうちlabelが全くないものは90%の確率で除外\n",
    "    df[\"random\"] = np.random.rand(len(df))\n",
    "    df = df[(df[\"sum\"] > 0) | (df[\"fold0\"] == \"valid\") | (df[\"random\"] < cfg.negative_sample_rate)]\n",
    "    df = df.reset_index(drop=True)\n",
    "    df = df.drop([\"random\"], axis=1)\n",
    "    return df\n",
    "\n",
    "\n",
    "df = pd.read_csv(f\"{cfg.dataset_path}/dataset.csv\")\n",
    "df = filter_dataset(df)\n",
    "# df = df.sample(1000).reset_index(drop=True)\n",
    "if cfg.debug:\n",
    "    df = df.sample(10000).reset_index(drop=True)\n",
    "display(df)\n",
    "\n",
    "if cfg.check_dataset:\n",
    "    check_dataset(df, cfg)"
   ]
  },
  {
   "cell_type": "code",
   "execution_count": 4,
   "metadata": {
    "execution": {
     "iopub.execute_input": "2024-01-07T18:34:23.150731Z",
     "iopub.status.busy": "2024-01-07T18:34:23.150447Z",
     "iopub.status.idle": "2024-01-08T01:23:24.272968Z",
     "shell.execute_reply": "2024-01-08T01:23:24.272154Z"
    }
   },
   "outputs": [
    {
     "name": "stdout",
     "output_type": "stream",
     "text": [
      "model_arch:  Unet\n",
      "backbone:  se_resnext50_32x4d\n"
     ]
    },
    {
     "name": "stderr",
     "output_type": "stream",
     "text": [
      "\u001b[34m\u001b[1mwandb\u001b[0m: Currently logged in as: \u001b[33mwelshonionman\u001b[0m. Use \u001b[1m`wandb login --relogin`\u001b[0m to force relogin\n",
      "\u001b[34m\u001b[1mwandb\u001b[0m: Tracking run with wandb version 0.16.1\n",
      "\u001b[34m\u001b[1mwandb\u001b[0m: Run data is saved locally in \u001b[35m\u001b[1m/kaggle/wandb/run-20240107_183431-j09ven7v\u001b[0m\n",
      "\u001b[34m\u001b[1mwandb\u001b[0m: Run \u001b[1m`wandb offline`\u001b[0m to turn off syncing.\n",
      "\u001b[34m\u001b[1mwandb\u001b[0m: Syncing run \u001b[33mexp004_fold0\u001b[0m\n",
      "\u001b[34m\u001b[1mwandb\u001b[0m: ⭐️ View project at \u001b[34m\u001b[4mhttps://wandb.ai/welshonionman/SenNet\u001b[0m\n",
      "\u001b[34m\u001b[1mwandb\u001b[0m: 🚀 View run at \u001b[34m\u001b[4mhttps://wandb.ai/welshonionman/SenNet/runs/j09ven7v\u001b[0m\n",
      "Epoch 0/20  Mem : 9.7GB  LR : 5.00E-04  Loss: 0.1882: 100%|██████████| 2114/2114 [07:05<00:00,  4.97it/s]\n",
      "Val Loss: 0.4489: 100%|██████████| 1471/1471 [03:05<00:00,  7.92it/s]                                                                                                                                                                                                                                  \n"
     ]
    },
    {
     "name": "stdout",
     "output_type": "stream",
     "text": [
      "loss : 0.4489\tSAVED MODEL\n",
      "\n"
     ]
    },
    {
     "name": "stderr",
     "output_type": "stream",
     "text": [
      "Epoch 1/20  Mem : 11.5GB  LR : 5.00E-03  Loss: 0.1729: 100%|██████████| 2114/2114 [07:02<00:00,  5.00it/s]\n",
      "Val Loss: 0.3976: 100%|██████████| 1471/1471 [03:05<00:00,  7.94it/s]                                                                                                                                                                                                                                  \n"
     ]
    },
    {
     "name": "stdout",
     "output_type": "stream",
     "text": [
      "loss : 0.3976\tSAVED MODEL\n",
      "\n"
     ]
    },
    {
     "name": "stderr",
     "output_type": "stream",
     "text": [
      "Epoch 2/20  Mem : 11.5GB  LR : 5.00E-04  Loss: 0.0965: 100%|██████████| 2114/2114 [07:05<00:00,  4.97it/s]\n",
      "Val Loss: 0.4240: 100%|██████████| 1471/1471 [03:04<00:00,  7.97it/s]                                                                                                                                                                                                                                  \n"
     ]
    },
    {
     "name": "stdout",
     "output_type": "stream",
     "text": [
      "loss : 0.4240\n",
      "\n"
     ]
    },
    {
     "name": "stderr",
     "output_type": "stream",
     "text": [
      "Epoch 3/20  Mem : 11.5GB  LR : 4.97E-04  Loss: 0.0900: 100%|██████████| 2114/2114 [07:02<00:00,  5.00it/s]\n",
      "Val Loss: 0.3920: 100%|██████████| 1471/1471 [03:03<00:00,  8.01it/s]                                                                                                                                                                                                                                  \n"
     ]
    },
    {
     "name": "stdout",
     "output_type": "stream",
     "text": [
      "loss : 0.3920\tSAVED MODEL\n",
      "\n"
     ]
    },
    {
     "name": "stderr",
     "output_type": "stream",
     "text": [
      "Epoch 4/20  Mem : 11.5GB  LR : 4.88E-04  Loss: 0.0860: 100%|██████████| 2114/2114 [07:00<00:00,  5.03it/s]\n",
      "Val Loss: 0.4809: 100%|██████████| 1471/1471 [03:03<00:00,  8.02it/s]                                                                                                                                                                                                                                  \n"
     ]
    },
    {
     "name": "stdout",
     "output_type": "stream",
     "text": [
      "loss : 0.4809\n",
      "\n"
     ]
    },
    {
     "name": "stderr",
     "output_type": "stream",
     "text": [
      "Epoch 5/20  Mem : 11.5GB  LR : 4.73E-04  Loss: 0.0839: 100%|██████████| 2114/2114 [07:01<00:00,  5.01it/s]\n",
      "Val Loss: 0.3807: 100%|██████████| 1471/1471 [03:03<00:00,  8.01it/s]                                                                                                                                                                                                                                  \n"
     ]
    },
    {
     "name": "stdout",
     "output_type": "stream",
     "text": [
      "loss : 0.3807\tSAVED MODEL\n",
      "\n"
     ]
    },
    {
     "name": "stderr",
     "output_type": "stream",
     "text": [
      "Epoch 6/20  Mem : 11.5GB  LR : 4.52E-04  Loss: 0.0807: 100%|██████████| 2114/2114 [07:00<00:00,  5.02it/s]\n",
      "Val Loss: 0.3991: 100%|██████████| 1471/1471 [03:02<00:00,  8.06it/s]                                                                                                                                                                                                                                  \n"
     ]
    },
    {
     "name": "stdout",
     "output_type": "stream",
     "text": [
      "loss : 0.3991\n",
      "\n"
     ]
    },
    {
     "name": "stderr",
     "output_type": "stream",
     "text": [
      "Epoch 7/20  Mem : 11.5GB  LR : 4.27E-04  Loss: 0.0799: 100%|██████████| 2114/2114 [06:59<00:00,  5.04it/s]\n",
      "Val Loss: 0.3324: 100%|██████████| 1471/1471 [03:01<00:00,  8.10it/s]                                                                                                                                                                                                                                  \n"
     ]
    },
    {
     "name": "stdout",
     "output_type": "stream",
     "text": [
      "loss : 0.3324\tSAVED MODEL\n",
      "\n"
     ]
    },
    {
     "name": "stderr",
     "output_type": "stream",
     "text": [
      "Epoch 8/20  Mem : 11.5GB  LR : 3.97E-04  Loss: 0.0782: 100%|██████████| 2114/2114 [07:02<00:00,  5.00it/s]\n",
      "Val Loss: 0.3555: 100%|██████████| 1471/1471 [03:04<00:00,  7.98it/s]                                                                                                                                                                                                                                  \n"
     ]
    },
    {
     "name": "stdout",
     "output_type": "stream",
     "text": [
      "loss : 0.3555\n",
      "\n"
     ]
    },
    {
     "name": "stderr",
     "output_type": "stream",
     "text": [
      "Epoch 9/20  Mem : 11.5GB  LR : 3.64E-04  Loss: 0.0771: 100%|██████████| 2114/2114 [07:01<00:00,  5.02it/s]\n",
      "Val Loss: 0.3130: 100%|██████████| 1471/1471 [03:04<00:00,  7.96it/s]                                                                                                                                                                                                                                  \n"
     ]
    },
    {
     "name": "stdout",
     "output_type": "stream",
     "text": [
      "loss : 0.3130\tSAVED MODEL\n",
      "\n"
     ]
    },
    {
     "name": "stderr",
     "output_type": "stream",
     "text": [
      "Epoch 10/20  Mem : 11.5GB  LR : 3.27E-04  Loss: 0.0764: 100%|██████████| 2114/2114 [07:02<00:00,  5.01it/s]\n",
      "Val Loss: 0.2970: 100%|██████████| 1471/1471 [03:05<00:00,  7.95it/s]                                                                                                                                                                                                                                  \n"
     ]
    },
    {
     "name": "stdout",
     "output_type": "stream",
     "text": [
      "loss : 0.2970\tSAVED MODEL\n",
      "\n"
     ]
    },
    {
     "name": "stderr",
     "output_type": "stream",
     "text": [
      "Epoch 11/20  Mem : 11.5GB  LR : 2.89E-04  Loss: 0.0766: 100%|██████████| 2114/2114 [07:03<00:00,  4.99it/s]\n",
      "Val Loss: 0.3171: 100%|██████████| 1471/1471 [03:04<00:00,  7.96it/s]                                                                                                                                                                                                                                  \n"
     ]
    },
    {
     "name": "stdout",
     "output_type": "stream",
     "text": [
      "loss : 0.3171\n",
      "\n"
     ]
    },
    {
     "name": "stderr",
     "output_type": "stream",
     "text": [
      "Epoch 12/20  Mem : 11.5GB  LR : 2.50E-04  Loss: 0.0754: 100%|██████████| 2114/2114 [07:03<00:00,  4.99it/s]\n",
      "Val Loss: 0.3119: 100%|██████████| 1471/1471 [03:04<00:00,  7.99it/s]                                                                                                                                                                                                                                  \n"
     ]
    },
    {
     "name": "stdout",
     "output_type": "stream",
     "text": [
      "loss : 0.3119\n",
      "\n"
     ]
    },
    {
     "name": "stderr",
     "output_type": "stream",
     "text": [
      "Epoch 13/20  Mem : 11.5GB  LR : 2.11E-04  Loss: 0.0746: 100%|██████████| 2114/2114 [07:02<00:00,  5.00it/s]\n",
      "Val Loss: 0.3465: 100%|██████████| 1471/1471 [03:03<00:00,  8.03it/s]                                                                                                                                                                                                                                  \n"
     ]
    },
    {
     "name": "stdout",
     "output_type": "stream",
     "text": [
      "loss : 0.3465\n",
      "\n"
     ]
    },
    {
     "name": "stderr",
     "output_type": "stream",
     "text": [
      "Epoch 14/20  Mem : 11.5GB  LR : 1.73E-04  Loss: 0.0733: 100%|██████████| 2114/2114 [07:00<00:00,  5.02it/s]\n",
      "Val Loss: 0.3246: 100%|██████████| 1471/1471 [03:03<00:00,  8.01it/s]                                                                                                                                                                                                                                  \n"
     ]
    },
    {
     "name": "stdout",
     "output_type": "stream",
     "text": [
      "loss : 0.3246\n",
      "\n"
     ]
    },
    {
     "name": "stderr",
     "output_type": "stream",
     "text": [
      "Epoch 15/20  Mem : 11.5GB  LR : 1.37E-04  Loss: 0.0730: 100%|██████████| 2114/2114 [07:01<00:00,  5.02it/s]\n",
      "Val Loss: 0.3144: 100%|██████████| 1471/1471 [03:02<00:00,  8.04it/s]                                                                                                                                                                                                                                  \n"
     ]
    },
    {
     "name": "stdout",
     "output_type": "stream",
     "text": [
      "loss : 0.3144\n",
      "\n"
     ]
    },
    {
     "name": "stderr",
     "output_type": "stream",
     "text": [
      "Epoch 16/20  Mem : 11.5GB  LR : 1.03E-04  Loss: 0.0729: 100%|██████████| 2114/2114 [06:59<00:00,  5.04it/s]\n",
      "Val Loss: 0.2886: 100%|██████████| 1471/1471 [03:04<00:00,  7.97it/s]                                                                                                                                                                                                                                  \n"
     ]
    },
    {
     "name": "stdout",
     "output_type": "stream",
     "text": [
      "loss : 0.2886\tSAVED MODEL\n",
      "\n"
     ]
    },
    {
     "name": "stderr",
     "output_type": "stream",
     "text": [
      "Epoch 17/20  Mem : 11.5GB  LR : 7.33E-05  Loss: 0.0718: 100%|██████████| 2114/2114 [07:01<00:00,  5.02it/s]\n",
      "Val Loss: 0.2871: 100%|██████████| 1471/1471 [03:03<00:00,  8.02it/s]                                                                                                                                                                                                                                  \n"
     ]
    },
    {
     "name": "stdout",
     "output_type": "stream",
     "text": [
      "loss : 0.2871\tSAVED MODEL\n",
      "\n"
     ]
    },
    {
     "name": "stderr",
     "output_type": "stream",
     "text": [
      "Epoch 18/20  Mem : 11.5GB  LR : 4.78E-05  Loss: 0.0718: 100%|██████████| 2114/2114 [07:01<00:00,  5.02it/s]\n",
      "Val Loss: 0.2939: 100%|██████████| 1471/1471 [03:04<00:00,  7.99it/s]                                                                                                                                                                                                                                  \n"
     ]
    },
    {
     "name": "stdout",
     "output_type": "stream",
     "text": [
      "loss : 0.2939\n",
      "\n"
     ]
    },
    {
     "name": "stderr",
     "output_type": "stream",
     "text": [
      "Epoch 19/20  Mem : 11.5GB  LR : 2.73E-05  Loss: 0.0719: 100%|██████████| 2114/2114 [06:59<00:00,  5.04it/s]\n",
      "Val Loss: 0.3034: 100%|██████████| 1471/1471 [03:03<00:00,  8.02it/s]                                                                                                                                                                                                                                  \n"
     ]
    },
    {
     "name": "stdout",
     "output_type": "stream",
     "text": [
      "loss : 0.3034\n",
      "\n"
     ]
    },
    {
     "name": "stderr",
     "output_type": "stream",
     "text": [
      "wandb: WARNING No program path found, not creating job artifact. See https://docs.wandb.ai/guides/launch/create-job\n",
      "\u001b[34m\u001b[1mwandb\u001b[0m:                                                                                \n",
      "\u001b[34m\u001b[1mwandb\u001b[0m: \n",
      "\u001b[34m\u001b[1mwandb\u001b[0m: Run history:\n",
      "\u001b[34m\u001b[1mwandb\u001b[0m:      epoch ▁▁▁▁▂▂▂▂▂▂▃▃▃▃▄▄▄▄▄▄▅▅▅▅▅▅▆▆▆▆▇▇▇▇▇▇████\n",
      "\u001b[34m\u001b[1mwandb\u001b[0m: train_loss █▇▂▂▂▂▂▁▁▁▁▁▁▁▁▁▁▁▁▁\n",
      "\u001b[34m\u001b[1mwandb\u001b[0m: valid_loss ▇▅▆▅█▄▅▃▃▂▁▂▂▃▂▂▁▁▁▂\n",
      "\u001b[34m\u001b[1mwandb\u001b[0m: \n",
      "\u001b[34m\u001b[1mwandb\u001b[0m: Run summary:\n",
      "\u001b[34m\u001b[1mwandb\u001b[0m:      epoch 19\n",
      "\u001b[34m\u001b[1mwandb\u001b[0m: train_loss 0.07189\n",
      "\u001b[34m\u001b[1mwandb\u001b[0m: valid_loss 0.30338\n",
      "\u001b[34m\u001b[1mwandb\u001b[0m: \n",
      "\u001b[34m\u001b[1mwandb\u001b[0m: 🚀 View run \u001b[33mexp004_fold0\u001b[0m at: \u001b[34m\u001b[4mhttps://wandb.ai/welshonionman/SenNet/runs/j09ven7v\u001b[0m\n",
      "\u001b[34m\u001b[1mwandb\u001b[0m: Synced 5 W&B file(s), 0 media file(s), 0 artifact file(s) and 0 other file(s)\n",
      "\u001b[34m\u001b[1mwandb\u001b[0m: Find logs at: \u001b[35m\u001b[1m/kaggle/wandb/run-20240107_183431-j09ven7v/logs\u001b[0m\n"
     ]
    },
    {
     "name": "stdout",
     "output_type": "stream",
     "text": [
      "model_arch:  Unet\n",
      "backbone:  se_resnext50_32x4d\n"
     ]
    },
    {
     "name": "stderr",
     "output_type": "stream",
     "text": [
      "\u001b[34m\u001b[1mwandb\u001b[0m: Tracking run with wandb version 0.16.1\n",
      "\u001b[34m\u001b[1mwandb\u001b[0m: Run data is saved locally in \u001b[35m\u001b[1m/kaggle/wandb/run-20240107_215714-ulyehlk1\u001b[0m\n",
      "\u001b[34m\u001b[1mwandb\u001b[0m: Run \u001b[1m`wandb offline`\u001b[0m to turn off syncing.\n",
      "\u001b[34m\u001b[1mwandb\u001b[0m: Syncing run \u001b[33mexp004_fold1\u001b[0m\n",
      "\u001b[34m\u001b[1mwandb\u001b[0m: ⭐️ View project at \u001b[34m\u001b[4mhttps://wandb.ai/welshonionman/SenNet\u001b[0m\n",
      "\u001b[34m\u001b[1mwandb\u001b[0m: 🚀 View run at \u001b[34m\u001b[4mhttps://wandb.ai/welshonionman/SenNet/runs/ulyehlk1\u001b[0m\n",
      "Epoch 0/20  Mem : 11.5GB  LR : 5.00E-04  Loss: 0.1955: 100%|██████████| 2804/2804 [09:29<00:00,  4.92it/s]\n",
      "Val Loss: 0.1811: 100%|██████████| 391/391 [00:48<00:00,  8.03it/s]                                                                                                                                                                                                                                    \n"
     ]
    },
    {
     "name": "stdout",
     "output_type": "stream",
     "text": [
      "loss : 0.1811\tSAVED MODEL\n",
      "\n"
     ]
    },
    {
     "name": "stderr",
     "output_type": "stream",
     "text": [
      "Epoch 1/20  Mem : 11.5GB  LR : 5.00E-03  Loss: 0.1750: 100%|██████████| 2804/2804 [09:30<00:00,  4.92it/s]\n",
      "Val Loss: 0.1575: 100%|██████████| 391/391 [00:48<00:00,  8.08it/s]                                                                                                                                                                                                                                    \n"
     ]
    },
    {
     "name": "stdout",
     "output_type": "stream",
     "text": [
      "loss : 0.1575\tSAVED MODEL\n",
      "\n"
     ]
    },
    {
     "name": "stderr",
     "output_type": "stream",
     "text": [
      "Epoch 2/20  Mem : 11.5GB  LR : 5.00E-04  Loss: 0.1022: 100%|██████████| 2804/2804 [09:29<00:00,  4.92it/s]\n",
      "Val Loss: 0.1543: 100%|██████████| 391/391 [00:48<00:00,  8.07it/s]                                                                                                                                                                                                                                    \n"
     ]
    },
    {
     "name": "stdout",
     "output_type": "stream",
     "text": [
      "loss : 0.1543\tSAVED MODEL\n",
      "\n"
     ]
    },
    {
     "name": "stderr",
     "output_type": "stream",
     "text": [
      "Epoch 3/20  Mem : 11.5GB  LR : 4.97E-04  Loss: 0.0949: 100%|██████████| 2804/2804 [09:31<00:00,  4.90it/s]\n",
      "Val Loss: 0.1425: 100%|██████████| 391/391 [00:48<00:00,  8.05it/s]                                                                                                                                                                                                                                    \n"
     ]
    },
    {
     "name": "stdout",
     "output_type": "stream",
     "text": [
      "loss : 0.1425\tSAVED MODEL\n",
      "\n"
     ]
    },
    {
     "name": "stderr",
     "output_type": "stream",
     "text": [
      "Epoch 4/20  Mem : 11.5GB  LR : 4.88E-04  Loss: 0.0929: 100%|██████████| 2804/2804 [09:30<00:00,  4.92it/s]\n",
      "Val Loss: 0.1411: 100%|██████████| 391/391 [00:48<00:00,  8.06it/s]                                                                                                                                                                                                                                    \n"
     ]
    },
    {
     "name": "stdout",
     "output_type": "stream",
     "text": [
      "loss : 0.1411\tSAVED MODEL\n",
      "\n"
     ]
    },
    {
     "name": "stderr",
     "output_type": "stream",
     "text": [
      "Epoch 5/20  Mem : 11.5GB  LR : 4.73E-04  Loss: 0.0894: 100%|██████████| 2804/2804 [09:29<00:00,  4.92it/s]\n",
      "Val Loss: 0.1457: 100%|██████████| 391/391 [00:48<00:00,  8.13it/s]                                                                                                                                                                                                                                    \n"
     ]
    },
    {
     "name": "stdout",
     "output_type": "stream",
     "text": [
      "loss : 0.1457\n",
      "\n"
     ]
    },
    {
     "name": "stderr",
     "output_type": "stream",
     "text": [
      "Epoch 6/20  Mem : 11.5GB  LR : 4.52E-04  Loss: 0.0885: 100%|██████████| 2804/2804 [09:24<00:00,  4.97it/s]\n",
      "Val Loss: 0.1352: 100%|██████████| 391/391 [00:48<00:00,  8.10it/s]                                                                                                                                                                                                                                    \n"
     ]
    },
    {
     "name": "stdout",
     "output_type": "stream",
     "text": [
      "loss : 0.1352\tSAVED MODEL\n",
      "\n"
     ]
    },
    {
     "name": "stderr",
     "output_type": "stream",
     "text": [
      "Epoch 7/20  Mem : 11.5GB  LR : 4.27E-04  Loss: 0.0867: 100%|██████████| 2804/2804 [09:24<00:00,  4.97it/s]\n",
      "Val Loss: 0.1472: 100%|██████████| 391/391 [00:48<00:00,  8.09it/s]                                                                                                                                                                                                                                    \n"
     ]
    },
    {
     "name": "stdout",
     "output_type": "stream",
     "text": [
      "loss : 0.1472\n",
      "\n"
     ]
    },
    {
     "name": "stderr",
     "output_type": "stream",
     "text": [
      "Epoch 8/20  Mem : 11.5GB  LR : 3.97E-04  Loss: 0.0856: 100%|██████████| 2804/2804 [09:26<00:00,  4.95it/s]\n",
      "Val Loss: 0.1350: 100%|██████████| 391/391 [00:48<00:00,  8.10it/s]                                                                                                                                                                                                                                    \n"
     ]
    },
    {
     "name": "stdout",
     "output_type": "stream",
     "text": [
      "loss : 0.1350\tSAVED MODEL\n",
      "\n"
     ]
    },
    {
     "name": "stderr",
     "output_type": "stream",
     "text": [
      "Epoch 9/20  Mem : 11.5GB  LR : 3.64E-04  Loss: 0.0846: 100%|██████████| 2804/2804 [09:25<00:00,  4.96it/s]\n",
      "Val Loss: 0.1402: 100%|██████████| 391/391 [00:48<00:00,  8.12it/s]                                                                                                                                                                                                                                    \n"
     ]
    },
    {
     "name": "stdout",
     "output_type": "stream",
     "text": [
      "loss : 0.1402\n",
      "\n"
     ]
    },
    {
     "name": "stderr",
     "output_type": "stream",
     "text": [
      "Epoch 10/20  Mem : 11.5GB  LR : 3.27E-04  Loss: 0.0830: 100%|██████████| 2804/2804 [09:26<00:00,  4.95it/s]\n",
      "Val Loss: 0.1325: 100%|██████████| 391/391 [00:48<00:00,  8.13it/s]                                                                                                                                                                                                                                    \n"
     ]
    },
    {
     "name": "stdout",
     "output_type": "stream",
     "text": [
      "loss : 0.1325\tSAVED MODEL\n",
      "\n"
     ]
    },
    {
     "name": "stderr",
     "output_type": "stream",
     "text": [
      "Epoch 11/20  Mem : 11.5GB  LR : 2.89E-04  Loss: 0.0824: 100%|██████████| 2804/2804 [09:26<00:00,  4.95it/s]\n",
      "Val Loss: 0.1348: 100%|██████████| 391/391 [00:48<00:00,  8.08it/s]                                                                                                                                                                                                                                    \n"
     ]
    },
    {
     "name": "stdout",
     "output_type": "stream",
     "text": [
      "loss : 0.1348\n",
      "\n"
     ]
    },
    {
     "name": "stderr",
     "output_type": "stream",
     "text": [
      "Epoch 12/20  Mem : 11.5GB  LR : 2.50E-04  Loss: 0.0821: 100%|██████████| 2804/2804 [09:31<00:00,  4.90it/s]\n",
      "Val Loss: 0.1336: 100%|██████████| 391/391 [00:48<00:00,  8.07it/s]                                                                                                                                                                                                                                    \n"
     ]
    },
    {
     "name": "stdout",
     "output_type": "stream",
     "text": [
      "loss : 0.1336\n",
      "\n"
     ]
    },
    {
     "name": "stderr",
     "output_type": "stream",
     "text": [
      "Epoch 13/20  Mem : 11.5GB  LR : 2.11E-04  Loss: 0.0807: 100%|██████████| 2804/2804 [09:30<00:00,  4.91it/s]\n",
      "Val Loss: 0.1359: 100%|██████████| 391/391 [00:48<00:00,  7.99it/s]                                                                                                                                                                                                                                    \n"
     ]
    },
    {
     "name": "stdout",
     "output_type": "stream",
     "text": [
      "loss : 0.1359\n",
      "\n"
     ]
    },
    {
     "name": "stderr",
     "output_type": "stream",
     "text": [
      "Epoch 14/20  Mem : 11.5GB  LR : 1.73E-04  Loss: 0.0799: 100%|██████████| 2804/2804 [09:30<00:00,  4.92it/s]\n",
      "Val Loss: 0.1377: 100%|██████████| 391/391 [00:48<00:00,  8.06it/s]                                                                                                                                                                                                                                    \n"
     ]
    },
    {
     "name": "stdout",
     "output_type": "stream",
     "text": [
      "loss : 0.1377\n",
      "\n"
     ]
    },
    {
     "name": "stderr",
     "output_type": "stream",
     "text": [
      "Epoch 15/20  Mem : 11.5GB  LR : 1.37E-04  Loss: 0.0800: 100%|██████████| 2804/2804 [09:28<00:00,  4.93it/s]\n",
      "Val Loss: 0.1413: 100%|██████████| 391/391 [00:48<00:00,  8.08it/s]                                                                                                                                                                                                                                    \n"
     ]
    },
    {
     "name": "stdout",
     "output_type": "stream",
     "text": [
      "loss : 0.1413\n",
      "\n"
     ]
    },
    {
     "name": "stderr",
     "output_type": "stream",
     "text": [
      "Epoch 16/20  Mem : 11.5GB  LR : 1.03E-04  Loss: 0.0788: 100%|██████████| 2804/2804 [09:27<00:00,  4.94it/s]\n",
      "Val Loss: 0.1326: 100%|██████████| 391/391 [00:48<00:00,  8.05it/s]                                                                                                                                                                                                                                    \n"
     ]
    },
    {
     "name": "stdout",
     "output_type": "stream",
     "text": [
      "loss : 0.1326\n",
      "\n"
     ]
    },
    {
     "name": "stderr",
     "output_type": "stream",
     "text": [
      "Epoch 17/20  Mem : 11.5GB  LR : 7.33E-05  Loss: 0.0789: 100%|██████████| 2804/2804 [09:26<00:00,  4.95it/s]\n",
      "Val Loss: 0.1386: 100%|██████████| 391/391 [00:48<00:00,  8.04it/s]                                                                                                                                                                                                                                    \n"
     ]
    },
    {
     "name": "stdout",
     "output_type": "stream",
     "text": [
      "loss : 0.1386\n",
      "\n"
     ]
    },
    {
     "name": "stderr",
     "output_type": "stream",
     "text": [
      "Epoch 18/20  Mem : 11.5GB  LR : 4.78E-05  Loss: 0.0784: 100%|██████████| 2804/2804 [09:24<00:00,  4.96it/s]\n",
      "Val Loss: 0.1337: 100%|██████████| 391/391 [00:48<00:00,  8.13it/s]                                                                                                                                                                                                                                    \n"
     ]
    },
    {
     "name": "stdout",
     "output_type": "stream",
     "text": [
      "loss : 0.1337\n",
      "\n"
     ]
    },
    {
     "name": "stderr",
     "output_type": "stream",
     "text": [
      "Epoch 19/20  Mem : 11.5GB  LR : 2.73E-05  Loss: 0.0782: 100%|██████████| 2804/2804 [09:25<00:00,  4.96it/s]\n",
      "Val Loss: 0.1349: 100%|██████████| 391/391 [00:48<00:00,  8.12it/s]                                                                                                                                                                                                                                    \n"
     ]
    },
    {
     "name": "stdout",
     "output_type": "stream",
     "text": [
      "loss : 0.1349\n",
      "\n"
     ]
    },
    {
     "name": "stderr",
     "output_type": "stream",
     "text": [
      "wandb: WARNING No program path found, not creating job artifact. See https://docs.wandb.ai/guides/launch/create-job\n",
      "\u001b[34m\u001b[1mwandb\u001b[0m:                                                                                \n",
      "\u001b[34m\u001b[1mwandb\u001b[0m: \n",
      "\u001b[34m\u001b[1mwandb\u001b[0m: Run history:\n",
      "\u001b[34m\u001b[1mwandb\u001b[0m:      epoch ▁▁▁▁▂▂▂▂▂▂▃▃▃▃▄▄▄▄▄▄▅▅▅▅▅▅▆▆▆▆▇▇▇▇▇▇████\n",
      "\u001b[34m\u001b[1mwandb\u001b[0m: train_loss █▇▂▂▂▂▂▂▁▁▁▁▁▁▁▁▁▁▁▁\n",
      "\u001b[34m\u001b[1mwandb\u001b[0m: valid_loss █▅▄▂▂▃▁▃▁▂▁▁▁▁▂▂▁▂▁▁\n",
      "\u001b[34m\u001b[1mwandb\u001b[0m: \n",
      "\u001b[34m\u001b[1mwandb\u001b[0m: Run summary:\n",
      "\u001b[34m\u001b[1mwandb\u001b[0m:      epoch 19\n",
      "\u001b[34m\u001b[1mwandb\u001b[0m: train_loss 0.07815\n",
      "\u001b[34m\u001b[1mwandb\u001b[0m: valid_loss 0.13489\n",
      "\u001b[34m\u001b[1mwandb\u001b[0m: \n",
      "\u001b[34m\u001b[1mwandb\u001b[0m: 🚀 View run \u001b[33mexp004_fold1\u001b[0m at: \u001b[34m\u001b[4mhttps://wandb.ai/welshonionman/SenNet/runs/ulyehlk1\u001b[0m\n",
      "\u001b[34m\u001b[1mwandb\u001b[0m: Synced 5 W&B file(s), 0 media file(s), 0 artifact file(s) and 0 other file(s)\n",
      "\u001b[34m\u001b[1mwandb\u001b[0m: Find logs at: \u001b[35m\u001b[1m/kaggle/wandb/run-20240107_215714-ulyehlk1/logs\u001b[0m\n"
     ]
    }
   ],
   "source": [
    "if cfg.debug:\n",
    "    print(\"!!!Debug mode!!!\\n\")\n",
    "    cfg.epochs = 5\n",
    "\n",
    "for fold in range(2):\n",
    "    train_dataloader, valid_dataloader = init_dataset(fold, df, cfg)\n",
    "    model, scaler, criterion, optimizer, scheduler, metrics = init_model(cfg)\n",
    "    slacknotify = init_exp(fold, cfg)\n",
    "\n",
    "    path_best = f\"./{cfg.exp_name}/{cfg.exp_name}_best_fold{fold}.pth\"\n",
    "    path_last = f\"./{cfg.exp_name}/{cfg.exp_name}_last_fold{fold}.pth\"\n",
    "\n",
    "    best_loss = float(\"inf\")\n",
    "    for epoch in range(cfg.epochs):\n",
    "        model.train()\n",
    "        total_loss = 0.0\n",
    "        pbar_train = tqdm(enumerate(train_dataloader), total=len(train_dataloader), bar_format=\"{l_bar}{bar:10}{r_bar}{bar:-0b}\")\n",
    "\n",
    "        for i, (images, masks) in pbar_train:\n",
    "            images, masks = images.cuda(), masks.cuda()\n",
    "            optimizer.zero_grad()\n",
    "\n",
    "            with amp.autocast():\n",
    "                preds = model(images)\n",
    "                loss = criterion(preds, masks)\n",
    "                scaler.scale(loss).backward()\n",
    "                scaler.step(optimizer)\n",
    "                scaler.update()\n",
    "                total_loss += loss.detach().item()\n",
    "\n",
    "            loss_ = total_loss / (i + 1)\n",
    "            lr = f\"LR : {scheduler.get_lr()[0]:.2E}\"\n",
    "            gpu_mem = f\"Mem : {torch.cuda.memory_reserved() / 1E9:.3g}GB\"\n",
    "            pbar_train.set_description((\"%10s  \" * 3 + \"%10s\") % (f\"Epoch {epoch}/{cfg.epochs}\", gpu_mem, lr, f\"Loss: {loss_:.4f}\"))\n",
    "\n",
    "        train_loss = loss_\n",
    "        scheduler.step()\n",
    "        wandb.log({\"epoch\": epoch, \"train_loss\": train_loss})\n",
    "\n",
    "        model.eval()\n",
    "        total_loss = 0.0\n",
    "        pbar_val = tqdm(enumerate(valid_dataloader), total=len(valid_dataloader), bar_format=\"{l_bar}{bar:10}{r_bar}{bar:-10b}\")\n",
    "\n",
    "        for i, (images, masks) in pbar_val:\n",
    "            images, masks = images.cuda(), masks.cuda()\n",
    "            with torch.no_grad():\n",
    "                preds = model(images)\n",
    "                loss = criterion(preds, masks)\n",
    "                total_loss += loss.item()\n",
    "\n",
    "            loss_ = total_loss / (i + 1)\n",
    "            pbar_val.set_description((\"%10s\") % (f\"Val Loss: {loss_:.4f}\"))\n",
    "        valid_loss = loss_\n",
    "        wandb.log({\"epoch\": epoch, \"valid_loss\": valid_loss})\n",
    "\n",
    "        if valid_loss < best_loss:\n",
    "            print(f\"loss : {valid_loss:.4f}\\tSAVED MODEL\\n\")\n",
    "            slacknotify.send_reply(f\"epoch : {epoch}\\tscore : {valid_loss:.4f}\\tBEST\")\n",
    "            best_loss = valid_loss\n",
    "            save_model(model, cfg, path_best, loss=loss)\n",
    "        else:\n",
    "            print(f\"loss : {valid_loss:.4f}\\n\")\n",
    "            slacknotify.send_reply(f\"epoch : {epoch}\\tscore : {valid_loss:.4f}\")\n",
    "\n",
    "    save_model(model, cfg, path_last, loss=valid_loss)\n",
    "    wandb.config.update({\"last_loss\": valid_loss, \"best_loss\": best_loss})\n",
    "\n",
    "    slacknotify.send_reply(f\"{cfg.exp_name}_fold{fold} training finished\\nbest loss : {best_loss:.4f} last loss : {loss_:.4f}\", True)\n",
    "\n",
    "    if wandb.run:\n",
    "        wandb.finish()"
   ]
  },
  {
   "cell_type": "code",
   "execution_count": 6,
   "metadata": {},
   "outputs": [
    {
     "name": "stdout",
     "output_type": "stream",
     "text": [
      "fold_0\n",
      "model_name Unet\n",
      "backbone se_resnext50_32x4d\n"
     ]
    },
    {
     "name": "stderr",
     "output_type": "stream",
     "text": [
      "100%|██████████| 2278/2278 [08:51<00:00,  4.29it/s]\n",
      "100%|██████████| 1302/1302 [08:18<00:00,  2.61it/s]\n",
      "100%|██████████| 911/911 [07:57<00:00,  1.91it/s]\n"
     ]
    },
    {
     "name": "stdout",
     "output_type": "stream",
     "text": [
      "(0.42, 0.795)\n",
      "fold_1\n",
      "model_name Unet\n",
      "backbone se_resnext50_32x4d\n"
     ]
    },
    {
     "name": "stderr",
     "output_type": "stream",
     "text": [
      "100%|██████████| 500/500 [03:35<00:00,  2.32it/s]\n",
      "100%|██████████| 1705/1705 [03:43<00:00,  7.63it/s]\n",
      "100%|██████████| 1509/1509 [03:49<00:00,  6.58it/s]\n"
     ]
    },
    {
     "name": "stdout",
     "output_type": "stream",
     "text": [
      "(0.36, 0.8798)\n"
     ]
    }
   ],
   "source": [
    "fold_dict = json.load(open(\"/kaggle/src/dataset/fold.json\", \"r\"))\n",
    "\n",
    "for fold in range(2):\n",
    "    print(f\"fold_{fold}\")\n",
    "    valid_kidney = fold_dict[f\"fold{fold}\"][\"valid\"][0]\n",
    "    path_best = f\"./{cfg.exp_name}/{cfg.exp_name}_best_fold{fold}.pth\"\n",
    "    model = load_inference_model(path_best, cfg)\n",
    "\n",
    "    stack_path = f\"/kaggle/working/dataset/stack_train01/{valid_kidney}_images.npy\"\n",
    "    label_path = f\"/kaggle/working/dataset/stack_train01/{valid_kidney}_labels.npy\"\n",
    "    save_path = \"./preds\"\n",
    "    preds_path = f\"{save_path}/{valid_kidney}_preds.npy\"\n",
    "    inference(model, stack_path, save_path, cfg)\n",
    "\n",
    "    label = np.load(label_path)\n",
    "    preds = np.load(preds_path)\n",
    "    thresh_score_dict = {}\n",
    "\n",
    "    for thresh in np.arange(0.1, 0.99, 0.1):\n",
    "        thresh = round(thresh, 5)\n",
    "        thresh_score_dict[thresh] = compute_surface_dice_score_from_volume(ne.evaluate(\"preds > thresh\"), label)\n",
    "\n",
    "    max_score_thresh = max(thresh_score_dict, key=thresh_score_dict.get)\n",
    "\n",
    "    for thresh in np.arange(max_score_thresh - 0.1, max_score_thresh + 0.1, 0.01):\n",
    "        thresh = round(thresh, 5)\n",
    "        thresh_score_dict[thresh] = compute_surface_dice_score_from_volume(ne.evaluate(\"preds > thresh\"), label)\n",
    "\n",
    "    print(max(thresh_score_dict.items(), key=lambda x: x[1]))"
   ]
  },
  {
   "cell_type": "code",
   "execution_count": null,
   "metadata": {},
   "outputs": [],
   "source": []
  }
 ],
 "metadata": {
  "kaggle": {
   "accelerator": "nvidiaTeslaT4",
   "dataSources": [
    {
     "databundleVersionId": 6962461,
     "sourceId": 61446,
     "sourceType": "competition"
    },
    {
     "datasetId": 1074109,
     "sourceId": 1807973,
     "sourceType": "datasetVersion"
    },
    {
     "sourceId": 150248402,
     "sourceType": "kernelVersion"
    }
   ],
   "dockerImageVersionId": 30587,
   "isGpuEnabled": true,
   "isInternetEnabled": true,
   "language": "python",
   "sourceType": "notebook"
  },
  "kernelspec": {
   "display_name": "Python 3",
   "language": "python",
   "name": "python3"
  },
  "language_info": {
   "codemirror_mode": {
    "name": "ipython",
    "version": 3
   },
   "file_extension": ".py",
   "mimetype": "text/x-python",
   "name": "python",
   "nbconvert_exporter": "python",
   "pygments_lexer": "ipython3",
   "version": "3.10.13"
  }
 },
 "nbformat": 4,
 "nbformat_minor": 4
}
