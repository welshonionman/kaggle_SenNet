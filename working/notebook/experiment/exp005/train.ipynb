{
 "cells": [
  {
   "cell_type": "code",
   "execution_count": 1,
   "metadata": {
    "_cell_guid": "b1076dfc-b9ad-4769-8c92-a6c4dae69d19",
    "_kg_hide-input": true,
    "_kg_hide-output": true,
    "_uuid": "8f2839f25d086af736a60e9eeb907d3b93b6e0e5",
    "execution": {
     "iopub.execute_input": "2024-01-09T15:03:22.796903Z",
     "iopub.status.busy": "2024-01-09T15:03:22.796513Z",
     "iopub.status.idle": "2024-01-09T15:03:26.422128Z",
     "shell.execute_reply": "2024-01-09T15:03:26.421345Z"
    }
   },
   "outputs": [],
   "source": [
    "import json\n",
    "import pandas as pd\n",
    "import numpy as np\n",
    "import numexpr as ne\n",
    "import os\n",
    "import albumentations as A\n",
    "from albumentations.pytorch import ToTensorV2\n",
    "import wandb\n",
    "from dotenv import load_dotenv\n",
    "from tqdm import tqdm\n",
    "import torch\n",
    "import torch.cuda.amp as amp\n",
    "\n",
    "from src.model.model import save_model, load_inference_model\n",
    "from src.dataset.df import df_dataset, check_dataset\n",
    "from src.utils.common import set_seed\n",
    "\n",
    "from src.experiment.inference import inference\n",
    "from src.experiment.initialize import init_dataset, init_model, init_exp\n",
    "from src.utils.metrics import compute_surface_dice_score_from_volume"
   ]
  },
  {
   "cell_type": "code",
   "execution_count": 2,
   "metadata": {
    "execution": {
     "iopub.execute_input": "2024-01-09T15:03:26.424883Z",
     "iopub.status.busy": "2024-01-09T15:03:26.424477Z",
     "iopub.status.idle": "2024-01-09T15:03:26.437111Z",
     "shell.execute_reply": "2024-01-09T15:03:26.436407Z"
    }
   },
   "outputs": [],
   "source": [
    "class cfg:\n",
    "    debug = False\n",
    "    check_dataset = False\n",
    "\n",
    "    # = data CFG ====================================================\n",
    "\n",
    "    dataset_path = \"/kaggle/working/dataset/cropped_xy_256_128_z_5_5/\"\n",
    "    train_dataset = \"Base2dDataset\"\n",
    "    negative_sample_rate = 0.1\n",
    "    # = experiment CFG =================================================\n",
    "\n",
    "    project = \"SenNet\"\n",
    "    exp_name = os.path.basename(os.getcwd())\n",
    "    notes = \"negative_sample=0.1 cropped_xy_256_128_z_5_5\"\n",
    "\n",
    "    # = model CFG ======================================================\n",
    "\n",
    "    model_arch = \"Unet\"\n",
    "    backbone = \"se_resnext50_32x4d\"\n",
    "    in_chans = 5\n",
    "    target_size = 5\n",
    "\n",
    "    # = training CFG ===================================================\n",
    "\n",
    "    epochs = 20\n",
    "\n",
    "    train_batch_size = 64\n",
    "    valid_batch_size = train_batch_size\n",
    "\n",
    "    loss = \"DiceLoss\"\n",
    "    metrics = \"Dice\"\n",
    "    lr = 5e-4\n",
    "    num_workers = 12\n",
    "\n",
    "    # = augmentation ===================================================\n",
    "\n",
    "    image_size = 256\n",
    "    train_aug = [\n",
    "        A.RandomRotate90(p=0.5),\n",
    "        A.RandomGamma(p=0.5),\n",
    "        A.RandomBrightnessContrast(p=0.5),\n",
    "        A.RandomResizedCrop(image_size, image_size, scale=(0.8, 1)),\n",
    "        A.ShiftScaleRotate(p=0.5),\n",
    "        A.GridDistortion(num_steps=5, distort_limit=0.3, p=0.5),\n",
    "        ToTensorV2(transpose_mask=True),\n",
    "    ]\n",
    "\n",
    "    valid_aug = [\n",
    "        ToTensorV2(transpose_mask=True),\n",
    "    ]\n",
    "\n",
    "    # =============== inference ========================================\n",
    "\n",
    "    test_dataset = \"BaseInferenceDataset\"\n",
    "    stride = image_size // 2\n",
    "    drop_egde_pixel = 32\n",
    "\n",
    "\n",
    "load_dotenv(\"/kaggle/key.env\")\n",
    "set_seed()"
   ]
  },
  {
   "cell_type": "code",
   "execution_count": 3,
   "metadata": {
    "execution": {
     "iopub.execute_input": "2024-01-09T15:03:26.439520Z",
     "iopub.status.busy": "2024-01-09T15:03:26.439162Z",
     "iopub.status.idle": "2024-01-09T15:03:27.609346Z",
     "shell.execute_reply": "2024-01-09T15:03:27.608402Z"
    }
   },
   "outputs": [
    {
     "name": "stderr",
     "output_type": "stream",
     "text": [
      "/tmp/ipykernel_26198/4046888049.py:10: DtypeWarning: Columns (10) have mixed types. Specify dtype option on import or set low_memory=False.\n",
      "  df = pd.read_csv(f\"{cfg.dataset_path}/dataset.csv\")\n"
     ]
    },
    {
     "data": {
      "text/html": [
       "<div>\n",
       "<style scoped>\n",
       "    .dataframe tbody tr th:only-of-type {\n",
       "        vertical-align: middle;\n",
       "    }\n",
       "\n",
       "    .dataframe tbody tr th {\n",
       "        vertical-align: top;\n",
       "    }\n",
       "\n",
       "    .dataframe thead th {\n",
       "        text-align: right;\n",
       "    }\n",
       "</style>\n",
       "<table border=\"1\" class=\"dataframe\">\n",
       "  <thead>\n",
       "    <tr style=\"text-align: right;\">\n",
       "      <th></th>\n",
       "      <th>image_path</th>\n",
       "      <th>label_path</th>\n",
       "      <th>fname</th>\n",
       "      <th>kidney</th>\n",
       "      <th>x</th>\n",
       "      <th>y</th>\n",
       "      <th>z</th>\n",
       "      <th>std</th>\n",
       "      <th>sum</th>\n",
       "      <th>fold0</th>\n",
       "      <th>fold1</th>\n",
       "    </tr>\n",
       "  </thead>\n",
       "  <tbody>\n",
       "    <tr>\n",
       "      <th>0</th>\n",
       "      <td>/kaggle/working/dataset/cropped_xy_256_128_z_5...</td>\n",
       "      <td>/kaggle/working/dataset/cropped_xy_256_128_z_5...</td>\n",
       "      <td>x0_y0_z0_std0039_sum0</td>\n",
       "      <td>kidney_1_dense</td>\n",
       "      <td>0</td>\n",
       "      <td>0</td>\n",
       "      <td>0</td>\n",
       "      <td>39</td>\n",
       "      <td>0</td>\n",
       "      <td>valid</td>\n",
       "      <td>train</td>\n",
       "    </tr>\n",
       "    <tr>\n",
       "      <th>1</th>\n",
       "      <td>/kaggle/working/dataset/cropped_xy_256_128_z_5...</td>\n",
       "      <td>/kaggle/working/dataset/cropped_xy_256_128_z_5...</td>\n",
       "      <td>x0_y0_z100_std0036_sum0</td>\n",
       "      <td>kidney_1_dense</td>\n",
       "      <td>0</td>\n",
       "      <td>0</td>\n",
       "      <td>100</td>\n",
       "      <td>36</td>\n",
       "      <td>0</td>\n",
       "      <td>valid</td>\n",
       "      <td>train</td>\n",
       "    </tr>\n",
       "    <tr>\n",
       "      <th>2</th>\n",
       "      <td>/kaggle/working/dataset/cropped_xy_256_128_z_5...</td>\n",
       "      <td>/kaggle/working/dataset/cropped_xy_256_128_z_5...</td>\n",
       "      <td>x0_y0_z105_std0035_sum0</td>\n",
       "      <td>kidney_1_dense</td>\n",
       "      <td>0</td>\n",
       "      <td>0</td>\n",
       "      <td>105</td>\n",
       "      <td>35</td>\n",
       "      <td>0</td>\n",
       "      <td>valid</td>\n",
       "      <td>train</td>\n",
       "    </tr>\n",
       "    <tr>\n",
       "      <th>3</th>\n",
       "      <td>/kaggle/working/dataset/cropped_xy_256_128_z_5...</td>\n",
       "      <td>/kaggle/working/dataset/cropped_xy_256_128_z_5...</td>\n",
       "      <td>x0_y0_z10_std0039_sum0</td>\n",
       "      <td>kidney_1_dense</td>\n",
       "      <td>0</td>\n",
       "      <td>0</td>\n",
       "      <td>10</td>\n",
       "      <td>39</td>\n",
       "      <td>0</td>\n",
       "      <td>valid</td>\n",
       "      <td>train</td>\n",
       "    </tr>\n",
       "    <tr>\n",
       "      <th>4</th>\n",
       "      <td>/kaggle/working/dataset/cropped_xy_256_128_z_5...</td>\n",
       "      <td>/kaggle/working/dataset/cropped_xy_256_128_z_5...</td>\n",
       "      <td>x0_y0_z110_std0035_sum0</td>\n",
       "      <td>kidney_1_dense</td>\n",
       "      <td>0</td>\n",
       "      <td>0</td>\n",
       "      <td>110</td>\n",
       "      <td>35</td>\n",
       "      <td>0</td>\n",
       "      <td>valid</td>\n",
       "      <td>train</td>\n",
       "    </tr>\n",
       "    <tr>\n",
       "      <th>...</th>\n",
       "      <td>...</td>\n",
       "      <td>...</td>\n",
       "      <td>...</td>\n",
       "      <td>...</td>\n",
       "      <td>...</td>\n",
       "      <td>...</td>\n",
       "      <td>...</td>\n",
       "      <td>...</td>\n",
       "      <td>...</td>\n",
       "      <td>...</td>\n",
       "      <td>...</td>\n",
       "    </tr>\n",
       "    <tr>\n",
       "      <th>182679</th>\n",
       "      <td>/kaggle/working/dataset/cropped_xy_256_128_z_5...</td>\n",
       "      <td>/kaggle/working/dataset/cropped_xy_256_128_z_5...</td>\n",
       "      <td>x896_y256_z975_std0257_sum899</td>\n",
       "      <td>kidney_3_sparse</td>\n",
       "      <td>896</td>\n",
       "      <td>256</td>\n",
       "      <td>975</td>\n",
       "      <td>257</td>\n",
       "      <td>899</td>\n",
       "      <td>train</td>\n",
       "      <td>NaN</td>\n",
       "    </tr>\n",
       "    <tr>\n",
       "      <th>182680</th>\n",
       "      <td>/kaggle/working/dataset/cropped_xy_256_128_z_5...</td>\n",
       "      <td>/kaggle/working/dataset/cropped_xy_256_128_z_5...</td>\n",
       "      <td>x896_y256_z980_std0259_sum3087</td>\n",
       "      <td>kidney_3_sparse</td>\n",
       "      <td>896</td>\n",
       "      <td>256</td>\n",
       "      <td>980</td>\n",
       "      <td>259</td>\n",
       "      <td>3087</td>\n",
       "      <td>train</td>\n",
       "      <td>NaN</td>\n",
       "    </tr>\n",
       "    <tr>\n",
       "      <th>182681</th>\n",
       "      <td>/kaggle/working/dataset/cropped_xy_256_128_z_5...</td>\n",
       "      <td>/kaggle/working/dataset/cropped_xy_256_128_z_5...</td>\n",
       "      <td>x896_y256_z985_std0259_sum5991</td>\n",
       "      <td>kidney_3_sparse</td>\n",
       "      <td>896</td>\n",
       "      <td>256</td>\n",
       "      <td>985</td>\n",
       "      <td>259</td>\n",
       "      <td>5991</td>\n",
       "      <td>train</td>\n",
       "      <td>NaN</td>\n",
       "    </tr>\n",
       "    <tr>\n",
       "      <th>182682</th>\n",
       "      <td>/kaggle/working/dataset/cropped_xy_256_128_z_5...</td>\n",
       "      <td>/kaggle/working/dataset/cropped_xy_256_128_z_5...</td>\n",
       "      <td>x896_y256_z990_std0262_sum7311</td>\n",
       "      <td>kidney_3_sparse</td>\n",
       "      <td>896</td>\n",
       "      <td>256</td>\n",
       "      <td>990</td>\n",
       "      <td>262</td>\n",
       "      <td>7311</td>\n",
       "      <td>train</td>\n",
       "      <td>NaN</td>\n",
       "    </tr>\n",
       "    <tr>\n",
       "      <th>182683</th>\n",
       "      <td>/kaggle/working/dataset/cropped_xy_256_128_z_5...</td>\n",
       "      <td>/kaggle/working/dataset/cropped_xy_256_128_z_5...</td>\n",
       "      <td>x896_y256_z995_std0264_sum8657</td>\n",
       "      <td>kidney_3_sparse</td>\n",
       "      <td>896</td>\n",
       "      <td>256</td>\n",
       "      <td>995</td>\n",
       "      <td>264</td>\n",
       "      <td>8657</td>\n",
       "      <td>train</td>\n",
       "      <td>NaN</td>\n",
       "    </tr>\n",
       "  </tbody>\n",
       "</table>\n",
       "<p>182684 rows × 11 columns</p>\n",
       "</div>"
      ],
      "text/plain": [
       "                                               image_path  \\\n",
       "0       /kaggle/working/dataset/cropped_xy_256_128_z_5...   \n",
       "1       /kaggle/working/dataset/cropped_xy_256_128_z_5...   \n",
       "2       /kaggle/working/dataset/cropped_xy_256_128_z_5...   \n",
       "3       /kaggle/working/dataset/cropped_xy_256_128_z_5...   \n",
       "4       /kaggle/working/dataset/cropped_xy_256_128_z_5...   \n",
       "...                                                   ...   \n",
       "182679  /kaggle/working/dataset/cropped_xy_256_128_z_5...   \n",
       "182680  /kaggle/working/dataset/cropped_xy_256_128_z_5...   \n",
       "182681  /kaggle/working/dataset/cropped_xy_256_128_z_5...   \n",
       "182682  /kaggle/working/dataset/cropped_xy_256_128_z_5...   \n",
       "182683  /kaggle/working/dataset/cropped_xy_256_128_z_5...   \n",
       "\n",
       "                                               label_path  \\\n",
       "0       /kaggle/working/dataset/cropped_xy_256_128_z_5...   \n",
       "1       /kaggle/working/dataset/cropped_xy_256_128_z_5...   \n",
       "2       /kaggle/working/dataset/cropped_xy_256_128_z_5...   \n",
       "3       /kaggle/working/dataset/cropped_xy_256_128_z_5...   \n",
       "4       /kaggle/working/dataset/cropped_xy_256_128_z_5...   \n",
       "...                                                   ...   \n",
       "182679  /kaggle/working/dataset/cropped_xy_256_128_z_5...   \n",
       "182680  /kaggle/working/dataset/cropped_xy_256_128_z_5...   \n",
       "182681  /kaggle/working/dataset/cropped_xy_256_128_z_5...   \n",
       "182682  /kaggle/working/dataset/cropped_xy_256_128_z_5...   \n",
       "182683  /kaggle/working/dataset/cropped_xy_256_128_z_5...   \n",
       "\n",
       "                                 fname           kidney    x    y    z  std  \\\n",
       "0                x0_y0_z0_std0039_sum0   kidney_1_dense    0    0    0   39   \n",
       "1              x0_y0_z100_std0036_sum0   kidney_1_dense    0    0  100   36   \n",
       "2              x0_y0_z105_std0035_sum0   kidney_1_dense    0    0  105   35   \n",
       "3               x0_y0_z10_std0039_sum0   kidney_1_dense    0    0   10   39   \n",
       "4              x0_y0_z110_std0035_sum0   kidney_1_dense    0    0  110   35   \n",
       "...                                ...              ...  ...  ...  ...  ...   \n",
       "182679   x896_y256_z975_std0257_sum899  kidney_3_sparse  896  256  975  257   \n",
       "182680  x896_y256_z980_std0259_sum3087  kidney_3_sparse  896  256  980  259   \n",
       "182681  x896_y256_z985_std0259_sum5991  kidney_3_sparse  896  256  985  259   \n",
       "182682  x896_y256_z990_std0262_sum7311  kidney_3_sparse  896  256  990  262   \n",
       "182683  x896_y256_z995_std0264_sum8657  kidney_3_sparse  896  256  995  264   \n",
       "\n",
       "         sum  fold0  fold1  \n",
       "0          0  valid  train  \n",
       "1          0  valid  train  \n",
       "2          0  valid  train  \n",
       "3          0  valid  train  \n",
       "4          0  valid  train  \n",
       "...      ...    ...    ...  \n",
       "182679   899  train    NaN  \n",
       "182680  3087  train    NaN  \n",
       "182681  5991  train    NaN  \n",
       "182682  7311  train    NaN  \n",
       "182683  8657  train    NaN  \n",
       "\n",
       "[182684 rows x 11 columns]"
      ]
     },
     "metadata": {},
     "output_type": "display_data"
    }
   ],
   "source": [
    "def filter_dataset(df):\n",
    "    # trainのうちlabelが全くないものは90%の確率で除外\n",
    "    df[\"random\"] = np.random.rand(len(df))\n",
    "    df = df[(df[\"sum\"] > 0) | (df[\"fold0\"] == \"valid\") | (df[\"random\"] < cfg.negative_sample_rate)]\n",
    "    df = df.reset_index(drop=True)\n",
    "    df = df.drop([\"random\"], axis=1)\n",
    "    return df\n",
    "\n",
    "\n",
    "df = pd.read_csv(f\"{cfg.dataset_path}/dataset.csv\")\n",
    "df = filter_dataset(df)\n",
    "# df = df.sample(1000).reset_index(drop=True)\n",
    "if cfg.debug:\n",
    "    df = df.sample(10000).reset_index(drop=True)\n",
    "display(df)\n",
    "\n",
    "if cfg.check_dataset:\n",
    "    check_dataset(df, cfg)"
   ]
  },
  {
   "cell_type": "code",
   "execution_count": 4,
   "metadata": {
    "execution": {
     "iopub.execute_input": "2024-01-09T15:03:27.630826Z",
     "iopub.status.busy": "2024-01-09T15:03:27.630325Z",
     "iopub.status.idle": "2024-01-09T21:50:25.423114Z",
     "shell.execute_reply": "2024-01-09T21:50:25.422323Z"
    }
   },
   "outputs": [
    {
     "name": "stdout",
     "output_type": "stream",
     "text": [
      "model_arch:  Unet\n",
      "backbone:  se_resnext50_32x4d\n"
     ]
    },
    {
     "name": "stderr",
     "output_type": "stream",
     "text": [
      "\u001b[34m\u001b[1mwandb\u001b[0m: Currently logged in as: \u001b[33mwelshonionman\u001b[0m. Use \u001b[1m`wandb login --relogin`\u001b[0m to force relogin\n",
      "\u001b[34m\u001b[1mwandb\u001b[0m: Tracking run with wandb version 0.16.1\n",
      "\u001b[34m\u001b[1mwandb\u001b[0m: Run data is saved locally in \u001b[35m\u001b[1m/kaggle/wandb/run-20240109_150336-3q7grgww\u001b[0m\n",
      "\u001b[34m\u001b[1mwandb\u001b[0m: Run \u001b[1m`wandb offline`\u001b[0m to turn off syncing.\n",
      "\u001b[34m\u001b[1mwandb\u001b[0m: Syncing run \u001b[33mexp005_fold0\u001b[0m\n",
      "\u001b[34m\u001b[1mwandb\u001b[0m: ⭐️ View project at \u001b[34m\u001b[4mhttps://wandb.ai/welshonionman/SenNet\u001b[0m\n",
      "\u001b[34m\u001b[1mwandb\u001b[0m: 🚀 View run at \u001b[34m\u001b[4mhttps://wandb.ai/welshonionman/SenNet/runs/3q7grgww\u001b[0m\n",
      "Epoch 0/20  Mem : 9.7GB  LR : 5.00E-04  Loss: 0.2032: 100%|██████████| 1385/1385 [05:42<00:00,  4.05it/s]\n",
      "Val Loss: 0.3659: 100%|██████████| 1471/1471 [04:07<00:00,  5.95it/s]                                                                                                                                                                                       \n"
     ]
    },
    {
     "name": "stdout",
     "output_type": "stream",
     "text": [
      "loss : 0.3659\tSAVED MODEL\n",
      "\n"
     ]
    },
    {
     "name": "stderr",
     "output_type": "stream",
     "text": [
      "Epoch 1/20  Mem : 11.5GB  LR : 5.00E-03  Loss: 0.1677: 100%|██████████| 1385/1385 [05:40<00:00,  4.06it/s]\n",
      "Val Loss: 0.4592: 100%|██████████| 1471/1471 [04:06<00:00,  5.98it/s]                                                                                                                                                                                       \n"
     ]
    },
    {
     "name": "stdout",
     "output_type": "stream",
     "text": [
      "loss : 0.4592\n",
      "\n"
     ]
    },
    {
     "name": "stderr",
     "output_type": "stream",
     "text": [
      "Epoch 2/20  Mem : 11.5GB  LR : 5.00E-04  Loss: 0.0931: 100%|██████████| 1385/1385 [05:41<00:00,  4.05it/s]\n",
      "Val Loss: 0.4003: 100%|██████████| 1471/1471 [04:05<00:00,  5.98it/s]                                                                                                                                                                                       \n"
     ]
    },
    {
     "name": "stdout",
     "output_type": "stream",
     "text": [
      "loss : 0.4003\n",
      "\n"
     ]
    },
    {
     "name": "stderr",
     "output_type": "stream",
     "text": [
      "Epoch 3/20  Mem : 11.5GB  LR : 4.97E-04  Loss: 0.0875: 100%|██████████| 1385/1385 [05:42<00:00,  4.04it/s]\n",
      "Val Loss: 0.3746: 100%|██████████| 1471/1471 [04:07<00:00,  5.96it/s]                                                                                                                                                                                       \n"
     ]
    },
    {
     "name": "stdout",
     "output_type": "stream",
     "text": [
      "loss : 0.3746\n",
      "\n"
     ]
    },
    {
     "name": "stderr",
     "output_type": "stream",
     "text": [
      "Epoch 4/20  Mem : 11.5GB  LR : 4.88E-04  Loss: 0.0835: 100%|██████████| 1385/1385 [05:41<00:00,  4.06it/s]\n",
      "Val Loss: 0.3519: 100%|██████████| 1471/1471 [04:05<00:00,  5.99it/s]                                                                                                                                                                                       \n"
     ]
    },
    {
     "name": "stdout",
     "output_type": "stream",
     "text": [
      "loss : 0.3519\tSAVED MODEL\n",
      "\n"
     ]
    },
    {
     "name": "stderr",
     "output_type": "stream",
     "text": [
      "Epoch 5/20  Mem : 11.5GB  LR : 4.73E-04  Loss: 0.0805: 100%|██████████| 1385/1385 [05:43<00:00,  4.03it/s]\n",
      "Val Loss: 0.3359: 100%|██████████| 1471/1471 [04:05<00:00,  5.98it/s]                                                                                                                                                                                       \n"
     ]
    },
    {
     "name": "stdout",
     "output_type": "stream",
     "text": [
      "loss : 0.3359\tSAVED MODEL\n",
      "\n"
     ]
    },
    {
     "name": "stderr",
     "output_type": "stream",
     "text": [
      "Epoch 6/20  Mem : 11.5GB  LR : 4.52E-04  Loss: 0.0797: 100%|██████████| 1385/1385 [05:42<00:00,  4.04it/s]\n",
      "Val Loss: 0.3209: 100%|██████████| 1471/1471 [04:06<00:00,  5.96it/s]                                                                                                                                                                                       \n"
     ]
    },
    {
     "name": "stdout",
     "output_type": "stream",
     "text": [
      "loss : 0.3209\tSAVED MODEL\n",
      "\n"
     ]
    },
    {
     "name": "stderr",
     "output_type": "stream",
     "text": [
      "Epoch 7/20  Mem : 11.5GB  LR : 4.27E-04  Loss: 0.0778: 100%|██████████| 1385/1385 [05:41<00:00,  4.06it/s]\n",
      "Val Loss: 0.3269: 100%|██████████| 1471/1471 [04:06<00:00,  5.98it/s]                                                                                                                                                                                       \n"
     ]
    },
    {
     "name": "stdout",
     "output_type": "stream",
     "text": [
      "loss : 0.3269\n",
      "\n"
     ]
    },
    {
     "name": "stderr",
     "output_type": "stream",
     "text": [
      "Epoch 8/20  Mem : 11.5GB  LR : 3.97E-04  Loss: 0.0767: 100%|██████████| 1385/1385 [05:43<00:00,  4.03it/s]\n",
      "Val Loss: 0.2904: 100%|██████████| 1471/1471 [04:05<00:00,  5.98it/s]                                                                                                                                                                                       \n"
     ]
    },
    {
     "name": "stdout",
     "output_type": "stream",
     "text": [
      "loss : 0.2904\tSAVED MODEL\n",
      "\n"
     ]
    },
    {
     "name": "stderr",
     "output_type": "stream",
     "text": [
      "Epoch 9/20  Mem : 11.5GB  LR : 3.64E-04  Loss: 0.0767: 100%|██████████| 1385/1385 [05:41<00:00,  4.06it/s]\n",
      "Val Loss: 0.3305: 100%|██████████| 1471/1471 [04:06<00:00,  5.96it/s]                                                                                                                                                                                       \n"
     ]
    },
    {
     "name": "stdout",
     "output_type": "stream",
     "text": [
      "loss : 0.3305\n",
      "\n"
     ]
    },
    {
     "name": "stderr",
     "output_type": "stream",
     "text": [
      "Epoch 10/20  Mem : 11.5GB  LR : 3.27E-04  Loss: 0.0742: 100%|██████████| 1385/1385 [05:40<00:00,  4.07it/s]\n",
      "Val Loss: 0.2981: 100%|██████████| 1471/1471 [04:04<00:00,  6.01it/s]                                                                                                                                                                                       \n"
     ]
    },
    {
     "name": "stdout",
     "output_type": "stream",
     "text": [
      "loss : 0.2981\n",
      "\n"
     ]
    },
    {
     "name": "stderr",
     "output_type": "stream",
     "text": [
      "Epoch 11/20  Mem : 11.5GB  LR : 2.89E-04  Loss: 0.0737: 100%|██████████| 1385/1385 [05:40<00:00,  4.07it/s]\n",
      "Val Loss: 0.3058: 100%|██████████| 1471/1471 [04:05<00:00,  6.00it/s]                                                                                                                                                                                       \n"
     ]
    },
    {
     "name": "stdout",
     "output_type": "stream",
     "text": [
      "loss : 0.3058\n",
      "\n"
     ]
    },
    {
     "name": "stderr",
     "output_type": "stream",
     "text": [
      "Epoch 12/20  Mem : 11.5GB  LR : 2.50E-04  Loss: 0.0728: 100%|██████████| 1385/1385 [05:42<00:00,  4.05it/s]\n",
      "Val Loss: 0.2842: 100%|██████████| 1471/1471 [04:06<00:00,  5.97it/s]                                                                                                                                                                                       \n"
     ]
    },
    {
     "name": "stdout",
     "output_type": "stream",
     "text": [
      "loss : 0.2842\tSAVED MODEL\n",
      "\n"
     ]
    },
    {
     "name": "stderr",
     "output_type": "stream",
     "text": [
      "Epoch 13/20  Mem : 11.5GB  LR : 2.11E-04  Loss: 0.0723: 100%|██████████| 1385/1385 [05:40<00:00,  4.07it/s]\n",
      "Val Loss: 0.2837: 100%|██████████| 1471/1471 [04:06<00:00,  5.98it/s]                                                                                                                                                                                       \n"
     ]
    },
    {
     "name": "stdout",
     "output_type": "stream",
     "text": [
      "loss : 0.2837\tSAVED MODEL\n",
      "\n"
     ]
    },
    {
     "name": "stderr",
     "output_type": "stream",
     "text": [
      "Epoch 14/20  Mem : 11.5GB  LR : 1.73E-04  Loss: 0.0718: 100%|██████████| 1385/1385 [05:40<00:00,  4.06it/s]\n",
      "Val Loss: 0.2841: 100%|██████████| 1471/1471 [04:05<00:00,  6.00it/s]                                                                                                                                                                                       \n"
     ]
    },
    {
     "name": "stdout",
     "output_type": "stream",
     "text": [
      "loss : 0.2841\n",
      "\n"
     ]
    },
    {
     "name": "stderr",
     "output_type": "stream",
     "text": [
      "Epoch 15/20  Mem : 11.5GB  LR : 1.37E-04  Loss: 0.0717: 100%|██████████| 1385/1385 [05:43<00:00,  4.04it/s]\n",
      "Val Loss: 0.2798: 100%|██████████| 1471/1471 [04:05<00:00,  5.99it/s]                                                                                                                                                                                       \n"
     ]
    },
    {
     "name": "stdout",
     "output_type": "stream",
     "text": [
      "loss : 0.2798\tSAVED MODEL\n",
      "\n"
     ]
    },
    {
     "name": "stderr",
     "output_type": "stream",
     "text": [
      "Epoch 16/20  Mem : 11.5GB  LR : 1.03E-04  Loss: 0.0708: 100%|██████████| 1385/1385 [05:41<00:00,  4.06it/s]\n",
      "Val Loss: 0.2784: 100%|██████████| 1471/1471 [04:06<00:00,  5.98it/s]                                                                                                                                                                                       \n"
     ]
    },
    {
     "name": "stdout",
     "output_type": "stream",
     "text": [
      "loss : 0.2784\tSAVED MODEL\n",
      "\n"
     ]
    },
    {
     "name": "stderr",
     "output_type": "stream",
     "text": [
      "Epoch 17/20  Mem : 11.5GB  LR : 7.33E-05  Loss: 0.0706: 100%|██████████| 1385/1385 [05:41<00:00,  4.06it/s]\n",
      "Val Loss: 0.2952: 100%|██████████| 1471/1471 [04:05<00:00,  5.98it/s]                                                                                                                                                                                       \n"
     ]
    },
    {
     "name": "stdout",
     "output_type": "stream",
     "text": [
      "loss : 0.2952\n",
      "\n"
     ]
    },
    {
     "name": "stderr",
     "output_type": "stream",
     "text": [
      "Epoch 18/20  Mem : 11.5GB  LR : 4.78E-05  Loss: 0.0704: 100%|██████████| 1385/1385 [05:42<00:00,  4.05it/s]\n",
      "Val Loss: 0.2942: 100%|██████████| 1471/1471 [04:05<00:00,  5.99it/s]                                                                                                                                                                                       \n"
     ]
    },
    {
     "name": "stdout",
     "output_type": "stream",
     "text": [
      "loss : 0.2942\n",
      "\n"
     ]
    },
    {
     "name": "stderr",
     "output_type": "stream",
     "text": [
      "Epoch 19/20  Mem : 11.5GB  LR : 2.73E-05  Loss: 0.0699: 100%|██████████| 1385/1385 [05:40<00:00,  4.07it/s]\n",
      "Val Loss: 0.2786: 100%|██████████| 1471/1471 [04:06<00:00,  5.97it/s]                                                                                                                                                                                       \n"
     ]
    },
    {
     "name": "stdout",
     "output_type": "stream",
     "text": [
      "loss : 0.2786\n",
      "\n"
     ]
    },
    {
     "name": "stderr",
     "output_type": "stream",
     "text": [
      "wandb: WARNING No program path found, not creating job artifact. See https://docs.wandb.ai/guides/launch/create-job\n",
      "\u001b[34m\u001b[1mwandb\u001b[0m:                                                                                \n",
      "\u001b[34m\u001b[1mwandb\u001b[0m: \n",
      "\u001b[34m\u001b[1mwandb\u001b[0m: Run history:\n",
      "\u001b[34m\u001b[1mwandb\u001b[0m:      epoch ▁▁▁▁▂▂▂▂▂▂▃▃▃▃▄▄▄▄▄▄▅▅▅▅▅▅▆▆▆▆▇▇▇▇▇▇████\n",
      "\u001b[34m\u001b[1mwandb\u001b[0m: train_loss █▆▂▂▂▂▂▁▁▁▁▁▁▁▁▁▁▁▁▁\n",
      "\u001b[34m\u001b[1mwandb\u001b[0m: valid_loss ▄█▆▅▄▃▃▃▁▃▂▂▁▁▁▁▁▂▂▁\n",
      "\u001b[34m\u001b[1mwandb\u001b[0m: \n",
      "\u001b[34m\u001b[1mwandb\u001b[0m: Run summary:\n",
      "\u001b[34m\u001b[1mwandb\u001b[0m:      epoch 19\n",
      "\u001b[34m\u001b[1mwandb\u001b[0m: train_loss 0.06987\n",
      "\u001b[34m\u001b[1mwandb\u001b[0m: valid_loss 0.27859\n",
      "\u001b[34m\u001b[1mwandb\u001b[0m: \n",
      "\u001b[34m\u001b[1mwandb\u001b[0m: 🚀 View run \u001b[33mexp005_fold0\u001b[0m at: \u001b[34m\u001b[4mhttps://wandb.ai/welshonionman/SenNet/runs/3q7grgww\u001b[0m\n",
      "\u001b[34m\u001b[1mwandb\u001b[0m: Synced 5 W&B file(s), 0 media file(s), 0 artifact file(s) and 0 other file(s)\n",
      "\u001b[34m\u001b[1mwandb\u001b[0m: Find logs at: \u001b[35m\u001b[1m/kaggle/wandb/run-20240109_150336-3q7grgww/logs\u001b[0m\n"
     ]
    },
    {
     "name": "stdout",
     "output_type": "stream",
     "text": [
      "model_arch:  Unet\n",
      "backbone:  se_resnext50_32x4d\n"
     ]
    },
    {
     "name": "stderr",
     "output_type": "stream",
     "text": [
      "\u001b[34m\u001b[1mwandb\u001b[0m: Tracking run with wandb version 0.16.1\n",
      "\u001b[34m\u001b[1mwandb\u001b[0m: Run data is saved locally in \u001b[35m\u001b[1m/kaggle/wandb/run-20240109_182014-4e666f8p\u001b[0m\n",
      "\u001b[34m\u001b[1mwandb\u001b[0m: Run \u001b[1m`wandb offline`\u001b[0m to turn off syncing.\n",
      "\u001b[34m\u001b[1mwandb\u001b[0m: Syncing run \u001b[33mexp005_fold1\u001b[0m\n",
      "\u001b[34m\u001b[1mwandb\u001b[0m: ⭐️ View project at \u001b[34m\u001b[4mhttps://wandb.ai/welshonionman/SenNet\u001b[0m\n",
      "\u001b[34m\u001b[1mwandb\u001b[0m: 🚀 View run at \u001b[34m\u001b[4mhttps://wandb.ai/welshonionman/SenNet/runs/4e666f8p\u001b[0m\n",
      "Epoch 0/20  Mem : 11.5GB  LR : 5.00E-04  Loss: 0.2031: 100%|██████████| 2383/2383 [09:48<00:00,  4.05it/s]\n",
      "Val Loss: 0.2179: 100%|██████████| 236/236 [00:39<00:00,  5.95it/s]                                                                                                                                                                                         \n"
     ]
    },
    {
     "name": "stdout",
     "output_type": "stream",
     "text": [
      "loss : 0.2179\tSAVED MODEL\n",
      "\n"
     ]
    },
    {
     "name": "stderr",
     "output_type": "stream",
     "text": [
      "Epoch 1/20  Mem : 11.5GB  LR : 5.00E-03  Loss: 0.1780: 100%|██████████| 2383/2383 [09:48<00:00,  4.05it/s]\n",
      "Val Loss: 0.2176: 100%|██████████| 236/236 [00:39<00:00,  5.94it/s]                                                                                                                                                                                         \n"
     ]
    },
    {
     "name": "stdout",
     "output_type": "stream",
     "text": [
      "loss : 0.2176\tSAVED MODEL\n",
      "\n"
     ]
    },
    {
     "name": "stderr",
     "output_type": "stream",
     "text": [
      "Epoch 2/20  Mem : 11.5GB  LR : 5.00E-04  Loss: 0.1050: 100%|██████████| 2383/2383 [09:46<00:00,  4.06it/s]\n",
      "Val Loss: 0.1537: 100%|██████████| 236/236 [00:39<00:00,  5.98it/s]                                                                                                                                                                                         \n"
     ]
    },
    {
     "name": "stdout",
     "output_type": "stream",
     "text": [
      "loss : 0.1537\tSAVED MODEL\n",
      "\n"
     ]
    },
    {
     "name": "stderr",
     "output_type": "stream",
     "text": [
      "Epoch 3/20  Mem : 11.5GB  LR : 4.97E-04  Loss: 0.0945: 100%|██████████| 2383/2383 [09:49<00:00,  4.04it/s]\n",
      "Val Loss: 0.1485: 100%|██████████| 236/236 [00:39<00:00,  5.97it/s]                                                                                                                                                                                         \n"
     ]
    },
    {
     "name": "stdout",
     "output_type": "stream",
     "text": [
      "loss : 0.1485\tSAVED MODEL\n",
      "\n"
     ]
    },
    {
     "name": "stderr",
     "output_type": "stream",
     "text": [
      "Epoch 4/20  Mem : 11.5GB  LR : 4.88E-04  Loss: 0.0903: 100%|██████████| 2383/2383 [09:48<00:00,  4.05it/s]\n",
      "Val Loss: 0.1573: 100%|██████████| 236/236 [00:39<00:00,  5.96it/s]                                                                                                                                                                                         \n"
     ]
    },
    {
     "name": "stdout",
     "output_type": "stream",
     "text": [
      "loss : 0.1573\n",
      "\n"
     ]
    },
    {
     "name": "stderr",
     "output_type": "stream",
     "text": [
      "Epoch 5/20  Mem : 11.5GB  LR : 4.73E-04  Loss: 0.0884: 100%|██████████| 2383/2383 [09:51<00:00,  4.03it/s]\n",
      "Val Loss: 0.1447: 100%|██████████| 236/236 [00:39<00:00,  5.98it/s]                                                                                                                                                                                         \n"
     ]
    },
    {
     "name": "stdout",
     "output_type": "stream",
     "text": [
      "loss : 0.1447\tSAVED MODEL\n",
      "\n"
     ]
    },
    {
     "name": "stderr",
     "output_type": "stream",
     "text": [
      "Epoch 6/20  Mem : 11.5GB  LR : 4.52E-04  Loss: 0.0868: 100%|██████████| 2383/2383 [09:48<00:00,  4.05it/s]\n",
      "Val Loss: 0.1456: 100%|██████████| 236/236 [00:39<00:00,  5.92it/s]                                                                                                                                                                                         \n"
     ]
    },
    {
     "name": "stdout",
     "output_type": "stream",
     "text": [
      "loss : 0.1456\n",
      "\n"
     ]
    },
    {
     "name": "stderr",
     "output_type": "stream",
     "text": [
      "Epoch 7/20  Mem : 11.5GB  LR : 4.27E-04  Loss: 0.0846: 100%|██████████| 2383/2383 [09:44<00:00,  4.07it/s]\n",
      "Val Loss: 0.1417: 100%|██████████| 236/236 [00:39<00:00,  5.96it/s]                                                                                                                                                                                         \n"
     ]
    },
    {
     "name": "stdout",
     "output_type": "stream",
     "text": [
      "loss : 0.1417\tSAVED MODEL\n",
      "\n"
     ]
    },
    {
     "name": "stderr",
     "output_type": "stream",
     "text": [
      "Epoch 8/20  Mem : 11.5GB  LR : 3.97E-04  Loss: 0.0846: 100%|██████████| 2383/2383 [09:48<00:00,  4.05it/s]\n",
      "Val Loss: 0.1405: 100%|██████████| 236/236 [00:40<00:00,  5.89it/s]                                                                                                                                                                                         \n"
     ]
    },
    {
     "name": "stdout",
     "output_type": "stream",
     "text": [
      "loss : 0.1405\tSAVED MODEL\n",
      "\n"
     ]
    },
    {
     "name": "stderr",
     "output_type": "stream",
     "text": [
      "Epoch 9/20  Mem : 11.5GB  LR : 3.64E-04  Loss: 0.0827: 100%|██████████| 2383/2383 [09:48<00:00,  4.05it/s]\n",
      "Val Loss: 0.1366: 100%|██████████| 236/236 [00:39<00:00,  5.93it/s]                                                                                                                                                                                         \n"
     ]
    },
    {
     "name": "stdout",
     "output_type": "stream",
     "text": [
      "loss : 0.1366\tSAVED MODEL\n",
      "\n"
     ]
    },
    {
     "name": "stderr",
     "output_type": "stream",
     "text": [
      "Epoch 10/20  Mem : 11.5GB  LR : 3.27E-04  Loss: 0.0817: 100%|██████████| 2383/2383 [09:47<00:00,  4.05it/s]\n",
      "Val Loss: 0.1377: 100%|██████████| 236/236 [00:40<00:00,  5.83it/s]                                                                                                                                                                                         \n"
     ]
    },
    {
     "name": "stdout",
     "output_type": "stream",
     "text": [
      "loss : 0.1377\n",
      "\n"
     ]
    },
    {
     "name": "stderr",
     "output_type": "stream",
     "text": [
      "Epoch 11/20  Mem : 11.5GB  LR : 2.89E-04  Loss: 0.0827: 100%|██████████| 2383/2383 [09:50<00:00,  4.04it/s]\n",
      "Val Loss: 0.1434: 100%|██████████| 236/236 [00:40<00:00,  5.88it/s]                                                                                                                                                                                         \n"
     ]
    },
    {
     "name": "stdout",
     "output_type": "stream",
     "text": [
      "loss : 0.1434\n",
      "\n"
     ]
    },
    {
     "name": "stderr",
     "output_type": "stream",
     "text": [
      "Epoch 12/20  Mem : 11.5GB  LR : 2.50E-04  Loss: 0.0804: 100%|██████████| 2383/2383 [09:49<00:00,  4.04it/s]\n",
      "Val Loss: 0.1399: 100%|██████████| 236/236 [00:39<00:00,  5.95it/s]                                                                                                                                                                                         \n"
     ]
    },
    {
     "name": "stdout",
     "output_type": "stream",
     "text": [
      "loss : 0.1399\n",
      "\n"
     ]
    },
    {
     "name": "stderr",
     "output_type": "stream",
     "text": [
      "Epoch 13/20  Mem : 11.5GB  LR : 2.11E-04  Loss: 0.0800: 100%|██████████| 2383/2383 [09:47<00:00,  4.06it/s]\n",
      "Val Loss: 0.1390: 100%|██████████| 236/236 [00:39<00:00,  5.93it/s]                                                                                                                                                                                         \n"
     ]
    },
    {
     "name": "stdout",
     "output_type": "stream",
     "text": [
      "loss : 0.1390\n",
      "\n"
     ]
    },
    {
     "name": "stderr",
     "output_type": "stream",
     "text": [
      "Epoch 14/20  Mem : 11.5GB  LR : 1.73E-04  Loss: 0.0794: 100%|██████████| 2383/2383 [09:49<00:00,  4.04it/s]\n",
      "Val Loss: 0.1457: 100%|██████████| 236/236 [00:39<00:00,  5.94it/s]                                                                                                                                                                                         \n"
     ]
    },
    {
     "name": "stdout",
     "output_type": "stream",
     "text": [
      "loss : 0.1457\n",
      "\n"
     ]
    },
    {
     "name": "stderr",
     "output_type": "stream",
     "text": [
      "Epoch 15/20  Mem : 11.5GB  LR : 1.37E-04  Loss: 0.0794: 100%|██████████| 2383/2383 [09:49<00:00,  4.04it/s]\n",
      "Val Loss: 0.1393: 100%|██████████| 236/236 [00:39<00:00,  5.95it/s]                                                                                                                                                                                         \n"
     ]
    },
    {
     "name": "stdout",
     "output_type": "stream",
     "text": [
      "loss : 0.1393\n",
      "\n"
     ]
    },
    {
     "name": "stderr",
     "output_type": "stream",
     "text": [
      "Epoch 16/20  Mem : 11.5GB  LR : 1.03E-04  Loss: 0.0782: 100%|██████████| 2383/2383 [09:51<00:00,  4.03it/s]\n",
      "Val Loss: 0.1342: 100%|██████████| 236/236 [00:39<00:00,  5.93it/s]                                                                                                                                                                                         \n"
     ]
    },
    {
     "name": "stdout",
     "output_type": "stream",
     "text": [
      "loss : 0.1342\tSAVED MODEL\n",
      "\n"
     ]
    },
    {
     "name": "stderr",
     "output_type": "stream",
     "text": [
      "Epoch 17/20  Mem : 11.5GB  LR : 7.33E-05  Loss: 0.0781: 100%|██████████| 2383/2383 [09:47<00:00,  4.05it/s]\n",
      "Val Loss: 0.1366: 100%|██████████| 236/236 [00:39<00:00,  5.93it/s]                                                                                                                                                                                         \n"
     ]
    },
    {
     "name": "stdout",
     "output_type": "stream",
     "text": [
      "loss : 0.1366\n",
      "\n"
     ]
    },
    {
     "name": "stderr",
     "output_type": "stream",
     "text": [
      "Epoch 18/20  Mem : 11.5GB  LR : 4.78E-05  Loss: 0.0776: 100%|██████████| 2383/2383 [09:49<00:00,  4.04it/s]\n",
      "Val Loss: 0.1390: 100%|██████████| 236/236 [00:40<00:00,  5.89it/s]                                                                                                                                                                                         \n"
     ]
    },
    {
     "name": "stdout",
     "output_type": "stream",
     "text": [
      "loss : 0.1390\n",
      "\n"
     ]
    },
    {
     "name": "stderr",
     "output_type": "stream",
     "text": [
      "Epoch 19/20  Mem : 11.5GB  LR : 2.73E-05  Loss: 0.0775: 100%|██████████| 2383/2383 [09:50<00:00,  4.04it/s]\n",
      "Val Loss: 0.1369: 100%|██████████| 236/236 [00:39<00:00,  5.93it/s]                                                                                                                                                                                         \n"
     ]
    },
    {
     "name": "stdout",
     "output_type": "stream",
     "text": [
      "loss : 0.1369\n",
      "\n"
     ]
    },
    {
     "name": "stderr",
     "output_type": "stream",
     "text": [
      "wandb: WARNING No program path found, not creating job artifact. See https://docs.wandb.ai/guides/launch/create-job\n",
      "\u001b[34m\u001b[1mwandb\u001b[0m:                                                                                \n",
      "\u001b[34m\u001b[1mwandb\u001b[0m: \n",
      "\u001b[34m\u001b[1mwandb\u001b[0m: Run history:\n",
      "\u001b[34m\u001b[1mwandb\u001b[0m:      epoch ▁▁▁▁▂▂▂▂▂▂▃▃▃▃▄▄▄▄▄▄▅▅▅▅▅▅▆▆▆▆▇▇▇▇▇▇████\n",
      "\u001b[34m\u001b[1mwandb\u001b[0m: train_loss █▇▃▂▂▂▂▁▁▁▁▁▁▁▁▁▁▁▁▁\n",
      "\u001b[34m\u001b[1mwandb\u001b[0m: valid_loss ██▃▂▃▂▂▂▂▁▁▂▁▁▂▁▁▁▁▁\n",
      "\u001b[34m\u001b[1mwandb\u001b[0m: \n",
      "\u001b[34m\u001b[1mwandb\u001b[0m: Run summary:\n",
      "\u001b[34m\u001b[1mwandb\u001b[0m:      epoch 19\n",
      "\u001b[34m\u001b[1mwandb\u001b[0m: train_loss 0.07753\n",
      "\u001b[34m\u001b[1mwandb\u001b[0m: valid_loss 0.13689\n",
      "\u001b[34m\u001b[1mwandb\u001b[0m: \n",
      "\u001b[34m\u001b[1mwandb\u001b[0m: 🚀 View run \u001b[33mexp005_fold1\u001b[0m at: \u001b[34m\u001b[4mhttps://wandb.ai/welshonionman/SenNet/runs/4e666f8p\u001b[0m\n",
      "\u001b[34m\u001b[1mwandb\u001b[0m: Synced 5 W&B file(s), 0 media file(s), 0 artifact file(s) and 0 other file(s)\n",
      "\u001b[34m\u001b[1mwandb\u001b[0m: Find logs at: \u001b[35m\u001b[1m/kaggle/wandb/run-20240109_182014-4e666f8p/logs\u001b[0m\n"
     ]
    }
   ],
   "source": [
    "if cfg.debug:\n",
    "    print(\"!!!Debug mode!!!\\n\")\n",
    "    cfg.epochs = 5\n",
    "\n",
    "for fold in range(2):\n",
    "    train_dataloader, valid_dataloader = init_dataset(fold, df, cfg)\n",
    "    model, scaler, criterion, optimizer, scheduler, metrics = init_model(cfg)\n",
    "    slacknotify = init_exp(fold, cfg)\n",
    "\n",
    "    path_best = f\"./{cfg.exp_name}/{cfg.exp_name}_best_fold{fold}.pth\"\n",
    "    path_last = f\"./{cfg.exp_name}/{cfg.exp_name}_last_fold{fold}.pth\"\n",
    "\n",
    "    best_loss = float(\"inf\")\n",
    "    for epoch in range(cfg.epochs):\n",
    "        model.train()\n",
    "        total_loss = 0.0\n",
    "        pbar_train = tqdm(enumerate(train_dataloader), total=len(train_dataloader), bar_format=\"{l_bar}{bar:10}{r_bar}{bar:-0b}\")\n",
    "\n",
    "        for i, (images, masks) in pbar_train:\n",
    "            images, masks = images.cuda(), masks.cuda()\n",
    "            optimizer.zero_grad()\n",
    "\n",
    "            with amp.autocast():\n",
    "                preds = model(images)\n",
    "                loss = criterion(preds, masks)\n",
    "                scaler.scale(loss).backward()\n",
    "                scaler.step(optimizer)\n",
    "                scaler.update()\n",
    "                total_loss += loss.detach().item()\n",
    "\n",
    "            loss_ = total_loss / (i + 1)\n",
    "            lr = f\"LR : {scheduler.get_lr()[0]:.2E}\"\n",
    "            gpu_mem = f\"Mem : {torch.cuda.memory_reserved() / 1E9:.3g}GB\"\n",
    "            pbar_train.set_description((\"%10s  \" * 3 + \"%10s\") % (f\"Epoch {epoch}/{cfg.epochs}\", gpu_mem, lr, f\"Loss: {loss_:.4f}\"))\n",
    "\n",
    "        train_loss = loss_\n",
    "        scheduler.step()\n",
    "        wandb.log({\"epoch\": epoch, \"train_loss\": train_loss})\n",
    "\n",
    "        model.eval()\n",
    "        total_loss = 0.0\n",
    "        pbar_val = tqdm(enumerate(valid_dataloader), total=len(valid_dataloader), bar_format=\"{l_bar}{bar:10}{r_bar}{bar:-10b}\")\n",
    "\n",
    "        for i, (images, masks) in pbar_val:\n",
    "            images, masks = images.cuda(), masks.cuda()\n",
    "            with torch.no_grad():\n",
    "                preds = model(images)\n",
    "                loss = criterion(preds, masks)\n",
    "                total_loss += loss.item()\n",
    "\n",
    "            loss_ = total_loss / (i + 1)\n",
    "            pbar_val.set_description((\"%10s\") % (f\"Val Loss: {loss_:.4f}\"))\n",
    "        valid_loss = loss_\n",
    "        wandb.log({\"epoch\": epoch, \"valid_loss\": valid_loss})\n",
    "\n",
    "        if valid_loss < best_loss:\n",
    "            print(f\"loss : {valid_loss:.4f}\\tSAVED MODEL\\n\")\n",
    "            slacknotify.send_reply(f\"epoch : {epoch}\\tscore : {valid_loss:.4f}\\tBEST\")\n",
    "            best_loss = valid_loss\n",
    "            save_model(model, cfg, path_best, loss=loss)\n",
    "        else:\n",
    "            print(f\"loss : {valid_loss:.4f}\\n\")\n",
    "            slacknotify.send_reply(f\"epoch : {epoch}\\tscore : {valid_loss:.4f}\")\n",
    "\n",
    "    save_model(model, cfg, path_last, loss=valid_loss)\n",
    "    wandb.config.update({\"last_loss\": valid_loss, \"best_loss\": best_loss})\n",
    "\n",
    "    slacknotify.send_reply(f\"{cfg.exp_name}_fold{fold} training finished\\nbest loss : {best_loss:.4f} last loss : {loss_:.4f}\", True)\n",
    "\n",
    "    if wandb.run:\n",
    "        wandb.finish()"
   ]
  },
  {
   "cell_type": "code",
   "execution_count": 5,
   "metadata": {
    "execution": {
     "iopub.execute_input": "2024-01-09T21:50:25.426659Z",
     "iopub.status.busy": "2024-01-09T21:50:25.426039Z",
     "iopub.status.idle": "2024-01-09T22:37:45.881648Z",
     "shell.execute_reply": "2024-01-09T22:37:45.877279Z"
    }
   },
   "outputs": [
    {
     "name": "stdout",
     "output_type": "stream",
     "text": [
      "fold_0\n",
      "model_name Unet\n",
      "backbone se_resnext50_32x4d\n"
     ]
    },
    {
     "name": "stderr",
     "output_type": "stream",
     "text": [
      "100%|███████████████████████████████████████████████████████████████████████████████████████████████████████████████████████████████████████████████████████████████████████████████████████████████████████████████████| 2278/2278 [09:15<00:00,  4.10it/s]\n",
      "100%|███████████████████████████████████████████████████████████████████████████████████████████████████████████████████████████████████████████████████████████████████████████████████████████████████████████████████| 1302/1302 [08:30<00:00,  2.55it/s]\n",
      "100%|█████████████████████████████████████████████████████████████████████████████████████████████████████████████████████████████████████████████████████████████████████████████████████████████████████████████████████| 911/911 [08:13<00:00,  1.85it/s]\n"
     ]
    },
    {
     "name": "stdout",
     "output_type": "stream",
     "text": [
      "(0.42, 0.7893)\n",
      "fold_1\n",
      "model_name Unet\n",
      "backbone se_resnext50_32x4d\n"
     ]
    },
    {
     "name": "stderr",
     "output_type": "stream",
     "text": [
      "100%|█████████████████████████████████████████████████████████████████████████████████████████████████████████████████████████████████████████████████████████████████████████████████████████████████████████████████████| 500/500 [03:46<00:00,  2.21it/s]\n",
      "100%|███████████████████████████████████████████████████████████████████████████████████████████████████████████████████████████████████████████████████████████████████████████████████████████████████████████████████| 1705/1705 [03:55<00:00,  7.24it/s]\n",
      "100%|███████████████████████████████████████████████████████████████████████████████████████████████████████████████████████████████████████████████████████████████████████████████████████████████████████████████████| 1509/1509 [03:57<00:00,  6.36it/s]\n"
     ]
    },
    {
     "name": "stdout",
     "output_type": "stream",
     "text": [
      "(0.36, 0.8836)\n"
     ]
    }
   ],
   "source": [
    "fold_dict = json.load(open(\"/kaggle/src/dataset/fold.json\", \"r\"))\n",
    "\n",
    "for fold in range(2):\n",
    "    print(f\"fold_{fold}\")\n",
    "    valid_kidney = fold_dict[f\"fold{fold}\"][\"valid\"][0]\n",
    "    path_best = f\"./{cfg.exp_name}/{cfg.exp_name}_best_fold{fold}.pth\"\n",
    "    model = load_inference_model(path_best, cfg)\n",
    "\n",
    "    stack_path = f\"/kaggle/working/dataset/stack_train01/{valid_kidney}_images.npy\"\n",
    "    label_path = f\"/kaggle/working/dataset/stack_train01/{valid_kidney}_labels.npy\"\n",
    "    save_path = \"./preds\"\n",
    "    preds_path = f\"{save_path}/{valid_kidney}_preds.npy\"\n",
    "    inference(model, stack_path, save_path, cfg)\n",
    "\n",
    "    label = np.load(label_path)\n",
    "    preds = np.load(preds_path)\n",
    "    thresh_score_dict = {}\n",
    "\n",
    "    for thresh in np.arange(0.1, 0.99, 0.1):\n",
    "        thresh = round(thresh, 5)\n",
    "        thresh_score_dict[thresh] = compute_surface_dice_score_from_volume(ne.evaluate(\"preds > thresh\"), label)\n",
    "\n",
    "    max_score_thresh = max(thresh_score_dict, key=thresh_score_dict.get)\n",
    "\n",
    "    for thresh in np.arange(max_score_thresh - 0.1, max_score_thresh + 0.1, 0.01):\n",
    "        thresh = round(thresh, 5)\n",
    "        thresh_score_dict[thresh] = compute_surface_dice_score_from_volume(ne.evaluate(\"preds > thresh\"), label)\n",
    "\n",
    "    print(max(thresh_score_dict.items(), key=lambda x: x[1]))"
   ]
  },
  {
   "cell_type": "code",
   "execution_count": null,
   "metadata": {},
   "outputs": [],
   "source": []
  }
 ],
 "metadata": {
  "kaggle": {
   "accelerator": "nvidiaTeslaT4",
   "dataSources": [
    {
     "databundleVersionId": 6962461,
     "sourceId": 61446,
     "sourceType": "competition"
    },
    {
     "datasetId": 1074109,
     "sourceId": 1807973,
     "sourceType": "datasetVersion"
    },
    {
     "sourceId": 150248402,
     "sourceType": "kernelVersion"
    }
   ],
   "dockerImageVersionId": 30587,
   "isGpuEnabled": true,
   "isInternetEnabled": true,
   "language": "python",
   "sourceType": "notebook"
  },
  "kernelspec": {
   "display_name": "Python 3",
   "language": "python",
   "name": "python3"
  },
  "language_info": {
   "codemirror_mode": {
    "name": "ipython",
    "version": 3
   },
   "file_extension": ".py",
   "mimetype": "text/x-python",
   "name": "python",
   "nbconvert_exporter": "python",
   "pygments_lexer": "ipython3",
   "version": "3.10.13"
  }
 },
 "nbformat": 4,
 "nbformat_minor": 4
}
