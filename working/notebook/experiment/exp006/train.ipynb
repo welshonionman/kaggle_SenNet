{
 "cells": [
  {
   "cell_type": "code",
   "execution_count": 1,
   "metadata": {
    "_cell_guid": "b1076dfc-b9ad-4769-8c92-a6c4dae69d19",
    "_kg_hide-input": true,
    "_kg_hide-output": true,
    "_uuid": "8f2839f25d086af736a60e9eeb907d3b93b6e0e5",
    "execution": {
     "iopub.execute_input": "2024-01-09T22:38:02.701699Z",
     "iopub.status.busy": "2024-01-09T22:38:02.701365Z",
     "iopub.status.idle": "2024-01-09T22:38:09.829020Z",
     "shell.execute_reply": "2024-01-09T22:38:09.828398Z"
    }
   },
   "outputs": [],
   "source": [
    "import json\n",
    "import pandas as pd\n",
    "import numpy as np\n",
    "import numexpr as ne\n",
    "import os\n",
    "import albumentations as A\n",
    "from albumentations.pytorch import ToTensorV2\n",
    "import wandb\n",
    "from dotenv import load_dotenv\n",
    "from tqdm import tqdm\n",
    "import torch\n",
    "import torch.cuda.amp as amp\n",
    "\n",
    "from src.model.model import save_model, load_inference_model\n",
    "from src.dataset.df import df_dataset, check_dataset\n",
    "from src.utils.common import set_seed\n",
    "\n",
    "from src.experiment.inference import inference\n",
    "from src.experiment.initialize import init_dataset, init_model, init_exp\n",
    "from src.utils.metrics import compute_surface_dice_score_from_volume"
   ]
  },
  {
   "cell_type": "code",
   "execution_count": 2,
   "metadata": {
    "execution": {
     "iopub.execute_input": "2024-01-09T22:38:09.831896Z",
     "iopub.status.busy": "2024-01-09T22:38:09.831409Z",
     "iopub.status.idle": "2024-01-09T22:38:09.863219Z",
     "shell.execute_reply": "2024-01-09T22:38:09.862556Z"
    }
   },
   "outputs": [],
   "source": [
    "class cfg:\n",
    "    debug = False\n",
    "    check_dataset = False\n",
    "\n",
    "    # = data CFG ====================================================\n",
    "\n",
    "    dataset_path = \"/kaggle/working/dataset/cropped_xy_512_256_z_5_5/\"\n",
    "    train_dataset = \"Base2dDataset\"\n",
    "    negative_sample_rate = 0.1\n",
    "    # = experiment CFG =================================================\n",
    "\n",
    "    project = \"SenNet\"\n",
    "    exp_name = os.path.basename(os.getcwd())\n",
    "    notes = \"negative_sample=0.1 cropped_xy_512_256_z_5_5\"\n",
    "\n",
    "    # = model CFG ======================================================\n",
    "\n",
    "    model_arch = \"Unet\"\n",
    "    backbone = \"se_resnext50_32x4d\"\n",
    "    in_chans = 5\n",
    "    target_size = 5\n",
    "\n",
    "    # = training CFG ===================================================\n",
    "\n",
    "    epochs = 20\n",
    "\n",
    "    train_batch_size = 16\n",
    "    valid_batch_size = train_batch_size\n",
    "\n",
    "    loss = \"DiceLoss\"\n",
    "    metrics = \"Dice\"\n",
    "    lr = 5e-4\n",
    "    num_workers = 12\n",
    "\n",
    "    # = augmentation ===================================================\n",
    "\n",
    "    image_size = 512\n",
    "    train_aug = [\n",
    "        A.RandomRotate90(p=0.5),\n",
    "        A.RandomGamma(p=0.5),\n",
    "        A.RandomBrightnessContrast(p=0.5),\n",
    "        A.RandomResizedCrop(image_size, image_size, scale=(0.8, 1)),\n",
    "        A.ShiftScaleRotate(p=0.5),\n",
    "        A.GridDistortion(num_steps=5, distort_limit=0.3, p=0.5),\n",
    "        ToTensorV2(transpose_mask=True),\n",
    "    ]\n",
    "\n",
    "    valid_aug = [\n",
    "        ToTensorV2(transpose_mask=True),\n",
    "    ]\n",
    "\n",
    "    # =============== inference ========================================\n",
    "\n",
    "    test_dataset = \"BaseInferenceDataset\"\n",
    "    stride = image_size // 2\n",
    "    drop_egde_pixel = 32\n",
    "\n",
    "\n",
    "load_dotenv(\"/kaggle/key.env\")\n",
    "set_seed()"
   ]
  },
  {
   "cell_type": "code",
   "execution_count": 3,
   "metadata": {
    "execution": {
     "iopub.execute_input": "2024-01-09T22:38:09.866273Z",
     "iopub.status.busy": "2024-01-09T22:38:09.865735Z",
     "iopub.status.idle": "2024-01-09T22:38:10.296549Z",
     "shell.execute_reply": "2024-01-09T22:38:10.295718Z"
    }
   },
   "outputs": [
    {
     "data": {
      "text/html": [
       "<div>\n",
       "<style scoped>\n",
       "    .dataframe tbody tr th:only-of-type {\n",
       "        vertical-align: middle;\n",
       "    }\n",
       "\n",
       "    .dataframe tbody tr th {\n",
       "        vertical-align: top;\n",
       "    }\n",
       "\n",
       "    .dataframe thead th {\n",
       "        text-align: right;\n",
       "    }\n",
       "</style>\n",
       "<table border=\"1\" class=\"dataframe\">\n",
       "  <thead>\n",
       "    <tr style=\"text-align: right;\">\n",
       "      <th></th>\n",
       "      <th>image_path</th>\n",
       "      <th>label_path</th>\n",
       "      <th>fname</th>\n",
       "      <th>kidney</th>\n",
       "      <th>x</th>\n",
       "      <th>y</th>\n",
       "      <th>z</th>\n",
       "      <th>std</th>\n",
       "      <th>sum</th>\n",
       "      <th>fold0</th>\n",
       "      <th>fold1</th>\n",
       "    </tr>\n",
       "  </thead>\n",
       "  <tbody>\n",
       "    <tr>\n",
       "      <th>0</th>\n",
       "      <td>/kaggle/working/dataset/cropped_xy_512_256_z_5...</td>\n",
       "      <td>/kaggle/working/dataset/cropped_xy_512_256_z_5...</td>\n",
       "      <td>x0_y0_z0_std0047_sum0</td>\n",
       "      <td>kidney_1_dense</td>\n",
       "      <td>0</td>\n",
       "      <td>0</td>\n",
       "      <td>0</td>\n",
       "      <td>47</td>\n",
       "      <td>0</td>\n",
       "      <td>valid</td>\n",
       "      <td>train</td>\n",
       "    </tr>\n",
       "    <tr>\n",
       "      <th>1</th>\n",
       "      <td>/kaggle/working/dataset/cropped_xy_512_256_z_5...</td>\n",
       "      <td>/kaggle/working/dataset/cropped_xy_512_256_z_5...</td>\n",
       "      <td>x0_y0_z100_std0044_sum0</td>\n",
       "      <td>kidney_1_dense</td>\n",
       "      <td>0</td>\n",
       "      <td>0</td>\n",
       "      <td>100</td>\n",
       "      <td>44</td>\n",
       "      <td>0</td>\n",
       "      <td>valid</td>\n",
       "      <td>train</td>\n",
       "    </tr>\n",
       "    <tr>\n",
       "      <th>2</th>\n",
       "      <td>/kaggle/working/dataset/cropped_xy_512_256_z_5...</td>\n",
       "      <td>/kaggle/working/dataset/cropped_xy_512_256_z_5...</td>\n",
       "      <td>x0_y0_z105_std0044_sum0</td>\n",
       "      <td>kidney_1_dense</td>\n",
       "      <td>0</td>\n",
       "      <td>0</td>\n",
       "      <td>105</td>\n",
       "      <td>44</td>\n",
       "      <td>0</td>\n",
       "      <td>valid</td>\n",
       "      <td>train</td>\n",
       "    </tr>\n",
       "    <tr>\n",
       "      <th>3</th>\n",
       "      <td>/kaggle/working/dataset/cropped_xy_512_256_z_5...</td>\n",
       "      <td>/kaggle/working/dataset/cropped_xy_512_256_z_5...</td>\n",
       "      <td>x0_y0_z10_std0046_sum0</td>\n",
       "      <td>kidney_1_dense</td>\n",
       "      <td>0</td>\n",
       "      <td>0</td>\n",
       "      <td>10</td>\n",
       "      <td>46</td>\n",
       "      <td>0</td>\n",
       "      <td>valid</td>\n",
       "      <td>train</td>\n",
       "    </tr>\n",
       "    <tr>\n",
       "      <th>4</th>\n",
       "      <td>/kaggle/working/dataset/cropped_xy_512_256_z_5...</td>\n",
       "      <td>/kaggle/working/dataset/cropped_xy_512_256_z_5...</td>\n",
       "      <td>x0_y0_z110_std0043_sum0</td>\n",
       "      <td>kidney_1_dense</td>\n",
       "      <td>0</td>\n",
       "      <td>0</td>\n",
       "      <td>110</td>\n",
       "      <td>43</td>\n",
       "      <td>0</td>\n",
       "      <td>valid</td>\n",
       "      <td>train</td>\n",
       "    </tr>\n",
       "    <tr>\n",
       "      <th>...</th>\n",
       "      <td>...</td>\n",
       "      <td>...</td>\n",
       "      <td>...</td>\n",
       "      <td>...</td>\n",
       "      <td>...</td>\n",
       "      <td>...</td>\n",
       "      <td>...</td>\n",
       "      <td>...</td>\n",
       "      <td>...</td>\n",
       "      <td>...</td>\n",
       "      <td>...</td>\n",
       "    </tr>\n",
       "    <tr>\n",
       "      <th>47512</th>\n",
       "      <td>/kaggle/working/dataset/cropped_xy_512_256_z_5...</td>\n",
       "      <td>/kaggle/working/dataset/cropped_xy_512_256_z_5...</td>\n",
       "      <td>x768_y0_z975_std0246_sum17667</td>\n",
       "      <td>kidney_3_sparse</td>\n",
       "      <td>768</td>\n",
       "      <td>0</td>\n",
       "      <td>975</td>\n",
       "      <td>246</td>\n",
       "      <td>17667</td>\n",
       "      <td>train</td>\n",
       "      <td>NaN</td>\n",
       "    </tr>\n",
       "    <tr>\n",
       "      <th>47513</th>\n",
       "      <td>/kaggle/working/dataset/cropped_xy_512_256_z_5...</td>\n",
       "      <td>/kaggle/working/dataset/cropped_xy_512_256_z_5...</td>\n",
       "      <td>x768_y0_z980_std0249_sum23029</td>\n",
       "      <td>kidney_3_sparse</td>\n",
       "      <td>768</td>\n",
       "      <td>0</td>\n",
       "      <td>980</td>\n",
       "      <td>249</td>\n",
       "      <td>23029</td>\n",
       "      <td>train</td>\n",
       "      <td>NaN</td>\n",
       "    </tr>\n",
       "    <tr>\n",
       "      <th>47514</th>\n",
       "      <td>/kaggle/working/dataset/cropped_xy_512_256_z_5...</td>\n",
       "      <td>/kaggle/working/dataset/cropped_xy_512_256_z_5...</td>\n",
       "      <td>x768_y0_z985_std0249_sum32714</td>\n",
       "      <td>kidney_3_sparse</td>\n",
       "      <td>768</td>\n",
       "      <td>0</td>\n",
       "      <td>985</td>\n",
       "      <td>249</td>\n",
       "      <td>32714</td>\n",
       "      <td>train</td>\n",
       "      <td>NaN</td>\n",
       "    </tr>\n",
       "    <tr>\n",
       "      <th>47515</th>\n",
       "      <td>/kaggle/working/dataset/cropped_xy_512_256_z_5...</td>\n",
       "      <td>/kaggle/working/dataset/cropped_xy_512_256_z_5...</td>\n",
       "      <td>x768_y0_z990_std0251_sum33685</td>\n",
       "      <td>kidney_3_sparse</td>\n",
       "      <td>768</td>\n",
       "      <td>0</td>\n",
       "      <td>990</td>\n",
       "      <td>251</td>\n",
       "      <td>33685</td>\n",
       "      <td>train</td>\n",
       "      <td>NaN</td>\n",
       "    </tr>\n",
       "    <tr>\n",
       "      <th>47516</th>\n",
       "      <td>/kaggle/working/dataset/cropped_xy_512_256_z_5...</td>\n",
       "      <td>/kaggle/working/dataset/cropped_xy_512_256_z_5...</td>\n",
       "      <td>x768_y0_z995_std0252_sum27348</td>\n",
       "      <td>kidney_3_sparse</td>\n",
       "      <td>768</td>\n",
       "      <td>0</td>\n",
       "      <td>995</td>\n",
       "      <td>252</td>\n",
       "      <td>27348</td>\n",
       "      <td>train</td>\n",
       "      <td>NaN</td>\n",
       "    </tr>\n",
       "  </tbody>\n",
       "</table>\n",
       "<p>47517 rows × 11 columns</p>\n",
       "</div>"
      ],
      "text/plain": [
       "                                              image_path  \\\n",
       "0      /kaggle/working/dataset/cropped_xy_512_256_z_5...   \n",
       "1      /kaggle/working/dataset/cropped_xy_512_256_z_5...   \n",
       "2      /kaggle/working/dataset/cropped_xy_512_256_z_5...   \n",
       "3      /kaggle/working/dataset/cropped_xy_512_256_z_5...   \n",
       "4      /kaggle/working/dataset/cropped_xy_512_256_z_5...   \n",
       "...                                                  ...   \n",
       "47512  /kaggle/working/dataset/cropped_xy_512_256_z_5...   \n",
       "47513  /kaggle/working/dataset/cropped_xy_512_256_z_5...   \n",
       "47514  /kaggle/working/dataset/cropped_xy_512_256_z_5...   \n",
       "47515  /kaggle/working/dataset/cropped_xy_512_256_z_5...   \n",
       "47516  /kaggle/working/dataset/cropped_xy_512_256_z_5...   \n",
       "\n",
       "                                              label_path  \\\n",
       "0      /kaggle/working/dataset/cropped_xy_512_256_z_5...   \n",
       "1      /kaggle/working/dataset/cropped_xy_512_256_z_5...   \n",
       "2      /kaggle/working/dataset/cropped_xy_512_256_z_5...   \n",
       "3      /kaggle/working/dataset/cropped_xy_512_256_z_5...   \n",
       "4      /kaggle/working/dataset/cropped_xy_512_256_z_5...   \n",
       "...                                                  ...   \n",
       "47512  /kaggle/working/dataset/cropped_xy_512_256_z_5...   \n",
       "47513  /kaggle/working/dataset/cropped_xy_512_256_z_5...   \n",
       "47514  /kaggle/working/dataset/cropped_xy_512_256_z_5...   \n",
       "47515  /kaggle/working/dataset/cropped_xy_512_256_z_5...   \n",
       "47516  /kaggle/working/dataset/cropped_xy_512_256_z_5...   \n",
       "\n",
       "                               fname           kidney    x  y    z  std  \\\n",
       "0              x0_y0_z0_std0047_sum0   kidney_1_dense    0  0    0   47   \n",
       "1            x0_y0_z100_std0044_sum0   kidney_1_dense    0  0  100   44   \n",
       "2            x0_y0_z105_std0044_sum0   kidney_1_dense    0  0  105   44   \n",
       "3             x0_y0_z10_std0046_sum0   kidney_1_dense    0  0   10   46   \n",
       "4            x0_y0_z110_std0043_sum0   kidney_1_dense    0  0  110   43   \n",
       "...                              ...              ...  ... ..  ...  ...   \n",
       "47512  x768_y0_z975_std0246_sum17667  kidney_3_sparse  768  0  975  246   \n",
       "47513  x768_y0_z980_std0249_sum23029  kidney_3_sparse  768  0  980  249   \n",
       "47514  x768_y0_z985_std0249_sum32714  kidney_3_sparse  768  0  985  249   \n",
       "47515  x768_y0_z990_std0251_sum33685  kidney_3_sparse  768  0  990  251   \n",
       "47516  x768_y0_z995_std0252_sum27348  kidney_3_sparse  768  0  995  252   \n",
       "\n",
       "         sum  fold0  fold1  \n",
       "0          0  valid  train  \n",
       "1          0  valid  train  \n",
       "2          0  valid  train  \n",
       "3          0  valid  train  \n",
       "4          0  valid  train  \n",
       "...      ...    ...    ...  \n",
       "47512  17667  train    NaN  \n",
       "47513  23029  train    NaN  \n",
       "47514  32714  train    NaN  \n",
       "47515  33685  train    NaN  \n",
       "47516  27348  train    NaN  \n",
       "\n",
       "[47517 rows x 11 columns]"
      ]
     },
     "metadata": {},
     "output_type": "display_data"
    }
   ],
   "source": [
    "def filter_dataset(df):\n",
    "    # trainのうちlabelが全くないものは90%の確率で除外\n",
    "    df[\"random\"] = np.random.rand(len(df))\n",
    "    df = df[(df[\"sum\"] > 0) | (df[\"fold0\"] == \"valid\") | (df[\"random\"] < cfg.negative_sample_rate)]\n",
    "    df = df.reset_index(drop=True)\n",
    "    df = df.drop([\"random\"], axis=1)\n",
    "    return df\n",
    "\n",
    "\n",
    "df = pd.read_csv(f\"{cfg.dataset_path}/dataset.csv\")\n",
    "df = filter_dataset(df)\n",
    "# df = df.sample(1000).reset_index(drop=True)\n",
    "if cfg.debug:\n",
    "    df = df.sample(10000).reset_index(drop=True)\n",
    "display(df)\n",
    "\n",
    "if cfg.check_dataset:\n",
    "    check_dataset(df, cfg)"
   ]
  },
  {
   "cell_type": "code",
   "execution_count": 4,
   "metadata": {
    "execution": {
     "iopub.execute_input": "2024-01-09T22:38:10.324462Z",
     "iopub.status.busy": "2024-01-09T22:38:10.323999Z",
     "iopub.status.idle": "2024-01-10T05:59:56.248905Z",
     "shell.execute_reply": "2024-01-10T05:59:56.247972Z"
    }
   },
   "outputs": [
    {
     "name": "stdout",
     "output_type": "stream",
     "text": [
      "model_arch:  Unet\n",
      "backbone:  se_resnext50_32x4d\n"
     ]
    },
    {
     "name": "stderr",
     "output_type": "stream",
     "text": [
      "\u001b[34m\u001b[1mwandb\u001b[0m: Currently logged in as: \u001b[33mwelshonionman\u001b[0m. Use \u001b[1m`wandb login --relogin`\u001b[0m to force relogin\n",
      "\u001b[34m\u001b[1mwandb\u001b[0m: wandb version 0.16.2 is available!  To upgrade, please run:\n",
      "\u001b[34m\u001b[1mwandb\u001b[0m:  $ pip install wandb --upgrade\n",
      "\u001b[34m\u001b[1mwandb\u001b[0m: Tracking run with wandb version 0.16.1\n",
      "\u001b[34m\u001b[1mwandb\u001b[0m: Run data is saved locally in \u001b[35m\u001b[1m/kaggle/wandb/run-20240109_223823-3zn41l6q\u001b[0m\n",
      "\u001b[34m\u001b[1mwandb\u001b[0m: Run \u001b[1m`wandb offline`\u001b[0m to turn off syncing.\n",
      "\u001b[34m\u001b[1mwandb\u001b[0m: Syncing run \u001b[33mexp006_fold0\u001b[0m\n",
      "\u001b[34m\u001b[1mwandb\u001b[0m: ⭐️ View project at \u001b[34m\u001b[4mhttps://wandb.ai/welshonionman/SenNet\u001b[0m\n",
      "\u001b[34m\u001b[1mwandb\u001b[0m: 🚀 View run at \u001b[34m\u001b[4mhttps://wandb.ai/welshonionman/SenNet/runs/3zn41l6q\u001b[0m\n",
      "Epoch 0/20  Mem : 9.47GB  LR : 5.00E-04  Loss: 0.2032: 100%|██████████| 1694/1694 [07:15<00:00,  3.89it/s]\n",
      "Val Loss: 0.4447: 100%|██████████| 1277/1277 [03:30<00:00,  6.08it/s]                                                                                                                                                                                       \n"
     ]
    },
    {
     "name": "stdout",
     "output_type": "stream",
     "text": [
      "loss : 0.4447\tSAVED MODEL\n",
      "\n"
     ]
    },
    {
     "name": "stderr",
     "output_type": "stream",
     "text": [
      "Epoch 1/20  Mem : 10.8GB  LR : 5.00E-03  Loss: 0.1399: 100%|██████████| 1694/1694 [07:10<00:00,  3.94it/s]\n",
      "Val Loss: 0.4026: 100%|██████████| 1277/1277 [03:31<00:00,  6.05it/s]                                                                                                                                                                                       \n"
     ]
    },
    {
     "name": "stdout",
     "output_type": "stream",
     "text": [
      "loss : 0.4026\tSAVED MODEL\n",
      "\n"
     ]
    },
    {
     "name": "stderr",
     "output_type": "stream",
     "text": [
      "Epoch 2/20  Mem : 10.8GB  LR : 5.00E-04  Loss: 0.0882: 100%|██████████| 1694/1694 [07:08<00:00,  3.95it/s]\n",
      "Val Loss: 0.4122: 100%|██████████| 1277/1277 [03:31<00:00,  6.05it/s]                                                                                                                                                                                       \n"
     ]
    },
    {
     "name": "stdout",
     "output_type": "stream",
     "text": [
      "loss : 0.4122\n",
      "\n"
     ]
    },
    {
     "name": "stderr",
     "output_type": "stream",
     "text": [
      "Epoch 3/20  Mem : 10.8GB  LR : 4.97E-04  Loss: 0.0835: 100%|██████████| 1694/1694 [07:10<00:00,  3.93it/s]\n",
      "Val Loss: 0.3695: 100%|██████████| 1277/1277 [03:31<00:00,  6.03it/s]                                                                                                                                                                                       \n"
     ]
    },
    {
     "name": "stdout",
     "output_type": "stream",
     "text": [
      "loss : 0.3695\tSAVED MODEL\n",
      "\n"
     ]
    },
    {
     "name": "stderr",
     "output_type": "stream",
     "text": [
      "Epoch 4/20  Mem : 10.8GB  LR : 4.88E-04  Loss: 0.0814: 100%|██████████| 1694/1694 [07:09<00:00,  3.94it/s]\n",
      "Val Loss: 0.3856: 100%|██████████| 1277/1277 [03:31<00:00,  6.04it/s]                                                                                                                                                                                       \n"
     ]
    },
    {
     "name": "stdout",
     "output_type": "stream",
     "text": [
      "loss : 0.3856\n",
      "\n"
     ]
    },
    {
     "name": "stderr",
     "output_type": "stream",
     "text": [
      "Epoch 5/20  Mem : 10.8GB  LR : 4.73E-04  Loss: 0.0798: 100%|██████████| 1694/1694 [07:11<00:00,  3.93it/s]\n",
      "Val Loss: 0.3616: 100%|██████████| 1277/1277 [03:31<00:00,  6.04it/s]                                                                                                                                                                                       \n"
     ]
    },
    {
     "name": "stdout",
     "output_type": "stream",
     "text": [
      "loss : 0.3616\tSAVED MODEL\n",
      "\n"
     ]
    },
    {
     "name": "stderr",
     "output_type": "stream",
     "text": [
      "Epoch 6/20  Mem : 10.8GB  LR : 4.52E-04  Loss: 0.0780: 100%|██████████| 1694/1694 [07:10<00:00,  3.94it/s]\n",
      "Val Loss: 0.3746: 100%|██████████| 1277/1277 [03:31<00:00,  6.04it/s]                                                                                                                                                                                       \n"
     ]
    },
    {
     "name": "stdout",
     "output_type": "stream",
     "text": [
      "loss : 0.3746\n",
      "\n"
     ]
    },
    {
     "name": "stderr",
     "output_type": "stream",
     "text": [
      "Epoch 7/20  Mem : 10.8GB  LR : 4.27E-04  Loss: 0.0773: 100%|██████████| 1694/1694 [07:13<00:00,  3.91it/s]\n",
      "Val Loss: 0.3540: 100%|██████████| 1277/1277 [03:31<00:00,  6.05it/s]                                                                                                                                                                                       \n"
     ]
    },
    {
     "name": "stdout",
     "output_type": "stream",
     "text": [
      "loss : 0.3540\tSAVED MODEL\n",
      "\n"
     ]
    },
    {
     "name": "stderr",
     "output_type": "stream",
     "text": [
      "Epoch 8/20  Mem : 10.8GB  LR : 3.97E-04  Loss: 0.0763: 100%|██████████| 1694/1694 [07:15<00:00,  3.89it/s]\n",
      "Val Loss: 0.4094: 100%|██████████| 1277/1277 [03:31<00:00,  6.03it/s]                                                                                                                                                                                       \n"
     ]
    },
    {
     "name": "stdout",
     "output_type": "stream",
     "text": [
      "loss : 0.4094\n",
      "\n"
     ]
    },
    {
     "name": "stderr",
     "output_type": "stream",
     "text": [
      "Epoch 9/20  Mem : 10.8GB  LR : 3.64E-04  Loss: 0.0754: 100%|██████████| 1694/1694 [07:17<00:00,  3.87it/s]\n",
      "Val Loss: 0.3784: 100%|██████████| 1277/1277 [03:31<00:00,  6.03it/s]                                                                                                                                                                                       \n"
     ]
    },
    {
     "name": "stdout",
     "output_type": "stream",
     "text": [
      "loss : 0.3784\n",
      "\n"
     ]
    },
    {
     "name": "stderr",
     "output_type": "stream",
     "text": [
      "Epoch 10/20  Mem : 10.8GB  LR : 3.27E-04  Loss: 0.0749: 100%|██████████| 1694/1694 [07:16<00:00,  3.88it/s]\n",
      "Val Loss: 0.3369: 100%|██████████| 1277/1277 [03:32<00:00,  6.02it/s]                                                                                                                                                                                       \n"
     ]
    },
    {
     "name": "stdout",
     "output_type": "stream",
     "text": [
      "loss : 0.3369\tSAVED MODEL\n",
      "\n"
     ]
    },
    {
     "name": "stderr",
     "output_type": "stream",
     "text": [
      "Epoch 11/20  Mem : 10.8GB  LR : 2.89E-04  Loss: 0.0742: 100%|██████████| 1694/1694 [07:17<00:00,  3.88it/s]\n",
      "Val Loss: 0.3275: 100%|██████████| 1277/1277 [03:32<00:00,  6.02it/s]                                                                                                                                                                                       \n"
     ]
    },
    {
     "name": "stdout",
     "output_type": "stream",
     "text": [
      "loss : 0.3275\tSAVED MODEL\n",
      "\n"
     ]
    },
    {
     "name": "stderr",
     "output_type": "stream",
     "text": [
      "Epoch 12/20  Mem : 10.8GB  LR : 2.50E-04  Loss: 0.0735: 100%|██████████| 1694/1694 [07:18<00:00,  3.87it/s]\n",
      "Val Loss: 0.3448: 100%|██████████| 1277/1277 [03:32<00:00,  6.01it/s]                                                                                                                                                                                       \n"
     ]
    },
    {
     "name": "stdout",
     "output_type": "stream",
     "text": [
      "loss : 0.3448\n",
      "\n"
     ]
    },
    {
     "name": "stderr",
     "output_type": "stream",
     "text": [
      "Epoch 13/20  Mem : 10.8GB  LR : 2.11E-04  Loss: 0.0732: 100%|██████████| 1694/1694 [07:11<00:00,  3.93it/s]\n",
      "Val Loss: 0.2935: 100%|██████████| 1277/1277 [03:32<00:00,  6.01it/s]                                                                                                                                                                                       \n"
     ]
    },
    {
     "name": "stdout",
     "output_type": "stream",
     "text": [
      "loss : 0.2935\tSAVED MODEL\n",
      "\n"
     ]
    },
    {
     "name": "stderr",
     "output_type": "stream",
     "text": [
      "Epoch 14/20  Mem : 10.8GB  LR : 1.73E-04  Loss: 0.0723: 100%|██████████| 1694/1694 [07:10<00:00,  3.93it/s]\n",
      "Val Loss: 0.3080: 100%|██████████| 1277/1277 [03:32<00:00,  6.00it/s]                                                                                                                                                                                       \n"
     ]
    },
    {
     "name": "stdout",
     "output_type": "stream",
     "text": [
      "loss : 0.3080\n",
      "\n"
     ]
    },
    {
     "name": "stderr",
     "output_type": "stream",
     "text": [
      "Epoch 15/20  Mem : 10.8GB  LR : 1.37E-04  Loss: 0.0720: 100%|██████████| 1694/1694 [07:14<00:00,  3.90it/s]\n",
      "Val Loss: 0.2846: 100%|██████████| 1277/1277 [03:32<00:00,  6.00it/s]                                                                                                                                                                                       \n"
     ]
    },
    {
     "name": "stdout",
     "output_type": "stream",
     "text": [
      "loss : 0.2846\tSAVED MODEL\n",
      "\n"
     ]
    },
    {
     "name": "stderr",
     "output_type": "stream",
     "text": [
      "Epoch 16/20  Mem : 10.8GB  LR : 1.03E-04  Loss: 0.0715: 100%|██████████| 1694/1694 [07:12<00:00,  3.91it/s]\n",
      "Val Loss: 0.2844: 100%|██████████| 1277/1277 [03:32<00:00,  6.01it/s]                                                                                                                                                                                       \n"
     ]
    },
    {
     "name": "stdout",
     "output_type": "stream",
     "text": [
      "loss : 0.2844\tSAVED MODEL\n",
      "\n"
     ]
    },
    {
     "name": "stderr",
     "output_type": "stream",
     "text": [
      "Epoch 17/20  Mem : 10.8GB  LR : 7.33E-05  Loss: 0.0718: 100%|██████████| 1694/1694 [07:12<00:00,  3.92it/s]\n",
      "Val Loss: 0.2988: 100%|██████████| 1277/1277 [03:33<00:00,  5.99it/s]                                                                                                                                                                                       \n"
     ]
    },
    {
     "name": "stdout",
     "output_type": "stream",
     "text": [
      "loss : 0.2988\n",
      "\n"
     ]
    },
    {
     "name": "stderr",
     "output_type": "stream",
     "text": [
      "Epoch 18/20  Mem : 10.8GB  LR : 4.78E-05  Loss: 0.0714: 100%|██████████| 1694/1694 [07:16<00:00,  3.88it/s]\n",
      "Val Loss: 0.2913: 100%|██████████| 1277/1277 [03:32<00:00,  6.00it/s]                                                                                                                                                                                       \n"
     ]
    },
    {
     "name": "stdout",
     "output_type": "stream",
     "text": [
      "loss : 0.2913\n",
      "\n"
     ]
    },
    {
     "name": "stderr",
     "output_type": "stream",
     "text": [
      "Epoch 19/20  Mem : 10.8GB  LR : 2.73E-05  Loss: 0.0719: 100%|██████████| 1694/1694 [07:22<00:00,  3.83it/s]\n",
      "Val Loss: 0.2954: 100%|██████████| 1277/1277 [03:32<00:00,  6.00it/s]                                                                                                                                                                                       \n"
     ]
    },
    {
     "name": "stdout",
     "output_type": "stream",
     "text": [
      "loss : 0.2954\n",
      "\n"
     ]
    },
    {
     "name": "stderr",
     "output_type": "stream",
     "text": [
      "wandb: WARNING No program path found, not creating job artifact. See https://docs.wandb.ai/guides/launch/create-job\n",
      "\u001b[34m\u001b[1mwandb\u001b[0m:                                                                                \n",
      "\u001b[34m\u001b[1mwandb\u001b[0m: \n",
      "\u001b[34m\u001b[1mwandb\u001b[0m: Run history:\n",
      "\u001b[34m\u001b[1mwandb\u001b[0m:      epoch ▁▁▁▁▂▂▂▂▂▂▃▃▃▃▄▄▄▄▄▄▅▅▅▅▅▅▆▆▆▆▇▇▇▇▇▇████\n",
      "\u001b[34m\u001b[1mwandb\u001b[0m: train_loss █▅▂▂▂▁▁▁▁▁▁▁▁▁▁▁▁▁▁▁\n",
      "\u001b[34m\u001b[1mwandb\u001b[0m: valid_loss █▆▇▅▅▄▅▄▆▅▃▃▄▁▂▁▁▂▁▁\n",
      "\u001b[34m\u001b[1mwandb\u001b[0m: \n",
      "\u001b[34m\u001b[1mwandb\u001b[0m: Run summary:\n",
      "\u001b[34m\u001b[1mwandb\u001b[0m:      epoch 19\n",
      "\u001b[34m\u001b[1mwandb\u001b[0m: train_loss 0.07186\n",
      "\u001b[34m\u001b[1mwandb\u001b[0m: valid_loss 0.29537\n",
      "\u001b[34m\u001b[1mwandb\u001b[0m: \n",
      "\u001b[34m\u001b[1mwandb\u001b[0m: 🚀 View run \u001b[33mexp006_fold0\u001b[0m at: \u001b[34m\u001b[4mhttps://wandb.ai/welshonionman/SenNet/runs/3zn41l6q\u001b[0m\n",
      "\u001b[34m\u001b[1mwandb\u001b[0m: Synced 5 W&B file(s), 0 media file(s), 0 artifact file(s) and 0 other file(s)\n",
      "\u001b[34m\u001b[1mwandb\u001b[0m: Find logs at: \u001b[35m\u001b[1m/kaggle/wandb/run-20240109_223823-3zn41l6q/logs\u001b[0m\n"
     ]
    },
    {
     "name": "stdout",
     "output_type": "stream",
     "text": [
      "model_arch:  Unet\n",
      "backbone:  se_resnext50_32x4d\n"
     ]
    },
    {
     "name": "stderr",
     "output_type": "stream",
     "text": [
      "\u001b[34m\u001b[1mwandb\u001b[0m: wandb version 0.16.2 is available!  To upgrade, please run:\n",
      "\u001b[34m\u001b[1mwandb\u001b[0m:  $ pip install wandb --upgrade\n",
      "\u001b[34m\u001b[1mwandb\u001b[0m: Tracking run with wandb version 0.16.1\n",
      "\u001b[34m\u001b[1mwandb\u001b[0m: Run data is saved locally in \u001b[35m\u001b[1m/kaggle/wandb/run-20240110_021438-3nu9ulc7\u001b[0m\n",
      "\u001b[34m\u001b[1mwandb\u001b[0m: Run \u001b[1m`wandb offline`\u001b[0m to turn off syncing.\n",
      "\u001b[34m\u001b[1mwandb\u001b[0m: Syncing run \u001b[33mexp006_fold1\u001b[0m\n",
      "\u001b[34m\u001b[1mwandb\u001b[0m: ⭐️ View project at \u001b[34m\u001b[4mhttps://wandb.ai/welshonionman/SenNet\u001b[0m\n",
      "\u001b[34m\u001b[1mwandb\u001b[0m: 🚀 View run at \u001b[34m\u001b[4mhttps://wandb.ai/welshonionman/SenNet/runs/3nu9ulc7\u001b[0m\n",
      "Epoch 0/20  Mem : 10.8GB  LR : 5.00E-04  Loss: 0.1955: 100%|██████████| 2461/2461 [10:30<00:00,  3.90it/s]\n",
      "Val Loss: 0.1827: 100%|██████████| 243/243 [00:40<00:00,  5.97it/s]                                                                                                                                                                                         \n"
     ]
    },
    {
     "name": "stdout",
     "output_type": "stream",
     "text": [
      "loss : 0.1827\tSAVED MODEL\n",
      "\n"
     ]
    },
    {
     "name": "stderr",
     "output_type": "stream",
     "text": [
      "Epoch 1/20  Mem : 10.8GB  LR : 5.00E-03  Loss: 0.1839: 100%|██████████| 2461/2461 [10:32<00:00,  3.89it/s]\n",
      "Val Loss: 0.1961: 100%|██████████| 243/243 [00:40<00:00,  5.99it/s]                                                                                                                                                                                         \n"
     ]
    },
    {
     "name": "stdout",
     "output_type": "stream",
     "text": [
      "loss : 0.1961\n",
      "\n"
     ]
    },
    {
     "name": "stderr",
     "output_type": "stream",
     "text": [
      "Epoch 2/20  Mem : 10.8GB  LR : 5.00E-04  Loss: 0.1061: 100%|██████████| 2461/2461 [10:33<00:00,  3.89it/s]\n",
      "Val Loss: 0.1586: 100%|██████████| 243/243 [00:40<00:00,  6.00it/s]                                                                                                                                                                                         \n"
     ]
    },
    {
     "name": "stdout",
     "output_type": "stream",
     "text": [
      "loss : 0.1586\tSAVED MODEL\n",
      "\n"
     ]
    },
    {
     "name": "stderr",
     "output_type": "stream",
     "text": [
      "Epoch 3/20  Mem : 10.8GB  LR : 4.97E-04  Loss: 0.0974: 100%|██████████| 2461/2461 [10:32<00:00,  3.89it/s]\n",
      "Val Loss: 0.1485: 100%|██████████| 243/243 [00:40<00:00,  5.96it/s]                                                                                                                                                                                         \n"
     ]
    },
    {
     "name": "stdout",
     "output_type": "stream",
     "text": [
      "loss : 0.1485\tSAVED MODEL\n",
      "\n"
     ]
    },
    {
     "name": "stderr",
     "output_type": "stream",
     "text": [
      "Epoch 4/20  Mem : 10.8GB  LR : 4.88E-04  Loss: 0.0933: 100%|██████████| 2461/2461 [10:26<00:00,  3.93it/s]\n",
      "Val Loss: 0.1485: 100%|██████████| 243/243 [00:40<00:00,  5.95it/s]                                                                                                                                                                                         \n"
     ]
    },
    {
     "name": "stdout",
     "output_type": "stream",
     "text": [
      "loss : 0.1485\n",
      "\n"
     ]
    },
    {
     "name": "stderr",
     "output_type": "stream",
     "text": [
      "Epoch 5/20  Mem : 10.8GB  LR : 4.73E-04  Loss: 0.0904: 100%|██████████| 2461/2461 [10:26<00:00,  3.93it/s]\n",
      "Val Loss: 0.1476: 100%|██████████| 243/243 [00:40<00:00,  5.95it/s]                                                                                                                                                                                         \n"
     ]
    },
    {
     "name": "stdout",
     "output_type": "stream",
     "text": [
      "loss : 0.1476\tSAVED MODEL\n",
      "\n"
     ]
    },
    {
     "name": "stderr",
     "output_type": "stream",
     "text": [
      "Epoch 6/20  Mem : 10.8GB  LR : 4.52E-04  Loss: 0.0878: 100%|██████████| 2461/2461 [10:37<00:00,  3.86it/s]\n",
      "Val Loss: 0.1632: 100%|██████████| 243/243 [00:40<00:00,  6.00it/s]                                                                                                                                                                                         \n"
     ]
    },
    {
     "name": "stdout",
     "output_type": "stream",
     "text": [
      "loss : 0.1632\n",
      "\n"
     ]
    },
    {
     "name": "stderr",
     "output_type": "stream",
     "text": [
      "Epoch 7/20  Mem : 10.8GB  LR : 4.27E-04  Loss: 0.0860: 100%|██████████| 2461/2461 [10:26<00:00,  3.93it/s]\n",
      "Val Loss: 0.1419: 100%|██████████| 243/243 [00:40<00:00,  6.00it/s]                                                                                                                                                                                         \n"
     ]
    },
    {
     "name": "stdout",
     "output_type": "stream",
     "text": [
      "loss : 0.1419\tSAVED MODEL\n",
      "\n"
     ]
    },
    {
     "name": "stderr",
     "output_type": "stream",
     "text": [
      "Epoch 8/20  Mem : 10.8GB  LR : 3.97E-04  Loss: 0.0854: 100%|██████████| 2461/2461 [10:26<00:00,  3.93it/s]\n",
      "Val Loss: 0.1476: 100%|██████████| 243/243 [00:40<00:00,  5.98it/s]                                                                                                                                                                                         \n"
     ]
    },
    {
     "name": "stdout",
     "output_type": "stream",
     "text": [
      "loss : 0.1476\n",
      "\n"
     ]
    },
    {
     "name": "stderr",
     "output_type": "stream",
     "text": [
      "Epoch 9/20  Mem : 10.8GB  LR : 3.64E-04  Loss: 0.0846: 100%|██████████| 2461/2461 [10:33<00:00,  3.88it/s]\n",
      "Val Loss: 0.1504: 100%|██████████| 243/243 [00:40<00:00,  6.00it/s]                                                                                                                                                                                         \n"
     ]
    },
    {
     "name": "stdout",
     "output_type": "stream",
     "text": [
      "loss : 0.1504\n",
      "\n"
     ]
    },
    {
     "name": "stderr",
     "output_type": "stream",
     "text": [
      "Epoch 10/20  Mem : 10.8GB  LR : 3.27E-04  Loss: 0.0834: 100%|██████████| 2461/2461 [10:35<00:00,  3.87it/s]\n",
      "Val Loss: 0.1498: 100%|██████████| 243/243 [00:40<00:00,  5.95it/s]                                                                                                                                                                                         \n"
     ]
    },
    {
     "name": "stdout",
     "output_type": "stream",
     "text": [
      "loss : 0.1498\n",
      "\n"
     ]
    },
    {
     "name": "stderr",
     "output_type": "stream",
     "text": [
      "Epoch 11/20  Mem : 10.8GB  LR : 2.89E-04  Loss: 0.0831: 100%|██████████| 2461/2461 [10:34<00:00,  3.88it/s]\n",
      "Val Loss: 0.1434: 100%|██████████| 243/243 [00:40<00:00,  5.99it/s]                                                                                                                                                                                         \n"
     ]
    },
    {
     "name": "stdout",
     "output_type": "stream",
     "text": [
      "loss : 0.1434\n",
      "\n"
     ]
    },
    {
     "name": "stderr",
     "output_type": "stream",
     "text": [
      "Epoch 12/20  Mem : 10.8GB  LR : 2.50E-04  Loss: 0.0814: 100%|██████████| 2461/2461 [10:34<00:00,  3.88it/s]\n",
      "Val Loss: 0.1491: 100%|██████████| 243/243 [00:40<00:00,  5.98it/s]                                                                                                                                                                                         \n"
     ]
    },
    {
     "name": "stdout",
     "output_type": "stream",
     "text": [
      "loss : 0.1491\n",
      "\n"
     ]
    },
    {
     "name": "stderr",
     "output_type": "stream",
     "text": [
      "Epoch 13/20  Mem : 10.8GB  LR : 2.11E-04  Loss: 0.0807: 100%|██████████| 2461/2461 [10:35<00:00,  3.87it/s]\n",
      "Val Loss: 0.1450: 100%|██████████| 243/243 [00:40<00:00,  5.99it/s]                                                                                                                                                                                         \n"
     ]
    },
    {
     "name": "stdout",
     "output_type": "stream",
     "text": [
      "loss : 0.1450\n",
      "\n"
     ]
    },
    {
     "name": "stderr",
     "output_type": "stream",
     "text": [
      "Epoch 14/20  Mem : 10.8GB  LR : 1.73E-04  Loss: 0.0812: 100%|██████████| 2461/2461 [10:29<00:00,  3.91it/s]\n",
      "Val Loss: 0.1467: 100%|██████████| 243/243 [00:41<00:00,  5.93it/s]                                                                                                                                                                                         \n"
     ]
    },
    {
     "name": "stdout",
     "output_type": "stream",
     "text": [
      "loss : 0.1467\n",
      "\n"
     ]
    },
    {
     "name": "stderr",
     "output_type": "stream",
     "text": [
      "Epoch 15/20  Mem : 10.8GB  LR : 1.37E-04  Loss: 0.0801: 100%|██████████| 2461/2461 [10:35<00:00,  3.87it/s]\n",
      "Val Loss: 0.1388: 100%|██████████| 243/243 [00:40<00:00,  5.99it/s]                                                                                                                                                                                         \n"
     ]
    },
    {
     "name": "stdout",
     "output_type": "stream",
     "text": [
      "loss : 0.1388\tSAVED MODEL\n",
      "\n"
     ]
    },
    {
     "name": "stderr",
     "output_type": "stream",
     "text": [
      "Epoch 16/20  Mem : 10.8GB  LR : 1.03E-04  Loss: 0.0796: 100%|██████████| 2461/2461 [10:34<00:00,  3.88it/s]\n",
      "Val Loss: 0.1415: 100%|██████████| 243/243 [00:40<00:00,  5.95it/s]                                                                                                                                                                                         \n"
     ]
    },
    {
     "name": "stdout",
     "output_type": "stream",
     "text": [
      "loss : 0.1415\n",
      "\n"
     ]
    },
    {
     "name": "stderr",
     "output_type": "stream",
     "text": [
      "Epoch 17/20  Mem : 10.8GB  LR : 7.33E-05  Loss: 0.0791: 100%|██████████| 2461/2461 [10:33<00:00,  3.88it/s]\n",
      "Val Loss: 0.1375: 100%|██████████| 243/243 [00:40<00:00,  5.98it/s]                                                                                                                                                                                         \n"
     ]
    },
    {
     "name": "stdout",
     "output_type": "stream",
     "text": [
      "loss : 0.1375\tSAVED MODEL\n",
      "\n"
     ]
    },
    {
     "name": "stderr",
     "output_type": "stream",
     "text": [
      "Epoch 18/20  Mem : 10.8GB  LR : 4.78E-05  Loss: 0.0787: 100%|██████████| 2461/2461 [10:34<00:00,  3.88it/s]\n",
      "Val Loss: 0.1415: 100%|██████████| 243/243 [00:40<00:00,  5.96it/s]                                                                                                                                                                                         \n"
     ]
    },
    {
     "name": "stdout",
     "output_type": "stream",
     "text": [
      "loss : 0.1415\n",
      "\n"
     ]
    },
    {
     "name": "stderr",
     "output_type": "stream",
     "text": [
      "Epoch 19/20  Mem : 10.8GB  LR : 2.73E-05  Loss: 0.0791: 100%|██████████| 2461/2461 [10:37<00:00,  3.86it/s]\n",
      "Val Loss: 0.1383: 100%|██████████| 243/243 [00:41<00:00,  5.90it/s]                                                                                                                                                                                         \n"
     ]
    },
    {
     "name": "stdout",
     "output_type": "stream",
     "text": [
      "loss : 0.1383\n",
      "\n"
     ]
    },
    {
     "name": "stderr",
     "output_type": "stream",
     "text": [
      "wandb: WARNING No program path found, not creating job artifact. See https://docs.wandb.ai/guides/launch/create-job\n",
      "\u001b[34m\u001b[1mwandb\u001b[0m:                                                                                \n",
      "\u001b[34m\u001b[1mwandb\u001b[0m: \n",
      "\u001b[34m\u001b[1mwandb\u001b[0m: Run history:\n",
      "\u001b[34m\u001b[1mwandb\u001b[0m:      epoch ▁▁▁▁▂▂▂▂▂▂▃▃▃▃▄▄▄▄▄▄▅▅▅▅▅▅▆▆▆▆▇▇▇▇▇▇████\n",
      "\u001b[34m\u001b[1mwandb\u001b[0m: train_loss █▇▃▂▂▂▂▁▁▁▁▁▁▁▁▁▁▁▁▁\n",
      "\u001b[34m\u001b[1mwandb\u001b[0m: valid_loss ▆█▄▂▂▂▄▂▂▃▂▂▂▂▂▁▁▁▁▁\n",
      "\u001b[34m\u001b[1mwandb\u001b[0m: \n",
      "\u001b[34m\u001b[1mwandb\u001b[0m: Run summary:\n",
      "\u001b[34m\u001b[1mwandb\u001b[0m:      epoch 19\n",
      "\u001b[34m\u001b[1mwandb\u001b[0m: train_loss 0.07915\n",
      "\u001b[34m\u001b[1mwandb\u001b[0m: valid_loss 0.13829\n",
      "\u001b[34m\u001b[1mwandb\u001b[0m: \n",
      "\u001b[34m\u001b[1mwandb\u001b[0m: 🚀 View run \u001b[33mexp006_fold1\u001b[0m at: \u001b[34m\u001b[4mhttps://wandb.ai/welshonionman/SenNet/runs/3nu9ulc7\u001b[0m\n",
      "\u001b[34m\u001b[1mwandb\u001b[0m: Synced 5 W&B file(s), 0 media file(s), 0 artifact file(s) and 0 other file(s)\n",
      "\u001b[34m\u001b[1mwandb\u001b[0m: Find logs at: \u001b[35m\u001b[1m/kaggle/wandb/run-20240110_021438-3nu9ulc7/logs\u001b[0m\n"
     ]
    }
   ],
   "source": [
    "if cfg.debug:\n",
    "    print(\"!!!Debug mode!!!\\n\")\n",
    "    cfg.epochs = 5\n",
    "\n",
    "for fold in range(2):\n",
    "    train_dataloader, valid_dataloader = init_dataset(fold, df, cfg)\n",
    "    model, scaler, criterion, optimizer, scheduler, metrics = init_model(cfg)\n",
    "    slacknotify = init_exp(fold, cfg)\n",
    "\n",
    "    path_best = f\"./{cfg.exp_name}/{cfg.exp_name}_best_fold{fold}.pth\"\n",
    "    path_last = f\"./{cfg.exp_name}/{cfg.exp_name}_last_fold{fold}.pth\"\n",
    "\n",
    "    best_loss = float(\"inf\")\n",
    "    for epoch in range(cfg.epochs):\n",
    "        model.train()\n",
    "        total_loss = 0.0\n",
    "        pbar_train = tqdm(enumerate(train_dataloader), total=len(train_dataloader), bar_format=\"{l_bar}{bar:10}{r_bar}{bar:-0b}\")\n",
    "\n",
    "        for i, (images, masks) in pbar_train:\n",
    "            images, masks = images.cuda(), masks.cuda()\n",
    "            optimizer.zero_grad()\n",
    "\n",
    "            with amp.autocast():\n",
    "                preds = model(images)\n",
    "                loss = criterion(preds, masks)\n",
    "                scaler.scale(loss).backward()\n",
    "                scaler.step(optimizer)\n",
    "                scaler.update()\n",
    "                total_loss += loss.detach().item()\n",
    "\n",
    "            loss_ = total_loss / (i + 1)\n",
    "            lr = f\"LR : {scheduler.get_lr()[0]:.2E}\"\n",
    "            gpu_mem = f\"Mem : {torch.cuda.memory_reserved() / 1E9:.3g}GB\"\n",
    "            pbar_train.set_description((\"%10s  \" * 3 + \"%10s\") % (f\"Epoch {epoch}/{cfg.epochs}\", gpu_mem, lr, f\"Loss: {loss_:.4f}\"))\n",
    "\n",
    "        train_loss = loss_\n",
    "        scheduler.step()\n",
    "        wandb.log({\"epoch\": epoch, \"train_loss\": train_loss})\n",
    "\n",
    "        model.eval()\n",
    "        total_loss = 0.0\n",
    "        pbar_val = tqdm(enumerate(valid_dataloader), total=len(valid_dataloader), bar_format=\"{l_bar}{bar:10}{r_bar}{bar:-10b}\")\n",
    "\n",
    "        for i, (images, masks) in pbar_val:\n",
    "            images, masks = images.cuda(), masks.cuda()\n",
    "            with torch.no_grad():\n",
    "                preds = model(images)\n",
    "                loss = criterion(preds, masks)\n",
    "                total_loss += loss.item()\n",
    "\n",
    "            loss_ = total_loss / (i + 1)\n",
    "            pbar_val.set_description((\"%10s\") % (f\"Val Loss: {loss_:.4f}\"))\n",
    "        valid_loss = loss_\n",
    "        wandb.log({\"epoch\": epoch, \"valid_loss\": valid_loss})\n",
    "\n",
    "        if valid_loss < best_loss:\n",
    "            print(f\"loss : {valid_loss:.4f}\\tSAVED MODEL\\n\")\n",
    "            slacknotify.send_reply(f\"epoch : {epoch}\\tscore : {valid_loss:.4f}\\tBEST\")\n",
    "            best_loss = valid_loss\n",
    "            save_model(model, cfg, path_best, loss=loss)\n",
    "        else:\n",
    "            print(f\"loss : {valid_loss:.4f}\\n\")\n",
    "            slacknotify.send_reply(f\"epoch : {epoch}\\tscore : {valid_loss:.4f}\")\n",
    "\n",
    "    save_model(model, cfg, path_last, loss=valid_loss)\n",
    "    wandb.config.update({\"last_loss\": valid_loss, \"best_loss\": best_loss})\n",
    "\n",
    "    slacknotify.send_reply(f\"{cfg.exp_name}_fold{fold} training finished\\nbest loss : {best_loss:.4f} last loss : {loss_:.4f}\", True)\n",
    "\n",
    "    if wandb.run:\n",
    "        wandb.finish()"
   ]
  },
  {
   "cell_type": "code",
   "execution_count": 5,
   "metadata": {
    "execution": {
     "iopub.execute_input": "2024-01-10T05:59:56.253608Z",
     "iopub.status.busy": "2024-01-10T05:59:56.252816Z",
     "iopub.status.idle": "2024-01-10T06:47:10.728479Z",
     "shell.execute_reply": "2024-01-10T06:47:10.726782Z"
    }
   },
   "outputs": [
    {
     "name": "stdout",
     "output_type": "stream",
     "text": [
      "fold_0\n",
      "model_name Unet\n",
      "backbone se_resnext50_32x4d\n"
     ]
    },
    {
     "name": "stderr",
     "output_type": "stream",
     "text": [
      "100%|███████████████████████████████████████████████████████████████████████████████████████████████████████████████████████████████████████████████████████████████████████████████████████████████████████████████████| 2278/2278 [09:47<00:00,  3.88it/s]\n",
      "100%|███████████████████████████████████████████████████████████████████████████████████████████████████████████████████████████████████████████████████████████████████████████████████████████████████████████████████| 1302/1302 [08:22<00:00,  2.59it/s]\n",
      "100%|█████████████████████████████████████████████████████████████████████████████████████████████████████████████████████████████████████████████████████████████████████████████████████████████████████████████████████| 911/911 [08:47<00:00,  1.73it/s]\n"
     ]
    },
    {
     "name": "stdout",
     "output_type": "stream",
     "text": [
      "(0.35, 0.7717)\n",
      "fold_1\n",
      "model_name Unet\n",
      "backbone se_resnext50_32x4d\n"
     ]
    },
    {
     "name": "stderr",
     "output_type": "stream",
     "text": [
      "100%|█████████████████████████████████████████████████████████████████████████████████████████████████████████████████████████████████████████████████████████████████████████████████████████████████████████████████████| 500/500 [03:44<00:00,  2.23it/s]\n",
      "100%|███████████████████████████████████████████████████████████████████████████████████████████████████████████████████████████████████████████████████████████████████████████████████████████████████████████████████| 1705/1705 [03:53<00:00,  7.30it/s]\n",
      "100%|███████████████████████████████████████████████████████████████████████████████████████████████████████████████████████████████████████████████████████████████████████████████████████████████████████████████████| 1509/1509 [03:56<00:00,  6.37it/s]\n"
     ]
    },
    {
     "name": "stdout",
     "output_type": "stream",
     "text": [
      "(0.34, 0.8812)\n"
     ]
    }
   ],
   "source": [
    "fold_dict = json.load(open(\"/kaggle/src/dataset/fold.json\", \"r\"))\n",
    "\n",
    "for fold in range(2):\n",
    "    print(f\"fold_{fold}\")\n",
    "    valid_kidney = fold_dict[f\"fold{fold}\"][\"valid\"][0]\n",
    "    path_best = f\"./{cfg.exp_name}/{cfg.exp_name}_best_fold{fold}.pth\"\n",
    "    model = load_inference_model(path_best, cfg)\n",
    "\n",
    "    stack_path = f\"/kaggle/working/dataset/stack_train01/{valid_kidney}_images.npy\"\n",
    "    label_path = f\"/kaggle/working/dataset/stack_train01/{valid_kidney}_labels.npy\"\n",
    "    save_path = \"./preds\"\n",
    "    preds_path = f\"{save_path}/{valid_kidney}_preds.npy\"\n",
    "    inference(model, stack_path, save_path, cfg)\n",
    "\n",
    "    label = np.load(label_path)\n",
    "    preds = np.load(preds_path)\n",
    "    thresh_score_dict = {}\n",
    "\n",
    "    for thresh in np.arange(0.1, 0.99, 0.1):\n",
    "        thresh = round(thresh, 5)\n",
    "        thresh_score_dict[thresh] = compute_surface_dice_score_from_volume(ne.evaluate(\"preds > thresh\"), label)\n",
    "\n",
    "    max_score_thresh = max(thresh_score_dict, key=thresh_score_dict.get)\n",
    "\n",
    "    for thresh in np.arange(max_score_thresh - 0.1, max_score_thresh + 0.1, 0.01):\n",
    "        thresh = round(thresh, 5)\n",
    "        thresh_score_dict[thresh] = compute_surface_dice_score_from_volume(ne.evaluate(\"preds > thresh\"), label)\n",
    "\n",
    "    print(max(thresh_score_dict.items(), key=lambda x: x[1]))"
   ]
  },
  {
   "cell_type": "code",
   "execution_count": null,
   "metadata": {},
   "outputs": [],
   "source": []
  }
 ],
 "metadata": {
  "kaggle": {
   "accelerator": "nvidiaTeslaT4",
   "dataSources": [
    {
     "databundleVersionId": 6962461,
     "sourceId": 61446,
     "sourceType": "competition"
    },
    {
     "datasetId": 1074109,
     "sourceId": 1807973,
     "sourceType": "datasetVersion"
    },
    {
     "sourceId": 150248402,
     "sourceType": "kernelVersion"
    }
   ],
   "dockerImageVersionId": 30587,
   "isGpuEnabled": true,
   "isInternetEnabled": true,
   "language": "python",
   "sourceType": "notebook"
  },
  "kernelspec": {
   "display_name": "Python 3",
   "language": "python",
   "name": "python3"
  },
  "language_info": {
   "codemirror_mode": {
    "name": "ipython",
    "version": 3
   },
   "file_extension": ".py",
   "mimetype": "text/x-python",
   "name": "python",
   "nbconvert_exporter": "python",
   "pygments_lexer": "ipython3",
   "version": "3.10.13"
  }
 },
 "nbformat": 4,
 "nbformat_minor": 4
}
