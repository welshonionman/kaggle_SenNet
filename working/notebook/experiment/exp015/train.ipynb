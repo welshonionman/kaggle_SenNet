{
 "cells": [
  {
   "cell_type": "code",
   "execution_count": 1,
   "metadata": {
    "_cell_guid": "b1076dfc-b9ad-4769-8c92-a6c4dae69d19",
    "_kg_hide-input": true,
    "_kg_hide-output": true,
    "_uuid": "8f2839f25d086af736a60e9eeb907d3b93b6e0e5",
    "execution": {
     "iopub.execute_input": "2024-01-07T01:52:38.718744Z",
     "iopub.status.busy": "2024-01-07T01:52:38.718608Z",
     "iopub.status.idle": "2024-01-07T01:52:42.586686Z",
     "shell.execute_reply": "2024-01-07T01:52:42.586096Z"
    }
   },
   "outputs": [],
   "source": [
    "import json\n",
    "import pandas as pd\n",
    "import numpy as np\n",
    "import numexpr as ne\n",
    "import os\n",
    "import albumentations as A\n",
    "from albumentations.pytorch import ToTensorV2\n",
    "import wandb\n",
    "from dotenv import load_dotenv\n",
    "from tqdm import tqdm\n",
    "import torch\n",
    "from torch.utils.data import DataLoader\n",
    "import torch.cuda.amp as amp\n",
    "\n",
    "from src.model.model import save_model, load_inference_model\n",
    "from src.dataset.df import df_dataset, check_dataset\n",
    "from src.utils.common import set_seed\n",
    "\n",
    "from src.experiment.inference import inference\n",
    "from src.experiment.initialize import init_dataset, init_model, init_exp\n",
    "from src.utils.metrics import compute_surface_dice_score_from_volume\n",
    "from src.model.model import build_model\n",
    "from src.model.loss import get_lossfn\n",
    "from src.utils.metrics import get_metrics\n",
    "from src.model.scheduler import get_scheduler\n",
    "from src.dataset.common import get_train_dataset"
   ]
  },
  {
   "cell_type": "code",
   "execution_count": 2,
   "metadata": {
    "execution": {
     "iopub.execute_input": "2024-01-07T01:52:42.589433Z",
     "iopub.status.busy": "2024-01-07T01:52:42.589032Z",
     "iopub.status.idle": "2024-01-07T01:52:42.610525Z",
     "shell.execute_reply": "2024-01-07T01:52:42.609985Z"
    }
   },
   "outputs": [],
   "source": [
    "class cfg:\n",
    "    debug = False\n",
    "    check_dataset = False\n",
    "\n",
    "    # = data CFG ====================================================\n",
    "\n",
    "    dataset_path = \"/kaggle/working/dataset/train01_xy_256_128_z_1_2/\"\n",
    "    train_dataset = \"Base2dDataset\"\n",
    "    negative_sample_rate = 0.2\n",
    "\n",
    "    # = experiment CFG =================================================\n",
    "\n",
    "    project = \"SenNet\"\n",
    "    exp_name = os.path.basename(os.getcwd())\n",
    "    notes = \"baseline_0114 mini scse\"\n",
    "\n",
    "    # = model CFG ======================================================\n",
    "\n",
    "    model_arch = \"Unet\"\n",
    "    backbone = \"se_resnext50_32x4d\"\n",
    "    in_chans = 1\n",
    "    target_size = 1\n",
    "    decoder_attention_type = \"scse\"\n",
    "    # = training CFG ===================================================\n",
    "\n",
    "    epochs = 20\n",
    "\n",
    "    train_batch_size = 64\n",
    "    valid_batch_size = train_batch_size\n",
    "\n",
    "    loss = \"DiceLoss\"\n",
    "    metrics = \"Dice\"\n",
    "    lr = 5e-4\n",
    "    num_workers = 12\n",
    "\n",
    "    # = augmentation ===================================================\n",
    "\n",
    "    image_size = 256\n",
    "    train_aug = [\n",
    "        A.RandomRotate90(p=0.5),\n",
    "        A.RandomGamma(p=0.5),\n",
    "        A.RandomBrightnessContrast(p=0.5),\n",
    "        A.RandomResizedCrop(image_size, image_size, scale=(0.8, 1)),\n",
    "        A.ShiftScaleRotate(p=0.5),\n",
    "        A.GridDistortion(num_steps=5, distort_limit=0.3, p=0.5),\n",
    "        ToTensorV2(transpose_mask=True),\n",
    "    ]\n",
    "\n",
    "    valid_aug = [\n",
    "        ToTensorV2(transpose_mask=True),\n",
    "    ]\n",
    "\n",
    "    # =============== inference ========================================\n",
    "\n",
    "    test_dataset = \"BaseInferenceDataset\"\n",
    "    stride = image_size // 2\n",
    "    drop_egde_pixel = 32\n",
    "\n",
    "\n",
    "load_dotenv(\"/kaggle/key.env\")\n",
    "set_seed()"
   ]
  },
  {
   "cell_type": "code",
   "execution_count": 3,
   "metadata": {
    "execution": {
     "iopub.execute_input": "2024-01-07T01:52:42.612743Z",
     "iopub.status.busy": "2024-01-07T01:52:42.612486Z",
     "iopub.status.idle": "2024-01-07T01:52:51.138112Z",
     "shell.execute_reply": "2024-01-07T01:52:51.137629Z"
    }
   },
   "outputs": [
    {
     "name": "stderr",
     "output_type": "stream",
     "text": [
      "/tmp/ipykernel_13678/2551012421.py:18: DtypeWarning: Columns (10) have mixed types. Specify dtype option on import or set low_memory=False.\n",
      "  df = pd.read_csv(f\"{cfg.dataset_path}/dataset.csv\")\n"
     ]
    },
    {
     "data": {
      "text/html": [
       "<div>\n",
       "<style scoped>\n",
       "    .dataframe tbody tr th:only-of-type {\n",
       "        vertical-align: middle;\n",
       "    }\n",
       "\n",
       "    .dataframe tbody tr th {\n",
       "        vertical-align: top;\n",
       "    }\n",
       "\n",
       "    .dataframe thead th {\n",
       "        text-align: right;\n",
       "    }\n",
       "</style>\n",
       "<table border=\"1\" class=\"dataframe\">\n",
       "  <thead>\n",
       "    <tr style=\"text-align: right;\">\n",
       "      <th></th>\n",
       "      <th>image_path</th>\n",
       "      <th>label_path</th>\n",
       "      <th>fname</th>\n",
       "      <th>kidney</th>\n",
       "      <th>x</th>\n",
       "      <th>y</th>\n",
       "      <th>z</th>\n",
       "      <th>std</th>\n",
       "      <th>sum</th>\n",
       "      <th>fold0</th>\n",
       "      <th>fold1</th>\n",
       "      <th>axis</th>\n",
       "    </tr>\n",
       "  </thead>\n",
       "  <tbody>\n",
       "    <tr>\n",
       "      <th>0</th>\n",
       "      <td>/kaggle/working/dataset/cropped_xy_256_128_z_1...</td>\n",
       "      <td>/kaggle/working/dataset/cropped_xy_256_128_z_1...</td>\n",
       "      <td>x0_y0_z0_std0039_sum0</td>\n",
       "      <td>kidney_1_dense</td>\n",
       "      <td>0</td>\n",
       "      <td>0</td>\n",
       "      <td>0</td>\n",
       "      <td>39</td>\n",
       "      <td>0</td>\n",
       "      <td>valid</td>\n",
       "      <td>train</td>\n",
       "      <td>axis0</td>\n",
       "    </tr>\n",
       "    <tr>\n",
       "      <th>1</th>\n",
       "      <td>/kaggle/working/dataset/cropped_xy_256_128_z_1...</td>\n",
       "      <td>/kaggle/working/dataset/cropped_xy_256_128_z_1...</td>\n",
       "      <td>x0_y0_z100_std0037_sum0</td>\n",
       "      <td>kidney_1_dense</td>\n",
       "      <td>0</td>\n",
       "      <td>0</td>\n",
       "      <td>100</td>\n",
       "      <td>37</td>\n",
       "      <td>0</td>\n",
       "      <td>valid</td>\n",
       "      <td>train</td>\n",
       "      <td>axis0</td>\n",
       "    </tr>\n",
       "    <tr>\n",
       "      <th>2</th>\n",
       "      <td>/kaggle/working/dataset/cropped_xy_256_128_z_1...</td>\n",
       "      <td>/kaggle/working/dataset/cropped_xy_256_128_z_1...</td>\n",
       "      <td>x0_y0_z102_std0036_sum0</td>\n",
       "      <td>kidney_1_dense</td>\n",
       "      <td>0</td>\n",
       "      <td>0</td>\n",
       "      <td>102</td>\n",
       "      <td>36</td>\n",
       "      <td>0</td>\n",
       "      <td>valid</td>\n",
       "      <td>train</td>\n",
       "      <td>axis0</td>\n",
       "    </tr>\n",
       "    <tr>\n",
       "      <th>3</th>\n",
       "      <td>/kaggle/working/dataset/cropped_xy_256_128_z_1...</td>\n",
       "      <td>/kaggle/working/dataset/cropped_xy_256_128_z_1...</td>\n",
       "      <td>x0_y0_z104_std0036_sum0</td>\n",
       "      <td>kidney_1_dense</td>\n",
       "      <td>0</td>\n",
       "      <td>0</td>\n",
       "      <td>104</td>\n",
       "      <td>36</td>\n",
       "      <td>0</td>\n",
       "      <td>valid</td>\n",
       "      <td>train</td>\n",
       "      <td>axis0</td>\n",
       "    </tr>\n",
       "    <tr>\n",
       "      <th>4</th>\n",
       "      <td>/kaggle/working/dataset/cropped_xy_256_128_z_1...</td>\n",
       "      <td>/kaggle/working/dataset/cropped_xy_256_128_z_1...</td>\n",
       "      <td>x0_y0_z106_std0036_sum0</td>\n",
       "      <td>kidney_1_dense</td>\n",
       "      <td>0</td>\n",
       "      <td>0</td>\n",
       "      <td>106</td>\n",
       "      <td>36</td>\n",
       "      <td>0</td>\n",
       "      <td>valid</td>\n",
       "      <td>train</td>\n",
       "      <td>axis0</td>\n",
       "    </tr>\n",
       "    <tr>\n",
       "      <th>...</th>\n",
       "      <td>...</td>\n",
       "      <td>...</td>\n",
       "      <td>...</td>\n",
       "      <td>...</td>\n",
       "      <td>...</td>\n",
       "      <td>...</td>\n",
       "      <td>...</td>\n",
       "      <td>...</td>\n",
       "      <td>...</td>\n",
       "      <td>...</td>\n",
       "      <td>...</td>\n",
       "      <td>...</td>\n",
       "    </tr>\n",
       "    <tr>\n",
       "      <th>158709</th>\n",
       "      <td>/kaggle/working/dataset/cropped_xy_256_128_z_1...</td>\n",
       "      <td>/kaggle/working/dataset/cropped_xy_256_128_z_1...</td>\n",
       "      <td>x256_y896_z990_std0224_sum1278</td>\n",
       "      <td>kidney_3_sparse</td>\n",
       "      <td>256</td>\n",
       "      <td>896</td>\n",
       "      <td>990</td>\n",
       "      <td>224</td>\n",
       "      <td>1278</td>\n",
       "      <td>train</td>\n",
       "      <td>NaN</td>\n",
       "      <td>axis0</td>\n",
       "    </tr>\n",
       "    <tr>\n",
       "      <th>158710</th>\n",
       "      <td>/kaggle/working/dataset/cropped_xy_256_128_z_1...</td>\n",
       "      <td>/kaggle/working/dataset/cropped_xy_256_128_z_1...</td>\n",
       "      <td>x256_y896_z992_std0226_sum1334</td>\n",
       "      <td>kidney_3_sparse</td>\n",
       "      <td>256</td>\n",
       "      <td>896</td>\n",
       "      <td>992</td>\n",
       "      <td>226</td>\n",
       "      <td>1334</td>\n",
       "      <td>train</td>\n",
       "      <td>NaN</td>\n",
       "      <td>axis0</td>\n",
       "    </tr>\n",
       "    <tr>\n",
       "      <th>158711</th>\n",
       "      <td>/kaggle/working/dataset/cropped_xy_256_128_z_1...</td>\n",
       "      <td>/kaggle/working/dataset/cropped_xy_256_128_z_1...</td>\n",
       "      <td>x256_y896_z994_std0228_sum1362</td>\n",
       "      <td>kidney_3_sparse</td>\n",
       "      <td>256</td>\n",
       "      <td>896</td>\n",
       "      <td>994</td>\n",
       "      <td>228</td>\n",
       "      <td>1362</td>\n",
       "      <td>train</td>\n",
       "      <td>NaN</td>\n",
       "      <td>axis0</td>\n",
       "    </tr>\n",
       "    <tr>\n",
       "      <th>158712</th>\n",
       "      <td>/kaggle/working/dataset/cropped_xy_256_128_z_1...</td>\n",
       "      <td>/kaggle/working/dataset/cropped_xy_256_128_z_1...</td>\n",
       "      <td>x256_y896_z996_std0231_sum1339</td>\n",
       "      <td>kidney_3_sparse</td>\n",
       "      <td>256</td>\n",
       "      <td>896</td>\n",
       "      <td>996</td>\n",
       "      <td>231</td>\n",
       "      <td>1339</td>\n",
       "      <td>train</td>\n",
       "      <td>NaN</td>\n",
       "      <td>axis0</td>\n",
       "    </tr>\n",
       "    <tr>\n",
       "      <th>158713</th>\n",
       "      <td>/kaggle/working/dataset/cropped_xy_256_128_z_1...</td>\n",
       "      <td>/kaggle/working/dataset/cropped_xy_256_128_z_1...</td>\n",
       "      <td>x256_y896_z998_std0234_sum1246</td>\n",
       "      <td>kidney_3_sparse</td>\n",
       "      <td>256</td>\n",
       "      <td>896</td>\n",
       "      <td>998</td>\n",
       "      <td>234</td>\n",
       "      <td>1246</td>\n",
       "      <td>train</td>\n",
       "      <td>NaN</td>\n",
       "      <td>axis0</td>\n",
       "    </tr>\n",
       "  </tbody>\n",
       "</table>\n",
       "<p>158714 rows × 12 columns</p>\n",
       "</div>"
      ],
      "text/plain": [
       "                                               image_path  \\\n",
       "0       /kaggle/working/dataset/cropped_xy_256_128_z_1...   \n",
       "1       /kaggle/working/dataset/cropped_xy_256_128_z_1...   \n",
       "2       /kaggle/working/dataset/cropped_xy_256_128_z_1...   \n",
       "3       /kaggle/working/dataset/cropped_xy_256_128_z_1...   \n",
       "4       /kaggle/working/dataset/cropped_xy_256_128_z_1...   \n",
       "...                                                   ...   \n",
       "158709  /kaggle/working/dataset/cropped_xy_256_128_z_1...   \n",
       "158710  /kaggle/working/dataset/cropped_xy_256_128_z_1...   \n",
       "158711  /kaggle/working/dataset/cropped_xy_256_128_z_1...   \n",
       "158712  /kaggle/working/dataset/cropped_xy_256_128_z_1...   \n",
       "158713  /kaggle/working/dataset/cropped_xy_256_128_z_1...   \n",
       "\n",
       "                                               label_path  \\\n",
       "0       /kaggle/working/dataset/cropped_xy_256_128_z_1...   \n",
       "1       /kaggle/working/dataset/cropped_xy_256_128_z_1...   \n",
       "2       /kaggle/working/dataset/cropped_xy_256_128_z_1...   \n",
       "3       /kaggle/working/dataset/cropped_xy_256_128_z_1...   \n",
       "4       /kaggle/working/dataset/cropped_xy_256_128_z_1...   \n",
       "...                                                   ...   \n",
       "158709  /kaggle/working/dataset/cropped_xy_256_128_z_1...   \n",
       "158710  /kaggle/working/dataset/cropped_xy_256_128_z_1...   \n",
       "158711  /kaggle/working/dataset/cropped_xy_256_128_z_1...   \n",
       "158712  /kaggle/working/dataset/cropped_xy_256_128_z_1...   \n",
       "158713  /kaggle/working/dataset/cropped_xy_256_128_z_1...   \n",
       "\n",
       "                                 fname           kidney    x    y    z  std  \\\n",
       "0                x0_y0_z0_std0039_sum0   kidney_1_dense    0    0    0   39   \n",
       "1              x0_y0_z100_std0037_sum0   kidney_1_dense    0    0  100   37   \n",
       "2              x0_y0_z102_std0036_sum0   kidney_1_dense    0    0  102   36   \n",
       "3              x0_y0_z104_std0036_sum0   kidney_1_dense    0    0  104   36   \n",
       "4              x0_y0_z106_std0036_sum0   kidney_1_dense    0    0  106   36   \n",
       "...                                ...              ...  ...  ...  ...  ...   \n",
       "158709  x256_y896_z990_std0224_sum1278  kidney_3_sparse  256  896  990  224   \n",
       "158710  x256_y896_z992_std0226_sum1334  kidney_3_sparse  256  896  992  226   \n",
       "158711  x256_y896_z994_std0228_sum1362  kidney_3_sparse  256  896  994  228   \n",
       "158712  x256_y896_z996_std0231_sum1339  kidney_3_sparse  256  896  996  231   \n",
       "158713  x256_y896_z998_std0234_sum1246  kidney_3_sparse  256  896  998  234   \n",
       "\n",
       "         sum  fold0  fold1   axis  \n",
       "0          0  valid  train  axis0  \n",
       "1          0  valid  train  axis0  \n",
       "2          0  valid  train  axis0  \n",
       "3          0  valid  train  axis0  \n",
       "4          0  valid  train  axis0  \n",
       "...      ...    ...    ...    ...  \n",
       "158709  1278  train    NaN  axis0  \n",
       "158710  1334  train    NaN  axis0  \n",
       "158711  1362  train    NaN  axis0  \n",
       "158712  1339  train    NaN  axis0  \n",
       "158713  1246  train    NaN  axis0  \n",
       "\n",
       "[158714 rows x 12 columns]"
      ]
     },
     "metadata": {},
     "output_type": "display_data"
    }
   ],
   "source": [
    "def filter_dataset(df):\n",
    "    # trainのうちlabelが全くないものは90%の確率で除外\n",
    "    df[\"random\"] = np.random.rand(len(df))\n",
    "    df = df[(df[\"sum\"] > 0) | (df[\"fold0\"] == \"valid\") | (df[\"random\"] < cfg.negative_sample_rate)]\n",
    "    df = df.reset_index(drop=True)\n",
    "    df = df.drop([\"random\"], axis=1)\n",
    "    return df\n",
    "\n",
    "\n",
    "def mini_dataset(df):\n",
    "    df[\"random\"] = np.random.rand(len(df))\n",
    "    df = df[df[\"random\"] < 0.25]\n",
    "    df = df.reset_index(drop=True)\n",
    "    df = df.drop([\"random\"], axis=1)\n",
    "    return df\n",
    "\n",
    "\n",
    "df = pd.read_csv(f\"{cfg.dataset_path}/dataset.csv\")\n",
    "df[\"axis\"] = df[\"image_path\"].str.split(\"/\").str[-2].str.split(\"_\").str[-1]\n",
    "df = df[df[\"axis\"] == \"axis0\"]\n",
    "df = filter_dataset(df)\n",
    "# df = mini_dataset(df)\n",
    "if cfg.debug:\n",
    "    df = df.sample(10000).reset_index(drop=True)\n",
    "display(df)\n",
    "\n",
    "if cfg.check_dataset:\n",
    "    check_dataset(df, cfg)"
   ]
  },
  {
   "cell_type": "code",
   "execution_count": 4,
   "metadata": {
    "execution": {
     "iopub.execute_input": "2024-01-07T01:52:51.157425Z",
     "iopub.status.busy": "2024-01-07T01:52:51.157197Z",
     "iopub.status.idle": "2024-01-07T12:46:21.995347Z",
     "shell.execute_reply": "2024-01-07T12:46:21.993525Z"
    }
   },
   "outputs": [
    {
     "name": "stdout",
     "output_type": "stream",
     "text": [
      "model_arch:  Unet\n",
      "backbone:  se_resnext50_32x4d\n"
     ]
    },
    {
     "name": "stderr",
     "output_type": "stream",
     "text": [
      "Failed to detect the name of this notebook, you can set it manually with the WANDB_NOTEBOOK_NAME environment variable to enable code saving.\n",
      "\u001b[34m\u001b[1mwandb\u001b[0m: Currently logged in as: \u001b[33mwelshonionman\u001b[0m. Use \u001b[1m`wandb login --relogin`\u001b[0m to force relogin\n"
     ]
    },
    {
     "data": {
      "text/html": [
       "Tracking run with wandb version 0.16.2"
      ],
      "text/plain": [
       "<IPython.core.display.HTML object>"
      ]
     },
     "metadata": {},
     "output_type": "display_data"
    },
    {
     "data": {
      "text/html": [
       "Run data is saved locally in <code>/kaggle/wandb/run-20240115_105451-pfuo3yxg</code>"
      ],
      "text/plain": [
       "<IPython.core.display.HTML object>"
      ]
     },
     "metadata": {},
     "output_type": "display_data"
    },
    {
     "data": {
      "text/html": [
       "Syncing run <strong><a href='https://wandb.ai/welshonionman/SenNet/runs/pfuo3yxg' target=\"_blank\">exp015_fold0</a></strong> to <a href='https://wandb.ai/welshonionman/SenNet' target=\"_blank\">Weights & Biases</a> (<a href='https://wandb.me/run' target=\"_blank\">docs</a>)<br/>"
      ],
      "text/plain": [
       "<IPython.core.display.HTML object>"
      ]
     },
     "metadata": {},
     "output_type": "display_data"
    },
    {
     "data": {
      "text/html": [
       " View project at <a href='https://wandb.ai/welshonionman/SenNet' target=\"_blank\">https://wandb.ai/welshonionman/SenNet</a>"
      ],
      "text/plain": [
       "<IPython.core.display.HTML object>"
      ]
     },
     "metadata": {},
     "output_type": "display_data"
    },
    {
     "data": {
      "text/html": [
       " View run at <a href='https://wandb.ai/welshonionman/SenNet/runs/pfuo3yxg' target=\"_blank\">https://wandb.ai/welshonionman/SenNet/runs/pfuo3yxg</a>"
      ],
      "text/plain": [
       "<IPython.core.display.HTML object>"
      ]
     },
     "metadata": {},
     "output_type": "display_data"
    },
    {
     "name": "stderr",
     "output_type": "stream",
     "text": [
      "Epoch 0/20  Mem : 9.88GB  LR : 5.00E-04  Loss: 0.1773: 100%|██████████| 1266/1266 [04:17<00:00,  4.91it/s]\n",
      "Val Loss: 0.3738: 100%|██████████| 1214/1214 [02:14<00:00,  9.03it/s]\n"
     ]
    },
    {
     "name": "stdout",
     "output_type": "stream",
     "text": [
      "loss : 0.3738\tSAVED MODEL\n",
      "\n"
     ]
    },
    {
     "name": "stderr",
     "output_type": "stream",
     "text": [
      "Epoch 1/20  Mem : 13.3GB  LR : 5.00E-03  Loss: 0.1404: 100%|██████████| 1266/1266 [04:14<00:00,  4.97it/s]\n",
      "Val Loss: 0.3634: 100%|██████████| 1214/1214 [02:10<00:00,  9.29it/s]\n"
     ]
    },
    {
     "name": "stdout",
     "output_type": "stream",
     "text": [
      "loss : 0.3634\tSAVED MODEL\n",
      "\n"
     ]
    },
    {
     "name": "stderr",
     "output_type": "stream",
     "text": [
      "Epoch 2/20  Mem : 13.3GB  LR : 5.00E-04  Loss: 0.0900: 100%|██████████| 1266/1266 [04:09<00:00,  5.07it/s]\n",
      "Val Loss: 0.3597: 100%|██████████| 1214/1214 [02:14<00:00,  9.04it/s]\n"
     ]
    },
    {
     "name": "stdout",
     "output_type": "stream",
     "text": [
      "loss : 0.3597\tSAVED MODEL\n",
      "\n"
     ]
    },
    {
     "name": "stderr",
     "output_type": "stream",
     "text": [
      "Epoch 3/20  Mem : 13.3GB  LR : 4.97E-04  Loss: 0.0837: 100%|██████████| 1266/1266 [04:14<00:00,  4.97it/s]\n",
      "Val Loss: 0.3532: 100%|██████████| 1214/1214 [02:14<00:00,  9.04it/s]\n"
     ]
    },
    {
     "name": "stdout",
     "output_type": "stream",
     "text": [
      "loss : 0.3532\tSAVED MODEL\n",
      "\n"
     ]
    },
    {
     "name": "stderr",
     "output_type": "stream",
     "text": [
      "Epoch 4/20  Mem : 13.3GB  LR : 4.88E-04  Loss: 0.0808: 100%|██████████| 1266/1266 [04:14<00:00,  4.98it/s]\n",
      "Val Loss: 0.3242: 100%|██████████| 1214/1214 [02:13<00:00,  9.12it/s]\n"
     ]
    },
    {
     "name": "stdout",
     "output_type": "stream",
     "text": [
      "loss : 0.3242\tSAVED MODEL\n",
      "\n"
     ]
    },
    {
     "name": "stderr",
     "output_type": "stream",
     "text": [
      "Epoch 5/20  Mem : 13.3GB  LR : 4.73E-04  Loss: 0.0792: 100%|██████████| 1266/1266 [04:14<00:00,  4.98it/s]\n",
      "Val Loss: 0.3324: 100%|██████████| 1214/1214 [02:13<00:00,  9.12it/s]\n"
     ]
    },
    {
     "name": "stdout",
     "output_type": "stream",
     "text": [
      "loss : 0.3324\n",
      "\n"
     ]
    },
    {
     "name": "stderr",
     "output_type": "stream",
     "text": [
      "Epoch 6/20  Mem : 13.3GB  LR : 4.52E-04  Loss: 0.0783: 100%|██████████| 1266/1266 [04:11<00:00,  5.04it/s]\n",
      "Val Loss: 0.3232: 100%|██████████| 1214/1214 [02:13<00:00,  9.13it/s]\n"
     ]
    },
    {
     "name": "stdout",
     "output_type": "stream",
     "text": [
      "loss : 0.3232\tSAVED MODEL\n",
      "\n"
     ]
    },
    {
     "name": "stderr",
     "output_type": "stream",
     "text": [
      "Epoch 7/20  Mem : 13.3GB  LR : 4.27E-04  Loss: 0.0761: 100%|██████████| 1266/1266 [04:13<00:00,  5.00it/s]\n",
      "Val Loss: 0.2988: 100%|██████████| 1214/1214 [02:12<00:00,  9.17it/s]\n"
     ]
    },
    {
     "name": "stdout",
     "output_type": "stream",
     "text": [
      "loss : 0.2988\tSAVED MODEL\n",
      "\n"
     ]
    },
    {
     "name": "stderr",
     "output_type": "stream",
     "text": [
      "Epoch 8/20  Mem : 13.3GB  LR : 3.97E-04  Loss: 0.0753: 100%|██████████| 1266/1266 [04:12<00:00,  5.01it/s]\n",
      "Val Loss: 0.3106: 100%|██████████| 1214/1214 [02:12<00:00,  9.16it/s]\n"
     ]
    },
    {
     "name": "stdout",
     "output_type": "stream",
     "text": [
      "loss : 0.3106\n",
      "\n"
     ]
    },
    {
     "name": "stderr",
     "output_type": "stream",
     "text": [
      "Epoch 9/20  Mem : 13.3GB  LR : 3.64E-04  Loss: 0.0740: 100%|██████████| 1266/1266 [04:12<00:00,  5.02it/s]\n",
      "Val Loss: 0.3102: 100%|██████████| 1214/1214 [02:13<00:00,  9.09it/s]\n"
     ]
    },
    {
     "name": "stdout",
     "output_type": "stream",
     "text": [
      "loss : 0.3102\n",
      "\n"
     ]
    },
    {
     "name": "stderr",
     "output_type": "stream",
     "text": [
      "Epoch 10/20  Mem : 13.3GB  LR : 3.27E-04  Loss: 0.0737: 100%|██████████| 1266/1266 [04:14<00:00,  4.97it/s]\n",
      "Val Loss: 0.2992: 100%|██████████| 1214/1214 [02:12<00:00,  9.17it/s]\n"
     ]
    },
    {
     "name": "stdout",
     "output_type": "stream",
     "text": [
      "loss : 0.2992\n",
      "\n"
     ]
    },
    {
     "name": "stderr",
     "output_type": "stream",
     "text": [
      "Epoch 11/20  Mem : 13.3GB  LR : 2.89E-04  Loss: 0.0715: 100%|██████████| 1266/1266 [04:10<00:00,  5.05it/s]\n",
      "Val Loss: 0.3048: 100%|██████████| 1214/1214 [02:12<00:00,  9.19it/s]\n"
     ]
    },
    {
     "name": "stdout",
     "output_type": "stream",
     "text": [
      "loss : 0.3048\n",
      "\n"
     ]
    },
    {
     "name": "stderr",
     "output_type": "stream",
     "text": [
      "Epoch 12/20  Mem : 13.3GB  LR : 2.50E-04  Loss: 0.0720: 100%|██████████| 1266/1266 [04:11<00:00,  5.03it/s]\n",
      "Val Loss: 0.2946: 100%|██████████| 1214/1214 [02:14<00:00,  9.05it/s]\n"
     ]
    },
    {
     "name": "stdout",
     "output_type": "stream",
     "text": [
      "loss : 0.2946\tSAVED MODEL\n",
      "\n"
     ]
    },
    {
     "name": "stderr",
     "output_type": "stream",
     "text": [
      "Epoch 13/20  Mem : 13.3GB  LR : 2.11E-04  Loss: 0.0712: 100%|██████████| 1266/1266 [04:11<00:00,  5.04it/s]\n",
      "Val Loss: 0.2867: 100%|██████████| 1214/1214 [02:14<00:00,  9.00it/s]\n"
     ]
    },
    {
     "name": "stdout",
     "output_type": "stream",
     "text": [
      "loss : 0.2867\tSAVED MODEL\n",
      "\n"
     ]
    },
    {
     "name": "stderr",
     "output_type": "stream",
     "text": [
      "Epoch 14/20  Mem : 13.3GB  LR : 1.73E-04  Loss: 0.0711:  68%|██████▊   | 859/1266 [02:54<01:21,  4.99it/s]wandb: Network error (ConnectionError), entering retry loop.\n",
      "Epoch 14/20  Mem : 13.3GB  LR : 1.73E-04  Loss: 0.0710: 100%|██████████| 1266/1266 [04:16<00:00,  4.94it/s]\n",
      "Val Loss: 0.2959: 100%|██████████| 1214/1214 [02:14<00:00,  9.00it/s]\n"
     ]
    },
    {
     "name": "stdout",
     "output_type": "stream",
     "text": [
      "loss : 0.2959\n",
      "\n"
     ]
    },
    {
     "ename": "URLError",
     "evalue": "<urlopen error [Errno -3] Temporary failure in name resolution>",
     "output_type": "error",
     "traceback": [
      "\u001b[0;31m---------------------------------------------------------------------------\u001b[0m",
      "\u001b[0;31mgaierror\u001b[0m                                  Traceback (most recent call last)",
      "File \u001b[0;32m/usr/lib/python3.10/urllib/request.py:1348\u001b[0m, in \u001b[0;36mAbstractHTTPHandler.do_open\u001b[0;34m(self, http_class, req, **http_conn_args)\u001b[0m\n\u001b[1;32m   1347\u001b[0m \u001b[38;5;28;01mtry\u001b[39;00m:\n\u001b[0;32m-> 1348\u001b[0m     \u001b[43mh\u001b[49m\u001b[38;5;241;43m.\u001b[39;49m\u001b[43mrequest\u001b[49m\u001b[43m(\u001b[49m\u001b[43mreq\u001b[49m\u001b[38;5;241;43m.\u001b[39;49m\u001b[43mget_method\u001b[49m\u001b[43m(\u001b[49m\u001b[43m)\u001b[49m\u001b[43m,\u001b[49m\u001b[43m \u001b[49m\u001b[43mreq\u001b[49m\u001b[38;5;241;43m.\u001b[39;49m\u001b[43mselector\u001b[49m\u001b[43m,\u001b[49m\u001b[43m \u001b[49m\u001b[43mreq\u001b[49m\u001b[38;5;241;43m.\u001b[39;49m\u001b[43mdata\u001b[49m\u001b[43m,\u001b[49m\u001b[43m \u001b[49m\u001b[43mheaders\u001b[49m\u001b[43m,\u001b[49m\n\u001b[1;32m   1349\u001b[0m \u001b[43m              \u001b[49m\u001b[43mencode_chunked\u001b[49m\u001b[38;5;241;43m=\u001b[39;49m\u001b[43mreq\u001b[49m\u001b[38;5;241;43m.\u001b[39;49m\u001b[43mhas_header\u001b[49m\u001b[43m(\u001b[49m\u001b[38;5;124;43m'\u001b[39;49m\u001b[38;5;124;43mTransfer-encoding\u001b[39;49m\u001b[38;5;124;43m'\u001b[39;49m\u001b[43m)\u001b[49m\u001b[43m)\u001b[49m\n\u001b[1;32m   1350\u001b[0m \u001b[38;5;28;01mexcept\u001b[39;00m \u001b[38;5;167;01mOSError\u001b[39;00m \u001b[38;5;28;01mas\u001b[39;00m err: \u001b[38;5;66;03m# timeout error\u001b[39;00m\n",
      "File \u001b[0;32m/usr/lib/python3.10/http/client.py:1283\u001b[0m, in \u001b[0;36mHTTPConnection.request\u001b[0;34m(self, method, url, body, headers, encode_chunked)\u001b[0m\n\u001b[1;32m   1282\u001b[0m \u001b[38;5;250m\u001b[39m\u001b[38;5;124;03m\"\"\"Send a complete request to the server.\"\"\"\u001b[39;00m\n\u001b[0;32m-> 1283\u001b[0m \u001b[38;5;28;43mself\u001b[39;49m\u001b[38;5;241;43m.\u001b[39;49m\u001b[43m_send_request\u001b[49m\u001b[43m(\u001b[49m\u001b[43mmethod\u001b[49m\u001b[43m,\u001b[49m\u001b[43m \u001b[49m\u001b[43murl\u001b[49m\u001b[43m,\u001b[49m\u001b[43m \u001b[49m\u001b[43mbody\u001b[49m\u001b[43m,\u001b[49m\u001b[43m \u001b[49m\u001b[43mheaders\u001b[49m\u001b[43m,\u001b[49m\u001b[43m \u001b[49m\u001b[43mencode_chunked\u001b[49m\u001b[43m)\u001b[49m\n",
      "File \u001b[0;32m/usr/lib/python3.10/http/client.py:1329\u001b[0m, in \u001b[0;36mHTTPConnection._send_request\u001b[0;34m(self, method, url, body, headers, encode_chunked)\u001b[0m\n\u001b[1;32m   1328\u001b[0m     body \u001b[38;5;241m=\u001b[39m _encode(body, \u001b[38;5;124m'\u001b[39m\u001b[38;5;124mbody\u001b[39m\u001b[38;5;124m'\u001b[39m)\n\u001b[0;32m-> 1329\u001b[0m \u001b[38;5;28;43mself\u001b[39;49m\u001b[38;5;241;43m.\u001b[39;49m\u001b[43mendheaders\u001b[49m\u001b[43m(\u001b[49m\u001b[43mbody\u001b[49m\u001b[43m,\u001b[49m\u001b[43m \u001b[49m\u001b[43mencode_chunked\u001b[49m\u001b[38;5;241;43m=\u001b[39;49m\u001b[43mencode_chunked\u001b[49m\u001b[43m)\u001b[49m\n",
      "File \u001b[0;32m/usr/lib/python3.10/http/client.py:1278\u001b[0m, in \u001b[0;36mHTTPConnection.endheaders\u001b[0;34m(self, message_body, encode_chunked)\u001b[0m\n\u001b[1;32m   1277\u001b[0m     \u001b[38;5;28;01mraise\u001b[39;00m CannotSendHeader()\n\u001b[0;32m-> 1278\u001b[0m \u001b[38;5;28;43mself\u001b[39;49m\u001b[38;5;241;43m.\u001b[39;49m\u001b[43m_send_output\u001b[49m\u001b[43m(\u001b[49m\u001b[43mmessage_body\u001b[49m\u001b[43m,\u001b[49m\u001b[43m \u001b[49m\u001b[43mencode_chunked\u001b[49m\u001b[38;5;241;43m=\u001b[39;49m\u001b[43mencode_chunked\u001b[49m\u001b[43m)\u001b[49m\n",
      "File \u001b[0;32m/usr/lib/python3.10/http/client.py:1038\u001b[0m, in \u001b[0;36mHTTPConnection._send_output\u001b[0;34m(self, message_body, encode_chunked)\u001b[0m\n\u001b[1;32m   1037\u001b[0m \u001b[38;5;28;01mdel\u001b[39;00m \u001b[38;5;28mself\u001b[39m\u001b[38;5;241m.\u001b[39m_buffer[:]\n\u001b[0;32m-> 1038\u001b[0m \u001b[38;5;28;43mself\u001b[39;49m\u001b[38;5;241;43m.\u001b[39;49m\u001b[43msend\u001b[49m\u001b[43m(\u001b[49m\u001b[43mmsg\u001b[49m\u001b[43m)\u001b[49m\n\u001b[1;32m   1040\u001b[0m \u001b[38;5;28;01mif\u001b[39;00m message_body \u001b[38;5;129;01mis\u001b[39;00m \u001b[38;5;129;01mnot\u001b[39;00m \u001b[38;5;28;01mNone\u001b[39;00m:\n\u001b[1;32m   1041\u001b[0m \n\u001b[1;32m   1042\u001b[0m     \u001b[38;5;66;03m# create a consistent interface to message_body\u001b[39;00m\n",
      "File \u001b[0;32m/usr/lib/python3.10/http/client.py:976\u001b[0m, in \u001b[0;36mHTTPConnection.send\u001b[0;34m(self, data)\u001b[0m\n\u001b[1;32m    975\u001b[0m \u001b[38;5;28;01mif\u001b[39;00m \u001b[38;5;28mself\u001b[39m\u001b[38;5;241m.\u001b[39mauto_open:\n\u001b[0;32m--> 976\u001b[0m     \u001b[38;5;28;43mself\u001b[39;49m\u001b[38;5;241;43m.\u001b[39;49m\u001b[43mconnect\u001b[49m\u001b[43m(\u001b[49m\u001b[43m)\u001b[49m\n\u001b[1;32m    977\u001b[0m \u001b[38;5;28;01melse\u001b[39;00m:\n",
      "File \u001b[0;32m/usr/lib/python3.10/http/client.py:1448\u001b[0m, in \u001b[0;36mHTTPSConnection.connect\u001b[0;34m(self)\u001b[0m\n\u001b[1;32m   1446\u001b[0m \u001b[38;5;124m\"\u001b[39m\u001b[38;5;124mConnect to a host on a given (SSL) port.\u001b[39m\u001b[38;5;124m\"\u001b[39m\n\u001b[0;32m-> 1448\u001b[0m \u001b[38;5;28;43msuper\u001b[39;49m\u001b[43m(\u001b[49m\u001b[43m)\u001b[49m\u001b[38;5;241;43m.\u001b[39;49m\u001b[43mconnect\u001b[49m\u001b[43m(\u001b[49m\u001b[43m)\u001b[49m\n\u001b[1;32m   1450\u001b[0m \u001b[38;5;28;01mif\u001b[39;00m \u001b[38;5;28mself\u001b[39m\u001b[38;5;241m.\u001b[39m_tunnel_host:\n",
      "File \u001b[0;32m/usr/lib/python3.10/http/client.py:942\u001b[0m, in \u001b[0;36mHTTPConnection.connect\u001b[0;34m(self)\u001b[0m\n\u001b[1;32m    941\u001b[0m sys\u001b[38;5;241m.\u001b[39maudit(\u001b[38;5;124m\"\u001b[39m\u001b[38;5;124mhttp.client.connect\u001b[39m\u001b[38;5;124m\"\u001b[39m, \u001b[38;5;28mself\u001b[39m, \u001b[38;5;28mself\u001b[39m\u001b[38;5;241m.\u001b[39mhost, \u001b[38;5;28mself\u001b[39m\u001b[38;5;241m.\u001b[39mport)\n\u001b[0;32m--> 942\u001b[0m \u001b[38;5;28mself\u001b[39m\u001b[38;5;241m.\u001b[39msock \u001b[38;5;241m=\u001b[39m \u001b[38;5;28;43mself\u001b[39;49m\u001b[38;5;241;43m.\u001b[39;49m\u001b[43m_create_connection\u001b[49m\u001b[43m(\u001b[49m\n\u001b[1;32m    943\u001b[0m \u001b[43m    \u001b[49m\u001b[43m(\u001b[49m\u001b[38;5;28;43mself\u001b[39;49m\u001b[38;5;241;43m.\u001b[39;49m\u001b[43mhost\u001b[49m\u001b[43m,\u001b[49m\u001b[38;5;28;43mself\u001b[39;49m\u001b[38;5;241;43m.\u001b[39;49m\u001b[43mport\u001b[49m\u001b[43m)\u001b[49m\u001b[43m,\u001b[49m\u001b[43m \u001b[49m\u001b[38;5;28;43mself\u001b[39;49m\u001b[38;5;241;43m.\u001b[39;49m\u001b[43mtimeout\u001b[49m\u001b[43m,\u001b[49m\u001b[43m \u001b[49m\u001b[38;5;28;43mself\u001b[39;49m\u001b[38;5;241;43m.\u001b[39;49m\u001b[43msource_address\u001b[49m\u001b[43m)\u001b[49m\n\u001b[1;32m    944\u001b[0m \u001b[38;5;66;03m# Might fail in OSs that don't implement TCP_NODELAY\u001b[39;00m\n",
      "File \u001b[0;32m/usr/lib/python3.10/socket.py:824\u001b[0m, in \u001b[0;36mcreate_connection\u001b[0;34m(address, timeout, source_address)\u001b[0m\n\u001b[1;32m    823\u001b[0m err \u001b[38;5;241m=\u001b[39m \u001b[38;5;28;01mNone\u001b[39;00m\n\u001b[0;32m--> 824\u001b[0m \u001b[38;5;28;01mfor\u001b[39;00m res \u001b[38;5;129;01min\u001b[39;00m \u001b[43mgetaddrinfo\u001b[49m\u001b[43m(\u001b[49m\u001b[43mhost\u001b[49m\u001b[43m,\u001b[49m\u001b[43m \u001b[49m\u001b[43mport\u001b[49m\u001b[43m,\u001b[49m\u001b[43m \u001b[49m\u001b[38;5;241;43m0\u001b[39;49m\u001b[43m,\u001b[49m\u001b[43m \u001b[49m\u001b[43mSOCK_STREAM\u001b[49m\u001b[43m)\u001b[49m:\n\u001b[1;32m    825\u001b[0m     af, socktype, proto, canonname, sa \u001b[38;5;241m=\u001b[39m res\n",
      "File \u001b[0;32m/usr/lib/python3.10/socket.py:955\u001b[0m, in \u001b[0;36mgetaddrinfo\u001b[0;34m(host, port, family, type, proto, flags)\u001b[0m\n\u001b[1;32m    954\u001b[0m addrlist \u001b[38;5;241m=\u001b[39m []\n\u001b[0;32m--> 955\u001b[0m \u001b[38;5;28;01mfor\u001b[39;00m res \u001b[38;5;129;01min\u001b[39;00m \u001b[43m_socket\u001b[49m\u001b[38;5;241;43m.\u001b[39;49m\u001b[43mgetaddrinfo\u001b[49m\u001b[43m(\u001b[49m\u001b[43mhost\u001b[49m\u001b[43m,\u001b[49m\u001b[43m \u001b[49m\u001b[43mport\u001b[49m\u001b[43m,\u001b[49m\u001b[43m \u001b[49m\u001b[43mfamily\u001b[49m\u001b[43m,\u001b[49m\u001b[43m \u001b[49m\u001b[38;5;28;43mtype\u001b[39;49m\u001b[43m,\u001b[49m\u001b[43m \u001b[49m\u001b[43mproto\u001b[49m\u001b[43m,\u001b[49m\u001b[43m \u001b[49m\u001b[43mflags\u001b[49m\u001b[43m)\u001b[49m:\n\u001b[1;32m    956\u001b[0m     af, socktype, proto, canonname, sa \u001b[38;5;241m=\u001b[39m res\n",
      "\u001b[0;31mgaierror\u001b[0m: [Errno -3] Temporary failure in name resolution",
      "\nDuring handling of the above exception, another exception occurred:\n",
      "\u001b[0;31mURLError\u001b[0m                                  Traceback (most recent call last)",
      "Cell \u001b[0;32mIn[4], line 80\u001b[0m\n\u001b[1;32m     78\u001b[0m     \u001b[38;5;28;01melse\u001b[39;00m:\n\u001b[1;32m     79\u001b[0m         \u001b[38;5;28mprint\u001b[39m(\u001b[38;5;124mf\u001b[39m\u001b[38;5;124m\"\u001b[39m\u001b[38;5;124mloss : \u001b[39m\u001b[38;5;132;01m{\u001b[39;00mvalid_loss\u001b[38;5;132;01m:\u001b[39;00m\u001b[38;5;124m.4f\u001b[39m\u001b[38;5;132;01m}\u001b[39;00m\u001b[38;5;130;01m\\n\u001b[39;00m\u001b[38;5;124m\"\u001b[39m)\n\u001b[0;32m---> 80\u001b[0m         \u001b[43mslacknotify\u001b[49m\u001b[38;5;241;43m.\u001b[39;49m\u001b[43msend_reply\u001b[49m\u001b[43m(\u001b[49m\u001b[38;5;124;43mf\u001b[39;49m\u001b[38;5;124;43m\"\u001b[39;49m\u001b[38;5;124;43mepoch : \u001b[39;49m\u001b[38;5;132;43;01m{\u001b[39;49;00m\u001b[43mepoch\u001b[49m\u001b[38;5;132;43;01m}\u001b[39;49;00m\u001b[38;5;130;43;01m\\t\u001b[39;49;00m\u001b[38;5;124;43mscore : \u001b[39;49m\u001b[38;5;132;43;01m{\u001b[39;49;00m\u001b[43mvalid_loss\u001b[49m\u001b[38;5;132;43;01m:\u001b[39;49;00m\u001b[38;5;124;43m.4f\u001b[39;49m\u001b[38;5;132;43;01m}\u001b[39;49;00m\u001b[38;5;124;43m\"\u001b[39;49m\u001b[43m)\u001b[49m\n\u001b[1;32m     82\u001b[0m save_model(model, cfg, path_last, loss\u001b[38;5;241m=\u001b[39mvalid_loss)\n\u001b[1;32m     83\u001b[0m wandb\u001b[38;5;241m.\u001b[39mconfig\u001b[38;5;241m.\u001b[39mupdate({\u001b[38;5;124m\"\u001b[39m\u001b[38;5;124mlast_loss\u001b[39m\u001b[38;5;124m\"\u001b[39m: valid_loss, \u001b[38;5;124m\"\u001b[39m\u001b[38;5;124mbest_loss\u001b[39m\u001b[38;5;124m\"\u001b[39m: best_loss})\n",
      "File \u001b[0;32m/kaggle/src/utils/common.py:42\u001b[0m, in \u001b[0;36mSlackNotify.send_reply\u001b[0;34m(self, text, mention)\u001b[0m\n\u001b[1;32m     40\u001b[0m \u001b[38;5;28;01mif\u001b[39;00m mention:\n\u001b[1;32m     41\u001b[0m     text \u001b[38;5;241m=\u001b[39m \u001b[38;5;124mf\u001b[39m\u001b[38;5;124m\"\u001b[39m\u001b[38;5;124m<@\u001b[39m\u001b[38;5;132;01m{\u001b[39;00m\u001b[38;5;28mself\u001b[39m\u001b[38;5;241m.\u001b[39muserid\u001b[38;5;132;01m}\u001b[39;00m\u001b[38;5;124m>\u001b[39m\u001b[38;5;130;01m\\n\u001b[39;00m\u001b[38;5;124m\"\u001b[39m \u001b[38;5;241m+\u001b[39m text\n\u001b[0;32m---> 42\u001b[0m \u001b[38;5;28;43mself\u001b[39;49m\u001b[38;5;241;43m.\u001b[39;49m\u001b[43mclient\u001b[49m\u001b[38;5;241;43m.\u001b[39;49m\u001b[43mchat_postMessage\u001b[49m\u001b[43m(\u001b[49m\u001b[43mchannel\u001b[49m\u001b[38;5;241;43m=\u001b[39;49m\u001b[38;5;28;43mself\u001b[39;49m\u001b[38;5;241;43m.\u001b[39;49m\u001b[43mchannel\u001b[49m\u001b[43m,\u001b[49m\u001b[43m \u001b[49m\u001b[43mtext\u001b[49m\u001b[38;5;241;43m=\u001b[39;49m\u001b[43mtext\u001b[49m\u001b[43m,\u001b[49m\u001b[43m \u001b[49m\u001b[43mthread_ts\u001b[49m\u001b[38;5;241;43m=\u001b[39;49m\u001b[38;5;28;43mself\u001b[39;49m\u001b[38;5;241;43m.\u001b[39;49m\u001b[43mparent_ts\u001b[49m\u001b[43m)\u001b[49m\n",
      "File \u001b[0;32m/usr/local/lib/python3.10/dist-packages/slack_sdk/web/client.py:2564\u001b[0m, in \u001b[0;36mWebClient.chat_postMessage\u001b[0;34m(self, channel, text, as_user, attachments, blocks, thread_ts, reply_broadcast, unfurl_links, unfurl_media, container_id, icon_emoji, icon_url, mrkdwn, link_names, username, parse, metadata, **kwargs)\u001b[0m\n\u001b[1;32m   2562\u001b[0m _warn_if_text_or_attachment_fallback_is_missing(\u001b[38;5;124m\"\u001b[39m\u001b[38;5;124mchat.postMessage\u001b[39m\u001b[38;5;124m\"\u001b[39m, kwargs)\n\u001b[1;32m   2563\u001b[0m \u001b[38;5;66;03m# NOTE: intentionally using json over params for the API methods using blocks/attachments\u001b[39;00m\n\u001b[0;32m-> 2564\u001b[0m \u001b[38;5;28;01mreturn\u001b[39;00m \u001b[38;5;28;43mself\u001b[39;49m\u001b[38;5;241;43m.\u001b[39;49m\u001b[43mapi_call\u001b[49m\u001b[43m(\u001b[49m\u001b[38;5;124;43m\"\u001b[39;49m\u001b[38;5;124;43mchat.postMessage\u001b[39;49m\u001b[38;5;124;43m\"\u001b[39;49m\u001b[43m,\u001b[49m\u001b[43m \u001b[49m\u001b[43mjson\u001b[49m\u001b[38;5;241;43m=\u001b[39;49m\u001b[43mkwargs\u001b[49m\u001b[43m)\u001b[49m\n",
      "File \u001b[0;32m/usr/local/lib/python3.10/dist-packages/slack_sdk/web/base_client.py:155\u001b[0m, in \u001b[0;36mBaseClient.api_call\u001b[0;34m(self, api_method, http_verb, files, data, params, json, headers, auth)\u001b[0m\n\u001b[1;32m    140\u001b[0m req_args \u001b[38;5;241m=\u001b[39m _build_req_args(\n\u001b[1;32m    141\u001b[0m     token\u001b[38;5;241m=\u001b[39m\u001b[38;5;28mself\u001b[39m\u001b[38;5;241m.\u001b[39mtoken,\n\u001b[1;32m    142\u001b[0m     http_verb\u001b[38;5;241m=\u001b[39mhttp_verb,\n\u001b[0;32m   (...)\u001b[0m\n\u001b[1;32m    151\u001b[0m     proxy\u001b[38;5;241m=\u001b[39m\u001b[38;5;28mself\u001b[39m\u001b[38;5;241m.\u001b[39mproxy,\n\u001b[1;32m    152\u001b[0m )\n\u001b[1;32m    154\u001b[0m show_deprecation_warning_if_any(api_method)\n\u001b[0;32m--> 155\u001b[0m \u001b[38;5;28;01mreturn\u001b[39;00m \u001b[38;5;28;43mself\u001b[39;49m\u001b[38;5;241;43m.\u001b[39;49m\u001b[43m_sync_send\u001b[49m\u001b[43m(\u001b[49m\u001b[43mapi_url\u001b[49m\u001b[38;5;241;43m=\u001b[39;49m\u001b[43mapi_url\u001b[49m\u001b[43m,\u001b[49m\u001b[43m \u001b[49m\u001b[43mreq_args\u001b[49m\u001b[38;5;241;43m=\u001b[39;49m\u001b[43mreq_args\u001b[49m\u001b[43m)\u001b[49m\n",
      "File \u001b[0;32m/usr/local/lib/python3.10/dist-packages/slack_sdk/web/base_client.py:186\u001b[0m, in \u001b[0;36mBaseClient._sync_send\u001b[0;34m(self, api_url, req_args)\u001b[0m\n\u001b[1;32m    183\u001b[0m \u001b[38;5;28;01mif\u001b[39;00m data:\n\u001b[1;32m    184\u001b[0m     body_params\u001b[38;5;241m.\u001b[39mupdate(data)\n\u001b[0;32m--> 186\u001b[0m \u001b[38;5;28;01mreturn\u001b[39;00m \u001b[38;5;28;43mself\u001b[39;49m\u001b[38;5;241;43m.\u001b[39;49m\u001b[43m_urllib_api_call\u001b[49m\u001b[43m(\u001b[49m\n\u001b[1;32m    187\u001b[0m \u001b[43m    \u001b[49m\u001b[43mtoken\u001b[49m\u001b[38;5;241;43m=\u001b[39;49m\u001b[43mtoken\u001b[49m\u001b[43m,\u001b[49m\n\u001b[1;32m    188\u001b[0m \u001b[43m    \u001b[49m\u001b[43murl\u001b[49m\u001b[38;5;241;43m=\u001b[39;49m\u001b[43mapi_url\u001b[49m\u001b[43m,\u001b[49m\n\u001b[1;32m    189\u001b[0m \u001b[43m    \u001b[49m\u001b[43mquery_params\u001b[49m\u001b[38;5;241;43m=\u001b[39;49m\u001b[43m{\u001b[49m\u001b[43m}\u001b[49m\u001b[43m,\u001b[49m\n\u001b[1;32m    190\u001b[0m \u001b[43m    \u001b[49m\u001b[43mbody_params\u001b[49m\u001b[38;5;241;43m=\u001b[39;49m\u001b[43mbody_params\u001b[49m\u001b[43m,\u001b[49m\n\u001b[1;32m    191\u001b[0m \u001b[43m    \u001b[49m\u001b[43mfiles\u001b[49m\u001b[38;5;241;43m=\u001b[39;49m\u001b[43mfiles\u001b[49m\u001b[43m,\u001b[49m\n\u001b[1;32m    192\u001b[0m \u001b[43m    \u001b[49m\u001b[43mjson_body\u001b[49m\u001b[38;5;241;43m=\u001b[39;49m\u001b[43m_json\u001b[49m\u001b[43m,\u001b[49m\n\u001b[1;32m    193\u001b[0m \u001b[43m    \u001b[49m\u001b[43madditional_headers\u001b[49m\u001b[38;5;241;43m=\u001b[39;49m\u001b[43mheaders\u001b[49m\u001b[43m,\u001b[49m\n\u001b[1;32m    194\u001b[0m \u001b[43m\u001b[49m\u001b[43m)\u001b[49m\n",
      "File \u001b[0;32m/usr/local/lib/python3.10/dist-packages/slack_sdk/web/base_client.py:293\u001b[0m, in \u001b[0;36mBaseClient._urllib_api_call\u001b[0;34m(self, token, url, query_params, json_body, body_params, files, additional_headers)\u001b[0m\n\u001b[1;32m    290\u001b[0m     q \u001b[38;5;241m=\u001b[39m urlencode(query_params)\n\u001b[1;32m    291\u001b[0m     url \u001b[38;5;241m=\u001b[39m \u001b[38;5;124mf\u001b[39m\u001b[38;5;124m\"\u001b[39m\u001b[38;5;132;01m{\u001b[39;00murl\u001b[38;5;132;01m}\u001b[39;00m\u001b[38;5;124m&\u001b[39m\u001b[38;5;132;01m{\u001b[39;00mq\u001b[38;5;132;01m}\u001b[39;00m\u001b[38;5;124m\"\u001b[39m \u001b[38;5;28;01mif\u001b[39;00m \u001b[38;5;124m\"\u001b[39m\u001b[38;5;124m?\u001b[39m\u001b[38;5;124m\"\u001b[39m \u001b[38;5;129;01min\u001b[39;00m url \u001b[38;5;28;01melse\u001b[39;00m \u001b[38;5;124mf\u001b[39m\u001b[38;5;124m\"\u001b[39m\u001b[38;5;132;01m{\u001b[39;00murl\u001b[38;5;132;01m}\u001b[39;00m\u001b[38;5;124m?\u001b[39m\u001b[38;5;132;01m{\u001b[39;00mq\u001b[38;5;132;01m}\u001b[39;00m\u001b[38;5;124m\"\u001b[39m\n\u001b[0;32m--> 293\u001b[0m response \u001b[38;5;241m=\u001b[39m \u001b[38;5;28;43mself\u001b[39;49m\u001b[38;5;241;43m.\u001b[39;49m\u001b[43m_perform_urllib_http_request\u001b[49m\u001b[43m(\u001b[49m\u001b[43murl\u001b[49m\u001b[38;5;241;43m=\u001b[39;49m\u001b[43murl\u001b[49m\u001b[43m,\u001b[49m\u001b[43m \u001b[49m\u001b[43margs\u001b[49m\u001b[38;5;241;43m=\u001b[39;49m\u001b[43mrequest_args\u001b[49m\u001b[43m)\u001b[49m\n\u001b[1;32m    294\u001b[0m response_body \u001b[38;5;241m=\u001b[39m response\u001b[38;5;241m.\u001b[39mget(\u001b[38;5;124m\"\u001b[39m\u001b[38;5;124mbody\u001b[39m\u001b[38;5;124m\"\u001b[39m, \u001b[38;5;28;01mNone\u001b[39;00m)  \u001b[38;5;66;03m# skipcq: PTC-W0039\u001b[39;00m\n\u001b[1;32m    295\u001b[0m response_body_data: Optional[Union[\u001b[38;5;28mdict\u001b[39m, \u001b[38;5;28mbytes\u001b[39m]] \u001b[38;5;241m=\u001b[39m response_body\n",
      "File \u001b[0;32m/usr/local/lib/python3.10/dist-packages/slack_sdk/web/base_client.py:495\u001b[0m, in \u001b[0;36mBaseClient._perform_urllib_http_request\u001b[0;34m(self, url, args)\u001b[0m\n\u001b[1;32m    492\u001b[0m                 \u001b[38;5;28;01mbreak\u001b[39;00m\n\u001b[1;32m    494\u001b[0m         \u001b[38;5;28;01mif\u001b[39;00m retry_state\u001b[38;5;241m.\u001b[39mnext_attempt_requested \u001b[38;5;129;01mis\u001b[39;00m \u001b[38;5;28;01mFalse\u001b[39;00m:\n\u001b[0;32m--> 495\u001b[0m             \u001b[38;5;28;01mraise\u001b[39;00m err\n\u001b[1;32m    497\u001b[0m \u001b[38;5;28;01mif\u001b[39;00m resp \u001b[38;5;129;01mis\u001b[39;00m \u001b[38;5;129;01mnot\u001b[39;00m \u001b[38;5;28;01mNone\u001b[39;00m:\n\u001b[1;32m    498\u001b[0m     \u001b[38;5;28;01mreturn\u001b[39;00m resp\n",
      "File \u001b[0;32m/usr/local/lib/python3.10/dist-packages/slack_sdk/web/base_client.py:397\u001b[0m, in \u001b[0;36mBaseClient._perform_urllib_http_request\u001b[0;34m(self, url, args)\u001b[0m\n\u001b[1;32m    394\u001b[0m retry_state\u001b[38;5;241m.\u001b[39mnext_attempt_requested \u001b[38;5;241m=\u001b[39m \u001b[38;5;28;01mFalse\u001b[39;00m\n\u001b[1;32m    396\u001b[0m \u001b[38;5;28;01mtry\u001b[39;00m:\n\u001b[0;32m--> 397\u001b[0m     resp \u001b[38;5;241m=\u001b[39m \u001b[38;5;28;43mself\u001b[39;49m\u001b[38;5;241;43m.\u001b[39;49m\u001b[43m_perform_urllib_http_request_internal\u001b[49m\u001b[43m(\u001b[49m\u001b[43murl\u001b[49m\u001b[43m,\u001b[49m\u001b[43m \u001b[49m\u001b[43mreq\u001b[49m\u001b[43m)\u001b[49m\n\u001b[1;32m    398\u001b[0m     \u001b[38;5;66;03m# The resp is a 200 OK response\u001b[39;00m\n\u001b[1;32m    399\u001b[0m     \u001b[38;5;28;01mif\u001b[39;00m \u001b[38;5;28mlen\u001b[39m(\u001b[38;5;28mself\u001b[39m\u001b[38;5;241m.\u001b[39mretry_handlers) \u001b[38;5;241m>\u001b[39m \u001b[38;5;241m0\u001b[39m:\n",
      "File \u001b[0;32m/usr/local/lib/python3.10/dist-packages/slack_sdk/web/base_client.py:526\u001b[0m, in \u001b[0;36mBaseClient._perform_urllib_http_request_internal\u001b[0;34m(self, url, req)\u001b[0m\n\u001b[1;32m    524\u001b[0m     resp \u001b[38;5;241m=\u001b[39m opener\u001b[38;5;241m.\u001b[39mopen(req, timeout\u001b[38;5;241m=\u001b[39m\u001b[38;5;28mself\u001b[39m\u001b[38;5;241m.\u001b[39mtimeout)  \u001b[38;5;66;03m# skipcq: BAN-B310\u001b[39;00m\n\u001b[1;32m    525\u001b[0m \u001b[38;5;28;01melse\u001b[39;00m:\n\u001b[0;32m--> 526\u001b[0m     resp \u001b[38;5;241m=\u001b[39m \u001b[43murlopen\u001b[49m\u001b[43m(\u001b[49m\u001b[43mreq\u001b[49m\u001b[43m,\u001b[49m\u001b[43m \u001b[49m\u001b[43mcontext\u001b[49m\u001b[38;5;241;43m=\u001b[39;49m\u001b[38;5;28;43mself\u001b[39;49m\u001b[38;5;241;43m.\u001b[39;49m\u001b[43mssl\u001b[49m\u001b[43m,\u001b[49m\u001b[43m \u001b[49m\u001b[43mtimeout\u001b[49m\u001b[38;5;241;43m=\u001b[39;49m\u001b[38;5;28;43mself\u001b[39;49m\u001b[38;5;241;43m.\u001b[39;49m\u001b[43mtimeout\u001b[49m\u001b[43m)\u001b[49m  \u001b[38;5;66;03m# skipcq: BAN-B310\u001b[39;00m\n\u001b[1;32m    527\u001b[0m \u001b[38;5;28;01mif\u001b[39;00m resp\u001b[38;5;241m.\u001b[39mheaders\u001b[38;5;241m.\u001b[39mget_content_type() \u001b[38;5;241m==\u001b[39m \u001b[38;5;124m\"\u001b[39m\u001b[38;5;124mapplication/gzip\u001b[39m\u001b[38;5;124m\"\u001b[39m:\n\u001b[1;32m    528\u001b[0m     \u001b[38;5;66;03m# admin.analytics.getFile\u001b[39;00m\n\u001b[1;32m    529\u001b[0m     body: \u001b[38;5;28mbytes\u001b[39m \u001b[38;5;241m=\u001b[39m resp\u001b[38;5;241m.\u001b[39mread()\n",
      "File \u001b[0;32m/usr/lib/python3.10/urllib/request.py:216\u001b[0m, in \u001b[0;36murlopen\u001b[0;34m(url, data, timeout, cafile, capath, cadefault, context)\u001b[0m\n\u001b[1;32m    214\u001b[0m \u001b[38;5;28;01melse\u001b[39;00m:\n\u001b[1;32m    215\u001b[0m     opener \u001b[38;5;241m=\u001b[39m _opener\n\u001b[0;32m--> 216\u001b[0m \u001b[38;5;28;01mreturn\u001b[39;00m \u001b[43mopener\u001b[49m\u001b[38;5;241;43m.\u001b[39;49m\u001b[43mopen\u001b[49m\u001b[43m(\u001b[49m\u001b[43murl\u001b[49m\u001b[43m,\u001b[49m\u001b[43m \u001b[49m\u001b[43mdata\u001b[49m\u001b[43m,\u001b[49m\u001b[43m \u001b[49m\u001b[43mtimeout\u001b[49m\u001b[43m)\u001b[49m\n",
      "File \u001b[0;32m/usr/lib/python3.10/urllib/request.py:519\u001b[0m, in \u001b[0;36mOpenerDirector.open\u001b[0;34m(self, fullurl, data, timeout)\u001b[0m\n\u001b[1;32m    516\u001b[0m     req \u001b[38;5;241m=\u001b[39m meth(req)\n\u001b[1;32m    518\u001b[0m sys\u001b[38;5;241m.\u001b[39maudit(\u001b[38;5;124m'\u001b[39m\u001b[38;5;124murllib.Request\u001b[39m\u001b[38;5;124m'\u001b[39m, req\u001b[38;5;241m.\u001b[39mfull_url, req\u001b[38;5;241m.\u001b[39mdata, req\u001b[38;5;241m.\u001b[39mheaders, req\u001b[38;5;241m.\u001b[39mget_method())\n\u001b[0;32m--> 519\u001b[0m response \u001b[38;5;241m=\u001b[39m \u001b[38;5;28;43mself\u001b[39;49m\u001b[38;5;241;43m.\u001b[39;49m\u001b[43m_open\u001b[49m\u001b[43m(\u001b[49m\u001b[43mreq\u001b[49m\u001b[43m,\u001b[49m\u001b[43m \u001b[49m\u001b[43mdata\u001b[49m\u001b[43m)\u001b[49m\n\u001b[1;32m    521\u001b[0m \u001b[38;5;66;03m# post-process response\u001b[39;00m\n\u001b[1;32m    522\u001b[0m meth_name \u001b[38;5;241m=\u001b[39m protocol\u001b[38;5;241m+\u001b[39m\u001b[38;5;124m\"\u001b[39m\u001b[38;5;124m_response\u001b[39m\u001b[38;5;124m\"\u001b[39m\n",
      "File \u001b[0;32m/usr/lib/python3.10/urllib/request.py:536\u001b[0m, in \u001b[0;36mOpenerDirector._open\u001b[0;34m(self, req, data)\u001b[0m\n\u001b[1;32m    533\u001b[0m     \u001b[38;5;28;01mreturn\u001b[39;00m result\n\u001b[1;32m    535\u001b[0m protocol \u001b[38;5;241m=\u001b[39m req\u001b[38;5;241m.\u001b[39mtype\n\u001b[0;32m--> 536\u001b[0m result \u001b[38;5;241m=\u001b[39m \u001b[38;5;28;43mself\u001b[39;49m\u001b[38;5;241;43m.\u001b[39;49m\u001b[43m_call_chain\u001b[49m\u001b[43m(\u001b[49m\u001b[38;5;28;43mself\u001b[39;49m\u001b[38;5;241;43m.\u001b[39;49m\u001b[43mhandle_open\u001b[49m\u001b[43m,\u001b[49m\u001b[43m \u001b[49m\u001b[43mprotocol\u001b[49m\u001b[43m,\u001b[49m\u001b[43m \u001b[49m\u001b[43mprotocol\u001b[49m\u001b[43m \u001b[49m\u001b[38;5;241;43m+\u001b[39;49m\n\u001b[1;32m    537\u001b[0m \u001b[43m                          \u001b[49m\u001b[38;5;124;43m'\u001b[39;49m\u001b[38;5;124;43m_open\u001b[39;49m\u001b[38;5;124;43m'\u001b[39;49m\u001b[43m,\u001b[49m\u001b[43m \u001b[49m\u001b[43mreq\u001b[49m\u001b[43m)\u001b[49m\n\u001b[1;32m    538\u001b[0m \u001b[38;5;28;01mif\u001b[39;00m result:\n\u001b[1;32m    539\u001b[0m     \u001b[38;5;28;01mreturn\u001b[39;00m result\n",
      "File \u001b[0;32m/usr/lib/python3.10/urllib/request.py:496\u001b[0m, in \u001b[0;36mOpenerDirector._call_chain\u001b[0;34m(self, chain, kind, meth_name, *args)\u001b[0m\n\u001b[1;32m    494\u001b[0m \u001b[38;5;28;01mfor\u001b[39;00m handler \u001b[38;5;129;01min\u001b[39;00m handlers:\n\u001b[1;32m    495\u001b[0m     func \u001b[38;5;241m=\u001b[39m \u001b[38;5;28mgetattr\u001b[39m(handler, meth_name)\n\u001b[0;32m--> 496\u001b[0m     result \u001b[38;5;241m=\u001b[39m \u001b[43mfunc\u001b[49m\u001b[43m(\u001b[49m\u001b[38;5;241;43m*\u001b[39;49m\u001b[43margs\u001b[49m\u001b[43m)\u001b[49m\n\u001b[1;32m    497\u001b[0m     \u001b[38;5;28;01mif\u001b[39;00m result \u001b[38;5;129;01mis\u001b[39;00m \u001b[38;5;129;01mnot\u001b[39;00m \u001b[38;5;28;01mNone\u001b[39;00m:\n\u001b[1;32m    498\u001b[0m         \u001b[38;5;28;01mreturn\u001b[39;00m result\n",
      "File \u001b[0;32m/usr/lib/python3.10/urllib/request.py:1391\u001b[0m, in \u001b[0;36mHTTPSHandler.https_open\u001b[0;34m(self, req)\u001b[0m\n\u001b[1;32m   1390\u001b[0m \u001b[38;5;28;01mdef\u001b[39;00m \u001b[38;5;21mhttps_open\u001b[39m(\u001b[38;5;28mself\u001b[39m, req):\n\u001b[0;32m-> 1391\u001b[0m     \u001b[38;5;28;01mreturn\u001b[39;00m \u001b[38;5;28;43mself\u001b[39;49m\u001b[38;5;241;43m.\u001b[39;49m\u001b[43mdo_open\u001b[49m\u001b[43m(\u001b[49m\u001b[43mhttp\u001b[49m\u001b[38;5;241;43m.\u001b[39;49m\u001b[43mclient\u001b[49m\u001b[38;5;241;43m.\u001b[39;49m\u001b[43mHTTPSConnection\u001b[49m\u001b[43m,\u001b[49m\u001b[43m \u001b[49m\u001b[43mreq\u001b[49m\u001b[43m,\u001b[49m\n\u001b[1;32m   1392\u001b[0m \u001b[43m        \u001b[49m\u001b[43mcontext\u001b[49m\u001b[38;5;241;43m=\u001b[39;49m\u001b[38;5;28;43mself\u001b[39;49m\u001b[38;5;241;43m.\u001b[39;49m\u001b[43m_context\u001b[49m\u001b[43m,\u001b[49m\u001b[43m \u001b[49m\u001b[43mcheck_hostname\u001b[49m\u001b[38;5;241;43m=\u001b[39;49m\u001b[38;5;28;43mself\u001b[39;49m\u001b[38;5;241;43m.\u001b[39;49m\u001b[43m_check_hostname\u001b[49m\u001b[43m)\u001b[49m\n",
      "File \u001b[0;32m/usr/lib/python3.10/urllib/request.py:1351\u001b[0m, in \u001b[0;36mAbstractHTTPHandler.do_open\u001b[0;34m(self, http_class, req, **http_conn_args)\u001b[0m\n\u001b[1;32m   1348\u001b[0m         h\u001b[38;5;241m.\u001b[39mrequest(req\u001b[38;5;241m.\u001b[39mget_method(), req\u001b[38;5;241m.\u001b[39mselector, req\u001b[38;5;241m.\u001b[39mdata, headers,\n\u001b[1;32m   1349\u001b[0m                   encode_chunked\u001b[38;5;241m=\u001b[39mreq\u001b[38;5;241m.\u001b[39mhas_header(\u001b[38;5;124m'\u001b[39m\u001b[38;5;124mTransfer-encoding\u001b[39m\u001b[38;5;124m'\u001b[39m))\n\u001b[1;32m   1350\u001b[0m     \u001b[38;5;28;01mexcept\u001b[39;00m \u001b[38;5;167;01mOSError\u001b[39;00m \u001b[38;5;28;01mas\u001b[39;00m err: \u001b[38;5;66;03m# timeout error\u001b[39;00m\n\u001b[0;32m-> 1351\u001b[0m         \u001b[38;5;28;01mraise\u001b[39;00m URLError(err)\n\u001b[1;32m   1352\u001b[0m     r \u001b[38;5;241m=\u001b[39m h\u001b[38;5;241m.\u001b[39mgetresponse()\n\u001b[1;32m   1353\u001b[0m \u001b[38;5;28;01mexcept\u001b[39;00m:\n",
      "\u001b[0;31mURLError\u001b[0m: <urlopen error [Errno -3] Temporary failure in name resolution>"
     ]
    }
   ],
   "source": [
    "if cfg.debug:\n",
    "    print(\"!!!Debug mode!!!\\n\")\n",
    "    cfg.epochs = 5\n",
    "\n",
    "for fold in range(1):\n",
    "    dataset = get_train_dataset(cfg)\n",
    "\n",
    "    train_df = df[df[f\"fold{fold}\"] == \"train\"]\n",
    "    valid_df = df[df[f\"fold{fold}\"] == \"valid\"]\n",
    "\n",
    "    train_dataset = dataset(train_df, cfg, is_train=True)\n",
    "    valid_dataset = dataset(valid_df, cfg, is_train=False)\n",
    "\n",
    "    train_dataloader = DataLoader(train_dataset, batch_size=cfg.train_batch_size, num_workers=cfg.num_workers, shuffle=True)\n",
    "    valid_dataloader = DataLoader(valid_dataset, batch_size=cfg.valid_batch_size, num_workers=cfg.num_workers, shuffle=False)\n",
    "\n",
    "    model = build_model(cfg.model_arch, cfg.backbone, cfg.in_chans, cfg.target_size, cfg, decoder_attention_type=cfg.decoder_attention_type)\n",
    "    scaler = torch.cuda.amp.GradScaler()\n",
    "    criterion = get_lossfn(cfg)\n",
    "    optimizer = torch.optim.AdamW(model.parameters(), lr=cfg.lr)\n",
    "    scheduler = get_scheduler(cfg, optimizer)\n",
    "    metrics = get_metrics(cfg)\n",
    "\n",
    "    # model, scaler, criterion, optimizer, scheduler, metrics = init_model(cfg)\n",
    "    slacknotify = init_exp(fold, cfg)\n",
    "\n",
    "    path_best = f\"./{cfg.exp_name}/{cfg.exp_name}_best_fold{fold}.pth\"\n",
    "    path_last = f\"./{cfg.exp_name}/{cfg.exp_name}_last_fold{fold}.pth\"\n",
    "\n",
    "    best_loss = float(\"inf\")\n",
    "    for epoch in range(cfg.epochs):\n",
    "        model.train()\n",
    "        total_loss = 0.0\n",
    "        pbar_train = tqdm(enumerate(train_dataloader), total=len(train_dataloader), bar_format=\"{l_bar}{bar:10}{r_bar}{bar:-0b}\")\n",
    "\n",
    "        for i, (images, masks) in pbar_train:\n",
    "            images, masks = images.cuda(), masks.cuda()\n",
    "            optimizer.zero_grad()\n",
    "\n",
    "            with amp.autocast():\n",
    "                preds = model(images)\n",
    "                loss = criterion(preds, masks)\n",
    "                scaler.scale(loss).backward()\n",
    "                scaler.step(optimizer)\n",
    "                scaler.update()\n",
    "                total_loss += loss.detach().item()\n",
    "\n",
    "            loss_ = total_loss / (i + 1)\n",
    "            lr = f\"LR : {scheduler.get_lr()[0]:.2E}\"\n",
    "            gpu_mem = f\"Mem : {torch.cuda.memory_reserved() / 1E9:.3g}GB\"\n",
    "            pbar_train.set_description((\"%10s  \" * 3 + \"%10s\") % (f\"Epoch {epoch}/{cfg.epochs}\", gpu_mem, lr, f\"Loss: {loss_:.4f}\"))\n",
    "\n",
    "        train_loss = loss_\n",
    "        scheduler.step()\n",
    "        wandb.log({\"epoch\": epoch, \"train_loss\": train_loss})\n",
    "\n",
    "        model.eval()\n",
    "        total_loss = 0.0\n",
    "        pbar_val = tqdm(enumerate(valid_dataloader), total=len(valid_dataloader), bar_format=\"{l_bar}{bar:10}{r_bar}{bar:-10b}\")\n",
    "\n",
    "        for i, (images, masks) in pbar_val:\n",
    "            images, masks = images.cuda(), masks.cuda()\n",
    "            with torch.no_grad():\n",
    "                preds = model(images)\n",
    "                loss = criterion(preds, masks)\n",
    "                total_loss += loss.item()\n",
    "\n",
    "            loss_ = total_loss / (i + 1)\n",
    "            pbar_val.set_description((\"%10s\") % (f\"Val Loss: {loss_:.4f}\"))\n",
    "        valid_loss = loss_\n",
    "        wandb.log({\"epoch\": epoch, \"valid_loss\": valid_loss})\n",
    "\n",
    "        if valid_loss < best_loss:\n",
    "            print(f\"loss : {valid_loss:.4f}\\tSAVED MODEL\\n\")\n",
    "            slacknotify.send_reply(f\"epoch : {epoch}\\tscore : {valid_loss:.4f}\\tBEST\")\n",
    "            best_loss = valid_loss\n",
    "            save_model(model, cfg, path_best, loss=loss)\n",
    "        else:\n",
    "            print(f\"loss : {valid_loss:.4f}\\n\")\n",
    "            slacknotify.send_reply(f\"epoch : {epoch}\\tscore : {valid_loss:.4f}\")\n",
    "\n",
    "    save_model(model, cfg, path_last, loss=valid_loss)\n",
    "    wandb.config.update({\"last_loss\": valid_loss, \"best_loss\": best_loss})\n",
    "\n",
    "    slacknotify.send_reply(f\"{cfg.exp_name}_fold{fold} training finished\\nbest loss : {best_loss:.4f} last loss : {loss_:.4f}\", True)\n",
    "\n",
    "    if wandb.run:\n",
    "        wandb.finish()"
   ]
  },
  {
   "cell_type": "code",
   "execution_count": 4,
   "metadata": {},
   "outputs": [
    {
     "name": "stdout",
     "output_type": "stream",
     "text": [
      "fold_0\n",
      "model_name Unet\n",
      "backbone se_resnext50_32x4d\n"
     ]
    },
    {
     "ename": "RuntimeError",
     "evalue": "Error(s) in loading state_dict for CustomInferenceModel:\n\tUnexpected key(s) in state_dict: \"model.decoder.blocks.0.attention1.attention.cSE.1.weight\", \"model.decoder.blocks.0.attention1.attention.cSE.1.bias\", \"model.decoder.blocks.0.attention1.attention.cSE.3.weight\", \"model.decoder.blocks.0.attention1.attention.cSE.3.bias\", \"model.decoder.blocks.0.attention1.attention.sSE.0.weight\", \"model.decoder.blocks.0.attention1.attention.sSE.0.bias\", \"model.decoder.blocks.0.attention2.attention.cSE.1.weight\", \"model.decoder.blocks.0.attention2.attention.cSE.1.bias\", \"model.decoder.blocks.0.attention2.attention.cSE.3.weight\", \"model.decoder.blocks.0.attention2.attention.cSE.3.bias\", \"model.decoder.blocks.0.attention2.attention.sSE.0.weight\", \"model.decoder.blocks.0.attention2.attention.sSE.0.bias\", \"model.decoder.blocks.1.attention1.attention.cSE.1.weight\", \"model.decoder.blocks.1.attention1.attention.cSE.1.bias\", \"model.decoder.blocks.1.attention1.attention.cSE.3.weight\", \"model.decoder.blocks.1.attention1.attention.cSE.3.bias\", \"model.decoder.blocks.1.attention1.attention.sSE.0.weight\", \"model.decoder.blocks.1.attention1.attention.sSE.0.bias\", \"model.decoder.blocks.1.attention2.attention.cSE.1.weight\", \"model.decoder.blocks.1.attention2.attention.cSE.1.bias\", \"model.decoder.blocks.1.attention2.attention.cSE.3.weight\", \"model.decoder.blocks.1.attention2.attention.cSE.3.bias\", \"model.decoder.blocks.1.attention2.attention.sSE.0.weight\", \"model.decoder.blocks.1.attention2.attention.sSE.0.bias\", \"model.decoder.blocks.2.attention1.attention.cSE.1.weight\", \"model.decoder.blocks.2.attention1.attention.cSE.1.bias\", \"model.decoder.blocks.2.attention1.attention.cSE.3.weight\", \"model.decoder.blocks.2.attention1.attention.cSE.3.bias\", \"model.decoder.blocks.2.attention1.attention.sSE.0.weight\", \"model.decoder.blocks.2.attention1.attention.sSE.0.bias\", \"model.decoder.blocks.2.attention2.attention.cSE.1.weight\", \"model.decoder.blocks.2.attention2.attention.cSE.1.bias\", \"model.decoder.blocks.2.attention2.attention.cSE.3.weight\", \"model.decoder.blocks.2.attention2.attention.cSE.3.bias\", \"model.decoder.blocks.2.attention2.attention.sSE.0.weight\", \"model.decoder.blocks.2.attention2.attention.sSE.0.bias\", \"model.decoder.blocks.3.attention1.attention.cSE.1.weight\", \"model.decoder.blocks.3.attention1.attention.cSE.1.bias\", \"model.decoder.blocks.3.attention1.attention.cSE.3.weight\", \"model.decoder.blocks.3.attention1.attention.cSE.3.bias\", \"model.decoder.blocks.3.attention1.attention.sSE.0.weight\", \"model.decoder.blocks.3.attention1.attention.sSE.0.bias\", \"model.decoder.blocks.3.attention2.attention.cSE.1.weight\", \"model.decoder.blocks.3.attention2.attention.cSE.1.bias\", \"model.decoder.blocks.3.attention2.attention.cSE.3.weight\", \"model.decoder.blocks.3.attention2.attention.cSE.3.bias\", \"model.decoder.blocks.3.attention2.attention.sSE.0.weight\", \"model.decoder.blocks.3.attention2.attention.sSE.0.bias\", \"model.decoder.blocks.4.attention1.attention.cSE.1.weight\", \"model.decoder.blocks.4.attention1.attention.cSE.1.bias\", \"model.decoder.blocks.4.attention1.attention.cSE.3.weight\", \"model.decoder.blocks.4.attention1.attention.cSE.3.bias\", \"model.decoder.blocks.4.attention1.attention.sSE.0.weight\", \"model.decoder.blocks.4.attention1.attention.sSE.0.bias\", \"model.decoder.blocks.4.attention2.attention.cSE.1.weight\", \"model.decoder.blocks.4.attention2.attention.cSE.1.bias\", \"model.decoder.blocks.4.attention2.attention.cSE.3.weight\", \"model.decoder.blocks.4.attention2.attention.cSE.3.bias\", \"model.decoder.blocks.4.attention2.attention.sSE.0.weight\", \"model.decoder.blocks.4.attention2.attention.sSE.0.bias\". ",
     "output_type": "error",
     "traceback": [
      "\u001b[0;31m---------------------------------------------------------------------------\u001b[0m",
      "\u001b[0;31mRuntimeError\u001b[0m                              Traceback (most recent call last)",
      "Cell \u001b[0;32mIn[4], line 7\u001b[0m\n\u001b[1;32m      5\u001b[0m valid_kidney \u001b[38;5;241m=\u001b[39m fold_dict[\u001b[38;5;124mf\u001b[39m\u001b[38;5;124m\"\u001b[39m\u001b[38;5;124mfold\u001b[39m\u001b[38;5;132;01m{\u001b[39;00mfold\u001b[38;5;132;01m}\u001b[39;00m\u001b[38;5;124m\"\u001b[39m][\u001b[38;5;124m\"\u001b[39m\u001b[38;5;124mvalid\u001b[39m\u001b[38;5;124m\"\u001b[39m][\u001b[38;5;241m0\u001b[39m]\n\u001b[1;32m      6\u001b[0m path_best \u001b[38;5;241m=\u001b[39m \u001b[38;5;124mf\u001b[39m\u001b[38;5;124m\"\u001b[39m\u001b[38;5;124m./\u001b[39m\u001b[38;5;132;01m{\u001b[39;00mcfg\u001b[38;5;241m.\u001b[39mexp_name\u001b[38;5;132;01m}\u001b[39;00m\u001b[38;5;124m/\u001b[39m\u001b[38;5;132;01m{\u001b[39;00mcfg\u001b[38;5;241m.\u001b[39mexp_name\u001b[38;5;132;01m}\u001b[39;00m\u001b[38;5;124m_best_fold\u001b[39m\u001b[38;5;132;01m{\u001b[39;00mfold\u001b[38;5;132;01m}\u001b[39;00m\u001b[38;5;124m.pth\u001b[39m\u001b[38;5;124m\"\u001b[39m\n\u001b[0;32m----> 7\u001b[0m model \u001b[38;5;241m=\u001b[39m \u001b[43mload_inference_model\u001b[49m\u001b[43m(\u001b[49m\u001b[43mpath_best\u001b[49m\u001b[43m,\u001b[49m\u001b[43m \u001b[49m\u001b[43mcfg\u001b[49m\u001b[43m)\u001b[49m\n\u001b[1;32m      9\u001b[0m stack_path \u001b[38;5;241m=\u001b[39m \u001b[38;5;124mf\u001b[39m\u001b[38;5;124m\"\u001b[39m\u001b[38;5;124m/kaggle/working/dataset/stack_train01/\u001b[39m\u001b[38;5;132;01m{\u001b[39;00mvalid_kidney\u001b[38;5;132;01m}\u001b[39;00m\u001b[38;5;124m_images.npy\u001b[39m\u001b[38;5;124m\"\u001b[39m\n\u001b[1;32m     10\u001b[0m label_path \u001b[38;5;241m=\u001b[39m \u001b[38;5;124mf\u001b[39m\u001b[38;5;124m\"\u001b[39m\u001b[38;5;124m/kaggle/working/dataset/stack_train01/\u001b[39m\u001b[38;5;132;01m{\u001b[39;00mvalid_kidney\u001b[38;5;132;01m}\u001b[39;00m\u001b[38;5;124m_labels.npy\u001b[39m\u001b[38;5;124m\"\u001b[39m\n",
      "File \u001b[0;32m/kaggle/src/model/model.py:93\u001b[0m, in \u001b[0;36mload_inference_model\u001b[0;34m(model_path, cfg)\u001b[0m\n\u001b[1;32m     91\u001b[0m \u001b[38;5;28mprint\u001b[39m(\u001b[38;5;124m\"\u001b[39m\u001b[38;5;124mbackbone\u001b[39m\u001b[38;5;124m\"\u001b[39m, pth[\u001b[38;5;124m\"\u001b[39m\u001b[38;5;124mbackbone\u001b[39m\u001b[38;5;124m\"\u001b[39m])\n\u001b[1;32m     92\u001b[0m model \u001b[38;5;241m=\u001b[39m CustomInferenceModel(pth[\u001b[38;5;124m\"\u001b[39m\u001b[38;5;124mmodel_arch\u001b[39m\u001b[38;5;124m\"\u001b[39m], pth[\u001b[38;5;124m\"\u001b[39m\u001b[38;5;124mbackbone\u001b[39m\u001b[38;5;124m\"\u001b[39m], pth[\u001b[38;5;124m\"\u001b[39m\u001b[38;5;124min_chans\u001b[39m\u001b[38;5;124m\"\u001b[39m], pth[\u001b[38;5;124m\"\u001b[39m\u001b[38;5;124mtarget_size\u001b[39m\u001b[38;5;124m\"\u001b[39m], \u001b[38;5;28;01mNone\u001b[39;00m, cfg)\n\u001b[0;32m---> 93\u001b[0m \u001b[43mmodel\u001b[49m\u001b[38;5;241;43m.\u001b[39;49m\u001b[43mload_state_dict\u001b[49m\u001b[43m(\u001b[49m\u001b[43mpth\u001b[49m\u001b[43m[\u001b[49m\u001b[38;5;124;43m\"\u001b[39;49m\u001b[38;5;124;43mmodel\u001b[39;49m\u001b[38;5;124;43m\"\u001b[39;49m\u001b[43m]\u001b[49m\u001b[43m)\u001b[49m\n\u001b[1;32m     95\u001b[0m device \u001b[38;5;241m=\u001b[39m torch\u001b[38;5;241m.\u001b[39mdevice(\u001b[38;5;124m\"\u001b[39m\u001b[38;5;124mcuda\u001b[39m\u001b[38;5;124m\"\u001b[39m \u001b[38;5;28;01mif\u001b[39;00m torch\u001b[38;5;241m.\u001b[39mcuda\u001b[38;5;241m.\u001b[39mis_available() \u001b[38;5;28;01melse\u001b[39;00m \u001b[38;5;124m\"\u001b[39m\u001b[38;5;124mcpu\u001b[39m\u001b[38;5;124m\"\u001b[39m)\n\u001b[1;32m     96\u001b[0m model\u001b[38;5;241m.\u001b[39mto(device)\n",
      "File \u001b[0;32m/usr/local/lib/python3.10/dist-packages/torch/nn/modules/module.py:2152\u001b[0m, in \u001b[0;36mModule.load_state_dict\u001b[0;34m(self, state_dict, strict, assign)\u001b[0m\n\u001b[1;32m   2147\u001b[0m         error_msgs\u001b[38;5;241m.\u001b[39minsert(\n\u001b[1;32m   2148\u001b[0m             \u001b[38;5;241m0\u001b[39m, \u001b[38;5;124m'\u001b[39m\u001b[38;5;124mMissing key(s) in state_dict: \u001b[39m\u001b[38;5;132;01m{}\u001b[39;00m\u001b[38;5;124m. \u001b[39m\u001b[38;5;124m'\u001b[39m\u001b[38;5;241m.\u001b[39mformat(\n\u001b[1;32m   2149\u001b[0m                 \u001b[38;5;124m'\u001b[39m\u001b[38;5;124m, \u001b[39m\u001b[38;5;124m'\u001b[39m\u001b[38;5;241m.\u001b[39mjoin(\u001b[38;5;124mf\u001b[39m\u001b[38;5;124m'\u001b[39m\u001b[38;5;124m\"\u001b[39m\u001b[38;5;132;01m{\u001b[39;00mk\u001b[38;5;132;01m}\u001b[39;00m\u001b[38;5;124m\"\u001b[39m\u001b[38;5;124m'\u001b[39m \u001b[38;5;28;01mfor\u001b[39;00m k \u001b[38;5;129;01min\u001b[39;00m missing_keys)))\n\u001b[1;32m   2151\u001b[0m \u001b[38;5;28;01mif\u001b[39;00m \u001b[38;5;28mlen\u001b[39m(error_msgs) \u001b[38;5;241m>\u001b[39m \u001b[38;5;241m0\u001b[39m:\n\u001b[0;32m-> 2152\u001b[0m     \u001b[38;5;28;01mraise\u001b[39;00m \u001b[38;5;167;01mRuntimeError\u001b[39;00m(\u001b[38;5;124m'\u001b[39m\u001b[38;5;124mError(s) in loading state_dict for \u001b[39m\u001b[38;5;132;01m{}\u001b[39;00m\u001b[38;5;124m:\u001b[39m\u001b[38;5;130;01m\\n\u001b[39;00m\u001b[38;5;130;01m\\t\u001b[39;00m\u001b[38;5;132;01m{}\u001b[39;00m\u001b[38;5;124m'\u001b[39m\u001b[38;5;241m.\u001b[39mformat(\n\u001b[1;32m   2153\u001b[0m                        \u001b[38;5;28mself\u001b[39m\u001b[38;5;241m.\u001b[39m\u001b[38;5;18m__class__\u001b[39m\u001b[38;5;241m.\u001b[39m\u001b[38;5;18m__name__\u001b[39m, \u001b[38;5;124m\"\u001b[39m\u001b[38;5;130;01m\\n\u001b[39;00m\u001b[38;5;130;01m\\t\u001b[39;00m\u001b[38;5;124m\"\u001b[39m\u001b[38;5;241m.\u001b[39mjoin(error_msgs)))\n\u001b[1;32m   2154\u001b[0m \u001b[38;5;28;01mreturn\u001b[39;00m _IncompatibleKeys(missing_keys, unexpected_keys)\n",
      "\u001b[0;31mRuntimeError\u001b[0m: Error(s) in loading state_dict for CustomInferenceModel:\n\tUnexpected key(s) in state_dict: \"model.decoder.blocks.0.attention1.attention.cSE.1.weight\", \"model.decoder.blocks.0.attention1.attention.cSE.1.bias\", \"model.decoder.blocks.0.attention1.attention.cSE.3.weight\", \"model.decoder.blocks.0.attention1.attention.cSE.3.bias\", \"model.decoder.blocks.0.attention1.attention.sSE.0.weight\", \"model.decoder.blocks.0.attention1.attention.sSE.0.bias\", \"model.decoder.blocks.0.attention2.attention.cSE.1.weight\", \"model.decoder.blocks.0.attention2.attention.cSE.1.bias\", \"model.decoder.blocks.0.attention2.attention.cSE.3.weight\", \"model.decoder.blocks.0.attention2.attention.cSE.3.bias\", \"model.decoder.blocks.0.attention2.attention.sSE.0.weight\", \"model.decoder.blocks.0.attention2.attention.sSE.0.bias\", \"model.decoder.blocks.1.attention1.attention.cSE.1.weight\", \"model.decoder.blocks.1.attention1.attention.cSE.1.bias\", \"model.decoder.blocks.1.attention1.attention.cSE.3.weight\", \"model.decoder.blocks.1.attention1.attention.cSE.3.bias\", \"model.decoder.blocks.1.attention1.attention.sSE.0.weight\", \"model.decoder.blocks.1.attention1.attention.sSE.0.bias\", \"model.decoder.blocks.1.attention2.attention.cSE.1.weight\", \"model.decoder.blocks.1.attention2.attention.cSE.1.bias\", \"model.decoder.blocks.1.attention2.attention.cSE.3.weight\", \"model.decoder.blocks.1.attention2.attention.cSE.3.bias\", \"model.decoder.blocks.1.attention2.attention.sSE.0.weight\", \"model.decoder.blocks.1.attention2.attention.sSE.0.bias\", \"model.decoder.blocks.2.attention1.attention.cSE.1.weight\", \"model.decoder.blocks.2.attention1.attention.cSE.1.bias\", \"model.decoder.blocks.2.attention1.attention.cSE.3.weight\", \"model.decoder.blocks.2.attention1.attention.cSE.3.bias\", \"model.decoder.blocks.2.attention1.attention.sSE.0.weight\", \"model.decoder.blocks.2.attention1.attention.sSE.0.bias\", \"model.decoder.blocks.2.attention2.attention.cSE.1.weight\", \"model.decoder.blocks.2.attention2.attention.cSE.1.bias\", \"model.decoder.blocks.2.attention2.attention.cSE.3.weight\", \"model.decoder.blocks.2.attention2.attention.cSE.3.bias\", \"model.decoder.blocks.2.attention2.attention.sSE.0.weight\", \"model.decoder.blocks.2.attention2.attention.sSE.0.bias\", \"model.decoder.blocks.3.attention1.attention.cSE.1.weight\", \"model.decoder.blocks.3.attention1.attention.cSE.1.bias\", \"model.decoder.blocks.3.attention1.attention.cSE.3.weight\", \"model.decoder.blocks.3.attention1.attention.cSE.3.bias\", \"model.decoder.blocks.3.attention1.attention.sSE.0.weight\", \"model.decoder.blocks.3.attention1.attention.sSE.0.bias\", \"model.decoder.blocks.3.attention2.attention.cSE.1.weight\", \"model.decoder.blocks.3.attention2.attention.cSE.1.bias\", \"model.decoder.blocks.3.attention2.attention.cSE.3.weight\", \"model.decoder.blocks.3.attention2.attention.cSE.3.bias\", \"model.decoder.blocks.3.attention2.attention.sSE.0.weight\", \"model.decoder.blocks.3.attention2.attention.sSE.0.bias\", \"model.decoder.blocks.4.attention1.attention.cSE.1.weight\", \"model.decoder.blocks.4.attention1.attention.cSE.1.bias\", \"model.decoder.blocks.4.attention1.attention.cSE.3.weight\", \"model.decoder.blocks.4.attention1.attention.cSE.3.bias\", \"model.decoder.blocks.4.attention1.attention.sSE.0.weight\", \"model.decoder.blocks.4.attention1.attention.sSE.0.bias\", \"model.decoder.blocks.4.attention2.attention.cSE.1.weight\", \"model.decoder.blocks.4.attention2.attention.cSE.1.bias\", \"model.decoder.blocks.4.attention2.attention.cSE.3.weight\", \"model.decoder.blocks.4.attention2.attention.cSE.3.bias\", \"model.decoder.blocks.4.attention2.attention.sSE.0.weight\", \"model.decoder.blocks.4.attention2.attention.sSE.0.bias\". "
     ]
    }
   ],
   "source": [
    "fold_dict = json.load(open(\"/kaggle/src/dataset/fold.json\", \"r\"))\n",
    "\n",
    "for fold in range(1):\n",
    "    print(f\"fold_{fold}\")\n",
    "    valid_kidney = fold_dict[f\"fold{fold}\"][\"valid\"][0]\n",
    "    path_best = f\"./{cfg.exp_name}/{cfg.exp_name}_best_fold{fold}.pth\"\n",
    "    model = load_inference_model(path_best, cfg)\n",
    "\n",
    "    stack_path = f\"/kaggle/working/dataset/stack_train01/{valid_kidney}_images.npy\"\n",
    "    label_path = f\"/kaggle/working/dataset/stack_train01/{valid_kidney}_labels.npy\"\n",
    "    save_path = \"./preds\"\n",
    "    preds_path = f\"{save_path}/{valid_kidney}_preds.npy\"\n",
    "    inference(model, stack_path, save_path, cfg)\n",
    "\n",
    "    label = np.load(label_path)\n",
    "    preds = np.load(preds_path)\n",
    "    thresh_score_dict = {}\n",
    "\n",
    "    for thresh in np.arange(0.1, 0.99, 0.1):\n",
    "        thresh = round(thresh, 5)\n",
    "        thresh_score_dict[thresh] = compute_surface_dice_score_from_volume(ne.evaluate(\"preds > thresh\"), label)\n",
    "\n",
    "    max_score_thresh = max(thresh_score_dict, key=thresh_score_dict.get)\n",
    "\n",
    "    for thresh in np.arange(max_score_thresh - 0.1, max_score_thresh + 0.1, 0.01):\n",
    "        thresh = round(thresh, 5)\n",
    "        thresh_score_dict[thresh] = compute_surface_dice_score_from_volume(ne.evaluate(\"preds > thresh\"), label)\n",
    "\n",
    "    print(max(thresh_score_dict.items(), key=lambda x: x[1]))"
   ]
  },
  {
   "cell_type": "code",
   "execution_count": null,
   "metadata": {},
   "outputs": [],
   "source": []
  },
  {
   "cell_type": "code",
   "execution_count": null,
   "metadata": {},
   "outputs": [],
   "source": []
  }
 ],
 "metadata": {
  "kaggle": {
   "accelerator": "nvidiaTeslaT4",
   "dataSources": [
    {
     "databundleVersionId": 6962461,
     "sourceId": 61446,
     "sourceType": "competition"
    },
    {
     "datasetId": 1074109,
     "sourceId": 1807973,
     "sourceType": "datasetVersion"
    },
    {
     "sourceId": 150248402,
     "sourceType": "kernelVersion"
    }
   ],
   "dockerImageVersionId": 30587,
   "isGpuEnabled": true,
   "isInternetEnabled": true,
   "language": "python",
   "sourceType": "notebook"
  },
  "kernelspec": {
   "display_name": "Python 3",
   "language": "python",
   "name": "python3"
  },
  "language_info": {
   "codemirror_mode": {
    "name": "ipython",
    "version": 3
   },
   "file_extension": ".py",
   "mimetype": "text/x-python",
   "name": "python",
   "nbconvert_exporter": "python",
   "pygments_lexer": "ipython3",
   "version": "3.10.13"
  }
 },
 "nbformat": 4,
 "nbformat_minor": 4
}
