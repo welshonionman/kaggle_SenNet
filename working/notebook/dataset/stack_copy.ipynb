{
 "cells": [
  {
   "cell_type": "code",
   "execution_count": 8,
   "metadata": {},
   "outputs": [],
   "source": [
    "from pathlib import Path\n",
    "from glob import glob\n",
    "import cv2\n",
    "from pathlib import Path\n",
    "import numpy as np\n",
    "import matplotlib.pyplot as plt\n",
    "import os"
   ]
  },
  {
   "cell_type": "code",
   "execution_count": 5,
   "metadata": {},
   "outputs": [],
   "source": [
    "class cfg:\n",
    "    dir_train = \"/kaggle/input/blood-vessel-segmentation/train\"\n",
    "    dir_external = \"/kaggle/input/blood-vessel-segmentation_external/50um_LADAF-2020-31_kidney_pag-0.01_0.02_jp2_\"\n",
    "    dir_raw = \"/kaggle/working/dataset/stack_raw\"\n",
    "    dir_viz = \"/kaggle/working/dataset/stack_viz\"\n",
    "    dir_clipped = \"/kaggle/working/dataset/stack_train01\""
   ]
  },
  {
   "cell_type": "markdown",
   "metadata": {},
   "source": [
    "# Stack img"
   ]
  },
  {
   "cell_type": "code",
   "execution_count": 6,
   "metadata": {},
   "outputs": [],
   "source": [
    "def stack_tifs(dir_dataset, save_path):\n",
    "    print(dir_dataset)\n",
    "    os.makedirs(os.path.dirname(save_path), exist_ok=True)\n",
    "    img_paths = glob(f\"{dir_dataset}/*.???\")\n",
    "\n",
    "    stack = []\n",
    "    for img_path in sorted(img_paths):\n",
    "        img = cv2.imread(img_path, -1)\n",
    "        stack.append(img)\n",
    "\n",
    "    stack = np.stack(stack)\n",
    "    np.save(save_path, stack)"
   ]
  },
  {
   "cell_type": "code",
   "execution_count": 16,
   "metadata": {},
   "outputs": [
    {
     "name": "stdout",
     "output_type": "stream",
     "text": [
      "/kaggle/working/dataset/stack_raw/kidney_1_dense_images.npy\n",
      "/kaggle/working/dataset/stack_raw/kidney_1_dense_labels.npy\n",
      "/kaggle/working/dataset/stack_raw/kidney_2_pseudo_images.npy\n",
      "/kaggle/working/dataset/stack_raw/kidney_3_pseudo_images.npy\n"
     ]
    }
   ],
   "source": [
    "# kidney_1_dense_images, kidney_1_dense_labels, kidney_2_sparse_images, kidney_3_sparse_imagesのみstackする\n",
    "# kidney_2, kidney_3のlabelsはgoogle driveにアップロードしたものを使用\n",
    "\n",
    "for dir_dataset in Path(f\"{cfg.dir_train}\").glob(\"*/*\"):\n",
    "    dir_dataset = dir_dataset.as_posix()\n",
    "    data_name = dir_dataset.split(\"/\")[-2]\n",
    "    data_type = dir_dataset.split(\"/\")[-1]\n",
    "    if \"voi\" in data_name:\n",
    "        continue\n",
    "    if \"kidney_2\" in data_name:\n",
    "        data_name = \"kidney_2_sparse\"\n",
    "    if (\"kidney_1\" not in data_name) and (data_type == \"labels\"):\n",
    "        continue\n",
    "\n",
    "    save_path = f\"{cfg.dir_raw}/{data_name}_{data_type}.npy\".replace(\"sparse\", \"pseudo\")\n",
    "    print(save_path)\n",
    "    stack_tifs(dir_dataset, save_path)"
   ]
  },
  {
   "cell_type": "code",
   "execution_count": 17,
   "metadata": {},
   "outputs": [
    {
     "name": "stdout",
     "output_type": "stream",
     "text": [
      "/kaggle/working/dataset/stack_raw/kidney_9_dense_pseudo.npy\n"
     ]
    }
   ],
   "source": [
    "# 外部データセットのstack\n",
    "data_name = \"kidney_9_dense\"\n",
    "data_type = \"pseudo\"\n",
    "\n",
    "save_path = f\"{cfg.dir_raw}/{data_name}_{data_type}.npy\"\n",
    "print(save_path)\n",
    "stack_tifs(cfg.dir_external, save_path)"
   ]
  },
  {
   "cell_type": "markdown",
   "metadata": {},
   "source": [
    "# Clipped img"
   ]
  },
  {
   "cell_type": "code",
   "execution_count": 19,
   "metadata": {},
   "outputs": [
    {
     "name": "stdout",
     "output_type": "stream",
     "text": [
      "/kaggle/working/dataset/stack_train01/kidney_1_dense_images.npy\n",
      "/kaggle/working/dataset/stack_train01/kidney_1_dense_labels.npy\n",
      "/kaggle/working/dataset/stack_train01/kidney_2_sparse_images.npy\n",
      "/kaggle/working/dataset/stack_train01/kidney_2_sparse_labels.npy\n",
      "/kaggle/working/dataset/stack_train01/kidney_3_dense_labels.npy\n",
      "/kaggle/working/dataset/stack_train01/kidney_3_sparse_images.npy\n",
      "/kaggle/working/dataset/stack_train01/kidney_3_sparse_labels.npy\n",
      "/kaggle/working/dataset/stack_train01/kidney_9_pseudo_images.npy\n"
     ]
    }
   ],
   "source": [
    "def clip_based_on_percentile(npy, percentile=0.05):\n",
    "    stack_len = npy.shape[0]\n",
    "\n",
    "    upper = round(stack_len * 0.3)\n",
    "    lower = round(stack_len * 0.7)\n",
    "\n",
    "    p_low = int(np.percentile(npy[upper:lower], percentile))  # 上下端に近い部分はpercentile計算対象から除外\n",
    "    p_high = int(np.percentile(npy[upper:lower], 100 - percentile))\n",
    "\n",
    "    npy = np.clip(npy, p_low, p_high).astype(\"float32\")\n",
    "    scale = float(p_high - p_low)\n",
    "    npy = (npy - p_low) / scale\n",
    "    return npy\n",
    "\n",
    "\n",
    "# 訓練のためにpercentileに基づいて値をクリップしfloat32で保存\n",
    "def save_clipped_npy(dir_raw, dir_clipped, percentile=0.05):\n",
    "    os.makedirs(dir_clipped, exist_ok=True)\n",
    "    for npy_path in Path(dir_raw).glob(\"*.npy\"):\n",
    "        npy_path = npy_path.as_posix()\n",
    "        # print(npy_path)\n",
    "        data_name = npy_path.split(\"/\")[-1].split(\".\")[0]\n",
    "        data_type = data_name.split(\"_\")[-1]\n",
    "        save_path = f\"{dir_clipped}/{data_name}.npy\"\n",
    "\n",
    "        if \"labels\" == data_type: # labelsはbool型に変換してdir_clipped内に保存\n",
    "            npy = np.load(npy_path).astype(bool)\n",
    "\n",
    "        elif data_type in [\"images\", \"pseudo\"]:\n",
    "            npy = np.load(npy_path)\n",
    "            npy = clip_based_on_percentile(npy, percentile)\n",
    "\n",
    "        np.save(save_path, npy)\n",
    "\n",
    "\n",
    "percentile = 0.05  # 0.05～99.95percentile\n",
    "save_clipped_npy(cfg.dir_raw, cfg.dir_clipped, percentile)"
   ]
  }
 ],
 "metadata": {
  "kernelspec": {
   "display_name": "Python 3",
   "language": "python",
   "name": "python3"
  },
  "language_info": {
   "codemirror_mode": {
    "name": "ipython",
    "version": 3
   },
   "file_extension": ".py",
   "mimetype": "text/x-python",
   "name": "python",
   "nbconvert_exporter": "python",
   "pygments_lexer": "ipython3",
   "version": "3.11.1"
  }
 },
 "nbformat": 4,
 "nbformat_minor": 2
}
