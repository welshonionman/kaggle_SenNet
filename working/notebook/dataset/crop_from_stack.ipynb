{
 "cells": [
  {
   "cell_type": "code",
   "execution_count": 1,
   "metadata": {},
   "outputs": [],
   "source": [
    "from glob import glob\n",
    "import tifffile\n",
    "import numpy as np\n",
    "import matplotlib.pyplot as plt\n",
    "import os\n",
    "from tqdm import tqdm\n",
    "import gc\n",
    "import time\n",
    "from itertools import product\n",
    "import h5py"
   ]
  },
  {
   "cell_type": "code",
   "execution_count": null,
   "metadata": {},
   "outputs": [],
   "source": []
  },
  {
   "cell_type": "code",
   "execution_count": 2,
   "metadata": {},
   "outputs": [],
   "source": [
    "dir_clipped = \"/kaggle/working/dataset/stack_clipped\"\n",
    "size_xy = 256\n",
    "offset_xy = 128\n",
    "size_z = 6\n",
    "offset_z = 6\n",
    "save_dir = f\"/kaggle/working/dataset/cropped_xy_{size_xy}_{offset_xy}_z_{size_z}_{offset_z}/\""
   ]
  },
  {
   "cell_type": "code",
   "execution_count": null,
   "metadata": {},
   "outputs": [],
   "source": []
  },
  {
   "cell_type": "code",
   "execution_count": 3,
   "metadata": {},
   "outputs": [],
   "source": [
    "def pad(shape, size, offset):\n",
    "    while (shape - size) % offset != 0:\n",
    "        shape += 1\n",
    "    return shape\n",
    "\n",
    "\n",
    "def pad_npy(npy, size_xy, size_z, offset_xy, offset_z):\n",
    "    shape_x, shape_y, shape_z = npy.shape\n",
    "    shape_padded_x = pad(shape_x, size_xy, offset_xy)\n",
    "    shape_padded_y = pad(shape_y, size_xy, offset_xy)\n",
    "    shape_padded_z = pad(shape_z, size_z, offset_z)\n",
    "    # npy_padded = np.zeros((shape_padded_x, shape_padded_y, shape_padded_z), dtype=np.float32)\n",
    "    # npy_padded[:shape_x, :shape_y, :shape_z] = npy\n",
    "    # return npy_padded\n",
    "    pad_x = shape_padded_x - shape_x\n",
    "    pad_y = shape_padded_y - shape_y\n",
    "    pad_z = shape_padded_z - shape_z\n",
    "\n",
    "    npy = np.pad(npy, ((0, pad_x), (0, pad_y), (0, pad_z)), mode=\"constant\")\n",
    "    return npy\n",
    "\n",
    "\n",
    "def save_fname(image_cropped, label_cropped, save_dir, kidney, coords):\n",
    "    x_, y_, z_ = coords\n",
    "\n",
    "    image_std = str(int(image_cropped.std() * 1000)).zfill(4)\n",
    "    label_sum = str(int(label_cropped.sum()))\n",
    "\n",
    "    save_fname = f\"x{x_}_y{y_}_z{z_}_std{image_std}_sum{label_sum}.npy\"\n",
    "\n",
    "    image_save_path = f\"{save_dir}/image/{kidney}/{save_fname}\"\n",
    "    label_save_path = f\"{save_dir}/label/{kidney}/{save_fname}\"\n",
    "\n",
    "    return image_save_path, label_save_path\n",
    "\n",
    "\n",
    "def crop_and_save(image, label, coords, size_xy, size_z, kidney, save_dir):\n",
    "    x_, y_, z_ = coords\n",
    "    image_cropped = image[x_ : (x_ + size_xy), y_ : (y_ + size_xy), z_ : (z_ + size_z)]\n",
    "    label_cropped = label[x_ : (x_ + size_xy), y_ : (y_ + size_xy), z_ : (z_ + size_z)]\n",
    "\n",
    "    image_save_path, label_save_path = save_fname(image_cropped, label_cropped, save_dir, kidney, coords)\n",
    "    np.save(image_save_path, image_cropped)\n",
    "    np.save(label_save_path, label_cropped)"
   ]
  },
  {
   "cell_type": "code",
   "execution_count": 4,
   "metadata": {},
   "outputs": [
    {
     "name": "stdout",
     "output_type": "stream",
     "text": [
      "kidney_1_dense (2304, 1408, 912)\n"
     ]
    },
    {
     "name": "stderr",
     "output_type": "stream",
     "text": [
      "100%|██████████| 30096/30096 [23:22<00:00, 21.47it/s] \n"
     ]
    },
    {
     "name": "stdout",
     "output_type": "stream",
     "text": [
      "kidney_2 (2304, 1152, 1512)\n"
     ]
    },
    {
     "name": "stderr",
     "output_type": "stream",
     "text": [
      "100%|██████████| 40824/40824 [31:45<00:00, 21.43it/s]  \n"
     ]
    },
    {
     "name": "stdout",
     "output_type": "stream",
     "text": [
      "kidney_3_sparse (512, 1792, 1512)\n"
     ]
    },
    {
     "name": "stderr",
     "output_type": "stream",
     "text": [
      "100%|██████████| 14112/14112 [09:14<00:00, 25.45it/s]\n"
     ]
    },
    {
     "name": "stdout",
     "output_type": "stream",
     "text": [
      "kidney_3_dense (512, 1792, 1512)\n"
     ]
    },
    {
     "name": "stderr",
     "output_type": "stream",
     "text": [
      "100%|██████████| 14112/14112 [09:19<00:00, 25.24it/s]\n"
     ]
    }
   ],
   "source": [
    "kidneys = [\"kidney_1_dense\", \"kidney_2\", \"kidney_3_sparse\", \"kidney_3_dense\"]\n",
    "for kidney in kidneys:\n",
    "    image_save_dir = f\"{save_dir}/image/{kidney}/\"\n",
    "    label_save_dir = f\"{save_dir}/label/{kidney}/\"\n",
    "\n",
    "    if os.path.exists(f\"{save_dir}/image/{kidney}/\"):\n",
    "        continue\n",
    "\n",
    "    image_path = f\"{dir_clipped}/{kidney}_images.npy\"\n",
    "    image = np.load(image_path)\n",
    "    image = pad_npy(image, size_xy, size_z, offset_xy, offset_z).astype(np.float32)\n",
    "\n",
    "    label_path = f\"{dir_clipped}/{kidney}_labels.npy\"\n",
    "    label = np.load(label_path)\n",
    "    label = pad_npy(label, size_xy, size_z, offset_xy, offset_z).astype(np.bool_)\n",
    "\n",
    "    shape_x, shape_y, shape_z = image.shape\n",
    "    print(kidney, image.shape)\n",
    "\n",
    "    os.makedirs(image_save_dir, exist_ok=True)\n",
    "    os.makedirs(label_save_dir, exist_ok=True)\n",
    "\n",
    "    iter = list(product(range(0, shape_x, offset_xy), range(0, shape_y, offset_xy), range(0, shape_z, offset_z)))\n",
    "    for coords in tqdm(iter, total=len(iter)):\n",
    "        x_, y_, z_ = coords\n",
    "\n",
    "        if (x_ + size_xy > shape_x) or (y_ + size_xy > shape_y) or (z_ + size_z > shape_z):\n",
    "            continue\n",
    "\n",
    "        crop_and_save(image, label, coords, size_xy, size_z, kidney, save_dir)\n",
    "\n",
    "    del image, label\n",
    "    gc.collect()\n",
    "    time.sleep(60)"
   ]
  },
  {
   "cell_type": "code",
   "execution_count": null,
   "metadata": {},
   "outputs": [],
   "source": [
    "hdf_path = f\"{save_dir}/dataset.hdf5\"\n",
    "if os.path.exists(hdf_path):\n",
    "    os.remove(hdf_path)\n",
    "f = h5py.File(hdf_path, mode=\"w\")\n",
    "group = f.create_group(\"/data\")\n",
    "\n",
    "file_list = glob(f\"{save_dir}/*/*/*.npy\")"
   ]
  },
  {
   "cell_type": "code",
   "execution_count": 21,
   "metadata": {},
   "outputs": [
    {
     "name": "stderr",
     "output_type": "stream",
     "text": [
      "100%|██████████| 159536/159536 [28:19<00:00, 93.85it/s] \n"
     ]
    }
   ],
   "source": [
    "for file in tqdm(sorted(file_list)):\n",
    "    arr = np.load(file)\n",
    "    dataset = group.create_dataset(name=file, shape=arr.shape, dtype=arr.dtype)\n",
    "    dataset[...] = arr\n",
    "f.close()"
   ]
  }
 ],
 "metadata": {
  "kernelspec": {
   "display_name": "Python 3",
   "language": "python",
   "name": "python3"
  },
  "language_info": {
   "codemirror_mode": {
    "name": "ipython",
    "version": 3
   },
   "file_extension": ".py",
   "mimetype": "text/x-python",
   "name": "python",
   "nbconvert_exporter": "python",
   "pygments_lexer": "ipython3",
   "version": "3.10.13"
  }
 },
 "nbformat": 4,
 "nbformat_minor": 2
}
