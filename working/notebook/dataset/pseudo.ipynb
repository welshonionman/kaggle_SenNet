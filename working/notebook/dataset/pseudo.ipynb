{
 "cells": [
  {
   "cell_type": "code",
   "execution_count": 1,
   "metadata": {},
   "outputs": [],
   "source": [
    "import numpy as np\n",
    "import os\n",
    "import shutil"
   ]
  },
  {
   "cell_type": "code",
   "execution_count": 5,
   "metadata": {},
   "outputs": [],
   "source": [
    "class cfg:\n",
    "    dir_raw = \"/kaggle/working/dataset/stack_raw\"\n",
    "    dir_viz = \"/kaggle/working/dataset/stack_viz\"\n",
    "    dir_preds = \"/kaggle/working/notebook/train/train01/preds\"\n",
    "    train_ver = \"02\"\n",
    "    size_xy = 256\n",
    "    offset_xy = 128\n",
    "    size_z = 1\n",
    "    offset_z = 1\n",
    "    dir_pseudo = \"/kaggle/working/dataset/stack_train02\"\n",
    "    dir_dataset = f\"/kaggle/working/dataset/train{train_ver}_xy_{size_xy}_{offset_xy}_z_{size_z}_{offset_z}/\""
   ]
  },
  {
   "cell_type": "code",
   "execution_count": 3,
   "metadata": {},
   "outputs": [],
   "source": [
    "def clip_based_on_percentile(npy, percentile=0.05):\n",
    "    stack_len = npy.shape[0]\n",
    "\n",
    "    upper = round(stack_len * 0.3)\n",
    "    lower = round(stack_len * 0.7)\n",
    "\n",
    "    p_low = int(np.percentile(npy[upper:lower], percentile))  # 上下端に近い部分はpercentile計算対象から除外\n",
    "    p_high = int(np.percentile(npy[upper:lower], 100 - percentile))\n",
    "\n",
    "    npy = np.clip(npy, p_low, p_high).astype(\"float32\")\n",
    "    scale = float(p_high - p_low)\n",
    "    npy = (npy - p_low) / scale\n",
    "    return npy"
   ]
  },
  {
   "cell_type": "code",
   "execution_count": 7,
   "metadata": {},
   "outputs": [
    {
     "data": {
      "text/plain": [
       "'/kaggle/working/dataset/stack_train02\\\\kidney_1_dense_labels.npy'"
      ]
     },
     "execution_count": 7,
     "metadata": {},
     "output_type": "execute_result"
    }
   ],
   "source": [
    "kidney = \"kidney_1_dense\"\n",
    "\n",
    "images_path = f\"{cfg.dir_raw}/{kidney}_images.npy\"\n",
    "images = np.load(images_path)\n",
    "images = clip_based_on_percentile(images)\n",
    "images_save_path = f\"{cfg.dir_pseudo}/{kidney}_images.npy\"\n",
    "np.save(images_save_path, images)\n",
    "\n",
    "label_path = f\"{cfg.dir_viz}/{kidney}_labels.npy\"\n",
    "shutil.copy(label_path, cfg.dir_pseudo)"
   ]
  },
  {
   "cell_type": "code",
   "execution_count": 6,
   "metadata": {},
   "outputs": [
    {
     "name": "stdout",
     "output_type": "stream",
     "text": [
      "kidney_2_sparse\n",
      "kidney_3_sparse\n",
      "kidney_9_pseudo\n"
     ]
    }
   ],
   "source": [
    "kidneys = [\"kidney_2_sparse\", \"kidney_3_sparse\", \"kidney_9_pseudo\"]\n",
    "\n",
    "for kidney in kidneys:\n",
    "    print(kidney)\n",
    "    kidney_p = kidney.replace(\"sparse\", \"pseudo\")\n",
    "\n",
    "    images_path = f\"{cfg.dir_raw}/{kidney}_images.npy\"\n",
    "    images = np.load(images_path)\n",
    "    images = clip_based_on_percentile(images)\n",
    "    images_save_path = f\"{cfg.dir_pseudo}/{kidney_p}_images.npy\"\n",
    "    np.save(images_save_path, images)\n",
    "\n",
    "    if kidney == \"kidney_2_sparse\":\n",
    "        preds_path = f\"{cfg.dir_preds}/{kidney}_best_preds_th.npy\"\n",
    "        pred = np.load(preds_path)\n",
    "\n",
    "        label_path = f\"{cfg.dir_viz}/{kidney}_labels.npy\"\n",
    "        label = np.load(label_path)\n",
    "\n",
    "    if kidney == \"kidney_3_sparse\":\n",
    "        preds_path = f\"{cfg.dir_preds}/{kidney}_best_preds_th.npy\"\n",
    "        pred = np.zeros_like(images)\n",
    "        pred[:496, :, :] = np.load(preds_path)\n",
    "\n",
    "        dense_label_path = f\"{cfg.dir_viz}/kidney_3_dense_labels.npy\"\n",
    "        sparse_label_path = f\"{cfg.dir_viz}/kidney_3_sparse_labels.npy\"\n",
    "        dense_label = np.load(dense_label_path)\n",
    "        sparse_label = np.load(sparse_label_path)\n",
    "        label = np.logical_or(sparse_label, dense_label)\n",
    "\n",
    "        del dense_label, sparse_label\n",
    "\n",
    "    if kidney == \"kidney_9_pseudo\":\n",
    "        preds_path = f\"{cfg.dir_preds}/{kidney}_best_preds_th.npy\"\n",
    "        pred = np.load(preds_path)\n",
    "        label = np.zeros_like(images)\n",
    "\n",
    "    pseudo_label = np.logical_or(label, pred)\n",
    "    label_save_path = f\"{cfg.dir_pseudo}/{kidney_p}_labels.npy\"\n",
    "    np.save(label_save_path, pseudo_label)\n",
    "\n",
    "    # break"
   ]
  }
 ],
 "metadata": {
  "kernelspec": {
   "display_name": ".venv",
   "language": "python",
   "name": "python3"
  },
  "language_info": {
   "codemirror_mode": {
    "name": "ipython",
    "version": 3
   },
   "file_extension": ".py",
   "mimetype": "text/x-python",
   "name": "python",
   "nbconvert_exporter": "python",
   "pygments_lexer": "ipython3",
   "version": "3.11.1"
  }
 },
 "nbformat": 4,
 "nbformat_minor": 2
}
